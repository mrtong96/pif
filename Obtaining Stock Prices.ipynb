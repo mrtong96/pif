{
 "cells": [
  {
   "cell_type": "code",
   "execution_count": 5,
   "metadata": {},
   "outputs": [
    {
     "name": "stdout",
     "output_type": "stream",
     "text": [
      "Requirement already up-to-date: yfinance in c:\\users\\katri\\anaconda3\\lib\\site-packages (0.1.59)\n",
      "Requirement already satisfied, skipping upgrade: numpy>=1.15 in c:\\users\\katri\\anaconda3\\lib\\site-packages (from yfinance) (1.18.5)\n",
      "Requirement already satisfied, skipping upgrade: pandas>=0.24 in c:\\users\\katri\\anaconda3\\lib\\site-packages (from yfinance) (1.0.5)\n",
      "Requirement already satisfied, skipping upgrade: lxml>=4.5.1 in c:\\users\\katri\\anaconda3\\lib\\site-packages (from yfinance) (4.5.2)\n",
      "Requirement already satisfied, skipping upgrade: requests>=2.20 in c:\\users\\katri\\anaconda3\\lib\\site-packages (from yfinance) (2.24.0)\n",
      "Requirement already satisfied, skipping upgrade: multitasking>=0.0.7 in c:\\users\\katri\\anaconda3\\lib\\site-packages (from yfinance) (0.0.9)\n",
      "Requirement already satisfied, skipping upgrade: pytz>=2017.2 in c:\\users\\katri\\anaconda3\\lib\\site-packages (from pandas>=0.24->yfinance) (2020.1)\n",
      "Requirement already satisfied, skipping upgrade: python-dateutil>=2.6.1 in c:\\users\\katri\\anaconda3\\lib\\site-packages (from pandas>=0.24->yfinance) (2.8.1)\n",
      "Requirement already satisfied, skipping upgrade: urllib3!=1.25.0,!=1.25.1,<1.26,>=1.21.1 in c:\\users\\katri\\anaconda3\\lib\\site-packages (from requests>=2.20->yfinance) (1.25.9)\n",
      "Requirement already satisfied, skipping upgrade: certifi>=2017.4.17 in c:\\users\\katri\\anaconda3\\lib\\site-packages (from requests>=2.20->yfinance) (2020.6.20)\n",
      "Requirement already satisfied, skipping upgrade: idna<3,>=2.5 in c:\\users\\katri\\anaconda3\\lib\\site-packages (from requests>=2.20->yfinance) (2.10)\n",
      "Requirement already satisfied, skipping upgrade: chardet<4,>=3.0.2 in c:\\users\\katri\\anaconda3\\lib\\site-packages (from requests>=2.20->yfinance) (3.0.4)\n",
      "Requirement already satisfied, skipping upgrade: six>=1.5 in c:\\users\\katri\\anaconda3\\lib\\site-packages (from python-dateutil>=2.6.1->pandas>=0.24->yfinance) (1.15.0)\n"
     ]
    }
   ],
   "source": [
    "! pip install yfinance --upgrade --no-cache-dir"
   ]
  },
  {
   "cell_type": "code",
   "execution_count": 6,
   "metadata": {},
   "outputs": [
    {
     "name": "stdout",
     "output_type": "stream",
     "text": [
      "{'zip': '98052-6399', 'sector': 'Technology', 'fullTimeEmployees': 163000, 'longBusinessSummary': 'Microsoft Corporation develops, licenses, and supports software, services, devices, and solutions worldwide. Its Productivity and Business Processes segment offers Office, Exchange, SharePoint, Microsoft Teams, Office 365 Security and Compliance, and Skype for Business, as well as related Client Access Licenses (CAL); Skype, Outlook.com, OneDrive, and LinkedIn; and Dynamics 365, a set of cloud-based and on-premises business solutions for small and medium businesses, large organizations, and divisions of enterprises. Its Intelligent Cloud segment licenses SQL and Windows Servers, Visual Studio, System Center, and related CALs; GitHub that provides a collaboration platform and code hosting service for developers; and Azure, a cloud platform. It also offers support services and Microsoft consulting services to assist customers in developing, deploying, and managing Microsoft server and desktop solutions; and training and certification to developers and IT professionals on various Microsoft products. Its More Personal Computing segment provides Windows original equipment manufacturer (OEM) licensing and other non-volume licensing of the Windows operating system; Windows Commercial, such as volume licensing of the Windows operating system, Windows cloud services, and other Windows commercial offerings; patent licensing; Windows Internet of Things; and MSN advertising. It also offers Surface, PC accessories, PCs, tablets, gaming and entertainment consoles, and other devices; Gaming, including Xbox hardware, and Xbox content and services; video games and third-party video game royalties; and Search, including Bing and Microsoft advertising. It sells its products through OEMs, distributors, and resellers; and directly through digital marketplaces, online stores, and retail stores. It has a strategic collaboration with DXC Technology and Dynatrace, Inc.; and a partnership with WPP plc. The company was founded in 1975 and is headquartered in Redmond, Washington.', 'city': 'Redmond', 'phone': '425 882 8080', 'state': 'WA', 'country': 'United States', 'companyOfficers': [], 'website': 'http://www.microsoft.com', 'maxAge': 1, 'address1': 'One Microsoft Way', 'industry': 'Software—Infrastructure', 'previousClose': 247.18, 'regularMarketOpen': 244.55, 'twoHundredDayAverage': 230.57149, 'trailingAnnualDividendYield': 0.008859941000000001, 'payoutRatio': 0.2916, 'volume24Hr': None, 'regularMarketDayHigh': 246.59, 'navPrice': None, 'averageDailyVolume10Day': 26176433, 'totalAssets': None, 'regularMarketPreviousClose': 247.18, 'fiftyDayAverage': 250.21735, 'trailingAnnualDividendRate': 2.19, 'open': 244.55, 'toCurrency': None, 'averageVolume10days': 26176433, 'expireDate': None, 'yield': None, 'algorithm': None, 'dividendRate': 2.24, 'exDividendDate': 1621382400, 'beta': 0.787165, 'circulatingSupply': None, 'startDate': None, 'regularMarketDayLow': 242.57, 'priceHint': 2, 'currency': 'USD', 'trailingPE': 33.555466, 'regularMarketVolume': 32512475, 'lastMarket': None, 'maxSupply': None, 'openInterest': None, 'marketCap': 1854498537472, 'volumeAllCurrencies': None, 'strikePrice': None, 'averageVolume': 28802635, 'priceToSalesTrailing12Months': 11.592862, 'dayLow': 242.57, 'ask': 245.65, 'ytdReturn': None, 'askSize': 1200, 'volume': 32512475, 'fiftyTwoWeekHigh': 263.19, 'forwardPE': 29.48862, 'fromCurrency': None, 'fiveYearAvgDividendYield': 1.63, 'fiftyTwoWeekLow': 175.68, 'bid': 245.64, 'tradeable': False, 'dividendYield': 0.0091, 'bidSize': 3200, 'dayHigh': 246.59, 'exchange': 'NMS', 'shortName': 'Microsoft Corporation', 'longName': 'Microsoft Corporation', 'exchangeTimezoneName': 'America/New_York', 'exchangeTimezoneShortName': 'EDT', 'isEsgPopulated': False, 'gmtOffSetMilliseconds': '-14400000', 'quoteType': 'EQUITY', 'symbol': 'MSFT', 'messageBoardId': 'finmb_21835', 'market': 'us_market', 'annualHoldingsTurnover': None, 'enterpriseToRevenue': 11.364, 'beta3Year': None, 'profitMargins': 0.35016, 'enterpriseToEbitda': 24.053, '52WeekChange': 0.37513208000000003, 'morningStarRiskRating': None, 'forwardEps': 8.35, 'revenueQuarterlyGrowth': None, 'sharesOutstanding': 7531570176, 'fundInceptionDate': None, 'annualReportExpenseRatio': None, 'bookValue': 17.853, 'sharesShort': 61156879, 'sharesPercentSharesOut': 0.0081, 'fundFamily': None, 'lastFiscalYearEnd': 1593475200, 'heldPercentInstitutions': 0.7226800000000001, 'netIncomeToCommon': 56014999552, 'trailingEps': 7.338, 'lastDividendValue': 0.56, 'SandP52WeekChange': 0.48525882000000004, 'priceToBook': 13.792079, 'heldPercentInsiders': 0.0007300000000000001, 'nextFiscalYearEnd': 1656547200, 'mostRecentQuarter': 1617148800, 'shortRatio': 2.11, 'sharesShortPreviousMonthDate': 1615766400, 'floatShares': 7420408511, 'enterpriseValue': 1817901662208, 'threeYearAverageReturn': None, 'lastSplitDate': 1045526400, 'lastSplitFactor': '2:1', 'legalType': None, 'lastDividendDate': 1613520000, 'morningStarOverallRating': None, 'earningsQuarterlyGrowth': 0.438, 'dateShortInterest': 1618444800, 'pegRatio': 2.01, 'lastCapGain': None, 'shortPercentOfFloat': 0.0081, 'sharesShortPriorMonth': 49574419, 'impliedSharesOutstanding': None, 'category': None, 'fiveYearAverageReturn': None, 'regularMarketPrice': 246.23, 'logo_url': 'https://logo.clearbit.com/microsoft.com'}\n"
     ]
    }
   ],
   "source": [
    "import yfinance as yf\n",
    "msft = yf.Ticker(\"MSFT\")\n",
    "print(msft.info)"
   ]
  },
  {
   "cell_type": "code",
   "execution_count": 7,
   "metadata": {},
   "outputs": [
    {
     "name": "stdout",
     "output_type": "stream",
     "text": [
      "Collecting yahoo_fin\n",
      "  Downloading yahoo_fin-0.8.8-py3-none-any.whl (10 kB)\n",
      "Collecting feedparser\n",
      "  Downloading feedparser-6.0.2-py3-none-any.whl (80 kB)\n",
      "Collecting requests-html\n",
      "  Downloading requests_html-0.10.0-py3-none-any.whl (13 kB)\n",
      "Requirement already satisfied: pandas in c:\\users\\katri\\anaconda3\\lib\\site-packages (from yahoo_fin) (1.0.5)\n",
      "Requirement already satisfied: requests in c:\\users\\katri\\anaconda3\\lib\\site-packages (from yahoo_fin) (2.24.0)\n",
      "Collecting sgmllib3k\n",
      "  Downloading sgmllib3k-1.0.0.tar.gz (5.8 kB)\n",
      "Collecting parse\n",
      "  Downloading parse-1.19.0.tar.gz (30 kB)\n",
      "Collecting bs4\n",
      "  Downloading bs4-0.0.1.tar.gz (1.1 kB)\n",
      "Collecting fake-useragent\n",
      "  Downloading fake-useragent-0.1.11.tar.gz (13 kB)\n",
      "Collecting pyppeteer>=0.0.14\n",
      "  Downloading pyppeteer-0.2.5-py3-none-any.whl (87 kB)\n",
      "Collecting w3lib\n",
      "  Downloading w3lib-1.22.0-py2.py3-none-any.whl (20 kB)\n",
      "Collecting pyquery\n",
      "  Downloading pyquery-1.4.3-py3-none-any.whl (22 kB)\n",
      "Requirement already satisfied: numpy>=1.13.3 in c:\\users\\katri\\anaconda3\\lib\\site-packages (from pandas->yahoo_fin) (1.18.5)\n",
      "Requirement already satisfied: python-dateutil>=2.6.1 in c:\\users\\katri\\anaconda3\\lib\\site-packages (from pandas->yahoo_fin) (2.8.1)\n",
      "Requirement already satisfied: pytz>=2017.2 in c:\\users\\katri\\anaconda3\\lib\\site-packages (from pandas->yahoo_fin) (2020.1)\n",
      "Requirement already satisfied: certifi>=2017.4.17 in c:\\users\\katri\\anaconda3\\lib\\site-packages (from requests->yahoo_fin) (2020.6.20)\n",
      "Requirement already satisfied: idna<3,>=2.5 in c:\\users\\katri\\anaconda3\\lib\\site-packages (from requests->yahoo_fin) (2.10)\n",
      "Requirement already satisfied: chardet<4,>=3.0.2 in c:\\users\\katri\\anaconda3\\lib\\site-packages (from requests->yahoo_fin) (3.0.4)\n",
      "Requirement already satisfied: urllib3!=1.25.0,!=1.25.1,<1.26,>=1.21.1 in c:\\users\\katri\\anaconda3\\lib\\site-packages (from requests->yahoo_fin) (1.25.9)\n",
      "Requirement already satisfied: beautifulsoup4 in c:\\users\\katri\\anaconda3\\lib\\site-packages (from bs4->requests-html->yahoo_fin) (4.9.1)\n",
      "Collecting websockets<9.0,>=8.1\n",
      "  Downloading websockets-8.1-cp38-cp38-win_amd64.whl (66 kB)\n",
      "Collecting appdirs<2.0.0,>=1.4.3\n",
      "  Downloading appdirs-1.4.4-py2.py3-none-any.whl (9.6 kB)\n",
      "Requirement already satisfied: tqdm<5.0.0,>=4.42.1 in c:\\users\\katri\\anaconda3\\lib\\site-packages (from pyppeteer>=0.0.14->requests-html->yahoo_fin) (4.47.0)\n",
      "Collecting pyee<9.0.0,>=8.1.0\n",
      "  Downloading pyee-8.1.0-py2.py3-none-any.whl (12 kB)\n",
      "Requirement already satisfied: six>=1.4.1 in c:\\users\\katri\\anaconda3\\lib\\site-packages (from w3lib->requests-html->yahoo_fin) (1.15.0)\n",
      "Collecting cssselect>0.7.9\n",
      "  Downloading cssselect-1.1.0-py2.py3-none-any.whl (16 kB)\n",
      "Requirement already satisfied: lxml>=2.1 in c:\\users\\katri\\anaconda3\\lib\\site-packages (from pyquery->requests-html->yahoo_fin) (4.5.2)\n",
      "Requirement already satisfied: soupsieve>1.2 in c:\\users\\katri\\anaconda3\\lib\\site-packages (from beautifulsoup4->bs4->requests-html->yahoo_fin) (2.0.1)\n",
      "Building wheels for collected packages: sgmllib3k, parse, bs4, fake-useragent\n",
      "  Building wheel for sgmllib3k (setup.py): started\n",
      "  Building wheel for sgmllib3k (setup.py): finished with status 'done'\n",
      "  Created wheel for sgmllib3k: filename=sgmllib3k-1.0.0-py3-none-any.whl size=6071 sha256=7314283700812b25f19bf2dd7747c3b89a6e527dabb5cbc06520b44a9127fb0a\n",
      "  Stored in directory: c:\\users\\katri\\appdata\\local\\pip\\cache\\wheels\\83\\63\\2f\\117884c3b19d46b64d3d61690333aa80c88dc14050e269c546\n",
      "  Building wheel for parse (setup.py): started\n",
      "  Building wheel for parse (setup.py): finished with status 'done'\n",
      "  Created wheel for parse: filename=parse-1.19.0-py3-none-any.whl size=24585 sha256=21ebb31931d3bfc584eda0e038603d96065a0017375504e764a9ed1ae4d3253b\n",
      "  Stored in directory: c:\\users\\katri\\appdata\\local\\pip\\cache\\wheels\\e5\\33\\1f\\68392720485b3ecf125a69e700baaab7624616deedea2fa6e2\n",
      "  Building wheel for bs4 (setup.py): started\n",
      "  Building wheel for bs4 (setup.py): finished with status 'done'\n",
      "  Created wheel for bs4: filename=bs4-0.0.1-py3-none-any.whl size=1279 sha256=6c8881098075a1369c0c818e35fc273b850fcb0213ec676ac6d00ca8d885c451\n",
      "  Stored in directory: c:\\users\\katri\\appdata\\local\\pip\\cache\\wheels\\75\\78\\21\\68b124549c9bdc94f822c02fb9aa3578a669843f9767776bca\n",
      "  Building wheel for fake-useragent (setup.py): started\n",
      "  Building wheel for fake-useragent (setup.py): finished with status 'done'\n",
      "  Created wheel for fake-useragent: filename=fake_useragent-0.1.11-py3-none-any.whl size=13489 sha256=f35df49405fb71454dbaca4cf07c5993a65ab1796bfaf4a21ca025b4a1e70fd9\n",
      "  Stored in directory: c:\\users\\katri\\appdata\\local\\pip\\cache\\wheels\\a0\\b8\\b7\\8c942b2c5be5158b874a88195116b05ad124bac795f6665e65\n",
      "Successfully built sgmllib3k parse bs4 fake-useragent\n",
      "Installing collected packages: sgmllib3k, feedparser, parse, bs4, fake-useragent, websockets, appdirs, pyee, pyppeteer, w3lib, cssselect, pyquery, requests-html, yahoo-fin\n",
      "Successfully installed appdirs-1.4.4 bs4-0.0.1 cssselect-1.1.0 fake-useragent-0.1.11 feedparser-6.0.2 parse-1.19.0 pyee-8.1.0 pyppeteer-0.2.5 pyquery-1.4.3 requests-html-0.10.0 sgmllib3k-1.0.0 w3lib-1.22.0 websockets-8.1 yahoo-fin-0.8.8\n"
     ]
    }
   ],
   "source": [
    "! pip install yahoo_fin"
   ]
  },
  {
   "cell_type": "code",
   "execution_count": 8,
   "metadata": {},
   "outputs": [],
   "source": [
    "from yahoo_fin.stock_info import get_data"
   ]
  },
  {
   "cell_type": "code",
   "execution_count": 13,
   "metadata": {},
   "outputs": [
    {
     "data": {
      "text/html": [
       "<div>\n",
       "<style scoped>\n",
       "    .dataframe tbody tr th:only-of-type {\n",
       "        vertical-align: middle;\n",
       "    }\n",
       "\n",
       "    .dataframe tbody tr th {\n",
       "        vertical-align: top;\n",
       "    }\n",
       "\n",
       "    .dataframe thead th {\n",
       "        text-align: right;\n",
       "    }\n",
       "</style>\n",
       "<table border=\"1\" class=\"dataframe\">\n",
       "  <thead>\n",
       "    <tr style=\"text-align: right;\">\n",
       "      <th></th>\n",
       "      <th>open</th>\n",
       "      <th>high</th>\n",
       "      <th>low</th>\n",
       "      <th>close</th>\n",
       "      <th>adjclose</th>\n",
       "      <th>volume</th>\n",
       "      <th>ticker</th>\n",
       "    </tr>\n",
       "  </thead>\n",
       "  <tbody>\n",
       "    <tr>\n",
       "      <th>2021-05-05</th>\n",
       "      <td>3338.860107</td>\n",
       "      <td>3354.699951</td>\n",
       "      <td>3264.360107</td>\n",
       "      <td>3270.540039</td>\n",
       "      <td>3270.540039</td>\n",
       "      <td>3711300</td>\n",
       "      <td>AMZN</td>\n",
       "    </tr>\n",
       "    <tr>\n",
       "      <th>2021-05-06</th>\n",
       "      <td>3270.000000</td>\n",
       "      <td>3314.399902</td>\n",
       "      <td>3247.199951</td>\n",
       "      <td>3306.370117</td>\n",
       "      <td>3306.370117</td>\n",
       "      <td>4447700</td>\n",
       "      <td>AMZN</td>\n",
       "    </tr>\n",
       "    <tr>\n",
       "      <th>2021-05-07</th>\n",
       "      <td>3319.090088</td>\n",
       "      <td>3330.889893</td>\n",
       "      <td>3289.070068</td>\n",
       "      <td>3291.610107</td>\n",
       "      <td>3291.610107</td>\n",
       "      <td>4706800</td>\n",
       "      <td>AMZN</td>\n",
       "    </tr>\n",
       "    <tr>\n",
       "      <th>2021-05-10</th>\n",
       "      <td>3282.320068</td>\n",
       "      <td>3283.000000</td>\n",
       "      <td>3190.000000</td>\n",
       "      <td>3190.489990</td>\n",
       "      <td>3190.489990</td>\n",
       "      <td>5830400</td>\n",
       "      <td>AMZN</td>\n",
       "    </tr>\n",
       "  </tbody>\n",
       "</table>\n",
       "</div>"
      ],
      "text/plain": [
       "                   open         high          low        close     adjclose  \\\n",
       "2021-05-05  3338.860107  3354.699951  3264.360107  3270.540039  3270.540039   \n",
       "2021-05-06  3270.000000  3314.399902  3247.199951  3306.370117  3306.370117   \n",
       "2021-05-07  3319.090088  3330.889893  3289.070068  3291.610107  3291.610107   \n",
       "2021-05-10  3282.320068  3283.000000  3190.000000  3190.489990  3190.489990   \n",
       "\n",
       "             volume ticker  \n",
       "2021-05-05  3711300   AMZN  \n",
       "2021-05-06  4447700   AMZN  \n",
       "2021-05-07  4706800   AMZN  \n",
       "2021-05-10  5830400   AMZN  "
      ]
     },
     "execution_count": 13,
     "metadata": {},
     "output_type": "execute_result"
    }
   ],
   "source": [
    "amazon_weekly= get_data(\"amzn\", start_date=\"05/5/2021\", end_date=\"05/11/2021\", index_as_date = True, interval=\"1d\")\n",
    "amazon_weekly"
   ]
  },
  {
   "cell_type": "code",
   "execution_count": 23,
   "metadata": {},
   "outputs": [
    {
     "name": "stdout",
     "output_type": "stream",
     "text": [
      "                   open         high          low        close     adjclose  \\\n",
      "2021-05-05  3338.860107  3354.699951  3264.360107  3270.540039  3270.540039   \n",
      "2021-05-06  3270.000000  3314.399902  3247.199951  3306.370117  3306.370117   \n",
      "2021-05-07  3319.090088  3330.889893  3289.070068  3291.610107  3291.610107   \n",
      "2021-05-10  3282.320068  3283.000000  3190.000000  3190.489990  3190.489990   \n",
      "\n",
      "             volume ticker  \n",
      "2021-05-05  3711300   AMZN  \n",
      "2021-05-06  4447700   AMZN  \n",
      "2021-05-07  4706800   AMZN  \n",
      "2021-05-10  5830400   AMZN  \n",
      "                  open        high         low       close    adjclose  \\\n",
      "2021-05-05  129.199997  130.449997  127.970001  128.100006  127.882790   \n",
      "2021-05-06  127.889999  129.750000  127.129997  129.740005  129.520004   \n",
      "2021-05-07  130.850006  131.259995  129.479996  130.210007  130.210007   \n",
      "2021-05-10  129.410004  129.539993  126.809998  126.849998  126.849998   \n",
      "\n",
      "              volume ticker  \n",
      "2021-05-05  84000900   AAPL  \n",
      "2021-05-06  78128300   AAPL  \n",
      "2021-05-07  78892700   AAPL  \n",
      "2021-05-10  87808400   AAPL  \n",
      "                  open        high         low       close    adjclose  \\\n",
      "2021-05-05  232.449997  232.449997  227.559998  228.179993  228.179993   \n",
      "2021-05-06  229.300003  231.169998  226.550003  229.809998  229.809998   \n",
      "2021-05-07  229.800003  235.910004  227.990005  235.470001  235.470001   \n",
      "2021-05-10  236.839996  241.100006  232.500000  232.929993  232.929993   \n",
      "\n",
      "              volume ticker  \n",
      "2021-05-05   8538800     BA  \n",
      "2021-05-06  11857100     BA  \n",
      "2021-05-07  12814100     BA  \n",
      "2021-05-10  14797500     BA  \n",
      "                  open        high         low       close    adjclose  \\\n",
      "2021-05-05  318.190002  321.059998  314.489990  315.019989  315.019989   \n",
      "2021-05-06  314.519989  320.239990  313.269989  320.019989  320.019989   \n",
      "2021-05-07  322.380005  322.940002  318.750000  319.079987  319.079987   \n",
      "2021-05-10  314.350006  314.579987  304.829987  305.970001  305.970001   \n",
      "\n",
      "              volume ticker  \n",
      "2021-05-05  15577600     FB  \n",
      "2021-05-06  19012200     FB  \n",
      "2021-05-07  15912800     FB  \n",
      "2021-05-10  24197200     FB  \n"
     ]
    }
   ],
   "source": [
    "ticker_list = [\"amzn\", \"aapl\", \"ba\", \"fb\"]\n",
    "historical_datas = {}\n",
    "for ticker in ticker_list:\n",
    "    historical_datas[ticker] = get_data(ticker, start_date=\"05/5/2021\", end_date=\"05/11/2021\", index_as_date = True, interval=\"1d\")\n",
    "    print(historical_datas[ticker])"
   ]
  },
  {
   "cell_type": "code",
   "execution_count": null,
   "metadata": {},
   "outputs": [],
   "source": []
  }
 ],
 "metadata": {
  "kernelspec": {
   "display_name": "Python 3",
   "language": "python",
   "name": "python3"
  },
  "language_info": {
   "codemirror_mode": {
    "name": "ipython",
    "version": 3
   },
   "file_extension": ".py",
   "mimetype": "text/x-python",
   "name": "python",
   "nbconvert_exporter": "python",
   "pygments_lexer": "ipython3",
   "version": "3.8.3"
  }
 },
 "nbformat": 4,
 "nbformat_minor": 4
}
