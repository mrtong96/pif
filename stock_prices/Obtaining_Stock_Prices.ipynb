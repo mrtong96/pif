{
 "cells": [
  {
   "cell_type": "code",
   "execution_count": null,
   "metadata": {},
   "outputs": [],
   "source": [
    "! pip install yfinance --upgrade --no-cache-dir"
   ]
  },
  {
   "cell_type": "code",
   "execution_count": null,
   "metadata": {},
   "outputs": [],
   "source": [
    "import yfinance as yf\n",
    "msft = yf.Ticker(\"MSFT\")\n",
    "print(msft.info)"
   ]
  },
  {
   "cell_type": "code",
   "execution_count": null,
   "metadata": {},
   "outputs": [],
   "source": [
    "! pip install yahoo_fin"
   ]
  },
  {
   "cell_type": "code",
   "execution_count": 8,
   "metadata": {},
   "outputs": [],
   "source": [
    "from yahoo_fin.stock_info import get_data"
   ]
  },
  {
   "cell_type": "code",
   "execution_count": 13,
   "metadata": {},
   "outputs": [
    {
     "data": {
      "text/html": [
       "<div>\n",
       "<style scoped>\n",
       "    .dataframe tbody tr th:only-of-type {\n",
       "        vertical-align: middle;\n",
       "    }\n",
       "\n",
       "    .dataframe tbody tr th {\n",
       "        vertical-align: top;\n",
       "    }\n",
       "\n",
       "    .dataframe thead th {\n",
       "        text-align: right;\n",
       "    }\n",
       "</style>\n",
       "<table border=\"1\" class=\"dataframe\">\n",
       "  <thead>\n",
       "    <tr style=\"text-align: right;\">\n",
       "      <th></th>\n",
       "      <th>open</th>\n",
       "      <th>high</th>\n",
       "      <th>low</th>\n",
       "      <th>close</th>\n",
       "      <th>adjclose</th>\n",
       "      <th>volume</th>\n",
       "      <th>ticker</th>\n",
       "    </tr>\n",
       "  </thead>\n",
       "  <tbody>\n",
       "    <tr>\n",
       "      <th>2021-05-05</th>\n",
       "      <td>3338.860107</td>\n",
       "      <td>3354.699951</td>\n",
       "      <td>3264.360107</td>\n",
       "      <td>3270.540039</td>\n",
       "      <td>3270.540039</td>\n",
       "      <td>3711300</td>\n",
       "      <td>AMZN</td>\n",
       "    </tr>\n",
       "    <tr>\n",
       "      <th>2021-05-06</th>\n",
       "      <td>3270.000000</td>\n",
       "      <td>3314.399902</td>\n",
       "      <td>3247.199951</td>\n",
       "      <td>3306.370117</td>\n",
       "      <td>3306.370117</td>\n",
       "      <td>4447700</td>\n",
       "      <td>AMZN</td>\n",
       "    </tr>\n",
       "    <tr>\n",
       "      <th>2021-05-07</th>\n",
       "      <td>3319.090088</td>\n",
       "      <td>3330.889893</td>\n",
       "      <td>3289.070068</td>\n",
       "      <td>3291.610107</td>\n",
       "      <td>3291.610107</td>\n",
       "      <td>4706800</td>\n",
       "      <td>AMZN</td>\n",
       "    </tr>\n",
       "    <tr>\n",
       "      <th>2021-05-10</th>\n",
       "      <td>3282.320068</td>\n",
       "      <td>3283.000000</td>\n",
       "      <td>3190.000000</td>\n",
       "      <td>3190.489990</td>\n",
       "      <td>3190.489990</td>\n",
       "      <td>5830400</td>\n",
       "      <td>AMZN</td>\n",
       "    </tr>\n",
       "  </tbody>\n",
       "</table>\n",
       "</div>"
      ],
      "text/plain": [
       "                   open         high          low        close     adjclose  \\\n",
       "2021-05-05  3338.860107  3354.699951  3264.360107  3270.540039  3270.540039   \n",
       "2021-05-06  3270.000000  3314.399902  3247.199951  3306.370117  3306.370117   \n",
       "2021-05-07  3319.090088  3330.889893  3289.070068  3291.610107  3291.610107   \n",
       "2021-05-10  3282.320068  3283.000000  3190.000000  3190.489990  3190.489990   \n",
       "\n",
       "             volume ticker  \n",
       "2021-05-05  3711300   AMZN  \n",
       "2021-05-06  4447700   AMZN  \n",
       "2021-05-07  4706800   AMZN  \n",
       "2021-05-10  5830400   AMZN  "
      ]
     },
     "execution_count": 13,
     "metadata": {},
     "output_type": "execute_result"
    }
   ],
   "source": [
    "amazon_weekly= get_data(\"amzn\", start_date=\"05/5/2021\", end_date=\"05/11/2021\", index_as_date = True, interval=\"1d\")\n",
    "amazon_weekly"
   ]
  },
  {
   "cell_type": "code",
   "execution_count": 23,
   "metadata": {},
   "outputs": [
    {
     "name": "stdout",
     "output_type": "stream",
     "text": [
      "                   open         high          low        close     adjclose  \\\n",
      "2021-05-05  3338.860107  3354.699951  3264.360107  3270.540039  3270.540039   \n",
      "2021-05-06  3270.000000  3314.399902  3247.199951  3306.370117  3306.370117   \n",
      "2021-05-07  3319.090088  3330.889893  3289.070068  3291.610107  3291.610107   \n",
      "2021-05-10  3282.320068  3283.000000  3190.000000  3190.489990  3190.489990   \n",
      "\n",
      "             volume ticker  \n",
      "2021-05-05  3711300   AMZN  \n",
      "2021-05-06  4447700   AMZN  \n",
      "2021-05-07  4706800   AMZN  \n",
      "2021-05-10  5830400   AMZN  \n",
      "                  open        high         low       close    adjclose  \\\n",
      "2021-05-05  129.199997  130.449997  127.970001  128.100006  127.882790   \n",
      "2021-05-06  127.889999  129.750000  127.129997  129.740005  129.520004   \n",
      "2021-05-07  130.850006  131.259995  129.479996  130.210007  130.210007   \n",
      "2021-05-10  129.410004  129.539993  126.809998  126.849998  126.849998   \n",
      "\n",
      "              volume ticker  \n",
      "2021-05-05  84000900   AAPL  \n",
      "2021-05-06  78128300   AAPL  \n",
      "2021-05-07  78892700   AAPL  \n",
      "2021-05-10  87808400   AAPL  \n",
      "                  open        high         low       close    adjclose  \\\n",
      "2021-05-05  232.449997  232.449997  227.559998  228.179993  228.179993   \n",
      "2021-05-06  229.300003  231.169998  226.550003  229.809998  229.809998   \n",
      "2021-05-07  229.800003  235.910004  227.990005  235.470001  235.470001   \n",
      "2021-05-10  236.839996  241.100006  232.500000  232.929993  232.929993   \n",
      "\n",
      "              volume ticker  \n",
      "2021-05-05   8538800     BA  \n",
      "2021-05-06  11857100     BA  \n",
      "2021-05-07  12814100     BA  \n",
      "2021-05-10  14797500     BA  \n",
      "                  open        high         low       close    adjclose  \\\n",
      "2021-05-05  318.190002  321.059998  314.489990  315.019989  315.019989   \n",
      "2021-05-06  314.519989  320.239990  313.269989  320.019989  320.019989   \n",
      "2021-05-07  322.380005  322.940002  318.750000  319.079987  319.079987   \n",
      "2021-05-10  314.350006  314.579987  304.829987  305.970001  305.970001   \n",
      "\n",
      "              volume ticker  \n",
      "2021-05-05  15577600     FB  \n",
      "2021-05-06  19012200     FB  \n",
      "2021-05-07  15912800     FB  \n",
      "2021-05-10  24197200     FB  \n"
     ]
    }
   ],
   "source": [
    "ticker_list = [\"amzn\", \"aapl\", \"ba\", \"fb\"]\n",
    "historical_datas = {}\n",
    "for ticker in ticker_list:\n",
    "    historical_datas[ticker] = get_data(ticker, start_date=\"05/5/2021\", end_date=\"05/11/2021\", index_as_date = True, interval=\"1d\")\n",
    "    print(historical_datas[ticker])"
   ]
  },
  {
   "cell_type": "code",
   "execution_count": null,
   "metadata": {},
   "outputs": [],
   "source": []
  }
 ],
 "metadata": {
  "kernelspec": {
   "display_name": "Python 3",
   "language": "python",
   "name": "python3"
  },
  "language_info": {
   "codemirror_mode": {
    "name": "ipython",
    "version": 3
   },
   "file_extension": ".py",
   "mimetype": "text/x-python",
   "name": "python",
   "nbconvert_exporter": "python",
   "pygments_lexer": "ipython3",
   "version": "3.8.3"
  }
 },
 "nbformat": 4,
 "nbformat_minor": 4
}
