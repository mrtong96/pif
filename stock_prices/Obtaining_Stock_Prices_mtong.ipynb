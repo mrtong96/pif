{
 "cells": [
  {
   "cell_type": "code",
   "execution_count": 1,
   "metadata": {},
   "outputs": [
    {
     "name": "stdout",
     "output_type": "stream",
     "text": [
      "Requirement already up-to-date: yfinance in /home/michael/.local/lib/python3.8/site-packages (0.1.59)\n",
      "Requirement already satisfied, skipping upgrade: lxml>=4.5.1 in /home/michael/.local/lib/python3.8/site-packages (from yfinance) (4.6.3)\n",
      "Requirement already satisfied, skipping upgrade: requests>=2.20 in /usr/lib/python3/dist-packages (from yfinance) (2.22.0)\n",
      "Requirement already satisfied, skipping upgrade: numpy>=1.15 in /home/michael/.local/lib/python3.8/site-packages (from yfinance) (1.19.4)\n",
      "Requirement already satisfied, skipping upgrade: pandas>=0.24 in /home/michael/.local/lib/python3.8/site-packages (from yfinance) (1.2.4)\n",
      "Requirement already satisfied, skipping upgrade: multitasking>=0.0.7 in /home/michael/.local/lib/python3.8/site-packages (from yfinance) (0.0.9)\n",
      "Requirement already satisfied, skipping upgrade: python-dateutil>=2.7.3 in /usr/lib/python3/dist-packages (from pandas>=0.24->yfinance) (2.7.3)\n",
      "Requirement already satisfied, skipping upgrade: pytz>=2017.3 in /usr/lib/python3/dist-packages (from pandas>=0.24->yfinance) (2019.3)\n",
      "Requirement already satisfied: yahoo_fin in /home/michael/.local/lib/python3.8/site-packages (0.8.8)\n",
      "Requirement already satisfied: feedparser in /home/michael/.local/lib/python3.8/site-packages (from yahoo_fin) (6.0.2)\n",
      "Requirement already satisfied: requests-html in /home/michael/.local/lib/python3.8/site-packages (from yahoo_fin) (0.10.0)\n",
      "Requirement already satisfied: pandas in /home/michael/.local/lib/python3.8/site-packages (from yahoo_fin) (1.2.4)\n",
      "Requirement already satisfied: requests in /usr/lib/python3/dist-packages (from yahoo_fin) (2.22.0)\n",
      "Requirement already satisfied: sgmllib3k in /home/michael/.local/lib/python3.8/site-packages (from feedparser->yahoo_fin) (1.0.0)\n",
      "Requirement already satisfied: parse in /home/michael/.local/lib/python3.8/site-packages (from requests-html->yahoo_fin) (1.19.0)\n",
      "Requirement already satisfied: w3lib in /home/michael/.local/lib/python3.8/site-packages (from requests-html->yahoo_fin) (1.22.0)\n",
      "Requirement already satisfied: pyquery in /home/michael/.local/lib/python3.8/site-packages (from requests-html->yahoo_fin) (1.4.3)\n",
      "Requirement already satisfied: fake-useragent in /home/michael/.local/lib/python3.8/site-packages (from requests-html->yahoo_fin) (0.1.11)\n",
      "Requirement already satisfied: pyppeteer>=0.0.14 in /home/michael/.local/lib/python3.8/site-packages (from requests-html->yahoo_fin) (0.2.5)\n",
      "Requirement already satisfied: bs4 in /home/michael/.local/lib/python3.8/site-packages (from requests-html->yahoo_fin) (0.0.1)\n",
      "Requirement already satisfied: python-dateutil>=2.7.3 in /usr/lib/python3/dist-packages (from pandas->yahoo_fin) (2.7.3)\n",
      "Requirement already satisfied: pytz>=2017.3 in /usr/lib/python3/dist-packages (from pandas->yahoo_fin) (2019.3)\n",
      "Requirement already satisfied: numpy>=1.16.5 in /home/michael/.local/lib/python3.8/site-packages (from pandas->yahoo_fin) (1.19.4)\n",
      "Requirement already satisfied: six>=1.4.1 in /usr/lib/python3/dist-packages (from w3lib->requests-html->yahoo_fin) (1.14.0)\n",
      "Requirement already satisfied: cssselect>0.7.9 in /home/michael/.local/lib/python3.8/site-packages (from pyquery->requests-html->yahoo_fin) (1.1.0)\n",
      "Requirement already satisfied: lxml>=2.1 in /home/michael/.local/lib/python3.8/site-packages (from pyquery->requests-html->yahoo_fin) (4.6.3)\n",
      "Requirement already satisfied: tqdm<5.0.0,>=4.42.1 in /home/michael/.local/lib/python3.8/site-packages (from pyppeteer>=0.0.14->requests-html->yahoo_fin) (4.60.0)\n",
      "Requirement already satisfied: pyee<9.0.0,>=8.1.0 in /home/michael/.local/lib/python3.8/site-packages (from pyppeteer>=0.0.14->requests-html->yahoo_fin) (8.1.0)\n",
      "Requirement already satisfied: appdirs<2.0.0,>=1.4.3 in /home/michael/.local/lib/python3.8/site-packages (from pyppeteer>=0.0.14->requests-html->yahoo_fin) (1.4.4)\n",
      "Requirement already satisfied: urllib3<2.0.0,>=1.25.8 in /usr/lib/python3/dist-packages (from pyppeteer>=0.0.14->requests-html->yahoo_fin) (1.25.8)\n",
      "Requirement already satisfied: websockets<9.0,>=8.1 in /home/michael/.local/lib/python3.8/site-packages (from pyppeteer>=0.0.14->requests-html->yahoo_fin) (8.1)\n",
      "Requirement already satisfied: beautifulsoup4 in /home/michael/.local/lib/python3.8/site-packages (from bs4->requests-html->yahoo_fin) (4.9.3)\n",
      "Requirement already satisfied: soupsieve>1.2; python_version >= \"3.0\" in /home/michael/.local/lib/python3.8/site-packages (from beautifulsoup4->bs4->requests-html->yahoo_fin) (2.2.1)\n"
     ]
    }
   ],
   "source": [
    "! pip3 install yfinance --upgrade --no-cache-dir\n",
    "! pip3 install yahoo_fin"
   ]
  },
  {
   "cell_type": "code",
   "execution_count": 23,
   "metadata": {},
   "outputs": [],
   "source": [
    "import pandas as pd\n",
    "import yfinance as yf\n",
    "from yahoo_fin import stock_info\n",
    "from multiprocessing import Pool\n",
    "\n",
    "import datetime"
   ]
  },
  {
   "cell_type": "code",
   "execution_count": 4,
   "metadata": {},
   "outputs": [
    {
     "name": "stdout",
     "output_type": "stream",
     "text": [
      "{'zip': '98052-6399', 'sector': 'Technology', 'fullTimeEmployees': 163000, 'longBusinessSummary': 'Microsoft Corporation develops, licenses, and supports software, services, devices, and solutions worldwide. Its Productivity and Business Processes segment offers Office, Exchange, SharePoint, Microsoft Teams, Office 365 Security and Compliance, and Skype for Business, as well as related Client Access Licenses (CAL); Skype, Outlook.com, OneDrive, and LinkedIn; and Dynamics 365, a set of cloud-based and on-premises business solutions for small and medium businesses, large organizations, and divisions of enterprises. Its Intelligent Cloud segment licenses SQL and Windows Servers, Visual Studio, System Center, and related CALs; GitHub that provides a collaboration platform and code hosting service for developers; and Azure, a cloud platform. It also offers support services and Microsoft consulting services to assist customers in developing, deploying, and managing Microsoft server and desktop solutions; and training and certification to developers and IT professionals on various Microsoft products. Its More Personal Computing segment provides Windows original equipment manufacturer (OEM) licensing and other non-volume licensing of the Windows operating system; Windows Commercial, such as volume licensing of the Windows operating system, Windows cloud services, and other Windows commercial offerings; patent licensing; Windows Internet of Things; and MSN advertising. It also offers Surface, PC accessories, PCs, tablets, gaming and entertainment consoles, and other devices; Gaming, including Xbox hardware, and Xbox content and services; video games and third-party video game royalties; and Search, including Bing and Microsoft advertising. It sells its products through OEMs, distributors, and resellers; and directly through digital marketplaces, online stores, and retail stores. It has a strategic collaboration with DXC Technology, Dynatrace, Inc., and Micro Focus; and a partnership with WPP plc. The company was founded in 1975 and is headquartered in Redmond, Washington.', 'city': 'Redmond', 'phone': '425 882 8080', 'state': 'WA', 'country': 'United States', 'companyOfficers': [], 'website': 'http://www.microsoft.com', 'maxAge': 1, 'address1': 'One Microsoft Way', 'industry': 'Software—Infrastructure', 'previousClose': 246.48, 'regularMarketOpen': 247.565, 'twoHundredDayAverage': 232.8547, 'trailingAnnualDividendYield': 0.008885102, 'payoutRatio': 0.2916, 'volume24Hr': None, 'regularMarketDayHigh': 248.33, 'navPrice': None, 'averageDailyVolume10Day': 23067133, 'totalAssets': None, 'regularMarketPreviousClose': 246.48, 'fiftyDayAverage': 251.99315, 'trailingAnnualDividendRate': 2.19, 'open': 247.565, 'toCurrency': None, 'averageVolume10days': 23067133, 'expireDate': None, 'yield': None, 'algorithm': None, 'dividendRate': 2.24, 'exDividendDate': 1621382400, 'beta': 0.787165, 'circulatingSupply': None, 'startDate': None, 'regularMarketDayLow': 244.74, 'priceHint': 2, 'currency': 'USD', 'trailingPE': 33.41101, 'regularMarketVolume': 21863058, 'lastMarket': None, 'maxSupply': None, 'openInterest': None, 'marketCap': 1846515073024, 'volumeAllCurrencies': None, 'strikePrice': None, 'averageVolume': 28915012, 'priceToSalesTrailing12Months': 11.542955, 'dayLow': 244.74, 'ask': 245.25, 'ytdReturn': None, 'askSize': 900, 'volume': 21863058, 'fiftyTwoWeekHigh': 263.19, 'forwardPE': 29.361675, 'fromCurrency': None, 'fiveYearAvgDividendYield': 1.63, 'fiftyTwoWeekLow': 176.6, 'bid': 244.98, 'tradeable': False, 'dividendYield': 0.0091, 'bidSize': 1400, 'dayHigh': 248.33, 'exchange': 'NMS', 'shortName': 'Microsoft Corporation', 'longName': 'Microsoft Corporation', 'exchangeTimezoneName': 'America/New_York', 'exchangeTimezoneShortName': 'EDT', 'isEsgPopulated': False, 'gmtOffSetMilliseconds': '-14400000', 'quoteType': 'EQUITY', 'symbol': 'MSFT', 'messageBoardId': 'finmb_21835', 'market': 'us_market', 'annualHoldingsTurnover': None, 'enterpriseToRevenue': 11.269, 'beta3Year': None, 'profitMargins': 0.35016, 'enterpriseToEbitda': 23.853, '52WeekChange': 0.35027814, 'morningStarRiskRating': None, 'forwardEps': 8.35, 'revenueQuarterlyGrowth': None, 'sharesOutstanding': 7531570176, 'fundInceptionDate': None, 'annualReportExpenseRatio': None, 'bookValue': 17.853, 'sharesShort': 46696867, 'sharesPercentSharesOut': 0.0062, 'fundFamily': None, 'lastFiscalYearEnd': 1593475200, 'heldPercentInstitutions': 0.72281, 'netIncomeToCommon': 56014999552, 'trailingEps': 7.338, 'lastDividendValue': 0.56, 'SandP52WeekChange': 0.38909745, 'priceToBook': 13.732705, 'heldPercentInsiders': 0.00071999995, 'nextFiscalYearEnd': 1656547200, 'mostRecentQuarter': 1617148800, 'shortRatio': 1.69, 'sharesShortPreviousMonthDate': 1617148800, 'floatShares': 7420408511, 'enterpriseValue': 1802763108352, 'threeYearAverageReturn': None, 'lastSplitDate': 1045526400, 'lastSplitFactor': '2:1', 'legalType': None, 'lastDividendDate': 1621382400, 'morningStarOverallRating': None, 'earningsQuarterlyGrowth': 0.438, 'dateShortInterest': 1619740800, 'pegRatio': 2.01, 'lastCapGain': None, 'shortPercentOfFloat': 0.0062, 'sharesShortPriorMonth': 48428331, 'impliedSharesOutstanding': None, 'category': None, 'fiveYearAverageReturn': None, 'regularMarketPrice': 245.17, 'logo_url': 'https://logo.clearbit.com/microsoft.com'}\n"
     ]
    }
   ],
   "source": [
    "msft = yf.Ticker(\"MSFT\")\n",
    "print(msft.info)"
   ]
  },
  {
   "cell_type": "code",
   "execution_count": 5,
   "metadata": {},
   "outputs": [],
   "source": [
    "from yahoo_fin.stock_info import get_data"
   ]
  },
  {
   "cell_type": "code",
   "execution_count": 6,
   "metadata": {},
   "outputs": [
    {
     "data": {
      "text/html": [
       "<div>\n",
       "<style scoped>\n",
       "    .dataframe tbody tr th:only-of-type {\n",
       "        vertical-align: middle;\n",
       "    }\n",
       "\n",
       "    .dataframe tbody tr th {\n",
       "        vertical-align: top;\n",
       "    }\n",
       "\n",
       "    .dataframe thead th {\n",
       "        text-align: right;\n",
       "    }\n",
       "</style>\n",
       "<table border=\"1\" class=\"dataframe\">\n",
       "  <thead>\n",
       "    <tr style=\"text-align: right;\">\n",
       "      <th></th>\n",
       "      <th>open</th>\n",
       "      <th>high</th>\n",
       "      <th>low</th>\n",
       "      <th>close</th>\n",
       "      <th>adjclose</th>\n",
       "      <th>volume</th>\n",
       "      <th>ticker</th>\n",
       "    </tr>\n",
       "  </thead>\n",
       "  <tbody>\n",
       "    <tr>\n",
       "      <th>2021-05-05</th>\n",
       "      <td>3338.860107</td>\n",
       "      <td>3354.699951</td>\n",
       "      <td>3264.360107</td>\n",
       "      <td>3270.540039</td>\n",
       "      <td>3270.540039</td>\n",
       "      <td>3711300</td>\n",
       "      <td>AMZN</td>\n",
       "    </tr>\n",
       "    <tr>\n",
       "      <th>2021-05-06</th>\n",
       "      <td>3270.000000</td>\n",
       "      <td>3314.399902</td>\n",
       "      <td>3247.199951</td>\n",
       "      <td>3306.370117</td>\n",
       "      <td>3306.370117</td>\n",
       "      <td>4447700</td>\n",
       "      <td>AMZN</td>\n",
       "    </tr>\n",
       "    <tr>\n",
       "      <th>2021-05-07</th>\n",
       "      <td>3319.090088</td>\n",
       "      <td>3330.889893</td>\n",
       "      <td>3289.070068</td>\n",
       "      <td>3291.610107</td>\n",
       "      <td>3291.610107</td>\n",
       "      <td>4706800</td>\n",
       "      <td>AMZN</td>\n",
       "    </tr>\n",
       "    <tr>\n",
       "      <th>2021-05-10</th>\n",
       "      <td>3282.320068</td>\n",
       "      <td>3283.000000</td>\n",
       "      <td>3190.000000</td>\n",
       "      <td>3190.489990</td>\n",
       "      <td>3190.489990</td>\n",
       "      <td>5838600</td>\n",
       "      <td>AMZN</td>\n",
       "    </tr>\n",
       "  </tbody>\n",
       "</table>\n",
       "</div>"
      ],
      "text/plain": [
       "                   open         high          low        close     adjclose  \\\n",
       "2021-05-05  3338.860107  3354.699951  3264.360107  3270.540039  3270.540039   \n",
       "2021-05-06  3270.000000  3314.399902  3247.199951  3306.370117  3306.370117   \n",
       "2021-05-07  3319.090088  3330.889893  3289.070068  3291.610107  3291.610107   \n",
       "2021-05-10  3282.320068  3283.000000  3190.000000  3190.489990  3190.489990   \n",
       "\n",
       "             volume ticker  \n",
       "2021-05-05  3711300   AMZN  \n",
       "2021-05-06  4447700   AMZN  \n",
       "2021-05-07  4706800   AMZN  \n",
       "2021-05-10  5838600   AMZN  "
      ]
     },
     "execution_count": 6,
     "metadata": {},
     "output_type": "execute_result"
    }
   ],
   "source": [
    "amazon_weekly= get_data(\"amzn\", start_date=\"05/5/2021\", end_date=\"05/11/2021\", index_as_date = True, interval=\"1d\")\n",
    "amazon_weekly"
   ]
  },
  {
   "cell_type": "code",
   "execution_count": 7,
   "metadata": {},
   "outputs": [
    {
     "name": "stdout",
     "output_type": "stream",
     "text": [
      "                   open         high          low        close     adjclose  \\\n",
      "2021-05-05  3338.860107  3354.699951  3264.360107  3270.540039  3270.540039   \n",
      "2021-05-06  3270.000000  3314.399902  3247.199951  3306.370117  3306.370117   \n",
      "2021-05-07  3319.090088  3330.889893  3289.070068  3291.610107  3291.610107   \n",
      "2021-05-10  3282.320068  3283.000000  3190.000000  3190.489990  3190.489990   \n",
      "\n",
      "             volume ticker  \n",
      "2021-05-05  3711300   AMZN  \n",
      "2021-05-06  4447700   AMZN  \n",
      "2021-05-07  4706800   AMZN  \n",
      "2021-05-10  5838600   AMZN  \n",
      "                  open        high         low       close    adjclose  \\\n",
      "2021-05-05  129.199997  130.449997  127.970001  128.100006  127.882790   \n",
      "2021-05-06  127.889999  129.750000  127.129997  129.740005  129.520004   \n",
      "2021-05-07  130.850006  131.259995  129.479996  130.210007  130.210007   \n",
      "2021-05-10  129.410004  129.539993  126.809998  126.849998  126.849998   \n",
      "\n",
      "              volume ticker  \n",
      "2021-05-05  84000900   AAPL  \n",
      "2021-05-06  78128300   AAPL  \n",
      "2021-05-07  78892700   AAPL  \n",
      "2021-05-10  88071200   AAPL  \n",
      "                  open        high         low       close    adjclose  \\\n",
      "2021-05-05  232.449997  232.449997  227.559998  228.179993  228.179993   \n",
      "2021-05-06  229.300003  231.169998  226.550003  229.809998  229.809998   \n",
      "2021-05-07  229.800003  235.910004  227.990005  235.470001  235.470001   \n",
      "2021-05-10  236.839996  241.100006  232.500000  232.929993  232.929993   \n",
      "\n",
      "              volume ticker  \n",
      "2021-05-05   8538800     BA  \n",
      "2021-05-06  11857100     BA  \n",
      "2021-05-07  12814100     BA  \n",
      "2021-05-10  14813900     BA  \n",
      "                  open        high         low       close    adjclose  \\\n",
      "2021-05-05  318.190002  321.059998  314.489990  315.019989  315.019989   \n",
      "2021-05-06  314.519989  320.239990  313.269989  320.019989  320.019989   \n",
      "2021-05-07  322.380005  322.940002  318.750000  319.079987  319.079987   \n",
      "2021-05-10  314.350006  314.579987  304.829987  305.970001  305.970001   \n",
      "\n",
      "              volume ticker  \n",
      "2021-05-05  15577600     FB  \n",
      "2021-05-06  19012200     FB  \n",
      "2021-05-07  15912800     FB  \n",
      "2021-05-10  24239200     FB  \n"
     ]
    }
   ],
   "source": [
    "ticker_list = [\"amzn\", \"aapl\", \"ba\", \"fb\"]\n",
    "historical_datas = {}\n",
    "for ticker in ticker_list:\n",
    "    historical_datas[ticker] = get_data(ticker, start_date=\"05/5/2021\", end_date=\"05/11/2021\", index_as_date = True, interval=\"1d\")\n",
    "    print(historical_datas[ticker])"
   ]
  },
  {
   "cell_type": "code",
   "execution_count": 8,
   "metadata": {},
   "outputs": [],
   "source": [
    "??stock_info.get_data"
   ]
  },
  {
   "cell_type": "code",
   "execution_count": 16,
   "metadata": {},
   "outputs": [
    {
     "name": "stdout",
     "output_type": "stream",
     "text": [
      "CPU times: user 56.8 ms, sys: 3.79 ms, total: 60.6 ms\n",
      "Wall time: 665 ms\n"
     ]
    }
   ],
   "source": [
    "%%time\n",
    "\n",
    "end_date = datetime.datetime.now().date()\n",
    "start_date = end_date - datetime.timedelta(days=7)\n",
    "\n",
    "ticker_list = [\"amzn\", \"aapl\", \"ba\", \"fb\"]\n",
    "\n",
    "historical_data = []\n",
    "\n",
    "for ticker in ticker_list:\n",
    "    historical_data.append(\n",
    "        get_data(ticker, start_date=start_date, end_date=end_date, index_as_date = False, interval=\"1d\"))\n",
    "\n",
    "historical_data = pd.concat(historical_data)\n"
   ]
  },
  {
   "cell_type": "code",
   "execution_count": 17,
   "metadata": {},
   "outputs": [
    {
     "name": "stdout",
     "output_type": "stream",
     "text": [
      "CPU times: user 55 ms, sys: 3 ms, total: 58 ms\n",
      "Wall time: 1.82 s\n"
     ]
    }
   ],
   "source": [
    "%%time\n",
    "\n",
    "end_date = datetime.datetime.now().date()\n",
    "start_date = end_date - datetime.timedelta(days=365)\n",
    "\n",
    "ticker_list = [\"amzn\", \"aapl\", \"ba\", \"fb\"]\n",
    "\n",
    "historical_data = []\n",
    "\n",
    "for ticker in ticker_list:\n",
    "    historical_data.append(\n",
    "        get_data(ticker, start_date=start_date, end_date=end_date, index_as_date = False, interval=\"1d\"))\n",
    "\n",
    "historical_data = pd.concat(historical_data)\n"
   ]
  },
  {
   "cell_type": "code",
   "execution_count": 20,
   "metadata": {},
   "outputs": [
    {
     "name": "stderr",
     "output_type": "stream",
     "text": [
      "/home/michael/.local/lib/python3.8/site-packages/yahoo_fin/stock_info.py:130: FutureWarning: The default value of regex will change from True to False in a future version. In addition, single character regular expressions will*not* be treated as literal strings when regex=True.\n",
      "  sp500[\"Symbol\"] = sp500[\"Symbol\"].str.replace(\".\", \"-\")\n"
     ]
    }
   ],
   "source": [
    "sp_500_tickers = stock_info.tickers_sp500()"
   ]
  },
  {
   "cell_type": "code",
   "execution_count": 24,
   "metadata": {},
   "outputs": [
    {
     "name": "stdout",
     "output_type": "stream",
     "text": [
      "CPU times: user 411 ms, sys: 94.5 ms, total: 506 ms\n",
      "Wall time: 21 s\n"
     ]
    }
   ],
   "source": [
    "%%time\n",
    "\n",
    "end_date = datetime.datetime.now().date()\n",
    "start_date = end_date - datetime.timedelta(days=365)\n",
    "\n",
    "def get_historical_data(ticker):\n",
    "    return get_data(ticker, start_date=start_date, end_date=end_date, index_as_date = False, interval=\"1d\")\n",
    "historical_data = []\n",
    "\n",
    "with Pool(16) as p:\n",
    "    historical_data = p.map(get_historical_data, sp_500_tickers)\n",
    "historical_data = pd.concat(historical_data)\n"
   ]
  },
  {
   "cell_type": "code",
   "execution_count": 28,
   "metadata": {},
   "outputs": [
    {
     "data": {
      "text/plain": [
       "251"
      ]
     },
     "execution_count": 28,
     "metadata": {},
     "output_type": "execute_result"
    }
   ],
   "source": [
    "len(set(historical_data['date']))"
   ]
  },
  {
   "cell_type": "code",
   "execution_count": 27,
   "metadata": {},
   "outputs": [
    {
     "data": {
      "text/html": [
       "<div>\n",
       "<style scoped>\n",
       "    .dataframe tbody tr th:only-of-type {\n",
       "        vertical-align: middle;\n",
       "    }\n",
       "\n",
       "    .dataframe tbody tr th {\n",
       "        vertical-align: top;\n",
       "    }\n",
       "\n",
       "    .dataframe thead th {\n",
       "        text-align: right;\n",
       "    }\n",
       "</style>\n",
       "<table border=\"1\" class=\"dataframe\">\n",
       "  <thead>\n",
       "    <tr style=\"text-align: right;\">\n",
       "      <th></th>\n",
       "      <th>date</th>\n",
       "      <th>open</th>\n",
       "      <th>high</th>\n",
       "      <th>low</th>\n",
       "      <th>close</th>\n",
       "      <th>adjclose</th>\n",
       "      <th>volume</th>\n",
       "      <th>ticker</th>\n",
       "    </tr>\n",
       "  </thead>\n",
       "  <tbody>\n",
       "    <tr>\n",
       "      <th>0</th>\n",
       "      <td>2020-05-26</td>\n",
       "      <td>86.230003</td>\n",
       "      <td>86.790001</td>\n",
       "      <td>85.639999</td>\n",
       "      <td>86.129997</td>\n",
       "      <td>85.524208</td>\n",
       "      <td>3173400</td>\n",
       "      <td>A</td>\n",
       "    </tr>\n",
       "    <tr>\n",
       "      <th>1</th>\n",
       "      <td>2020-05-27</td>\n",
       "      <td>86.300003</td>\n",
       "      <td>86.480003</td>\n",
       "      <td>84.370003</td>\n",
       "      <td>86.180000</td>\n",
       "      <td>85.573868</td>\n",
       "      <td>1917600</td>\n",
       "      <td>A</td>\n",
       "    </tr>\n",
       "    <tr>\n",
       "      <th>2</th>\n",
       "      <td>2020-05-28</td>\n",
       "      <td>86.870003</td>\n",
       "      <td>87.849998</td>\n",
       "      <td>86.059998</td>\n",
       "      <td>86.690002</td>\n",
       "      <td>86.080276</td>\n",
       "      <td>1908700</td>\n",
       "      <td>A</td>\n",
       "    </tr>\n",
       "    <tr>\n",
       "      <th>3</th>\n",
       "      <td>2020-05-29</td>\n",
       "      <td>87.169998</td>\n",
       "      <td>88.489998</td>\n",
       "      <td>86.470001</td>\n",
       "      <td>88.139999</td>\n",
       "      <td>87.520081</td>\n",
       "      <td>2394500</td>\n",
       "      <td>A</td>\n",
       "    </tr>\n",
       "    <tr>\n",
       "      <th>4</th>\n",
       "      <td>2020-06-01</td>\n",
       "      <td>88.040001</td>\n",
       "      <td>89.980003</td>\n",
       "      <td>87.940002</td>\n",
       "      <td>89.910004</td>\n",
       "      <td>89.277634</td>\n",
       "      <td>2477600</td>\n",
       "      <td>A</td>\n",
       "    </tr>\n",
       "  </tbody>\n",
       "</table>\n",
       "</div>"
      ],
      "text/plain": [
       "        date       open       high        low      close   adjclose   volume  \\\n",
       "0 2020-05-26  86.230003  86.790001  85.639999  86.129997  85.524208  3173400   \n",
       "1 2020-05-27  86.300003  86.480003  84.370003  86.180000  85.573868  1917600   \n",
       "2 2020-05-28  86.870003  87.849998  86.059998  86.690002  86.080276  1908700   \n",
       "3 2020-05-29  87.169998  88.489998  86.470001  88.139999  87.520081  2394500   \n",
       "4 2020-06-01  88.040001  89.980003  87.940002  89.910004  89.277634  2477600   \n",
       "\n",
       "  ticker  \n",
       "0      A  \n",
       "1      A  \n",
       "2      A  \n",
       "3      A  \n",
       "4      A  "
      ]
     },
     "execution_count": 27,
     "metadata": {},
     "output_type": "execute_result"
    }
   ],
   "source": [
    "historical_data.head()"
   ]
  },
  {
   "cell_type": "code",
   "execution_count": null,
   "metadata": {},
   "outputs": [],
   "source": []
  }
 ],
 "metadata": {
  "kernelspec": {
   "display_name": "Python 3",
   "language": "python",
   "name": "python3"
  },
  "language_info": {
   "codemirror_mode": {
    "name": "ipython",
    "version": 3
   },
   "file_extension": ".py",
   "mimetype": "text/x-python",
   "name": "python",
   "nbconvert_exporter": "python",
   "pygments_lexer": "ipython3",
   "version": "3.8.5"
  }
 },
 "nbformat": 4,
 "nbformat_minor": 4
}
