{
 "cells": [
  {
   "cell_type": "code",
   "execution_count": 1,
   "metadata": {},
   "outputs": [
    {
     "name": "stdout",
     "output_type": "stream",
     "text": [
      "--2021-05-23 19:38:54--  https://house-stock-watcher-data.s3-us-west-2.amazonaws.com/data/all_transactions.json\n",
      "Resolving house-stock-watcher-data.s3-us-west-2.amazonaws.com (house-stock-watcher-data.s3-us-west-2.amazonaws.com)... 52.92.129.186\n",
      "Connecting to house-stock-watcher-data.s3-us-west-2.amazonaws.com (house-stock-watcher-data.s3-us-west-2.amazonaws.com)|52.92.129.186|:443... connected.\n",
      "HTTP request sent, awaiting response... 200 OK\n",
      "Length: 4180863 (4.0M) [application/json]\n",
      "Saving to: ‘all_transactions.json’\n",
      "\n",
      "all_transactions.js 100%[===================>]   3.99M  5.19MB/s    in 0.8s    \n",
      "\n",
      "2021-05-23 19:38:55 (5.19 MB/s) - ‘all_transactions.json’ saved [4180863/4180863]\n",
      "\n"
     ]
    }
   ],
   "source": [
    "# !wget https://house-stock-watcher-data.s3-us-west-2.amazonaws.com/data/all_transactions.json\n",
    "# !mv all_transactions.json ../collected_data/dathouse_stock_watcher_data_all_transactions.json"
   ]
  },
  {
   "cell_type": "code",
   "execution_count": 3,
   "metadata": {},
   "outputs": [],
   "source": [
    "import json\n",
    "import pandas as pd"
   ]
  },
  {
   "cell_type": "code",
   "execution_count": 5,
   "metadata": {},
   "outputs": [],
   "source": [
    "all_transactions_file_name = '../collected_data/all_transactions.json'\n",
    "all_transactions_parquet_file_name = '../collected_data/house_stock_watcher_data_all_transactions.parquet'\n",
    "\n",
    "\n",
    "all_transactions_data = pd.DataFrame(json.loads(open(all_transactions_file_name, 'r').read()))\n",
    "all_transactions_data.to_parquet(all_transactions_parquet_file_name)"
   ]
  },
  {
   "cell_type": "code",
   "execution_count": 5,
   "metadata": {},
   "outputs": [],
   "source": [
    "# !rm $all_transactions_file_name"
   ]
  },
  {
   "cell_type": "code",
   "execution_count": 6,
   "metadata": {},
   "outputs": [],
   "source": [
    "all_transactions_data = pd.read_parquet(all_transactions_parquet_file_name)"
   ]
  },
  {
   "cell_type": "code",
   "execution_count": 21,
   "metadata": {},
   "outputs": [],
   "source": [
    "all_transactions_data['transaction_date_datetime'] = all_transactions_data['transaction_date'].apply(\n",
    "    lambda x: datetime.datetime.strptime(x, '%Y-%m-%d'))"
   ]
  },
  {
   "cell_type": "code",
   "execution_count": 22,
   "metadata": {},
   "outputs": [
    {
     "data": {
      "text/html": [
       "<div>\n",
       "<style scoped>\n",
       "    .dataframe tbody tr th:only-of-type {\n",
       "        vertical-align: middle;\n",
       "    }\n",
       "\n",
       "    .dataframe tbody tr th {\n",
       "        vertical-align: top;\n",
       "    }\n",
       "\n",
       "    .dataframe thead th {\n",
       "        text-align: right;\n",
       "    }\n",
       "</style>\n",
       "<table border=\"1\" class=\"dataframe\">\n",
       "  <thead>\n",
       "    <tr style=\"text-align: right;\">\n",
       "      <th></th>\n",
       "      <th>disclosure_year</th>\n",
       "      <th>disclosure_date</th>\n",
       "      <th>transaction_date</th>\n",
       "      <th>owner</th>\n",
       "      <th>ticker</th>\n",
       "      <th>asset_description</th>\n",
       "      <th>type</th>\n",
       "      <th>amount</th>\n",
       "      <th>representative</th>\n",
       "      <th>district</th>\n",
       "      <th>ptr_link</th>\n",
       "      <th>cap_gains_over_200_usd</th>\n",
       "      <th>transaction_date_datetime</th>\n",
       "    </tr>\n",
       "  </thead>\n",
       "  <tbody>\n",
       "    <tr>\n",
       "      <th>0</th>\n",
       "      <td>2020</td>\n",
       "      <td>04/28/2020</td>\n",
       "      <td>2020-02-24</td>\n",
       "      <td>joint</td>\n",
       "      <td>BHC</td>\n",
       "      <td>Bausch Health Companies Inc.</td>\n",
       "      <td>purchase</td>\n",
       "      <td>$1,001 - $15,000</td>\n",
       "      <td>Hon. Susie Lee</td>\n",
       "      <td>NV03</td>\n",
       "      <td>https://disclosures-clerk.house.gov/public_dis...</td>\n",
       "      <td>False</td>\n",
       "      <td>2020-02-24</td>\n",
       "    </tr>\n",
       "    <tr>\n",
       "      <th>1</th>\n",
       "      <td>2020</td>\n",
       "      <td>04/28/2020</td>\n",
       "      <td>2020-03-06</td>\n",
       "      <td>joint</td>\n",
       "      <td>BAH</td>\n",
       "      <td>Booz Allen Hamilton Holding Corporation</td>\n",
       "      <td>sale_full</td>\n",
       "      <td>$1,001 - $15,000</td>\n",
       "      <td>Hon. Susie Lee</td>\n",
       "      <td>NV03</td>\n",
       "      <td>https://disclosures-clerk.house.gov/public_dis...</td>\n",
       "      <td>True</td>\n",
       "      <td>2020-03-06</td>\n",
       "    </tr>\n",
       "    <tr>\n",
       "      <th>2</th>\n",
       "      <td>2020</td>\n",
       "      <td>04/28/2020</td>\n",
       "      <td>2020-03-23</td>\n",
       "      <td>joint</td>\n",
       "      <td>BYD</td>\n",
       "      <td>Boyd Gaming Corporation</td>\n",
       "      <td>sale_full</td>\n",
       "      <td>$1,001 - $15,000</td>\n",
       "      <td>Hon. Susie Lee</td>\n",
       "      <td>NV03</td>\n",
       "      <td>https://disclosures-clerk.house.gov/public_dis...</td>\n",
       "      <td>False</td>\n",
       "      <td>2020-03-23</td>\n",
       "    </tr>\n",
       "    <tr>\n",
       "      <th>3</th>\n",
       "      <td>2020</td>\n",
       "      <td>04/28/2020</td>\n",
       "      <td>2020-02-04</td>\n",
       "      <td>joint</td>\n",
       "      <td>CTLT</td>\n",
       "      <td>Catalent, Inc.</td>\n",
       "      <td>purchase</td>\n",
       "      <td>$1,001 - $15,000</td>\n",
       "      <td>Hon. Susie Lee</td>\n",
       "      <td>NV03</td>\n",
       "      <td>https://disclosures-clerk.house.gov/public_dis...</td>\n",
       "      <td>False</td>\n",
       "      <td>2020-02-04</td>\n",
       "    </tr>\n",
       "    <tr>\n",
       "      <th>4</th>\n",
       "      <td>2020</td>\n",
       "      <td>04/28/2020</td>\n",
       "      <td>2020-03-18</td>\n",
       "      <td>joint</td>\n",
       "      <td>CBRE</td>\n",
       "      <td>CBRE Group Inc Common Stock Class A</td>\n",
       "      <td>sale_partial</td>\n",
       "      <td>$1,001 - $15,000</td>\n",
       "      <td>Hon. Susie Lee</td>\n",
       "      <td>NV03</td>\n",
       "      <td>https://disclosures-clerk.house.gov/public_dis...</td>\n",
       "      <td>False</td>\n",
       "      <td>2020-03-18</td>\n",
       "    </tr>\n",
       "    <tr>\n",
       "      <th>...</th>\n",
       "      <td>...</td>\n",
       "      <td>...</td>\n",
       "      <td>...</td>\n",
       "      <td>...</td>\n",
       "      <td>...</td>\n",
       "      <td>...</td>\n",
       "      <td>...</td>\n",
       "      <td>...</td>\n",
       "      <td>...</td>\n",
       "      <td>...</td>\n",
       "      <td>...</td>\n",
       "      <td>...</td>\n",
       "      <td>...</td>\n",
       "    </tr>\n",
       "    <tr>\n",
       "      <th>9867</th>\n",
       "      <td>2020</td>\n",
       "      <td>06/10/2020</td>\n",
       "      <td>2020-04-09</td>\n",
       "      <td>--</td>\n",
       "      <td>SWK</td>\n",
       "      <td>Stanley Black &amp; Decker, Inc.</td>\n",
       "      <td>sale_partial</td>\n",
       "      <td>$1,001 - $15,000</td>\n",
       "      <td>Hon. Ed Perlmutter</td>\n",
       "      <td>CO07</td>\n",
       "      <td>https://disclosures-clerk.house.gov/public_dis...</td>\n",
       "      <td>False</td>\n",
       "      <td>2020-04-09</td>\n",
       "    </tr>\n",
       "    <tr>\n",
       "      <th>9868</th>\n",
       "      <td>2020</td>\n",
       "      <td>06/10/2020</td>\n",
       "      <td>2020-04-09</td>\n",
       "      <td>--</td>\n",
       "      <td>USB</td>\n",
       "      <td>U.S. Bancorp</td>\n",
       "      <td>sale_partial</td>\n",
       "      <td>$1,001 - $15,000</td>\n",
       "      <td>Hon. Ed Perlmutter</td>\n",
       "      <td>CO07</td>\n",
       "      <td>https://disclosures-clerk.house.gov/public_dis...</td>\n",
       "      <td>False</td>\n",
       "      <td>2020-04-09</td>\n",
       "    </tr>\n",
       "    <tr>\n",
       "      <th>9869</th>\n",
       "      <td>2020</td>\n",
       "      <td>06/10/2020</td>\n",
       "      <td>2020-03-13</td>\n",
       "      <td>None</td>\n",
       "      <td>BMY</td>\n",
       "      <td>Bristol-Myers Squibb Company</td>\n",
       "      <td>sale_full</td>\n",
       "      <td>$100,001 - $250,000</td>\n",
       "      <td>Hon. Nicholas Van Taylor</td>\n",
       "      <td>TX03</td>\n",
       "      <td>https://disclosures-clerk.house.gov/public_dis...</td>\n",
       "      <td>False</td>\n",
       "      <td>2020-03-13</td>\n",
       "    </tr>\n",
       "    <tr>\n",
       "      <th>9870</th>\n",
       "      <td>2020</td>\n",
       "      <td>06/10/2020</td>\n",
       "      <td>2020-03-13</td>\n",
       "      <td>None</td>\n",
       "      <td>LLY</td>\n",
       "      <td>Eli Lilly and Company</td>\n",
       "      <td>sale_full</td>\n",
       "      <td>$500,001 - $1,000,000</td>\n",
       "      <td>Hon. Nicholas Van Taylor</td>\n",
       "      <td>TX03</td>\n",
       "      <td>https://disclosures-clerk.house.gov/public_dis...</td>\n",
       "      <td>False</td>\n",
       "      <td>2020-03-13</td>\n",
       "    </tr>\n",
       "    <tr>\n",
       "      <th>9871</th>\n",
       "      <td>2020</td>\n",
       "      <td>06/10/2020</td>\n",
       "      <td>2020-03-13</td>\n",
       "      <td>None</td>\n",
       "      <td>DIS</td>\n",
       "      <td>Walt Disney Company</td>\n",
       "      <td>sale_full</td>\n",
       "      <td>$250,001 - $500,000</td>\n",
       "      <td>Hon. Nicholas Van Taylor</td>\n",
       "      <td>TX03</td>\n",
       "      <td>https://disclosures-clerk.house.gov/public_dis...</td>\n",
       "      <td>False</td>\n",
       "      <td>2020-03-13</td>\n",
       "    </tr>\n",
       "  </tbody>\n",
       "</table>\n",
       "<p>9872 rows × 13 columns</p>\n",
       "</div>"
      ],
      "text/plain": [
       "      disclosure_year disclosure_date transaction_date  owner ticker  \\\n",
       "0                2020      04/28/2020       2020-02-24  joint    BHC   \n",
       "1                2020      04/28/2020       2020-03-06  joint    BAH   \n",
       "2                2020      04/28/2020       2020-03-23  joint    BYD   \n",
       "3                2020      04/28/2020       2020-02-04  joint   CTLT   \n",
       "4                2020      04/28/2020       2020-03-18  joint   CBRE   \n",
       "...               ...             ...              ...    ...    ...   \n",
       "9867             2020      06/10/2020       2020-04-09     --    SWK   \n",
       "9868             2020      06/10/2020       2020-04-09     --    USB   \n",
       "9869             2020      06/10/2020       2020-03-13   None    BMY   \n",
       "9870             2020      06/10/2020       2020-03-13   None    LLY   \n",
       "9871             2020      06/10/2020       2020-03-13   None    DIS   \n",
       "\n",
       "                            asset_description          type  \\\n",
       "0                Bausch Health Companies Inc.      purchase   \n",
       "1     Booz Allen Hamilton Holding Corporation     sale_full   \n",
       "2                     Boyd Gaming Corporation     sale_full   \n",
       "3                              Catalent, Inc.      purchase   \n",
       "4         CBRE Group Inc Common Stock Class A  sale_partial   \n",
       "...                                       ...           ...   \n",
       "9867             Stanley Black & Decker, Inc.  sale_partial   \n",
       "9868                             U.S. Bancorp  sale_partial   \n",
       "9869             Bristol-Myers Squibb Company     sale_full   \n",
       "9870                    Eli Lilly and Company     sale_full   \n",
       "9871                      Walt Disney Company     sale_full   \n",
       "\n",
       "                     amount            representative district  \\\n",
       "0          $1,001 - $15,000            Hon. Susie Lee     NV03   \n",
       "1          $1,001 - $15,000            Hon. Susie Lee     NV03   \n",
       "2          $1,001 - $15,000            Hon. Susie Lee     NV03   \n",
       "3          $1,001 - $15,000            Hon. Susie Lee     NV03   \n",
       "4          $1,001 - $15,000            Hon. Susie Lee     NV03   \n",
       "...                     ...                       ...      ...   \n",
       "9867       $1,001 - $15,000        Hon. Ed Perlmutter     CO07   \n",
       "9868       $1,001 - $15,000        Hon. Ed Perlmutter     CO07   \n",
       "9869    $100,001 - $250,000  Hon. Nicholas Van Taylor     TX03   \n",
       "9870  $500,001 - $1,000,000  Hon. Nicholas Van Taylor     TX03   \n",
       "9871    $250,001 - $500,000  Hon. Nicholas Van Taylor     TX03   \n",
       "\n",
       "                                               ptr_link  \\\n",
       "0     https://disclosures-clerk.house.gov/public_dis...   \n",
       "1     https://disclosures-clerk.house.gov/public_dis...   \n",
       "2     https://disclosures-clerk.house.gov/public_dis...   \n",
       "3     https://disclosures-clerk.house.gov/public_dis...   \n",
       "4     https://disclosures-clerk.house.gov/public_dis...   \n",
       "...                                                 ...   \n",
       "9867  https://disclosures-clerk.house.gov/public_dis...   \n",
       "9868  https://disclosures-clerk.house.gov/public_dis...   \n",
       "9869  https://disclosures-clerk.house.gov/public_dis...   \n",
       "9870  https://disclosures-clerk.house.gov/public_dis...   \n",
       "9871  https://disclosures-clerk.house.gov/public_dis...   \n",
       "\n",
       "      cap_gains_over_200_usd transaction_date_datetime  \n",
       "0                      False                2020-02-24  \n",
       "1                       True                2020-03-06  \n",
       "2                      False                2020-03-23  \n",
       "3                      False                2020-02-04  \n",
       "4                      False                2020-03-18  \n",
       "...                      ...                       ...  \n",
       "9867                   False                2020-04-09  \n",
       "9868                   False                2020-04-09  \n",
       "9869                   False                2020-03-13  \n",
       "9870                   False                2020-03-13  \n",
       "9871                   False                2020-03-13  \n",
       "\n",
       "[9872 rows x 13 columns]"
      ]
     },
     "execution_count": 22,
     "metadata": {},
     "output_type": "execute_result"
    }
   ],
   "source": [
    "all_transactions_data"
   ]
  },
  {
   "cell_type": "code",
   "execution_count": 17,
   "metadata": {},
   "outputs": [
    {
     "data": {
      "text/plain": [
       "'2020-02-24'"
      ]
     },
     "execution_count": 17,
     "metadata": {},
     "output_type": "execute_result"
    }
   ],
   "source": [
    "all_transactions_data['transaction_date'].values[0]"
   ]
  },
  {
   "cell_type": "code",
   "execution_count": 8,
   "metadata": {},
   "outputs": [
    {
     "data": {
      "text/plain": [
       "[2020, 2021]"
      ]
     },
     "execution_count": 8,
     "metadata": {},
     "output_type": "execute_result"
    }
   ],
   "source": [
    "sorted(set(all_transactions_data['disclosure_year']))"
   ]
  },
  {
   "cell_type": "code",
   "execution_count": 9,
   "metadata": {},
   "outputs": [
    {
     "data": {
      "text/plain": [
       "Counter({False: 8909, True: 963})"
      ]
     },
     "execution_count": 9,
     "metadata": {},
     "output_type": "execute_result"
    }
   ],
   "source": [
    "from collections import Counter\n",
    "\n",
    "Counter(all_transactions_data['cap_gains_over_200_usd'])"
   ]
  },
  {
   "cell_type": "code",
   "execution_count": 23,
   "metadata": {},
   "outputs": [
    {
     "data": {
      "text/plain": [
       "9872"
      ]
     },
     "execution_count": 23,
     "metadata": {},
     "output_type": "execute_result"
    }
   ],
   "source": [
    "len(all_transactions_data)"
   ]
  },
  {
   "cell_type": "code",
   "execution_count": null,
   "metadata": {},
   "outputs": [],
   "source": []
  }
 ],
 "metadata": {
  "kernelspec": {
   "display_name": "Python 3",
   "language": "python",
   "name": "python3"
  },
  "language_info": {
   "codemirror_mode": {
    "name": "ipython",
    "version": 3
   },
   "file_extension": ".py",
   "mimetype": "text/x-python",
   "name": "python",
   "nbconvert_exporter": "python",
   "pygments_lexer": "ipython3",
   "version": "3.8.3"
  }
 },
 "nbformat": 4,
 "nbformat_minor": 5
}
