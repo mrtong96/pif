{
 "cells": [
  {
   "cell_type": "code",
   "execution_count": 2,
   "metadata": {},
   "outputs": [
    {
     "name": "stdout",
     "output_type": "stream",
     "text": [
      "Requirement already up-to-date: yfinance in c:\\users\\katri\\anaconda3\\lib\\site-packages (0.1.59)\n",
      "Requirement already satisfied, skipping upgrade: multitasking>=0.0.7 in c:\\users\\katri\\anaconda3\\lib\\site-packages (from yfinance) (0.0.9)\n",
      "Requirement already satisfied, skipping upgrade: requests>=2.20 in c:\\users\\katri\\anaconda3\\lib\\site-packages (from yfinance) (2.24.0)\n",
      "Requirement already satisfied, skipping upgrade: numpy>=1.15 in c:\\users\\katri\\anaconda3\\lib\\site-packages (from yfinance) (1.18.5)\n",
      "Requirement already satisfied, skipping upgrade: lxml>=4.5.1 in c:\\users\\katri\\anaconda3\\lib\\site-packages (from yfinance) (4.5.2)\n",
      "Requirement already satisfied, skipping upgrade: pandas>=0.24 in c:\\users\\katri\\anaconda3\\lib\\site-packages (from yfinance) (1.0.5)\n",
      "Requirement already satisfied, skipping upgrade: urllib3!=1.25.0,!=1.25.1,<1.26,>=1.21.1 in c:\\users\\katri\\anaconda3\\lib\\site-packages (from requests>=2.20->yfinance) (1.25.9)\n",
      "Requirement already satisfied, skipping upgrade: chardet<4,>=3.0.2 in c:\\users\\katri\\anaconda3\\lib\\site-packages (from requests>=2.20->yfinance) (3.0.4)\n",
      "Requirement already satisfied, skipping upgrade: certifi>=2017.4.17 in c:\\users\\katri\\anaconda3\\lib\\site-packages (from requests>=2.20->yfinance) (2020.6.20)\n",
      "Requirement already satisfied, skipping upgrade: idna<3,>=2.5 in c:\\users\\katri\\anaconda3\\lib\\site-packages (from requests>=2.20->yfinance) (2.10)\n",
      "Requirement already satisfied, skipping upgrade: pytz>=2017.2 in c:\\users\\katri\\anaconda3\\lib\\site-packages (from pandas>=0.24->yfinance) (2020.1)\n",
      "Requirement already satisfied, skipping upgrade: python-dateutil>=2.6.1 in c:\\users\\katri\\anaconda3\\lib\\site-packages (from pandas>=0.24->yfinance) (2.8.1)\n",
      "Requirement already satisfied, skipping upgrade: six>=1.5 in c:\\users\\katri\\anaconda3\\lib\\site-packages (from python-dateutil>=2.6.1->pandas>=0.24->yfinance) (1.15.0)\n",
      "Requirement already satisfied: yahoo_fin in c:\\users\\katri\\anaconda3\\lib\\site-packages (0.8.8)\n",
      "Requirement already satisfied: pandas in c:\\users\\katri\\anaconda3\\lib\\site-packages (from yahoo_fin) (1.0.5)\n",
      "Requirement already satisfied: requests in c:\\users\\katri\\anaconda3\\lib\\site-packages (from yahoo_fin) (2.24.0)\n",
      "Requirement already satisfied: requests-html in c:\\users\\katri\\anaconda3\\lib\\site-packages (from yahoo_fin) (0.10.0)\n",
      "Requirement already satisfied: feedparser in c:\\users\\katri\\anaconda3\\lib\\site-packages (from yahoo_fin) (6.0.2)\n",
      "Requirement already satisfied: python-dateutil>=2.6.1 in c:\\users\\katri\\anaconda3\\lib\\site-packages (from pandas->yahoo_fin) (2.8.1)\n",
      "Requirement already satisfied: pytz>=2017.2 in c:\\users\\katri\\anaconda3\\lib\\site-packages (from pandas->yahoo_fin) (2020.1)\n",
      "Requirement already satisfied: numpy>=1.13.3 in c:\\users\\katri\\anaconda3\\lib\\site-packages (from pandas->yahoo_fin) (1.18.5)\n",
      "Requirement already satisfied: chardet<4,>=3.0.2 in c:\\users\\katri\\anaconda3\\lib\\site-packages (from requests->yahoo_fin) (3.0.4)\n",
      "Requirement already satisfied: certifi>=2017.4.17 in c:\\users\\katri\\anaconda3\\lib\\site-packages (from requests->yahoo_fin) (2020.6.20)\n",
      "Requirement already satisfied: urllib3!=1.25.0,!=1.25.1,<1.26,>=1.21.1 in c:\\users\\katri\\anaconda3\\lib\\site-packages (from requests->yahoo_fin) (1.25.9)\n",
      "Requirement already satisfied: idna<3,>=2.5 in c:\\users\\katri\\anaconda3\\lib\\site-packages (from requests->yahoo_fin) (2.10)\n",
      "Requirement already satisfied: parse in c:\\users\\katri\\anaconda3\\lib\\site-packages (from requests-html->yahoo_fin) (1.19.0)\n",
      "Requirement already satisfied: bs4 in c:\\users\\katri\\anaconda3\\lib\\site-packages (from requests-html->yahoo_fin) (0.0.1)\n",
      "Requirement already satisfied: pyppeteer>=0.0.14 in c:\\users\\katri\\anaconda3\\lib\\site-packages (from requests-html->yahoo_fin) (0.2.5)\n",
      "Requirement already satisfied: fake-useragent in c:\\users\\katri\\anaconda3\\lib\\site-packages (from requests-html->yahoo_fin) (0.1.11)\n",
      "Requirement already satisfied: w3lib in c:\\users\\katri\\anaconda3\\lib\\site-packages (from requests-html->yahoo_fin) (1.22.0)\n",
      "Requirement already satisfied: pyquery in c:\\users\\katri\\anaconda3\\lib\\site-packages (from requests-html->yahoo_fin) (1.4.3)\n",
      "Requirement already satisfied: sgmllib3k in c:\\users\\katri\\anaconda3\\lib\\site-packages (from feedparser->yahoo_fin) (1.0.0)\n",
      "Requirement already satisfied: six>=1.5 in c:\\users\\katri\\anaconda3\\lib\\site-packages (from python-dateutil>=2.6.1->pandas->yahoo_fin) (1.15.0)\n",
      "Requirement already satisfied: beautifulsoup4 in c:\\users\\katri\\anaconda3\\lib\\site-packages (from bs4->requests-html->yahoo_fin) (4.9.1)\n",
      "Requirement already satisfied: tqdm<5.0.0,>=4.42.1 in c:\\users\\katri\\anaconda3\\lib\\site-packages (from pyppeteer>=0.0.14->requests-html->yahoo_fin) (4.47.0)\n",
      "Requirement already satisfied: pyee<9.0.0,>=8.1.0 in c:\\users\\katri\\anaconda3\\lib\\site-packages (from pyppeteer>=0.0.14->requests-html->yahoo_fin) (8.1.0)\n",
      "Requirement already satisfied: websockets<9.0,>=8.1 in c:\\users\\katri\\anaconda3\\lib\\site-packages (from pyppeteer>=0.0.14->requests-html->yahoo_fin) (8.1)\n",
      "Requirement already satisfied: appdirs<2.0.0,>=1.4.3 in c:\\users\\katri\\anaconda3\\lib\\site-packages (from pyppeteer>=0.0.14->requests-html->yahoo_fin) (1.4.4)\n",
      "Requirement already satisfied: lxml>=2.1 in c:\\users\\katri\\anaconda3\\lib\\site-packages (from pyquery->requests-html->yahoo_fin) (4.5.2)\n",
      "Requirement already satisfied: cssselect>0.7.9 in c:\\users\\katri\\anaconda3\\lib\\site-packages (from pyquery->requests-html->yahoo_fin) (1.1.0)\n",
      "Requirement already satisfied: soupsieve>1.2 in c:\\users\\katri\\anaconda3\\lib\\site-packages (from beautifulsoup4->bs4->requests-html->yahoo_fin) (2.0.1)\n",
      "Requirement already satisfied: multiprocess in c:\\users\\katri\\anaconda3\\lib\\site-packages (0.70.11.1)\n",
      "Requirement already satisfied: dill>=0.3.3 in c:\\users\\katri\\anaconda3\\lib\\site-packages (from multiprocess) (0.3.3)\n"
     ]
    }
   ],
   "source": [
    "! pip3 install yfinance --upgrade --no-cache-dir\n",
    "! pip3 install yahoo_fin\n",
    "! pip3 install multiprocess"
   ]
  },
  {
   "cell_type": "code",
   "execution_count": 3,
   "metadata": {},
   "outputs": [],
   "source": [
    "import json\n",
    "import pandas as pd\n",
    "import numpy as np\n",
    "from yahoo_fin import stock_info\n",
    "import yahoo_fin\n",
    "from multiprocessing import Pool\n",
    "import multiprocess as mp\n",
    "import datetime\n",
    "from collections import Counter\n"
   ]
  },
  {
   "cell_type": "code",
   "execution_count": 4,
   "metadata": {},
   "outputs": [],
   "source": [
    "# we have transactions data\n",
    "all_transactions_parquet_file_name = '../collected_data/house_stock_watcher_data_all_transactions.parquet'\n",
    "all_transactions = pd.read_parquet(all_transactions_parquet_file_name)"
   ]
  },
  {
   "cell_type": "code",
   "execution_count": 5,
   "metadata": {},
   "outputs": [],
   "source": [
    "end_date = datetime.datetime.now().date()\n",
    "start_date = end_date - datetime.timedelta(days=365 * 2)\n",
    "\n",
    "# def get_historical_data(ticker, start_date=start_date, end_date=end_date):\n",
    "# #     try:\n",
    "#         return stock_info.get_data(\n",
    "#             ticker, start_date=start_date, end_date=end_date, index_as_date = False, interval=\"1d\")\n",
    "# #     except:\n",
    "# #         # really don't do this, it's hacky but whatever\n",
    "# #         return ('ERROR', ticker)\n",
    "\n",
    "# # now we have some way of getting stock info from multiple tickers\n",
    "\n",
    "from get_historical_data import get_historical_data\n",
    "\n",
    "def get_historical_data_batch(tickers, start_date, end_date):\n",
    "    historical_data = []\n",
    "    with Pool(32) as p:\n",
    "        historical_data = p.map(get_historical_data, tickers)\n",
    "    return historical_data\n"
   ]
  },
  {
   "cell_type": "code",
   "execution_count": 6,
   "metadata": {},
   "outputs": [
    {
     "name": "stdout",
     "output_type": "stream",
     "text": [
      "Wall time: 3.61 s\n"
     ]
    },
    {
     "data": {
      "text/plain": [
       "[          date         open         high          low        close  \\\n",
       " 0   2019-05-28  1832.750000  1849.270020  1827.349976  1836.430054   \n",
       " 1   2019-05-29  1823.119995  1830.000000  1807.530029  1819.189941   \n",
       " 2   2019-05-30  1825.489990  1829.469971  1807.829956  1816.319946   \n",
       " 3   2019-05-31  1790.010010  1795.589966  1772.699951  1775.069946   \n",
       " 4   2019-06-03  1760.010010  1766.290039  1672.000000  1692.689941   \n",
       " ..         ...          ...          ...          ...          ...   \n",
       " 500 2021-05-20  3244.399902  3259.679932  3236.179932  3247.679932   \n",
       " 501 2021-05-21  3250.000000  3256.689941  3197.010010  3203.080078   \n",
       " 502 2021-05-24  3215.500000  3257.949951  3210.500000  3244.989990   \n",
       " 503 2021-05-25  3266.669922  3279.820068  3213.760010  3259.050049   \n",
       " 504 2021-05-26  3274.590088  3295.729980  3258.510010  3265.159912   \n",
       " \n",
       "         adjclose   volume ticker  \n",
       " 0    1836.430054  3200000   AMZN  \n",
       " 1    1819.189941  4279000   AMZN  \n",
       " 2    1816.319946  3146900   AMZN  \n",
       " 3    1775.069946  4618800   AMZN  \n",
       " 4    1692.689941  9098700   AMZN  \n",
       " ..           ...      ...    ...  \n",
       " 500  3247.679932  2633200   AMZN  \n",
       " 501  3203.080078  4097800   AMZN  \n",
       " 502  3244.989990  2422800   AMZN  \n",
       " 503  3259.050049  3261100   AMZN  \n",
       " 504  3265.159912  2379100   AMZN  \n",
       " \n",
       " [505 rows x 8 columns]]"
      ]
     },
     "execution_count": 6,
     "metadata": {},
     "output_type": "execute_result"
    }
   ],
   "source": [
    "%%time\n",
    "# stock_info.get_data('amzn')\n",
    "get_historical_data_batch(['amzn'],start_date, end_date)"
   ]
  },
  {
   "cell_type": "code",
   "execution_count": 7,
   "metadata": {},
   "outputs": [
    {
     "name": "stdout",
     "output_type": "stream",
     "text": [
      "Wall time: 1min 20s\n"
     ]
    }
   ],
   "source": [
    "%%time\n",
    "\n",
    "# a couple of hard-coded company->ticker values\n",
    "company_to_ticker = {\n",
    "    'Broadcom Inc.': 'AVGO',\n",
    "    'AD': 'ADM',\n",
    "    'ADDDYY': 'ADDYY'\n",
    "}\n",
    "all_transactions['cleaned_ticker'] = all_transactions['ticker'].apply(lambda ticker: company_to_ticker.get(ticker, ticker))\n",
    "# replace '.' w/ '-' to make things compatible\n",
    "all_transactions['cleaned_ticker'] = all_transactions['cleaned_ticker']\n",
    "\n",
    "# get the set of tickers\n",
    "tickers = sorted(set(all_transactions['cleaned_ticker']))\n",
    "# '--' is the null ticker, remove it\n",
    "if '--' in tickers:\n",
    "    tickers.remove('--')\n",
    "\n",
    "historical_data = get_historical_data_batch(tickers, start_date, end_date)\n"
   ]
  },
  {
   "cell_type": "code",
   "execution_count": 8,
   "metadata": {},
   "outputs": [
    {
     "data": {
      "text/plain": [
       "Counter({False: 1656, True: 106})"
      ]
     },
     "execution_count": 8,
     "metadata": {},
     "output_type": "execute_result"
    }
   ],
   "source": [
    "Counter([isinstance(el, tuple) and 'ERROR' == el[0] for el in historical_data])"
   ]
  },
  {
   "cell_type": "code",
   "execution_count": 9,
   "metadata": {},
   "outputs": [],
   "source": [
    "lemon_tickers = [el[1] for el in historical_data if isinstance(el, tuple)]"
   ]
  },
  {
   "cell_type": "code",
   "execution_count": 10,
   "metadata": {
    "scrolled": true
   },
   "outputs": [
    {
     "data": {
      "text/plain": [
       "['AGN',\n",
       " 'AMTD',\n",
       " 'AOBC',\n",
       " 'APC',\n",
       " 'APCD',\n",
       " 'APPL',\n",
       " 'AZSEY',\n",
       " 'BAC$K',\n",
       " 'BAMXY',\n",
       " 'BBCBX',\n",
       " 'BGG',\n",
       " 'BOA',\n",
       " 'BPHSPX',\n",
       " 'BRK.A',\n",
       " 'BRK.B',\n",
       " 'BXS$A',\n",
       " 'CBS',\n",
       " 'CCC',\n",
       " 'CCXX',\n",
       " 'CELG',\n",
       " 'CELO',\n",
       " 'CHL',\n",
       " 'CHV',\n",
       " 'CTL',\n",
       " 'CTRCF',\n",
       " 'CWEN.A',\n",
       " 'DCMYY',\n",
       " 'DEACU',\n",
       " 'DESY',\n",
       " 'DNKN',\n",
       " 'DWDP',\n",
       " 'EBJ',\n",
       " 'EQUIX',\n",
       " 'ETFC',\n",
       " 'ETP',\n",
       " 'EVGB',\n",
       " 'FFHRX',\n",
       " 'FII',\n",
       " 'FMCMF',\n",
       " 'FNRVGX',\n",
       " 'FXM',\n",
       " 'GEAGY',\n",
       " 'GLIBA',\n",
       " 'HCN',\n",
       " 'HDS',\n",
       " 'HS',\n",
       " 'HTZ',\n",
       " 'HZD',\n",
       " 'IDXXX',\n",
       " 'INTL',\n",
       " 'JPM$G',\n",
       " 'LAM',\n",
       " 'LBDAV',\n",
       " 'LCRX',\n",
       " 'LEN.B',\n",
       " 'LLL',\n",
       " 'LPT',\n",
       " 'LTD',\n",
       " 'MINI',\n",
       " 'MNTA',\n",
       " 'MRCK',\n",
       " 'MSBHY',\n",
       " 'MYL',\n",
       " 'MZOR',\n",
       " 'NBL',\n",
       " 'NGLS',\n",
       " 'NLG',\n",
       " 'ORLT',\n",
       " 'PEGI',\n",
       " 'POL',\n",
       " 'QCHR',\n",
       " 'RBS',\n",
       " 'RDS.A',\n",
       " 'RDS.B',\n",
       " 'RF$A',\n",
       " 'RTN',\n",
       " 'SERV',\n",
       " 'SKVKY',\n",
       " 'SNOXX',\n",
       " 'SPDR',\n",
       " 'SPN',\n",
       " 'SPYS',\n",
       " 'SVCBY',\n",
       " 'SZEVY',\n",
       " 'TDDC',\n",
       " 'TDDXX',\n",
       " 'TF',\n",
       " 'TFDXX',\n",
       " 'TIF',\n",
       " 'TMK',\n",
       " 'TMUSR',\n",
       " 'URGO',\n",
       " 'UTX',\n",
       " 'VIAB',\n",
       " 'VMN',\n",
       " 'VRTU',\n",
       " 'VSLR',\n",
       " 'WAIR',\n",
       " 'WCG',\n",
       " 'WFC$V',\n",
       " 'WLTL',\n",
       " 'WMGI',\n",
       " 'WPX',\n",
       " 'WYND',\n",
       " 'XMO',\n",
       " 'ZOOM']"
      ]
     },
     "execution_count": 10,
     "metadata": {},
     "output_type": "execute_result"
    }
   ],
   "source": [
    "# AGN: company purchased by Abbvie (ABBV) in May 2020\n",
    "# AMTD: company purchased by Charles Schwab (SCHW)\n",
    "lemon_tickers"
   ]
  },
  {
   "cell_type": "code",
   "execution_count": 36,
   "metadata": {},
   "outputs": [
    {
     "name": "stdout",
     "output_type": "stream",
     "text": [
      "BBCBX\n"
     ]
    },
    {
     "data": {
      "text/html": [
       "<div>\n",
       "<style scoped>\n",
       "    .dataframe tbody tr th:only-of-type {\n",
       "        vertical-align: middle;\n",
       "    }\n",
       "\n",
       "    .dataframe tbody tr th {\n",
       "        vertical-align: top;\n",
       "    }\n",
       "\n",
       "    .dataframe thead th {\n",
       "        text-align: right;\n",
       "    }\n",
       "</style>\n",
       "<table border=\"1\" class=\"dataframe\">\n",
       "  <thead>\n",
       "    <tr style=\"text-align: right;\">\n",
       "      <th></th>\n",
       "      <th>disclosure_year</th>\n",
       "      <th>disclosure_date</th>\n",
       "      <th>transaction_date</th>\n",
       "      <th>owner</th>\n",
       "      <th>ticker</th>\n",
       "      <th>asset_description</th>\n",
       "      <th>type</th>\n",
       "      <th>amount</th>\n",
       "      <th>representative</th>\n",
       "      <th>district</th>\n",
       "      <th>ptr_link</th>\n",
       "      <th>cap_gains_over_200_usd</th>\n",
       "      <th>cleaned_ticker</th>\n",
       "    </tr>\n",
       "  </thead>\n",
       "  <tbody>\n",
       "    <tr>\n",
       "      <th>7974</th>\n",
       "      <td>2021</td>\n",
       "      <td>04/01/2021</td>\n",
       "      <td>2021-03-25</td>\n",
       "      <td>None</td>\n",
       "      <td>BBCBX</td>\n",
       "      <td>Bridge Builder Core Plus Bond @ 10.29</td>\n",
       "      <td>purchase</td>\n",
       "      <td>$1,001 - $15,000</td>\n",
       "      <td>Hon. Harold Dallas Rogers</td>\n",
       "      <td>KY05</td>\n",
       "      <td>https://disclosures-clerk.house.gov/public_dis...</td>\n",
       "      <td>False</td>\n",
       "      <td>BBCBX</td>\n",
       "    </tr>\n",
       "  </tbody>\n",
       "</table>\n",
       "</div>"
      ],
      "text/plain": [
       "      disclosure_year disclosure_date transaction_date owner ticker  \\\n",
       "7974             2021      04/01/2021       2021-03-25  None  BBCBX   \n",
       "\n",
       "                          asset_description      type            amount  \\\n",
       "7974  Bridge Builder Core Plus Bond @ 10.29  purchase  $1,001 - $15,000   \n",
       "\n",
       "                 representative district  \\\n",
       "7974  Hon. Harold Dallas Rogers     KY05   \n",
       "\n",
       "                                               ptr_link  \\\n",
       "7974  https://disclosures-clerk.house.gov/public_dis...   \n",
       "\n",
       "      cap_gains_over_200_usd cleaned_ticker  \n",
       "7974                   False          BBCBX  "
      ]
     },
     "execution_count": 36,
     "metadata": {},
     "output_type": "execute_result"
    }
   ],
   "source": [
    "lemon_tickers[0]\n",
    "\n",
    "index = 9\n",
    "print(lemon_tickers[index])\n",
    "\n",
    "\n",
    "all_transactions[all_transactions['cleaned_ticker'] == lemon_tickers[index]]"
   ]
  },
  {
   "cell_type": "code",
   "execution_count": 37,
   "metadata": {},
   "outputs": [
    {
     "ename": "AssertionError",
     "evalue": "{'chart': {'result': None, 'error': {'code': 'Not Found', 'description': 'No data found, symbol may be delisted'}}}",
     "output_type": "error",
     "traceback": [
      "\u001b[1;31m---------------------------------------------------------------------------\u001b[0m",
      "\u001b[1;31mAssertionError\u001b[0m                            Traceback (most recent call last)",
      "\u001b[1;32m<ipython-input-37-bd04fac02605>\u001b[0m in \u001b[0;36m<module>\u001b[1;34m\u001b[0m\n\u001b[1;32m----> 1\u001b[1;33m \u001b[0mstock_info\u001b[0m\u001b[1;33m.\u001b[0m\u001b[0mget_data\u001b[0m\u001b[1;33m(\u001b[0m\u001b[1;34m'bbcbx'\u001b[0m\u001b[1;33m)\u001b[0m\u001b[1;33m\u001b[0m\u001b[1;33m\u001b[0m\u001b[0m\n\u001b[0m",
      "\u001b[1;32m~\\anaconda3\\lib\\site-packages\\yahoo_fin\\stock_info.py\u001b[0m in \u001b[0;36mget_data\u001b[1;34m(ticker, start_date, end_date, index_as_date, interval)\u001b[0m\n\u001b[0;32m     88\u001b[0m \u001b[1;33m\u001b[0m\u001b[0m\n\u001b[0;32m     89\u001b[0m     \u001b[1;32mif\u001b[0m \u001b[1;32mnot\u001b[0m \u001b[0mresp\u001b[0m\u001b[1;33m.\u001b[0m\u001b[0mok\u001b[0m\u001b[1;33m:\u001b[0m\u001b[1;33m\u001b[0m\u001b[1;33m\u001b[0m\u001b[0m\n\u001b[1;32m---> 90\u001b[1;33m         \u001b[1;32mraise\u001b[0m \u001b[0mAssertionError\u001b[0m\u001b[1;33m(\u001b[0m\u001b[0mresp\u001b[0m\u001b[1;33m.\u001b[0m\u001b[0mjson\u001b[0m\u001b[1;33m(\u001b[0m\u001b[1;33m)\u001b[0m\u001b[1;33m)\u001b[0m\u001b[1;33m\u001b[0m\u001b[1;33m\u001b[0m\u001b[0m\n\u001b[0m\u001b[0;32m     91\u001b[0m \u001b[1;33m\u001b[0m\u001b[0m\n\u001b[0;32m     92\u001b[0m \u001b[1;33m\u001b[0m\u001b[0m\n",
      "\u001b[1;31mAssertionError\u001b[0m: {'chart': {'result': None, 'error': {'code': 'Not Found', 'description': 'No data found, symbol may be delisted'}}}"
     ]
    }
   ],
   "source": [
    "stock_info.get_data('bbcbx')"
   ]
  },
  {
   "cell_type": "code",
   "execution_count": null,
   "metadata": {},
   "outputs": [],
   "source": []
  }
 ],
 "metadata": {
  "kernelspec": {
   "display_name": "Python 3",
   "language": "python",
   "name": "python3"
  },
  "language_info": {
   "codemirror_mode": {
    "name": "ipython",
    "version": 3
   },
   "file_extension": ".py",
   "mimetype": "text/x-python",
   "name": "python",
   "nbconvert_exporter": "python",
   "pygments_lexer": "ipython3",
   "version": "3.8.3"
  }
 },
 "nbformat": 4,
 "nbformat_minor": 5
}
