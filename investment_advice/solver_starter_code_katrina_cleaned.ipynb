{
 "cells": [
  {
   "cell_type": "code",
   "execution_count": 1,
   "metadata": {},
   "outputs": [],
   "source": [
    "import numpy as np\n",
    "import math\n",
    "from numpy.linalg import multi_dot\n",
    "import scipy.stats as st\n",
    "import json"
   ]
  },
  {
   "cell_type": "code",
   "execution_count": 2,
   "metadata": {},
   "outputs": [],
   "source": [
    "# # first, define our problem size\n",
    "# n = 10\n",
    "# alpha = np.random.random((n, 1))\n",
    "# k = np.random.random((n, n))\n",
    "# sigma = np.array([[k[i][i]] for i in range(n)])\n",
    "\n",
    "# # TODO: figure out how to stitch together the r_opt values with the actual stock names\n",
    "# stock_names = [f'stock_{i}' for i in range(n)]\n",
    "\n",
    "# # TODO? figure out how to generate the confidence intervals of how much money you expect to make from this\n",
    "\n",
    "# # TODO, pick one stock to be the baseline (stock_0). Figure out some way of comparing\n",
    "# # stock_0's expected performance compared to our optimal solver\n",
    "\n",
    "# # Katrina's draft:\n",
    "\n",
    "# max_num_stocks = 5\n",
    "\n",
    "# # DRAFT END\n",
    "\n",
    "# # goal, generate some vector r such that:\n",
    "# # sum(r) = 1.0\n",
    "# # r represents our optimal investment portfolio"
   ]
  },
  {
   "cell_type": "code",
   "execution_count": 3,
   "metadata": {},
   "outputs": [],
   "source": [
    "\n",
    "max_num_stocks = 10\n",
    "investment_window_days = 30"
   ]
  },
  {
   "cell_type": "code",
   "execution_count": 4,
   "metadata": {},
   "outputs": [],
   "source": [
    "# load the data\n",
    "json_data = json.loads(open('tmp.txt', 'r').read())\n",
    "covariance_matrix = np.array(json_data['covariance_matrix'])\n",
    "mean_vector = np.array(json_data['mean_vector'])\n",
    "ticker_to_index = json_data['ticker_to_index']\n",
    "\n",
    "index_to_ticker = {v: k for k, v in ticker_to_index.items()}"
   ]
  },
  {
   "cell_type": "code",
   "execution_count": 5,
   "metadata": {},
   "outputs": [],
   "source": [
    "# alpha is the mean\n",
    "# sigma is the variance along the diagonal\n",
    "# k is the covariance matrix\n",
    "\n",
    "alpha = mean_vector * investment_window_days\n",
    "sigma = np.diag(covariance_matrix) * investment_window_days\n",
    "k = covariance_matrix * investment_window_days"
   ]
  },
  {
   "cell_type": "code",
   "execution_count": 6,
   "metadata": {},
   "outputs": [
    {
     "data": {
      "text/plain": [
       "array([  14.49112789,   13.69295559,   24.61918141,   27.35462832,\n",
       "         40.90427614,   31.13378406,   24.98619915,   43.20063605,\n",
       "         22.78937576,   24.98826185,   19.71653537,   27.55349365,\n",
       "         19.81865137,   30.30104982,   83.08597394,  113.14666851,\n",
       "         25.90161961,   20.66071411,   11.79245172,   27.44852928,\n",
       "         23.30994908,   -9.77815444,    8.96037862,    9.64120035,\n",
       "         17.24686082,   23.32287298,   23.25219262,    8.94895462,\n",
       "         77.46125455,   22.85188616,   27.08910004,  -65.49804877,\n",
       "         14.06293198,   40.41288353,   43.49021648,   13.41431561,\n",
       "         36.46175276,   20.71714714,   21.89989118,   33.2854679 ,\n",
       "         10.1032918 ,  -58.78693511,   21.62818224,   14.58788197,\n",
       "         37.14509788,  -84.05603557,  -31.71444436,   19.89950717,\n",
       "         21.9545842 ,   14.41556254,   33.36332825,   15.57214179,\n",
       "         27.51378495,   20.97421771,   16.05396723,  120.75516333,\n",
       "         25.06820295,   22.65247882,   57.17817663,   17.09863642,\n",
       "        -79.14746498,    4.77960576,   19.02373651,   19.56585175,\n",
       "         21.21293824,   14.69335284,   17.8205135 ,   54.82330279,\n",
       "         96.07915136,   33.82244591,   31.45837575,   49.45859129,\n",
       "         35.44081531,   23.63481409,   17.22699327,  -95.23625697,\n",
       "         44.32207115,   13.18010903,   24.88425373,   18.35702997,\n",
       "         24.88704396,   11.27583925,   44.21220431,    9.47281554,\n",
       "         16.87994293,   14.62140824,   25.75768006,   85.30035194,\n",
       "         17.36685006,   14.52076714,  -98.47733851,  -46.00054215,\n",
       "         35.39495165,   31.25818369,   18.15895875,  164.9916232 ,\n",
       "        -33.77241359,   11.87381843,   32.37198075,   57.24788958,\n",
       "         17.60472628,   60.98250012,  116.48381567,   40.92016443,\n",
       "         30.60850873,   10.20330352,   -0.91539747,   32.80681132,\n",
       "         13.82568624,   27.30149991,  -83.05895575,   23.978747  ,\n",
       "         11.74250122,   50.95387911,   21.95672807,   47.49300329,\n",
       "         35.60246448,   17.26817672,   60.75954798,   20.40649509,\n",
       "        -35.99706174,   21.76464193,   29.84538941,   10.87263422,\n",
       "       -118.11461478,   22.14259603,   35.12013016,   16.6529344 ,\n",
       "         10.02476453,   75.31912636,   30.08909009,   26.60800863,\n",
       "         18.0397338 ,   20.77010451,   12.0455145 ,   13.85417786,\n",
       "         20.73729442,   65.60127314,   34.60911433,   19.91269109,\n",
       "         34.97293339,   34.86392707,   25.51716833,   14.73830211,\n",
       "         43.1106427 ,   42.89623239,   22.54676235,    6.61667867,\n",
       "         10.53073869,   19.53042053,   68.58950229,   19.53274513,\n",
       "         67.90557056,   25.05741998,   14.84327115,   49.82176724,\n",
       "         18.9239248 ,   30.41558168,   20.60128745,    7.79996728,\n",
       "         11.07386599,   45.03694296,   18.52585044,   89.52738402,\n",
       "         17.74889166,   17.15290662,   48.60269962,    9.40582512,\n",
       "         32.56659804,   21.2141482 ,   22.80413801,   24.42930131,\n",
       "         14.6254167 ,   16.00989213,   11.70309143,    7.4366928 ,\n",
       "         41.01963715,   20.42839947,   44.71501076,   10.09274059,\n",
       "         56.84018192,   31.98333151,   14.80302082,  -45.45883325,\n",
       "         69.69031451,   12.27576674,   44.66073179,  -54.57133536,\n",
       "         25.63143747,   20.85384719,   12.92872079,   15.24488569,\n",
       "          8.82930244,   42.03515106,   23.92409193,    0.88319803,\n",
       "         68.84008858,   99.49016714,   53.9643069 ,   37.14485025,\n",
       "         14.50931031,    9.12019756,   12.13595774,   12.19685256,\n",
       "         33.2404477 ,  -48.21949195,   13.93140956,   14.46553882,\n",
       "         11.75687066,   46.49573349,   14.34540473,   31.03566048,\n",
       "         15.56066342,   19.53158701,   11.34598797,   38.51984706,\n",
       "         12.91952919,   12.3890068 ,   26.34397968,   18.47903151,\n",
       "         37.5081051 ,   26.80376655,   20.37600308,   19.51337533,\n",
       "        -53.55489815,   28.95265392,   15.92777685,   33.71552658,\n",
       "         60.30627805,   12.93681076,   56.49344602,   47.43484036,\n",
       "         13.7179975 ,   41.10087766,   46.80094894,   15.59697934,\n",
       "        -42.71140625,   18.52360691,   38.4375098 ,   13.64356347,\n",
       "         24.78740621,   10.48386249,   14.42597046,   16.20184371,\n",
       "         17.99177864,   16.17234791,   16.96692043,    9.18616578,\n",
       "         64.5865127 ,    8.63905011,   21.34589647,   30.69725109,\n",
       "         13.78762563,   82.79953087,   63.46119709,   38.44414907,\n",
       "         16.26273327,   82.46338373,   14.1439378 ,   13.89794301,\n",
       "         37.64756002,   12.12838225,   11.13035921,  -93.40433061,\n",
       "         33.89837223,   22.31923013,   74.99677012,   36.24453208,\n",
       "         18.57274424,   19.1336032 ,   53.79805898,   45.56880769,\n",
       "         22.60719772,   17.40789321,   35.60376191,   31.07084853,\n",
       "         14.44102775,   18.53719329,  -71.06392794,   10.16461724,\n",
       "         52.96529541,   28.54152315,   11.82968525,   16.830492  ,\n",
       "         26.34926248,  -29.33907975,  -30.00233541,   27.98930901,\n",
       "         15.57110969,   46.24883192,   16.40740352,   17.81602325,\n",
       "         53.85379413,   70.06453384,   15.77152323,   23.94918483,\n",
       "         29.29809254,   88.60403057,   37.36206073,   16.20216104,\n",
       "         11.45209933,   12.44839799,  -76.22311424,  -22.68755503,\n",
       "         17.77943202,   28.17771766,   65.06820019,   41.95137633,\n",
       "         35.5284691 ,   11.95254975,   12.25220005,   11.70957103,\n",
       "        -75.70875913,    4.15170818,    7.45999998,   11.08139093,\n",
       "         13.67465308,   20.92495479,   18.6597523 ,   18.95232714,\n",
       "         17.79993217,   17.72235382,   10.0629507 ,   18.07249467,\n",
       "         45.78600515,  -43.99290358,   31.43365055,   77.34970336,\n",
       "         24.61864669,   32.78310845,   21.45193993,   90.45369373,\n",
       "         11.18778083,   21.82179676,   19.76116131,   52.56900999,\n",
       "         10.52460338,   25.21222465,    9.75551082,   13.83414619,\n",
       "         29.95288426,   21.1047249 ,   19.68625118,   18.74669469,\n",
       "         14.42129017,   62.10466213,   16.97540513,   28.3786535 ,\n",
       "         10.85463256,   19.93312196,   23.28485462,   29.38674489,\n",
       "         22.94319988,    7.65732489,   13.83460752,   23.62320718,\n",
       "         16.16871773,   -9.07069347,   28.28884789,   42.03363075,\n",
       "          3.82779064,   50.83618189,   31.79918772,   15.54435859,\n",
       "        132.2536225 ,  -81.06959571,   21.65509174,   28.09379452,\n",
       "         30.07338003,   17.41733161,   27.33361215,   30.38015469,\n",
       "         14.72861097,   15.40118693,   78.15837759,   18.1775905 ,\n",
       "         38.47672702,   75.90778132,  -32.35245906,   17.11762377,\n",
       "         22.70500603,   21.46271481,   19.92061159,   12.66726064,\n",
       "          9.37439539,   13.63526876,   18.20751112,   32.98917275,\n",
       "         21.77610324,   13.76162421,   32.49516136,   12.77568322,\n",
       "         44.12839521,   13.90333348,   12.21292935,   12.83373499,\n",
       "         15.79680134,   16.0331168 ,   20.53111537,   56.08269979,\n",
       "         44.86973735,   28.160521  ,   30.30498155,   23.79688448,\n",
       "         52.15120873,   26.95969647,   11.79087233,   20.13595133,\n",
       "         31.97782812,    8.65842899,   63.53446276,   14.03481216,\n",
       "         19.46861651,   16.83389933,   42.73312615,   11.04417775,\n",
       "         33.45345818,   56.23849776,   35.73536219,   21.70418231,\n",
       "         14.33011105,   48.62112283,   41.61879375,   24.02669518,\n",
       "         12.77902318,   27.28969559,   34.18410705, -112.95485782,\n",
       "         24.06819996,   32.19377888,   25.94820731,   10.09789746,\n",
       "         21.13371149,   16.09185768,   19.79249828,   41.85946605,\n",
       "         16.55988519,   28.96318816,   23.71838749,   50.01345201,\n",
       "          9.06152816,   12.8178301 ,   15.32521094,   22.81779961,\n",
       "         19.65002603,   11.95022637,   33.33247869,   19.23603126,\n",
       "        -44.81523374,   14.06169762,   22.28860752,   12.42554893,\n",
       "         22.62658559,   11.8105859 ,   11.71426182,   17.75991219,\n",
       "         16.18144647,   25.53408343,   15.26300157,   24.11107819,\n",
       "         18.98981601,   80.28267384,   43.3478579 ,   11.15133107,\n",
       "         17.58601147,   60.79098378,    9.90668758,   10.6775939 ,\n",
       "         15.62908967,   26.3313553 ,   21.8486118 ,   58.06259437,\n",
       "         83.94202078,  -21.90758235,   22.67426422,  -32.78516019,\n",
       "        -85.62946905,   23.2281336 ,   11.62491551,   23.10020137,\n",
       "         14.85538589, -112.31192356,   17.04765596,   12.16869915,\n",
       "         37.17050984,   50.25501839,   28.52877097,   35.97453267,\n",
       "        122.94983915,   44.45107825,   21.53572279,   17.04806494,\n",
       "        -66.98295687,   26.16309578,   17.77132185, -117.65485389,\n",
       "         16.5148009 ,   18.40532385,   23.84320154,   18.11794319,\n",
       "         23.37084578,   61.78735087,    9.97614231,   11.70982982,\n",
       "         38.13509611])"
      ]
     },
     "execution_count": 6,
     "metadata": {},
     "output_type": "execute_result"
    }
   ],
   "source": [
    "# element-wise math\n",
    "\n",
    "# square every term in alpha\n",
    "alpha_element_squared = alpha * alpha\n",
    "sigma_element_squared = sigma * sigma\n",
    "\n",
    "# the 3.9 formula from\n",
    "# https://maslov.bioengineering.illinois.edu/optimal_investment_ijtaf.pdf\n",
    "alpha / (alpha_element_squared + sigma_element_squared)\n"
   ]
  },
  {
   "cell_type": "code",
   "execution_count": 7,
   "metadata": {},
   "outputs": [],
   "source": [
    "# invert matrices\n",
    "k_inv = np.linalg.inv(k)\n",
    "\n",
    "# formula 3.10 from \n",
    "# https://maslov.bioengineering.illinois.edu/optimal_investment_ijtaf.pdf\n",
    "r_opt = np.dot(k_inv, alpha)\n"
   ]
  },
  {
   "cell_type": "code",
   "execution_count": 8,
   "metadata": {},
   "outputs": [],
   "source": [
    "# hints that I'm not sure how they all go together\n",
    "\n",
    "# from formula 3.11\n",
    "# you know that if \\lambda >= \\alpha_i, then we can ignore that term\n",
    "\n",
    "# Maybe if you sort all fo the \\alpha_i terms, you can see if a solution for lambda exists where all of the smaller\n",
    "# values are ignored, and all of the larger values are effected by \\lambda\n",
    "\n",
    "# if you look at each term in the sum of 3.12, they are piecewise linear wrt. \\lambda\n"
   ]
  },
  {
   "cell_type": "code",
   "execution_count": 9,
   "metadata": {},
   "outputs": [
    {
     "name": "stdout",
     "output_type": "stream",
     "text": [
      "-0.043823124680115955 0.3313685267685651\n",
      "iteration: 1, 0.23757061390639483, -0.75\n",
      "iteration: 2, 0.1906716574753097, -0.08591682666142597\n",
      "iteration: 3, 0.16722217925976712, 0.4208766378911639\n",
      "iteration: 4, 0.1789469183675384, 0.16747990561486925\n",
      "iteration: 5, 0.18480928792142404, 0.04078153947672192\n",
      "iteration: 6, 0.18774047269836686, -0.02256764359235164\n",
      "iteration: 7, 0.18627488030989545, 0.009106947942185029\n",
      "iteration: 8, 0.18700767650413114, -0.006730347825082972\n",
      "iteration: 9, 0.18664127840701328, 0.001188300058551306\n",
      "iteration: 10, 0.1868244774555722, -0.0027710238832658884\n",
      "iteration: 11, 0.18673287793129273, -0.0007913619123569582\n",
      "iteration: 12, 0.186687078169153, 0.00019846907309717388\n",
      "iteration: 13, 0.18670997805022288, -0.0002964464196302252\n",
      "iteration: 14, 0.18669852810968796, -4.898867326674772e-05\n",
      "iteration: 15, 0.1866928031394205, 7.47401999148245e-05\n",
      "iteration: 16, 0.18669566562455422, 1.287576332398288e-05\n",
      "iteration: 17, 0.1866970968671211, -1.8056454971659974e-05\n",
      "iteration: 18, 0.18669638124583765, -2.59034582350548e-06\n",
      "iteration: 19, 0.18669602343519592, 5.142708750405234e-06\n",
      "iteration: 20, 0.1866962023405168, 1.2761814636164104e-06\n",
      "iteration: 21, 0.1866962917931772, -6.570821795559567e-07\n",
      "iteration: 22, 0.186696247066847, 3.0954964169715993e-07\n",
      "iteration: 23, 0.1866962694300121, -1.737662690404207e-07\n",
      "iteration: 24, 0.18669625824842956, 6.789168627285846e-08\n",
      "iteration: 25, 0.18669626383922083, -5.2937291328269964e-08\n",
      "iteration: 26, 0.1866962610438252, 7.477197527805401e-09\n",
      "iteration: 27, 0.18669626244152301, -2.2730046955743433e-08\n",
      "iteration: 28, 0.18669626174267412, -7.626425047035923e-09\n",
      "iteration: 29, 0.18669626139324966, -7.461375961526073e-11\n"
     ]
    }
   ],
   "source": [
    "# idea one to solve this: use line search\n",
    "# main idea: function 3.12 is monotically decreasing\n",
    "# so if we pick upper/lower bounds of lambda, we can just do a line search and call it a day\n",
    "# monotonically decreasing means the derivative of the function wrt lambda is <= 0 across all values of lambda\n",
    "\n",
    "# upper bound, we know that if lambda causes all of the terms to be zero, we went too far.\n",
    "# i.e., alpha_i - upper_bound_lambda <= 0 \\forall i\n",
    "upper_bound_lambda = np.max(alpha)\n",
    "\n",
    "# lower bound, we know that each term in the sum is >= 0 and <= the total sum term.\n",
    "# so just find the lower bound of each term and take the maximum out of all of these terms\n",
    "# for each term, lambda = alpha_i - alpha_i^2 - sigma_i^2\n",
    "# I know this because I can do high-school algebra in my head... work it out on paper if you can't\n",
    "lower_bound_lambda = np.min(alpha - (alpha_element_squared + sigma_element_squared))\n",
    "# # # TODO, think about cases where there are zero values in r_opt\n",
    "# # r_opt_top_stocks = r_opt[np.argsort(-r_opt)[:max_num_stocks]]\n",
    "# # r_opt_top_stocks /= np.sum(r_opt_top_stocks)\n",
    "\n",
    "# r_opt_top_stocks = [r_opt_with_names[best_stock_index][0] for best_stock_index in best_stock_indices]\n",
    "# r_opt_top_stocks = np.array(r_opt_top_stocks_with_names) / np.sum(r_opt_top_stocks_with_names)\n",
    "# r_opt_top_stocks\n",
    "\n",
    "# r_opt_top_stocks_with_names = [r_opt_with_names[best_stock_index] for best_stock_index in best_stock_indices]\n",
    "# r_opt_top_stocks_with_namespha - alpha_element_squared - sigma_element_squared)\n",
    "\n",
    "print(lower_bound_lambda, upper_bound_lambda)\n",
    "\n",
    "# now line search/binary search... first we need to evaluate the value of the 3.12 summation expression\n",
    "def eval_expression(lambda_value):\n",
    "    # subtract one so I can get something like \\sum - 1 = 0 to solve.\n",
    "    fractional_terms = (alpha - lambda_value) / (alpha_element_squared + sigma_element_squared)\n",
    "    # heavyside function\n",
    "    fractional_terms = np.maximum(fractional_terms, 0)\n",
    "    return np.sum(fractional_terms) - 1\n",
    "\n",
    "# sanity check, the correct value (0) is between the upper bound and lower bound\n",
    "eval_expression(lower_bound_lambda), eval_expression(upper_bound_lambda)\n",
    "\n",
    "# there's a tolerance term usually, more on that later\n",
    "tolerance = 1e-9\n",
    "\n",
    "# initialize our loop with our initial guess\n",
    "lower_lambda = lower_bound_lambda\n",
    "upper_lambda = upper_bound_lambda\n",
    "middle_lambda = (lower_bound_lambda + upper_bound_lambda) / 2\n",
    "\n",
    "iterations = 0\n",
    "while np.abs(eval_expression(middle_lambda)) > tolerance:\n",
    "    middle_value = eval_expression(middle_lambda)\n",
    "    if middle_value > 0:\n",
    "        lower_lambda = middle_lambda\n",
    "    else:\n",
    "        upper_lambda = middle_lambda\n",
    "    middle_lambda = (lower_lambda + upper_lambda) / 2\n",
    "\n",
    "    iterations += 1\n",
    "    print(f'iteration: {iterations}, {middle_lambda}, {eval_expression(middle_lambda)}')\n"
   ]
  },
  {
   "cell_type": "code",
   "execution_count": 10,
   "metadata": {},
   "outputs": [
    {
     "data": {
      "image/png": "[encoded data removed]",
      "text/plain": [
       "<Figure size 432x288 with 1 Axes>"
      ]
     },
     "metadata": {
      "needs_background": "light"
     },
     "output_type": "display_data"
    }
   ],
   "source": [
    "import matplotlib.pyplot as plt\n",
    "\n",
    "x = np.linspace(lower_bound_lambda, upper_bound_lambda, 101)\n",
    "plt.plot(x, [eval_expression(el) for el in x], label='f(lambda)')\n",
    "plt.plot([0, 1], [0, 0], label='0')\n",
    "plt.legend()\n",
    "\n",
    "plt.show()\n"
   ]
  },
  {
   "cell_type": "code",
   "execution_count": 11,
   "metadata": {},
   "outputs": [
    {
     "data": {
      "text/plain": [
       "[[0.6144043588723126, 'MRNA'],\n",
       " [0.3855956411276874, 'GE'],\n",
       " [0.0, 'A'],\n",
       " [0.0, 'NWSA'],\n",
       " [0.0, 'NWS'],\n",
       " [0.0, 'NWL'],\n",
       " [0.0, 'NVR'],\n",
       " [0.0, 'NVDA'],\n",
       " [0.0, 'NUE'],\n",
       " [0.0, 'NTRS']]"
      ]
     },
     "execution_count": 11,
     "metadata": {},
     "output_type": "execute_result"
    }
   ],
   "source": [
    "# get the optimal investment portfolio\n",
    "r_opt = np.maximum(0, (alpha - middle_lambda) / (alpha_element_squared + sigma_element_squared))\n",
    "r_opt = r_opt.flatten()\n",
    "\n",
    "# r_opt_with_names = list(zip(r_opt, stock_names))\n",
    "best_stock_indices = np.argsort(-r_opt)[:max_num_stocks]\n",
    "best_stock_prices = r_opt[best_stock_indices]\n",
    "best_stock_prices /= np.sum(best_stock_prices)\n",
    "\n",
    "r_opt_top_stocks_with_names = []\n",
    "for best_stock_price, best_stock_index in zip(best_stock_prices, best_stock_indices):\n",
    "    r_opt_top_stocks_with_names.append([best_stock_price, index_to_ticker[best_stock_index]])\n",
    "r_opt_top_stocks_with_names\n"
   ]
  },
  {
   "cell_type": "code",
   "execution_count": 12,
   "metadata": {},
   "outputs": [],
   "source": [
    "expected_val = np.dot(r_opt, alpha)\n"
   ]
  },
  {
   "cell_type": "code",
   "execution_count": 13,
   "metadata": {},
   "outputs": [
    {
     "name": "stdout",
     "output_type": "stream",
     "text": [
      "Mean/expected total return:  0.2624050407537747\n",
      "Variance:  0.0032800528711662254\n",
      "Standard dev:  0.05727174583654863 \n",
      "\n",
      "99.0% confidence interval: 0.2624050407537747 ± 0.14752224119118668\n",
      "95.0% confidence interval: 0.2624050407537747 ± 0.1122505591713671\n",
      "85.0% confidence interval: 0.2624050407537747 ± 0.08244448052730022\n"
     ]
    }
   ],
   "source": [
    "# brief lecture on probabilities (mean/variance)\n",
    "# E[X]=mean(X), Var[X]=Variance(X)\n",
    "# let a be a constant\n",
    "# Var[X] = E[X^2] - E[X]^2\n",
    "# aE[X] = E[aX]\n",
    "# a^2Var[X] = Var[(aX)]\n",
    "# Let v be some vector, K be the covariance matrix\n",
    "# Var(Kv) = v^t K v\n",
    "\n",
    "# we now have r_opt, find the mean and variance of investing in r_opt\n",
    "# alpha, sigma\n",
    "\n",
    "# Amber and Katrina's draft:\n",
    "\n",
    "expected_val = np.dot(r_opt, alpha)\n",
    "\n",
    "print(\"Mean/expected total return: \", expected_val)\n",
    "\n",
    "# TODO: find the variance with weighted variables formula that includes r_opt values (Attempted/done 9/3/21)\n",
    "\n",
    "# http://www.math.kent.edu/~reichel/courses/monte.carlo/alt4.7d.pdf\n",
    "\n",
    "# (r_opt^T * covariance_matrix * r_opt)\n",
    "\n",
    "# T is transpose. Matrix product operation (dot product)\n",
    "\n",
    "# variance = sum((expected_return_array[i] - expected_val)**2 for i in range(len(expected_return_array) - 1)) / len(expected_return_array)\n",
    "\n",
    "variance = multi_dot([r_opt.T, covariance_matrix, r_opt])\n",
    "\n",
    "standard_dev = np.sqrt(variance)\n",
    "\n",
    "print(\"Variance: \", variance)\n",
    "print(\"Standard dev: \", standard_dev, \"\\n\")\n",
    "\n",
    "# Calculating confidence intervals:\n",
    "# https://docs.scipy.org/doc/scipy/reference/generated/scipy.stats.zscore.html\n",
    "for confidence_level in [0.99, 0.95, 0.85]:\n",
    "    error = abs(st.norm.ppf((1-confidence_level)/2)) * standard_dev\n",
    "    print(f\"{confidence_level * 100}% confidence interval: {expected_val}\", u\"\\u00B1\", error)\n"
   ]
  },
  {
   "cell_type": "code",
   "execution_count": 14,
   "metadata": {},
   "outputs": [
    {
     "data": {
      "text/plain": [
       "1.1238607257395243"
      ]
     },
     "execution_count": 14,
     "metadata": {},
     "output_type": "execute_result"
    }
   ],
   "source": [
    "np.exp(0.11676983430967593)"
   ]
  },
  {
   "cell_type": "code",
   "execution_count": 15,
   "metadata": {},
   "outputs": [
    {
     "data": {
      "text/plain": [
       "array([195, 313, 147, 314, 175, 249, 409, 192,  27, 247], dtype=int64)"
      ]
     },
     "execution_count": 15,
     "metadata": {},
     "output_type": "execute_result"
    }
   ],
   "source": [
    "np.argsort(-alpha)[:max_num_stocks]"
   ]
  },
  {
   "cell_type": "code",
   "execution_count": 16,
   "metadata": {},
   "outputs": [
    {
     "data": {
      "text/plain": [
       "['GE',\n",
       " 'MRNA',\n",
       " 'DVN',\n",
       " 'MRO',\n",
       " 'FANG',\n",
       " 'IVZ',\n",
       " 'SIVB',\n",
       " 'FTNT',\n",
       " 'AMAT',\n",
       " 'IT',\n",
       " 'TPR',\n",
       " 'PWR',\n",
       " 'GNRC',\n",
       " 'OXY',\n",
       " 'ALB',\n",
       " 'NUE',\n",
       " 'ZBRA',\n",
       " 'ENPH',\n",
       " 'TECH',\n",
       " 'DFS']"
      ]
     },
     "execution_count": 16,
     "metadata": {},
     "output_type": "execute_result"
    }
   ],
   "source": [
    "[index_to_ticker[el] for el in np.argsort(-alpha)[:20]]"
   ]
  },
  {
   "cell_type": "code",
   "execution_count": 17,
   "metadata": {},
   "outputs": [
    {
     "data": {
      "text/plain": [
       "[0.3313685267685651,\n",
       " 0.2191240659353314,\n",
       " 0.1400867242198729,\n",
       " 0.11611008465720624,\n",
       " 0.11352227701633087,\n",
       " 0.11319832537608132,\n",
       " 0.11309382608100262,\n",
       " 0.111930390519782,\n",
       " 0.10784290413149503,\n",
       " 0.10777266991991276,\n",
       " 0.1073836261129347,\n",
       " 0.1053525050252863,\n",
       " 0.10516875865731035,\n",
       " 0.1043633779228129,\n",
       " 0.10428536216028014,\n",
       " 0.09943537220309658,\n",
       " 0.09933313308572962,\n",
       " 0.09863909547346643,\n",
       " 0.09720499773050162,\n",
       " 0.09716128182132173]"
      ]
     },
     "execution_count": 17,
     "metadata": {},
     "output_type": "execute_result"
    }
   ],
   "source": [
    "[alpha[el] for el in np.argsort(-alpha)[:20]]"
   ]
  },
  {
   "cell_type": "code",
   "execution_count": 18,
   "metadata": {},
   "outputs": [
    {
     "data": {
      "text/plain": [
       "368.91312674213805"
      ]
     },
     "execution_count": 18,
     "metadata": {},
     "output_type": "execute_result"
    }
   ],
   "source": [
    "np.exp(0.010663833857211109) * 365"
   ]
  },
  {
   "cell_type": "code",
   "execution_count": 19,
   "metadata": {},
   "outputs": [],
   "source": [
    "indices = np.array([ticker_to_index[ticker] for ticker in ['ETSY']])\n",
    "np.array([[covariance_matrix[i, j] for i in indices] for j in indices])\n",
    "r_opt[indices]\n",
    "index_variance = np.array([[covariance_matrix[i, j] for i in indices] for j in indices])\n",
    "index_mean = r_opt[indices]\n"
   ]
  },
  {
   "cell_type": "code",
   "execution_count": 20,
   "metadata": {},
   "outputs": [
    {
     "data": {
      "text/plain": [
       "0.0"
      ]
     },
     "execution_count": 20,
     "metadata": {},
     "output_type": "execute_result"
    }
   ],
   "source": [
    "variance = multi_dot([index_mean.T, index_variance, index_mean])\n",
    "variance"
   ]
  },
  {
   "cell_type": "code",
   "execution_count": 21,
   "metadata": {},
   "outputs": [
    {
     "data": {
      "text/plain": [
       "0.0"
      ]
     },
     "execution_count": 21,
     "metadata": {},
     "output_type": "execute_result"
    }
   ],
   "source": [
    "np.sqrt(variance)"
   ]
  },
  {
   "cell_type": "code",
   "execution_count": 22,
   "metadata": {},
   "outputs": [
    {
     "data": {
      "text/plain": [
       "array([[0.00151876]])"
      ]
     },
     "execution_count": 22,
     "metadata": {},
     "output_type": "execute_result"
    }
   ],
   "source": [
    "index_variance"
   ]
  },
  {
   "cell_type": "code",
   "execution_count": 23,
   "metadata": {},
   "outputs": [
    {
     "data": {
      "text/plain": [
       "array([0.])"
      ]
     },
     "execution_count": 23,
     "metadata": {},
     "output_type": "execute_result"
    }
   ],
   "source": [
    "index_mean"
   ]
  },
  {
   "cell_type": "code",
   "execution_count": 24,
   "metadata": {},
   "outputs": [
    {
     "data": {
      "image/png": "[encoded data removed]",
      "text/plain": [
       "<Figure size 432x288 with 1 Axes>"
      ]
     },
     "metadata": {
      "needs_background": "light"
     },
     "output_type": "display_data"
    }
   ],
   "source": [
    "plt.hist(np.sqrt(np.diag(covariance_matrix)), bins=50)\n",
    "plt.show()"
   ]
  },
  {
   "cell_type": "code",
   "execution_count": 25,
   "metadata": {},
   "outputs": [
    {
     "data": {
      "text/plain": [
       "array([[0.03897125]])"
      ]
     },
     "execution_count": 25,
     "metadata": {},
     "output_type": "execute_result"
    }
   ],
   "source": [
    "np.sqrt(index_variance)"
   ]
  },
  {
   "cell_type": "markdown",
   "metadata": {},
   "source": [
    "### what do I want to do to clean up this code:\n",
    "* combine everything into one notebook (should be a fairly easy script to run)\n",
    "* put all of the important parameters that you might ever want to change (like investment length of time, or amount of time to look at historical data) at the top\n",
    "* delete graphs that are unnecessary\n",
    "* Write comments describing what the code does\n",
    "* Small writeup on what we tried, why stuff worked/didn't work"
   ]
  },
  {
   "cell_type": "code",
   "execution_count": null,
   "metadata": {},
   "outputs": [],
   "source": []
  }
 ],
 "metadata": {
  "kernelspec": {
   "display_name": "Python 3",
   "language": "python",
   "name": "python3"
  },
  "language_info": {
   "codemirror_mode": {
    "name": "ipython",
    "version": 3
   },
   "file_extension": ".py",
   "mimetype": "text/x-python",
   "name": "python",
   "nbconvert_exporter": "python",
   "pygments_lexer": "ipython3",
   "version": "3.8.3"
  }
 },
 "nbformat": 4,
 "nbformat_minor": 5
}
