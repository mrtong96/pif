{
 "cells": [
  {
   "cell_type": "code",
   "execution_count": 1,
   "id": "27cec346",
   "metadata": {},
   "outputs": [
    {
     "name": "stdout",
     "output_type": "stream",
     "text": [
      "Defaulting to user installation because normal site-packages is not writeable\n",
      "Requirement already satisfied: yahoo_fin in /home/michael/.local/lib/python3.6/site-packages (0.8.9.1)\n",
      "Requirement already satisfied: requests-html in /home/michael/.local/lib/python3.6/site-packages (from yahoo_fin) (0.10.0)\n",
      "Requirement already satisfied: feedparser in /home/michael/.local/lib/python3.6/site-packages (from yahoo_fin) (6.0.8)\n",
      "Requirement already satisfied: pandas in /home/michael/.local/lib/python3.6/site-packages (from yahoo_fin) (1.1.5)\n",
      "Requirement already satisfied: requests in /home/michael/.local/lib/python3.6/site-packages (from yahoo_fin) (2.26.0)\n",
      "Requirement already satisfied: sgmllib3k in /home/michael/.local/lib/python3.6/site-packages (from feedparser->yahoo_fin) (1.0.0)\n",
      "Requirement already satisfied: numpy>=1.15.4 in /home/michael/.local/lib/python3.6/site-packages (from pandas->yahoo_fin) (1.19.5)\n",
      "Requirement already satisfied: python-dateutil>=2.7.3 in /home/michael/.local/lib/python3.6/site-packages (from pandas->yahoo_fin) (2.8.2)\n",
      "Requirement already satisfied: pytz>=2017.2 in /usr/lib/python3/dist-packages (from pandas->yahoo_fin) (2018.3)\n",
      "Requirement already satisfied: six>=1.5 in /home/michael/.local/lib/python3.6/site-packages (from python-dateutil>=2.7.3->pandas->yahoo_fin) (1.15.0)\n",
      "Requirement already satisfied: charset-normalizer~=2.0.0 in /home/michael/.local/lib/python3.6/site-packages (from requests->yahoo_fin) (2.0.4)\n",
      "Requirement already satisfied: certifi>=2017.4.17 in /usr/lib/python3/dist-packages (from requests->yahoo_fin) (2018.1.18)\n",
      "Requirement already satisfied: idna<4,>=2.5 in /usr/lib/python3/dist-packages (from requests->yahoo_fin) (2.6)\n",
      "Requirement already satisfied: urllib3<1.27,>=1.21.1 in /home/michael/.local/lib/python3.6/site-packages (from requests->yahoo_fin) (1.26.6)\n",
      "Requirement already satisfied: pyquery in /home/michael/.local/lib/python3.6/site-packages (from requests-html->yahoo_fin) (1.4.3)\n",
      "Requirement already satisfied: bs4 in /home/michael/.local/lib/python3.6/site-packages (from requests-html->yahoo_fin) (0.0.1)\n",
      "Requirement already satisfied: parse in /home/michael/.local/lib/python3.6/site-packages (from requests-html->yahoo_fin) (1.19.0)\n",
      "Requirement already satisfied: w3lib in /home/michael/.local/lib/python3.6/site-packages (from requests-html->yahoo_fin) (1.22.0)\n",
      "Requirement already satisfied: pyppeteer>=0.0.14 in /home/michael/.local/lib/python3.6/site-packages (from requests-html->yahoo_fin) (0.2.5)\n",
      "Requirement already satisfied: fake-useragent in /home/michael/.local/lib/python3.6/site-packages (from requests-html->yahoo_fin) (0.1.11)\n",
      "Requirement already satisfied: pyee<9.0.0,>=8.1.0 in /home/michael/.local/lib/python3.6/site-packages (from pyppeteer>=0.0.14->requests-html->yahoo_fin) (8.1.0)\n",
      "Requirement already satisfied: tqdm<5.0.0,>=4.42.1 in /home/michael/.local/lib/python3.6/site-packages (from pyppeteer>=0.0.14->requests-html->yahoo_fin) (4.62.0)\n",
      "Requirement already satisfied: websockets<9.0,>=8.1 in /home/michael/.local/lib/python3.6/site-packages (from pyppeteer>=0.0.14->requests-html->yahoo_fin) (8.1)\n",
      "Requirement already satisfied: appdirs<2.0.0,>=1.4.3 in /home/michael/.local/lib/python3.6/site-packages (from pyppeteer>=0.0.14->requests-html->yahoo_fin) (1.4.4)\n",
      "Requirement already satisfied: importlib-metadata<3.0.0,>=2.1.1 in /home/michael/.local/lib/python3.6/site-packages (from pyppeteer>=0.0.14->requests-html->yahoo_fin) (2.1.1)\n",
      "Requirement already satisfied: zipp>=0.5 in /usr/local/lib/python3.6/dist-packages (from importlib-metadata<3.0.0,>=2.1.1->pyppeteer>=0.0.14->requests-html->yahoo_fin) (3.5.0)\n",
      "Requirement already satisfied: beautifulsoup4 in /usr/lib/python3/dist-packages (from bs4->requests-html->yahoo_fin) (4.6.0)\n",
      "Requirement already satisfied: lxml>=2.1 in /usr/lib/python3/dist-packages (from pyquery->requests-html->yahoo_fin) (4.2.1)\n",
      "Requirement already satisfied: cssselect>0.7.9 in /home/michael/.local/lib/python3.6/site-packages (from pyquery->requests-html->yahoo_fin) (1.1.0)\n",
      "\u001b[33mWARNING: You are using pip version 21.2.2; however, version 21.2.4 is available.\n",
      "You should consider upgrading via the '/usr/bin/python3 -m pip install --upgrade pip' command.\u001b[0m\n",
      "Defaulting to user installation because normal site-packages is not writeable\n",
      "Requirement already satisfied: multiprocess in /home/michael/.local/lib/python3.6/site-packages (0.70.12.2)\n",
      "Requirement already satisfied: dill>=0.3.4 in /home/michael/.local/lib/python3.6/site-packages (from multiprocess) (0.3.4)\n",
      "\u001b[33mWARNING: You are using pip version 21.2.2; however, version 21.2.4 is available.\n",
      "You should consider upgrading via the '/usr/bin/python3 -m pip install --upgrade pip' command.\u001b[0m\n",
      "Defaulting to user installation because normal site-packages is not writeable\n",
      "Requirement already satisfied: pyarrow in /home/michael/.local/lib/python3.6/site-packages (5.0.0)\n",
      "Requirement already satisfied: numpy>=1.16.6 in /home/michael/.local/lib/python3.6/site-packages (from pyarrow) (1.19.5)\n",
      "\u001b[33mWARNING: You are using pip version 21.2.2; however, version 21.2.4 is available.\n",
      "You should consider upgrading via the '/usr/bin/python3 -m pip install --upgrade pip' command.\u001b[0m\n",
      "Defaulting to user installation because normal site-packages is not writeable\n",
      "Requirement already satisfied: keras==2.4.3 in /home/michael/.local/lib/python3.6/site-packages (2.4.3)\n",
      "Requirement already satisfied: numpy>=1.9.1 in /home/michael/.local/lib/python3.6/site-packages (from keras==2.4.3) (1.19.5)\n",
      "Requirement already satisfied: pyyaml in /usr/lib/python3/dist-packages (from keras==2.4.3) (3.12)\n",
      "Requirement already satisfied: h5py in /home/michael/.local/lib/python3.6/site-packages (from keras==2.4.3) (3.1.0)\n",
      "Requirement already satisfied: scipy>=0.14 in /home/michael/.local/lib/python3.6/site-packages (from keras==2.4.3) (1.5.4)\n",
      "Requirement already satisfied: cached-property in /home/michael/.local/lib/python3.6/site-packages (from h5py->keras==2.4.3) (1.5.2)\n",
      "\u001b[33mWARNING: You are using pip version 21.2.2; however, version 21.2.4 is available.\n",
      "You should consider upgrading via the '/usr/bin/python3 -m pip install --upgrade pip' command.\u001b[0m\n",
      "Defaulting to user installation because normal site-packages is not writeable\n",
      "Requirement already satisfied: tensorflow in /home/michael/.local/lib/python3.6/site-packages (2.5.0)\n",
      "Requirement already satisfied: astunparse~=1.6.3 in /home/michael/.local/lib/python3.6/site-packages (from tensorflow) (1.6.3)\n",
      "Requirement already satisfied: tensorboard~=2.5 in /home/michael/.local/lib/python3.6/site-packages (from tensorflow) (2.5.0)\n",
      "Requirement already satisfied: google-pasta~=0.2 in /home/michael/.local/lib/python3.6/site-packages (from tensorflow) (0.2.0)\n",
      "Requirement already satisfied: keras-nightly~=2.5.0.dev in /home/michael/.local/lib/python3.6/site-packages (from tensorflow) (2.5.0.dev2021032900)\n",
      "Requirement already satisfied: h5py~=3.1.0 in /home/michael/.local/lib/python3.6/site-packages (from tensorflow) (3.1.0)\n",
      "Requirement already satisfied: gast==0.4.0 in /home/michael/.local/lib/python3.6/site-packages (from tensorflow) (0.4.0)\n",
      "Requirement already satisfied: typing-extensions~=3.7.4 in /home/michael/.local/lib/python3.6/site-packages (from tensorflow) (3.7.4.3)\n",
      "Requirement already satisfied: wheel~=0.35 in /home/michael/.local/lib/python3.6/site-packages (from tensorflow) (0.36.2)\n",
      "Requirement already satisfied: absl-py~=0.10 in /home/michael/.local/lib/python3.6/site-packages (from tensorflow) (0.13.0)\n",
      "Requirement already satisfied: numpy~=1.19.2 in /home/michael/.local/lib/python3.6/site-packages (from tensorflow) (1.19.5)\n",
      "Requirement already satisfied: opt-einsum~=3.3.0 in /home/michael/.local/lib/python3.6/site-packages (from tensorflow) (3.3.0)\n",
      "Requirement already satisfied: termcolor~=1.1.0 in /home/michael/.local/lib/python3.6/site-packages (from tensorflow) (1.1.0)\n",
      "Requirement already satisfied: tensorflow-estimator<2.6.0,>=2.5.0rc0 in /home/michael/.local/lib/python3.6/site-packages (from tensorflow) (2.5.0)\n",
      "Requirement already satisfied: keras-preprocessing~=1.1.2 in /home/michael/.local/lib/python3.6/site-packages (from tensorflow) (1.1.2)\n",
      "Requirement already satisfied: protobuf>=3.9.2 in /home/michael/.local/lib/python3.6/site-packages (from tensorflow) (3.17.3)\n",
      "Requirement already satisfied: grpcio~=1.34.0 in /home/michael/.local/lib/python3.6/site-packages (from tensorflow) (1.34.1)\n",
      "Requirement already satisfied: wrapt~=1.12.1 in /home/michael/.local/lib/python3.6/site-packages (from tensorflow) (1.12.1)\n",
      "Requirement already satisfied: flatbuffers~=1.12.0 in /home/michael/.local/lib/python3.6/site-packages (from tensorflow) (1.12)\n",
      "Requirement already satisfied: six~=1.15.0 in /home/michael/.local/lib/python3.6/site-packages (from tensorflow) (1.15.0)\n"
     ]
    },
    {
     "name": "stdout",
     "output_type": "stream",
     "text": [
      "Requirement already satisfied: cached-property in /home/michael/.local/lib/python3.6/site-packages (from h5py~=3.1.0->tensorflow) (1.5.2)\n",
      "Requirement already satisfied: google-auth<2,>=1.6.3 in /home/michael/.local/lib/python3.6/site-packages (from tensorboard~=2.5->tensorflow) (1.34.0)\n",
      "Requirement already satisfied: markdown>=2.6.8 in /home/michael/.local/lib/python3.6/site-packages (from tensorboard~=2.5->tensorflow) (3.3.4)\n",
      "Requirement already satisfied: tensorboard-data-server<0.7.0,>=0.6.0 in /home/michael/.local/lib/python3.6/site-packages (from tensorboard~=2.5->tensorflow) (0.6.1)\n",
      "Requirement already satisfied: setuptools>=41.0.0 in /usr/local/lib/python3.6/dist-packages (from tensorboard~=2.5->tensorflow) (57.4.0)\n",
      "Requirement already satisfied: google-auth-oauthlib<0.5,>=0.4.1 in /home/michael/.local/lib/python3.6/site-packages (from tensorboard~=2.5->tensorflow) (0.4.5)\n",
      "Requirement already satisfied: werkzeug>=0.11.15 in /home/michael/.local/lib/python3.6/site-packages (from tensorboard~=2.5->tensorflow) (2.0.1)\n",
      "Requirement already satisfied: tensorboard-plugin-wit>=1.6.0 in /home/michael/.local/lib/python3.6/site-packages (from tensorboard~=2.5->tensorflow) (1.8.0)\n",
      "Requirement already satisfied: requests<3,>=2.21.0 in /home/michael/.local/lib/python3.6/site-packages (from tensorboard~=2.5->tensorflow) (2.26.0)\n",
      "Requirement already satisfied: cachetools<5.0,>=2.0.0 in /home/michael/.local/lib/python3.6/site-packages (from google-auth<2,>=1.6.3->tensorboard~=2.5->tensorflow) (4.2.2)\n",
      "Requirement already satisfied: pyasn1-modules>=0.2.1 in /home/michael/.local/lib/python3.6/site-packages (from google-auth<2,>=1.6.3->tensorboard~=2.5->tensorflow) (0.2.8)\n",
      "Requirement already satisfied: rsa<5,>=3.1.4 in /home/michael/.local/lib/python3.6/site-packages (from google-auth<2,>=1.6.3->tensorboard~=2.5->tensorflow) (4.7.2)\n",
      "Requirement already satisfied: requests-oauthlib>=0.7.0 in /home/michael/.local/lib/python3.6/site-packages (from google-auth-oauthlib<0.5,>=0.4.1->tensorboard~=2.5->tensorflow) (1.3.0)\n",
      "Requirement already satisfied: importlib-metadata in /home/michael/.local/lib/python3.6/site-packages (from markdown>=2.6.8->tensorboard~=2.5->tensorflow) (2.1.1)\n",
      "Requirement already satisfied: pyasn1<0.5.0,>=0.4.6 in /home/michael/.local/lib/python3.6/site-packages (from pyasn1-modules>=0.2.1->google-auth<2,>=1.6.3->tensorboard~=2.5->tensorflow) (0.4.8)\n",
      "Requirement already satisfied: idna<4,>=2.5 in /usr/lib/python3/dist-packages (from requests<3,>=2.21.0->tensorboard~=2.5->tensorflow) (2.6)\n",
      "Requirement already satisfied: urllib3<1.27,>=1.21.1 in /home/michael/.local/lib/python3.6/site-packages (from requests<3,>=2.21.0->tensorboard~=2.5->tensorflow) (1.26.6)\n",
      "Requirement already satisfied: certifi>=2017.4.17 in /usr/lib/python3/dist-packages (from requests<3,>=2.21.0->tensorboard~=2.5->tensorflow) (2018.1.18)\n",
      "Requirement already satisfied: charset-normalizer~=2.0.0 in /home/michael/.local/lib/python3.6/site-packages (from requests<3,>=2.21.0->tensorboard~=2.5->tensorflow) (2.0.4)\n",
      "Requirement already satisfied: oauthlib>=3.0.0 in /home/michael/.local/lib/python3.6/site-packages (from requests-oauthlib>=0.7.0->google-auth-oauthlib<0.5,>=0.4.1->tensorboard~=2.5->tensorflow) (3.1.1)\n",
      "Requirement already satisfied: dataclasses in /home/michael/.local/lib/python3.6/site-packages (from werkzeug>=0.11.15->tensorboard~=2.5->tensorflow) (0.8)\n",
      "Requirement already satisfied: zipp>=0.5 in /usr/local/lib/python3.6/dist-packages (from importlib-metadata->markdown>=2.6.8->tensorboard~=2.5->tensorflow) (3.5.0)\n",
      "\u001b[33mWARNING: You are using pip version 21.2.2; however, version 21.2.4 is available.\n",
      "You should consider upgrading via the '/usr/bin/python3 -m pip install --upgrade pip' command.\u001b[0m\n"
     ]
    }
   ],
   "source": [
    "# !pip3 install yfinance --upgrade --no-cache-dir\n",
    "!pip3 install yahoo_fin\n",
    "!pip3 install multiprocess\n",
    "\n",
    "! pip3 install pyarrow\n",
    "\n",
    "# # ML packages\n",
    "! pip3 install keras==2.4.3\n",
    "! pip3 install tensorflow\n",
    "# ! pip3 install sklearn\n",
    "# ! pip3 install matplotlib"
   ]
  },
  {
   "cell_type": "code",
   "execution_count": 2,
   "id": "c23a91ee",
   "metadata": {},
   "outputs": [],
   "source": [
    "import json\n",
    "import pandas as pd\n",
    "import numpy as np\n",
    "from yahoo_fin import stock_info\n",
    "import yahoo_fin\n",
    "from multiprocessing import Pool\n",
    "import multiprocess as mp\n",
    "import datetime\n",
    "from collections import Counter\n",
    "\n",
    "import itertools\n",
    "import keras\n",
    "from sklearn.model_selection import train_test_split\n",
    "import matplotlib.pyplot as plt"
   ]
  },
  {
   "cell_type": "code",
   "execution_count": 3,
   "id": "bfd102af",
   "metadata": {},
   "outputs": [],
   "source": [
    "from get_historical_data import get_historical_data\n",
    "end_date = datetime.datetime.now().date()\n",
    "start_date = end_date - datetime.timedelta(days=365 * 2)\n",
    "\n",
    "def get_historical_data_batch(tickers, start_date, end_date):\n",
    "    historical_data = []\n",
    "    with Pool(32) as p:\n",
    "        historical_data = p.map(get_historical_data, tickers)\n",
    "    return historical_data\n"
   ]
  },
  {
   "cell_type": "code",
   "execution_count": 4,
   "id": "23521599",
   "metadata": {},
   "outputs": [
    {
     "name": "stdout",
     "output_type": "stream",
     "text": [
      "CPU times: user 845 ms, sys: 194 ms, total: 1.04 s\n",
      "Wall time: 11.8 s\n"
     ]
    }
   ],
   "source": [
    "\n",
    "%%time\n",
    "tickers = stock_info.tickers_sp500()\n",
    "\n",
    "# a couple of hard-coded company->ticker values\n",
    "company_to_ticker = {\n",
    "    'Broadcom Inc.': 'AVGO',\n",
    "    'AD': 'ADM',\n",
    "    'ADDDYY': 'ADDYY',\n",
    "    'AOBC': 'AOUT',\n",
    "    'APCD': 'APCD.VI',\n",
    "    'APPL': 'AAPL',\n",
    "    'AZSEY': 'ALIZY',\n",
    "    'BAMXY': 'BMWYY',\n",
    "    'BBCBX': 'BBCPX',\n",
    "    'BOA': 'BAC',\n",
    "    'BRK.A': 'BRK-A',\n",
    "    'BRK.B': 'BRK-B',\n",
    "    'BXS$A': 'BXS-PA',\n",
    "    'CCC': 'CLVT',\n",
    "    'CTL': 'LUMN',\n",
    "    'CWEN.A': 'CWEN-A',\n",
    "    'DESY': 'DSEY',\n",
    "    'EBJ': 'ERJ',\n",
    "    'EQUIX': 'EFX',\n",
    "    'EVGB': 'EVBG',\n",
    "    'FFHRX': 'FFRHX',\n",
    "    'FII': 'FHI',\n",
    "    'FMCMF': 'FMS',\n",
    "    'FXM': 'FMX',\n",
    "    'GEAGY': 'GEAGF',\n",
    "    'HCN': 'WELL',\n",
    "    'HS': 'HSIC',\n",
    "    'HTZ': 'HTZGQ',\n",
    "    'IDXXX': 'IDXX',\n",
    "    'INTL': 'INTC',\n",
    "    'LAM': 'LRCX',\n",
    "    'LBDAV': 'LBRDA',\n",
    "    'LCRX': 'LRCX',\n",
    "    'LEN.B': 'LEN-B',\n",
    "    'LTD': 'LB',\n",
    "    'MRCK': 'MRK',\n",
    "    'MSBHY': 'MSBHF',\n",
    "    'NGLS': 'NGL',\n",
    "    'ORLT': 'ORLY',\n",
    "    'POL': 'AVNT',\n",
    "    'RBS': 'NWG',\n",
    "    'RDS.A': 'RDS-A',\n",
    "    'RDS.B': 'RDS-B',\n",
    "    'RF$A': 'RF-A',\n",
    "    'SERV': 'TMX',\n",
    "    'SVCBY': 'SVCBF',\n",
    "    'TDDC': 'TDC',\n",
    "    'URGO': 'UGRO',\n",
    "    'WFC$V': 'WFC',\n",
    "    'WYND': 'TNL',\n",
    "    'XMO': 'XOM',\n",
    "    'ZOOM': 'ZM'\n",
    "}\n",
    "\n",
    "# '--' is the null ticker, remove it\n",
    "if '--' in tickers:\n",
    "    tickers.remove('--')\n",
    "\n",
    "historical_data = get_historical_data_batch(tickers, start_date, end_date)\n"
   ]
  },
  {
   "cell_type": "code",
   "execution_count": 5,
   "id": "dfadf6b3",
   "metadata": {},
   "outputs": [
    {
     "name": "stdout",
     "output_type": "stream",
     "text": [
      "CPU times: user 1 s, sys: 8.66 ms, total: 1.01 s\n",
      "Wall time: 1.01 s\n"
     ]
    }
   ],
   "source": [
    "%%time\n",
    "# get a filter for some of the historical data\n",
    "ticker_to_historical_data = {ticker_table['ticker'].iloc[0]: ticker_table.sort_values('date')\n",
    "                             for ticker_table in historical_data if not isinstance(ticker_table, tuple)}\n",
    "\n",
    "# first step. Build indexes\n",
    "# is this the easiest way to build things? probably not\n",
    "# but this is lightweight and is reasonably performant\n",
    "unique_dates = sorted(set(itertools.chain.from_iterable([table['date'] for table in ticker_to_historical_data.values()])))\n",
    "unique_dates = np.array(unique_dates, dtype='datetime64[D]')\n",
    "date_to_index = {date: index for index, date in enumerate(unique_dates)}\n",
    "\n",
    "ticker_to_index = {ticker: index for index, ticker in enumerate(sorted(list(ticker_to_historical_data.keys())))}\n",
    "\n",
    "# initialize the data matrix to a bunch of zeros\n",
    "ticker_data_matrix = np.zeros((len(tickers), len(unique_dates)), dtype=np.float)\n",
    "\n",
    "# fill the matrix with data\n",
    "for ticker, ticker_data_table in ticker_to_historical_data.items():\n",
    "    ticker_index = ticker_to_index[ticker]\n",
    "    ticker_dates = np.array(ticker_data_table['date'], dtype='datetime64[D]')\n",
    "    date_indexes = np.array([date_to_index[cur_date] for cur_date in ticker_dates])\n",
    "    price_data = ticker_data_table['close'].values\n",
    "    ticker_data_matrix[ticker_index, date_indexes] = price_data\n",
    "\n",
    "# there's some nan values in the data, write them as zero for now\n",
    "ticker_data_matrix = np.nan_to_num(ticker_data_matrix)"
   ]
  },
  {
   "cell_type": "code",
   "execution_count": 6,
   "id": "0e3a2d8e",
   "metadata": {},
   "outputs": [
    {
     "name": "stdout",
     "output_type": "stream",
     "text": [
      "CPU times: user 20.4 ms, sys: 0 ns, total: 20.4 ms\n",
      "Wall time: 19.3 ms\n"
     ]
    }
   ],
   "source": [
    "%%time\n",
    "\n",
    "# for the snp 500 data. It looks like the number of unique dates is different than the SNP 500 data...\n",
    "# i.e., we don't invest on weekends...\n",
    "log_price_matrix = np.copy(ticker_data_matrix)\n",
    "log_price_matrix[np.where(log_price_matrix != 0)] = np.log(log_price_matrix[np.where(log_price_matrix != 0)])\n",
    "\n",
    "# fit the log stuff with interpolation\n",
    "x_values = np.array(list(range(log_price_matrix.shape[-1])))\n",
    "for i, time_series in enumerate(log_price_matrix):\n",
    "    mask = time_series != 0\n",
    "    # if there are no non-zero values, give up\n",
    "    if not np.any(mask):\n",
    "        continue\n",
    "    interp_x_values = x_values[mask]\n",
    "    interp_y_values = time_series[mask]\n",
    "    log_price_matrix[i] = np.interp(x_values, interp_x_values, interp_y_values)\n"
   ]
  },
  {
   "cell_type": "code",
   "execution_count": 7,
   "id": "46c151d5",
   "metadata": {},
   "outputs": [
    {
     "name": "stdout",
     "output_type": "stream",
     "text": [
      "2021-05-29 2021-09-06\n",
      "436 503\n"
     ]
    }
   ],
   "source": [
    "# TODO: given some price range, compute all of the mean/variance terms\n",
    "\n",
    "start_date = (datetime.datetime.now() - datetime.timedelta(days=100)).date()\n",
    "end_date = datetime.datetime.now().date()\n",
    "\n",
    "print(start_date, end_date)\n",
    "\n",
    "def compute_mean_variance(start_date, end_date):\n",
    "    sorted_dates = sorted(date_to_index.keys())\n",
    "    first_date_index = np.searchsorted(sorted_dates, start_date) + 1\n",
    "    last_date_index = np.searchsorted(sorted_dates, end_date)\n",
    "    print(first_date_index, last_date_index)\n",
    "    date_matrix = log_price_matrix[:, first_date_index: last_date_index]\n",
    "    date_diffs = date_matrix[:, 1:] - date_matrix[:, :-1]\n",
    "    \n",
    "    means = np.mean(date_diffs, axis=1)\n",
    "    covariance = (np.dot(date_diffs, date_diffs.T) / (date_diffs.shape[1] ** 1)) - np.outer(means, means)\n",
    "\n",
    "    return means, covariance\n",
    "\n",
    "means, covariance = compute_mean_variance(start_date, end_date)\n"
   ]
  },
  {
   "cell_type": "code",
   "execution_count": 8,
   "id": "64337e8f",
   "metadata": {},
   "outputs": [
    {
     "data": {
      "image/png": "[encoded data removed]",
      "text/plain": [
       "<Figure size 432x288 with 1 Axes>"
      ]
     },
     "metadata": {
      "needs_background": "light"
     },
     "output_type": "display_data"
    }
   ],
   "source": [
    "plt.hist(covariance.flatten(), bins=50)\n",
    "plt.show()"
   ]
  },
  {
   "cell_type": "code",
   "execution_count": 9,
   "id": "678c52c6",
   "metadata": {},
   "outputs": [
    {
     "data": {
      "image/png": "[encoded data removed]",
      "text/plain": [
       "<Figure size 432x288 with 1 Axes>"
      ]
     },
     "metadata": {
      "needs_background": "light"
     },
     "output_type": "display_data"
    }
   ],
   "source": [
    "plt.hist(np.diag(covariance), bins=50)\n",
    "plt.show()"
   ]
  },
  {
   "cell_type": "code",
   "execution_count": 10,
   "id": "d387b31b",
   "metadata": {},
   "outputs": [
    {
     "data": {
      "image/png": "[encoded data removed]",
      "text/plain": [
       "<Figure size 432x288 with 1 Axes>"
      ]
     },
     "metadata": {
      "needs_background": "light"
     },
     "output_type": "display_data"
    }
   ],
   "source": [
    "pearsons = [covariance[i, j] / np.sqrt(covariance[i, i] * covariance[j, j])\n",
    "            for i in range(covariance.shape[0]) for j in range(covariance.shape[1])]\n",
    "plt.hist(pearsons, bins=50)\n",
    "plt.show()"
   ]
  },
  {
   "cell_type": "code",
   "execution_count": 11,
   "id": "2d3dda13",
   "metadata": {},
   "outputs": [],
   "source": [
    "output_data = {\n",
    "    'ticker_to_index': ticker_to_index,\n",
    "    'mean_vector': means.tolist(),\n",
    "    'covariance_matrix': covariance.tolist()\n",
    "}\n",
    "\n",
    "output_data = json.dumps(output_data, indent=4, sort_keys=True)\n",
    "\n",
    "with open('tmp.txt', 'w') as file:\n",
    "    file.write(output_data)\n",
    "    file.flush()"
   ]
  },
  {
   "cell_type": "code",
   "execution_count": null,
   "id": "46e1a3bf",
   "metadata": {},
   "outputs": [],
   "source": []
  },
  {
   "cell_type": "code",
   "execution_count": null,
   "id": "390cbd6c",
   "metadata": {},
   "outputs": [],
   "source": []
  },
  {
   "cell_type": "code",
   "execution_count": null,
   "id": "f3907b2f",
   "metadata": {},
   "outputs": [],
   "source": []
  },
  {
   "cell_type": "code",
   "execution_count": 12,
   "id": "49726e4e",
   "metadata": {},
   "outputs": [
    {
     "data": {
      "text/html": [
       "<div>\n",
       "<style scoped>\n",
       "    .dataframe tbody tr th:only-of-type {\n",
       "        vertical-align: middle;\n",
       "    }\n",
       "\n",
       "    .dataframe tbody tr th {\n",
       "        vertical-align: top;\n",
       "    }\n",
       "\n",
       "    .dataframe thead th {\n",
       "        text-align: right;\n",
       "    }\n",
       "</style>\n",
       "<table border=\"1\" class=\"dataframe\">\n",
       "  <thead>\n",
       "    <tr style=\"text-align: right;\">\n",
       "      <th></th>\n",
       "      <th>date</th>\n",
       "      <th>open</th>\n",
       "      <th>high</th>\n",
       "      <th>low</th>\n",
       "      <th>close</th>\n",
       "      <th>adjclose</th>\n",
       "      <th>volume</th>\n",
       "      <th>ticker</th>\n",
       "    </tr>\n",
       "  </thead>\n",
       "  <tbody>\n",
       "    <tr>\n",
       "      <th>435</th>\n",
       "      <td>2021-06-01</td>\n",
       "      <td>165.949997</td>\n",
       "      <td>167.320007</td>\n",
       "      <td>161.884003</td>\n",
       "      <td>163.460007</td>\n",
       "      <td>163.460007</td>\n",
       "      <td>2448900</td>\n",
       "      <td>ETSY</td>\n",
       "    </tr>\n",
       "    <tr>\n",
       "      <th>436</th>\n",
       "      <td>2021-06-02</td>\n",
       "      <td>164.419998</td>\n",
       "      <td>176.850006</td>\n",
       "      <td>163.649994</td>\n",
       "      <td>175.139999</td>\n",
       "      <td>175.139999</td>\n",
       "      <td>4900600</td>\n",
       "      <td>ETSY</td>\n",
       "    </tr>\n",
       "    <tr>\n",
       "      <th>437</th>\n",
       "      <td>2021-06-03</td>\n",
       "      <td>172.080002</td>\n",
       "      <td>172.580002</td>\n",
       "      <td>165.110001</td>\n",
       "      <td>165.740005</td>\n",
       "      <td>165.740005</td>\n",
       "      <td>3336600</td>\n",
       "      <td>ETSY</td>\n",
       "    </tr>\n",
       "    <tr>\n",
       "      <th>438</th>\n",
       "      <td>2021-06-04</td>\n",
       "      <td>167.410004</td>\n",
       "      <td>168.300003</td>\n",
       "      <td>162.395004</td>\n",
       "      <td>164.179993</td>\n",
       "      <td>164.179993</td>\n",
       "      <td>2270800</td>\n",
       "      <td>ETSY</td>\n",
       "    </tr>\n",
       "    <tr>\n",
       "      <th>439</th>\n",
       "      <td>2021-06-07</td>\n",
       "      <td>164.559998</td>\n",
       "      <td>169.500000</td>\n",
       "      <td>163.880005</td>\n",
       "      <td>168.320007</td>\n",
       "      <td>168.320007</td>\n",
       "      <td>2763700</td>\n",
       "      <td>ETSY</td>\n",
       "    </tr>\n",
       "    <tr>\n",
       "      <th>...</th>\n",
       "      <td>...</td>\n",
       "      <td>...</td>\n",
       "      <td>...</td>\n",
       "      <td>...</td>\n",
       "      <td>...</td>\n",
       "      <td>...</td>\n",
       "      <td>...</td>\n",
       "      <td>...</td>\n",
       "    </tr>\n",
       "    <tr>\n",
       "      <th>498</th>\n",
       "      <td>2021-08-30</td>\n",
       "      <td>210.759995</td>\n",
       "      <td>218.955994</td>\n",
       "      <td>210.399994</td>\n",
       "      <td>217.710007</td>\n",
       "      <td>217.710007</td>\n",
       "      <td>1821700</td>\n",
       "      <td>ETSY</td>\n",
       "    </tr>\n",
       "    <tr>\n",
       "      <th>499</th>\n",
       "      <td>2021-08-31</td>\n",
       "      <td>217.229996</td>\n",
       "      <td>217.929993</td>\n",
       "      <td>211.570007</td>\n",
       "      <td>216.259995</td>\n",
       "      <td>216.259995</td>\n",
       "      <td>1894900</td>\n",
       "      <td>ETSY</td>\n",
       "    </tr>\n",
       "    <tr>\n",
       "      <th>500</th>\n",
       "      <td>2021-09-01</td>\n",
       "      <td>216.589996</td>\n",
       "      <td>220.929993</td>\n",
       "      <td>215.809998</td>\n",
       "      <td>216.779999</td>\n",
       "      <td>216.779999</td>\n",
       "      <td>2161200</td>\n",
       "      <td>ETSY</td>\n",
       "    </tr>\n",
       "    <tr>\n",
       "      <th>501</th>\n",
       "      <td>2021-09-02</td>\n",
       "      <td>217.320007</td>\n",
       "      <td>219.500000</td>\n",
       "      <td>213.100006</td>\n",
       "      <td>213.490005</td>\n",
       "      <td>213.490005</td>\n",
       "      <td>1602900</td>\n",
       "      <td>ETSY</td>\n",
       "    </tr>\n",
       "    <tr>\n",
       "      <th>502</th>\n",
       "      <td>2021-09-03</td>\n",
       "      <td>213.050003</td>\n",
       "      <td>221.360001</td>\n",
       "      <td>212.399994</td>\n",
       "      <td>220.380005</td>\n",
       "      <td>220.380005</td>\n",
       "      <td>1908900</td>\n",
       "      <td>ETSY</td>\n",
       "    </tr>\n",
       "  </tbody>\n",
       "</table>\n",
       "<p>68 rows × 8 columns</p>\n",
       "</div>"
      ],
      "text/plain": [
       "          date        open        high         low       close    adjclose  \\\n",
       "435 2021-06-01  165.949997  167.320007  161.884003  163.460007  163.460007   \n",
       "436 2021-06-02  164.419998  176.850006  163.649994  175.139999  175.139999   \n",
       "437 2021-06-03  172.080002  172.580002  165.110001  165.740005  165.740005   \n",
       "438 2021-06-04  167.410004  168.300003  162.395004  164.179993  164.179993   \n",
       "439 2021-06-07  164.559998  169.500000  163.880005  168.320007  168.320007   \n",
       "..         ...         ...         ...         ...         ...         ...   \n",
       "498 2021-08-30  210.759995  218.955994  210.399994  217.710007  217.710007   \n",
       "499 2021-08-31  217.229996  217.929993  211.570007  216.259995  216.259995   \n",
       "500 2021-09-01  216.589996  220.929993  215.809998  216.779999  216.779999   \n",
       "501 2021-09-02  217.320007  219.500000  213.100006  213.490005  213.490005   \n",
       "502 2021-09-03  213.050003  221.360001  212.399994  220.380005  220.380005   \n",
       "\n",
       "      volume ticker  \n",
       "435  2448900   ETSY  \n",
       "436  4900600   ETSY  \n",
       "437  3336600   ETSY  \n",
       "438  2270800   ETSY  \n",
       "439  2763700   ETSY  \n",
       "..       ...    ...  \n",
       "498  1821700   ETSY  \n",
       "499  1894900   ETSY  \n",
       "500  2161200   ETSY  \n",
       "501  1602900   ETSY  \n",
       "502  1908900   ETSY  \n",
       "\n",
       "[68 rows x 8 columns]"
      ]
     },
     "execution_count": 12,
     "metadata": {},
     "output_type": "execute_result"
    }
   ],
   "source": [
    "index_to_ticker = {v: k for k, v in ticker_to_index.items()}\n",
    "\n",
    "lemon_data = historical_data[ticker_to_index['ETSY']].sort_values('date')\n",
    "\n",
    "# 2021-05-29 2021-09-06\n",
    "start_date = datetime.datetime(year=2021, month=5, day=29)\n",
    "end_date = datetime.datetime(year=2021, month=9, day=6)\n",
    "lemon_data[(lemon_data['date'] <= end_date) & (lemon_data['date']>= start_date)].sort_values('date')"
   ]
  },
  {
   "cell_type": "code",
   "execution_count": 13,
   "id": "811d0875",
   "metadata": {},
   "outputs": [
    {
     "data": {
      "text/plain": [
       "1.348219720803022"
      ]
     },
     "execution_count": 13,
     "metadata": {},
     "output_type": "execute_result"
    }
   ],
   "source": [
    "220.380005 / 163.460007"
   ]
  },
  {
   "cell_type": "code",
   "execution_count": 14,
   "id": "46b221d1",
   "metadata": {},
   "outputs": [
    {
     "data": {
      "text/html": [
       "<div>\n",
       "<style scoped>\n",
       "    .dataframe tbody tr th:only-of-type {\n",
       "        vertical-align: middle;\n",
       "    }\n",
       "\n",
       "    .dataframe tbody tr th {\n",
       "        vertical-align: top;\n",
       "    }\n",
       "\n",
       "    .dataframe thead th {\n",
       "        text-align: right;\n",
       "    }\n",
       "</style>\n",
       "<table border=\"1\" class=\"dataframe\">\n",
       "  <thead>\n",
       "    <tr style=\"text-align: right;\">\n",
       "      <th></th>\n",
       "      <th>date</th>\n",
       "      <th>open</th>\n",
       "      <th>high</th>\n",
       "      <th>low</th>\n",
       "      <th>close</th>\n",
       "      <th>adjclose</th>\n",
       "      <th>volume</th>\n",
       "      <th>ticker</th>\n",
       "    </tr>\n",
       "  </thead>\n",
       "  <tbody>\n",
       "    <tr>\n",
       "      <th>435</th>\n",
       "      <td>2021-06-01</td>\n",
       "      <td>58.590000</td>\n",
       "      <td>59.279999</td>\n",
       "      <td>58.009998</td>\n",
       "      <td>59.200001</td>\n",
       "      <td>59.200001</td>\n",
       "      <td>5923400</td>\n",
       "      <td>LVS</td>\n",
       "    </tr>\n",
       "    <tr>\n",
       "      <th>436</th>\n",
       "      <td>2021-06-02</td>\n",
       "      <td>59.590000</td>\n",
       "      <td>59.590000</td>\n",
       "      <td>58.389999</td>\n",
       "      <td>58.919998</td>\n",
       "      <td>58.919998</td>\n",
       "      <td>5142300</td>\n",
       "      <td>LVS</td>\n",
       "    </tr>\n",
       "    <tr>\n",
       "      <th>437</th>\n",
       "      <td>2021-06-03</td>\n",
       "      <td>58.369999</td>\n",
       "      <td>58.630001</td>\n",
       "      <td>56.740002</td>\n",
       "      <td>56.759998</td>\n",
       "      <td>56.759998</td>\n",
       "      <td>6163100</td>\n",
       "      <td>LVS</td>\n",
       "    </tr>\n",
       "    <tr>\n",
       "      <th>438</th>\n",
       "      <td>2021-06-04</td>\n",
       "      <td>57.209999</td>\n",
       "      <td>57.299999</td>\n",
       "      <td>55.990002</td>\n",
       "      <td>56.520000</td>\n",
       "      <td>56.520000</td>\n",
       "      <td>5762300</td>\n",
       "      <td>LVS</td>\n",
       "    </tr>\n",
       "    <tr>\n",
       "      <th>439</th>\n",
       "      <td>2021-06-07</td>\n",
       "      <td>56.270000</td>\n",
       "      <td>56.529999</td>\n",
       "      <td>55.990002</td>\n",
       "      <td>56.520000</td>\n",
       "      <td>56.520000</td>\n",
       "      <td>3869100</td>\n",
       "      <td>LVS</td>\n",
       "    </tr>\n",
       "    <tr>\n",
       "      <th>...</th>\n",
       "      <td>...</td>\n",
       "      <td>...</td>\n",
       "      <td>...</td>\n",
       "      <td>...</td>\n",
       "      <td>...</td>\n",
       "      <td>...</td>\n",
       "      <td>...</td>\n",
       "      <td>...</td>\n",
       "    </tr>\n",
       "    <tr>\n",
       "      <th>498</th>\n",
       "      <td>2021-08-30</td>\n",
       "      <td>44.070000</td>\n",
       "      <td>44.290001</td>\n",
       "      <td>43.290001</td>\n",
       "      <td>43.439999</td>\n",
       "      <td>43.439999</td>\n",
       "      <td>546470000</td>\n",
       "      <td>LVS</td>\n",
       "    </tr>\n",
       "    <tr>\n",
       "      <th>499</th>\n",
       "      <td>2021-08-31</td>\n",
       "      <td>43.650002</td>\n",
       "      <td>44.810001</td>\n",
       "      <td>43.470001</td>\n",
       "      <td>44.610001</td>\n",
       "      <td>44.610001</td>\n",
       "      <td>961440000</td>\n",
       "      <td>LVS</td>\n",
       "    </tr>\n",
       "    <tr>\n",
       "      <th>500</th>\n",
       "      <td>2021-09-01</td>\n",
       "      <td>45.130001</td>\n",
       "      <td>45.360001</td>\n",
       "      <td>44.080002</td>\n",
       "      <td>44.119999</td>\n",
       "      <td>44.119999</td>\n",
       "      <td>744590000</td>\n",
       "      <td>LVS</td>\n",
       "    </tr>\n",
       "    <tr>\n",
       "      <th>501</th>\n",
       "      <td>2021-09-02</td>\n",
       "      <td>44.200001</td>\n",
       "      <td>44.750000</td>\n",
       "      <td>43.799999</td>\n",
       "      <td>44.009998</td>\n",
       "      <td>44.009998</td>\n",
       "      <td>523850000</td>\n",
       "      <td>LVS</td>\n",
       "    </tr>\n",
       "    <tr>\n",
       "      <th>502</th>\n",
       "      <td>2021-09-03</td>\n",
       "      <td>43.779999</td>\n",
       "      <td>44.009998</td>\n",
       "      <td>42.849998</td>\n",
       "      <td>43.130001</td>\n",
       "      <td>43.130001</td>\n",
       "      <td>5755177</td>\n",
       "      <td>LVS</td>\n",
       "    </tr>\n",
       "  </tbody>\n",
       "</table>\n",
       "<p>68 rows × 8 columns</p>\n",
       "</div>"
      ],
      "text/plain": [
       "          date       open       high        low      close   adjclose  \\\n",
       "435 2021-06-01  58.590000  59.279999  58.009998  59.200001  59.200001   \n",
       "436 2021-06-02  59.590000  59.590000  58.389999  58.919998  58.919998   \n",
       "437 2021-06-03  58.369999  58.630001  56.740002  56.759998  56.759998   \n",
       "438 2021-06-04  57.209999  57.299999  55.990002  56.520000  56.520000   \n",
       "439 2021-06-07  56.270000  56.529999  55.990002  56.520000  56.520000   \n",
       "..         ...        ...        ...        ...        ...        ...   \n",
       "498 2021-08-30  44.070000  44.290001  43.290001  43.439999  43.439999   \n",
       "499 2021-08-31  43.650002  44.810001  43.470001  44.610001  44.610001   \n",
       "500 2021-09-01  45.130001  45.360001  44.080002  44.119999  44.119999   \n",
       "501 2021-09-02  44.200001  44.750000  43.799999  44.009998  44.009998   \n",
       "502 2021-09-03  43.779999  44.009998  42.849998  43.130001  43.130001   \n",
       "\n",
       "        volume ticker  \n",
       "435    5923400    LVS  \n",
       "436    5142300    LVS  \n",
       "437    6163100    LVS  \n",
       "438    5762300    LVS  \n",
       "439    3869100    LVS  \n",
       "..         ...    ...  \n",
       "498  546470000    LVS  \n",
       "499  961440000    LVS  \n",
       "500  744590000    LVS  \n",
       "501  523850000    LVS  \n",
       "502    5755177    LVS  \n",
       "\n",
       "[68 rows x 8 columns]"
      ]
     },
     "execution_count": 14,
     "metadata": {},
     "output_type": "execute_result"
    }
   ],
   "source": [
    "index_to_ticker = {v: k for k, v in ticker_to_index.items()}\n",
    "\n",
    "lemon_data = historical_data[ticker_to_index['LVS']].sort_values('date')\n",
    "\n",
    "# 2021-05-29 2021-09-06\n",
    "start_date = datetime.datetime(year=2021, month=5, day=29)\n",
    "end_date = datetime.datetime(year=2021, month=9, day=6)\n",
    "lemon_data[(lemon_data['date'] <= end_date) & (lemon_data['date']>= start_date)].sort_values('date')"
   ]
  },
  {
   "cell_type": "code",
   "execution_count": 15,
   "id": "cb8d075f",
   "metadata": {},
   "outputs": [
    {
     "data": {
      "text/plain": [
       "0.002438398789043334"
      ]
     },
     "execution_count": 15,
     "metadata": {},
     "output_type": "execute_result"
    }
   ],
   "source": [
    "covariance[ticker_to_index['MRNA'], ticker_to_index['MRNA']]"
   ]
  },
  {
   "cell_type": "code",
   "execution_count": 16,
   "id": "7fc3ee7e",
   "metadata": {},
   "outputs": [
    {
     "data": {
      "text/plain": [
       "array([5.16558565, 5.11042033, 5.10096334, 5.12586697, 5.13703301,\n",
       "       5.11978863, 5.11889158, 5.11090291, 5.13756161, 5.11234915,\n",
       "       5.1202069 , 5.13367854, 5.1347391 , 5.14043469, 5.18167116,\n",
       "       5.1898966 , 5.20136586, 5.21927418, 5.29033562, 5.31088802,\n",
       "       5.32709915, 5.29586433, 5.28609299, 5.28730696, 5.26217189,\n",
       "       5.27821672, 5.27346097, 5.26940337, 5.23909801, 5.20872084,\n",
       "       5.2056537 , 5.21721576, 5.24875942, 5.27233264, 5.27709375,\n",
       "       5.30752488, 5.34166417, 5.32811887, 5.29571396, 5.31291038,\n",
       "       5.2932043 , 5.21226913, 5.24116483, 5.24944223, 5.30876265,\n",
       "       5.20625692, 5.18380398, 5.21003249, 5.23888582, 5.26765199,\n",
       "       5.26393297, 5.25791196, 5.24923215, 5.26940337, 5.25122578,\n",
       "       5.25895264, 5.29466071, 5.28106948, 5.30529295, 5.30965287,\n",
       "       5.35936541, 5.34901045, 5.38316393, 5.37648136, 5.37888301,\n",
       "       5.36359002, 5.39535335])"
      ]
     },
     "execution_count": 16,
     "metadata": {},
     "output_type": "execute_result"
    }
   ],
   "source": [
    "log_price_matrix[ticker_to_index['ETSY'], 436:503]"
   ]
  },
  {
   "cell_type": "code",
   "execution_count": 17,
   "id": "49e65a7f",
   "metadata": {},
   "outputs": [
    {
     "data": {
      "text/plain": [
       "0.22976770000000002"
      ]
     },
     "execution_count": 17,
     "metadata": {},
     "output_type": "execute_result"
    }
   ],
   "source": [
    "5.39535335 - 5.16558565"
   ]
  },
  {
   "cell_type": "code",
   "execution_count": 18,
   "id": "e79aee72",
   "metadata": {},
   "outputs": [
    {
     "data": {
      "text/plain": [
       "0.07969762524037542"
      ]
     },
     "execution_count": 18,
     "metadata": {},
     "output_type": "execute_result"
    }
   ],
   "source": [
    "np.var(log_price_matrix[ticker_to_index['MRNA'], 436:503])"
   ]
  },
  {
   "cell_type": "code",
   "execution_count": 19,
   "id": "267c2e31",
   "metadata": {},
   "outputs": [
    {
     "data": {
      "text/plain": [
       "0.002438398789043334"
      ]
     },
     "execution_count": 19,
     "metadata": {},
     "output_type": "execute_result"
    }
   ],
   "source": [
    "np.var(np.diff(log_price_matrix[ticker_to_index['MRNA'], 436:503]))"
   ]
  },
  {
   "cell_type": "code",
   "execution_count": 20,
   "id": "92cbc7d1",
   "metadata": {},
   "outputs": [],
   "source": [
    "first_date_index, last_date_index = 436, 503\n",
    "\n",
    "date_matrix = log_price_matrix[:, first_date_index: last_date_index]\n",
    "date_diffs = date_matrix[:, 1:] - date_matrix[:, :-1]\n",
    "\n",
    "mean_increase = date_diffs[:, -1] - date_diffs[:, 0]\n",
    "mean_increase /= last_date_index - first_date_index\n",
    "\n",
    "means = np.mean(date_diffs, axis=1)\n",
    "covariance = (np.dot(date_diffs, date_diffs.T) / (date_diffs.shape[1] ** 1)) - np.outer(means, means)"
   ]
  },
  {
   "cell_type": "code",
   "execution_count": 21,
   "id": "43f71c71",
   "metadata": {},
   "outputs": [
    {
     "data": {
      "text/plain": [
       "0.0034813287970730227"
      ]
     },
     "execution_count": 21,
     "metadata": {},
     "output_type": "execute_result"
    }
   ],
   "source": [
    "means[ticker_to_index['ETSY']]"
   ]
  },
  {
   "cell_type": "code",
   "execution_count": 22,
   "id": "06d1cc8f",
   "metadata": {},
   "outputs": [
    {
     "data": {
      "text/plain": [
       "67"
      ]
     },
     "execution_count": 22,
     "metadata": {},
     "output_type": "execute_result"
    }
   ],
   "source": [
    "last_date_index - first_date_index"
   ]
  },
  {
   "cell_type": "code",
   "execution_count": null,
   "id": "b7173732",
   "metadata": {},
   "outputs": [],
   "source": []
  }
 ],
 "metadata": {
  "kernelspec": {
   "display_name": "Python 3",
   "language": "python",
   "name": "python3"
  },
  "language_info": {
   "codemirror_mode": {
    "name": "ipython",
    "version": 3
   },
   "file_extension": ".py",
   "mimetype": "text/x-python",
   "name": "python",
   "nbconvert_exporter": "python",
   "pygments_lexer": "ipython3",
   "version": "3.6.9"
  }
 },
 "nbformat": 4,
 "nbformat_minor": 5
}
