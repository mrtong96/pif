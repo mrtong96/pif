{
 "cells": [
  {
   "cell_type": "code",
   "execution_count": 1,
   "metadata": {
    "scrolled": true
   },
   "outputs": [
    {
     "name": "stdout",
     "output_type": "stream",
     "text": [
      "Requirement already up-to-date: yahoo_fin in c:\\users\\katri\\anaconda3\\lib\\site-packages (0.8.9.1)\n",
      "Requirement already satisfied, skipping upgrade: feedparser in c:\\users\\katri\\anaconda3\\lib\\site-packages (from yahoo_fin) (6.0.2)\n",
      "Requirement already satisfied, skipping upgrade: requests in c:\\users\\katri\\anaconda3\\lib\\site-packages (from yahoo_fin) (2.24.0)\n",
      "Requirement already satisfied, skipping upgrade: pandas in c:\\users\\katri\\anaconda3\\lib\\site-packages (from yahoo_fin) (1.0.5)\n",
      "Requirement already satisfied, skipping upgrade: requests-html in c:\\users\\katri\\anaconda3\\lib\\site-packages (from yahoo_fin) (0.10.0)\n",
      "Requirement already satisfied, skipping upgrade: sgmllib3k in c:\\users\\katri\\anaconda3\\lib\\site-packages (from feedparser->yahoo_fin) (1.0.0)\n",
      "Requirement already satisfied, skipping upgrade: chardet<4,>=3.0.2 in c:\\users\\katri\\anaconda3\\lib\\site-packages (from requests->yahoo_fin) (3.0.4)\n",
      "Requirement already satisfied, skipping upgrade: idna<3,>=2.5 in c:\\users\\katri\\anaconda3\\lib\\site-packages (from requests->yahoo_fin) (2.10)\n",
      "Requirement already satisfied, skipping upgrade: certifi>=2017.4.17 in c:\\users\\katri\\anaconda3\\lib\\site-packages (from requests->yahoo_fin) (2020.6.20)\n",
      "Requirement already satisfied, skipping upgrade: urllib3!=1.25.0,!=1.25.1,<1.26,>=1.21.1 in c:\\users\\katri\\anaconda3\\lib\\site-packages (from requests->yahoo_fin) (1.25.9)\n",
      "Requirement already satisfied, skipping upgrade: numpy>=1.13.3 in c:\\users\\katri\\anaconda3\\lib\\site-packages (from pandas->yahoo_fin) (1.19.5)\n",
      "Requirement already satisfied, skipping upgrade: pytz>=2017.2 in c:\\users\\katri\\anaconda3\\lib\\site-packages (from pandas->yahoo_fin) (2020.1)\n",
      "Requirement already satisfied, skipping upgrade: python-dateutil>=2.6.1 in c:\\users\\katri\\anaconda3\\lib\\site-packages (from pandas->yahoo_fin) (2.8.1)\n",
      "Requirement already satisfied, skipping upgrade: fake-useragent in c:\\users\\katri\\anaconda3\\lib\\site-packages (from requests-html->yahoo_fin) (0.1.11)\n",
      "Requirement already satisfied, skipping upgrade: bs4 in c:\\users\\katri\\anaconda3\\lib\\site-packages (from requests-html->yahoo_fin) (0.0.1)\n",
      "Requirement already satisfied, skipping upgrade: pyquery in c:\\users\\katri\\anaconda3\\lib\\site-packages (from requests-html->yahoo_fin) (1.4.3)\n",
      "Requirement already satisfied, skipping upgrade: w3lib in c:\\users\\katri\\anaconda3\\lib\\site-packages (from requests-html->yahoo_fin) (1.22.0)\n",
      "Requirement already satisfied, skipping upgrade: pyppeteer>=0.0.14 in c:\\users\\katri\\anaconda3\\lib\\site-packages (from requests-html->yahoo_fin) (0.2.5)\n",
      "Requirement already satisfied, skipping upgrade: parse in c:\\users\\katri\\anaconda3\\lib\\site-packages (from requests-html->yahoo_fin) (1.19.0)\n",
      "Requirement already satisfied, skipping upgrade: six>=1.5 in c:\\users\\katri\\anaconda3\\lib\\site-packages (from python-dateutil>=2.6.1->pandas->yahoo_fin) (1.15.0)\n",
      "Requirement already satisfied, skipping upgrade: beautifulsoup4 in c:\\users\\katri\\anaconda3\\lib\\site-packages (from bs4->requests-html->yahoo_fin) (4.9.1)\n",
      "Requirement already satisfied, skipping upgrade: lxml>=2.1 in c:\\users\\katri\\anaconda3\\lib\\site-packages (from pyquery->requests-html->yahoo_fin) (4.5.2)\n",
      "Requirement already satisfied, skipping upgrade: cssselect>0.7.9 in c:\\users\\katri\\anaconda3\\lib\\site-packages (from pyquery->requests-html->yahoo_fin) (1.1.0)\n",
      "Requirement already satisfied, skipping upgrade: tqdm<5.0.0,>=4.42.1 in c:\\users\\katri\\anaconda3\\lib\\site-packages (from pyppeteer>=0.0.14->requests-html->yahoo_fin) (4.47.0)\n",
      "Requirement already satisfied, skipping upgrade: pyee<9.0.0,>=8.1.0 in c:\\users\\katri\\anaconda3\\lib\\site-packages (from pyppeteer>=0.0.14->requests-html->yahoo_fin) (8.1.0)\n",
      "Requirement already satisfied, skipping upgrade: websockets<9.0,>=8.1 in c:\\users\\katri\\anaconda3\\lib\\site-packages (from pyppeteer>=0.0.14->requests-html->yahoo_fin) (8.1)\n",
      "Requirement already satisfied, skipping upgrade: appdirs<2.0.0,>=1.4.3 in c:\\users\\katri\\anaconda3\\lib\\site-packages (from pyppeteer>=0.0.14->requests-html->yahoo_fin) (1.4.4)\n",
      "Requirement already satisfied, skipping upgrade: soupsieve>1.2 in c:\\users\\katri\\anaconda3\\lib\\site-packages (from beautifulsoup4->bs4->requests-html->yahoo_fin) (2.0.1)\n",
      "Requirement already satisfied: multiprocess in c:\\users\\katri\\anaconda3\\lib\\site-packages (0.70.11.1)\n",
      "Requirement already satisfied: dill>=0.3.3 in c:\\users\\katri\\anaconda3\\lib\\site-packages (from multiprocess) (0.3.3)\n",
      "Requirement already satisfied: pyarrow in c:\\users\\katri\\anaconda3\\lib\\site-packages (4.0.0)\n",
      "Requirement already satisfied: numpy>=1.16.6 in c:\\users\\katri\\anaconda3\\lib\\site-packages (from pyarrow) (1.19.5)\n"
     ]
    }
   ],
   "source": [
    "# install packages\n",
    "\n",
    "! pip3 install yahoo_fin -U\n",
    "! pip3 install multiprocess\n",
    "! pip3 install pyarrow\n"
   ]
  },
  {
   "cell_type": "code",
   "execution_count": 2,
   "metadata": {},
   "outputs": [],
   "source": [
    "from get_historical_data import get_historical_data\n",
    "from multiprocessing import Pool\n",
    "from numpy.linalg import multi_dot\n",
    "from sklearn.model_selection import train_test_split\n",
    "from yahoo_fin import stock_info\n",
    "\n",
    "import datetime\n",
    "import itertools\n",
    "import matplotlib.pyplot as plt\n",
    "import numpy as np\n",
    "import scipy.stats as st\n"
   ]
  },
  {
   "cell_type": "markdown",
   "metadata": {},
   "source": [
    "# User Input Parameters"
   ]
  },
  {
   "cell_type": "code",
   "execution_count": 3,
   "metadata": {},
   "outputs": [],
   "source": [
    "# desired max number of stocks to be recommended to invest in\n",
    "MAX_NUM_STOCKS = 10\n",
    "\n",
    "# length of time user plans to hold these stocks before selling\n",
    "INVESTMENT_WINDOW_DAYS = 30\n",
    "\n",
    "# end date is today. This should not be changed by the user.\n",
    "END_DATE = datetime.datetime.now().date()\n",
    "\n",
    "# start date indicating how far back to look at historical data of stocks\n",
    "START_DATE = END_DATE - datetime.timedelta(days=365 * 2)\n"
   ]
  },
  {
   "cell_type": "code",
   "execution_count": 4,
   "metadata": {},
   "outputs": [],
   "source": [
    "# get historical stock price data\n",
    "def get_historical_data_batch(tickers, start_date, end_date):\n",
    "    historical_data = []\n",
    "    with Pool(32) as p:\n",
    "        historical_data = p.map(get_historical_data, tickers)\n",
    "    return historical_data"
   ]
  },
  {
   "cell_type": "code",
   "execution_count": 5,
   "metadata": {},
   "outputs": [
    {
     "name": "stdout",
     "output_type": "stream",
     "text": [
      "Wall time: 42.2 s\n"
     ]
    }
   ],
   "source": [
    "%%time\n",
    "\n",
    "# pull S&P 500 ticker names from stock_info module and save in list called \"tickers\"\n",
    "tickers = stock_info.tickers_sp500()\n",
    "\n",
    "# if '--' is the null ticker, remove it\n",
    "if '--' in tickers:\n",
    "    tickers.remove('--')\n",
    "\n",
    "# store historical stock price data\n",
    "historical_data = get_historical_data_batch(tickers, START_DATE, END_DATE)\n"
   ]
  },
  {
   "cell_type": "code",
   "execution_count": 6,
   "metadata": {},
   "outputs": [
    {
     "name": "stdout",
     "output_type": "stream",
     "text": [
      "Wall time: 3.57 s\n"
     ]
    }
   ],
   "source": [
    "%%time\n",
    "\n",
    "# get a filter for some of the historical data\n",
    "ticker_to_historical_data = {ticker_table['ticker'].iloc[0]: ticker_table.sort_values('date')\n",
    "                             for ticker_table in historical_data if not isinstance(ticker_table, tuple)}\n",
    "\n",
    "# build indexes and unique dates\n",
    "unique_dates = sorted(set(itertools.chain.from_iterable([table['date'] for table in ticker_to_historical_data.values()])))\n",
    "unique_dates = np.array(unique_dates, dtype='datetime64[D]')\n",
    "date_to_index = {date: index for index, date in enumerate(unique_dates)}\n",
    "\n",
    "ticker_to_index = {ticker: index for index, ticker in enumerate(sorted(list(ticker_to_historical_data.keys())))}\n",
    "index_to_ticker = {v: k for k, v in ticker_to_index.items()}\n",
    "\n",
    "# initialize the data matrix to a bunch of zeros\n",
    "ticker_data_matrix = np.zeros((len(tickers), len(unique_dates)), dtype=np.float)\n",
    "\n",
    "# fill the matrix with data\n",
    "for ticker, ticker_data_table in ticker_to_historical_data.items():\n",
    "    ticker_index = ticker_to_index[ticker]\n",
    "    ticker_dates = np.array(ticker_data_table['date'], dtype='datetime64[D]')\n",
    "\n",
    "    date_indexes = np.array([date_to_index[cur_date] for cur_date in ticker_dates])\n",
    "    price_data = ticker_data_table['close'].values\n",
    "    ticker_data_matrix[ticker_index, date_indexes] = price_data\n",
    "\n",
    "# there's some nan values in the data, write them as zero\n",
    "ticker_data_matrix = np.nan_to_num(ticker_data_matrix)\n"
   ]
  },
  {
   "cell_type": "code",
   "execution_count": 7,
   "metadata": {},
   "outputs": [
    {
     "name": "stdout",
     "output_type": "stream",
     "text": [
      "Wall time: 29.1 ms\n"
     ]
    }
   ],
   "source": [
    "%%time\n",
    "\n",
    "# number of unique dates is different from the SNP 500 data.\n",
    "log_price_matrix = np.copy(ticker_data_matrix)\n",
    "log_price_matrix[np.where(log_price_matrix != 0)] = np.log(log_price_matrix[np.where(log_price_matrix != 0)])\n",
    "\n",
    "# fit the log stuff with interpolation\n",
    "x_values = np.array(list(range(log_price_matrix.shape[-1])))\n",
    "for i, time_series in enumerate(log_price_matrix):\n",
    "    mask = time_series != 0\n",
    "    # if there are no non-zero values, give up\n",
    "    if not np.any(mask):\n",
    "        continue\n",
    "    interp_x_values = x_values[mask]\n",
    "    interp_y_values = time_series[mask]\n",
    "    log_price_matrix[i] = np.interp(x_values, interp_x_values, interp_y_values)\n"
   ]
  },
  {
   "cell_type": "code",
   "execution_count": 8,
   "metadata": {},
   "outputs": [],
   "source": [
    "# calculate mean and covariance\n",
    "def compute_mean_variance(start_date, end_date):\n",
    "    date_diffs = log_price_matrix[:, 1:] - log_price_matrix[:, :-1]\n",
    "\n",
    "    mean_vector = np.mean(date_diffs, axis=1)\n",
    "    # Cov[XY] = E[XY] - E[X]E[Y]\n",
    "    covariance_matrix = np.dot(date_diffs, date_diffs.T) / date_diffs.shape[1]\n",
    "    covariance_matrix -= np.outer(mean_vector, mean_vector)\n",
    "\n",
    "    return mean_vector, covariance_matrix\n",
    "\n",
    "mean_vector, covariance_matrix = compute_mean_variance(START_DATE, END_DATE)"
   ]
  },
  {
   "cell_type": "code",
   "execution_count": 9,
   "metadata": {},
   "outputs": [
    {
     "data": {
      "image/png": "[encoded data removed]",
      "text/plain": [
       "<Figure size 432x288 with 1 Axes>"
      ]
     },
     "metadata": {
      "needs_background": "light"
     },
     "output_type": "display_data"
    }
   ],
   "source": [
    "# plot flattened covariance array\n",
    "\n",
    "plt.hist(covariance_matrix.flatten(), bins=50)\n",
    "plt.title('Covariance (histogram)')\n",
    "plt.show()"
   ]
  },
  {
   "cell_type": "code",
   "execution_count": 10,
   "metadata": {},
   "outputs": [
    {
     "data": {
      "image/png": "[encoded data removed]",
      "text/plain": [
       "<Figure size 432x288 with 1 Axes>"
      ]
     },
     "metadata": {
      "needs_background": "light"
     },
     "output_type": "display_data"
    }
   ],
   "source": [
    "# variance is the diagonal of covariance matrix\n",
    "\n",
    "plt.hist(np.diag(covariance_matrix), bins=50)\n",
    "plt.title('Variance (histogram)')\n",
    "plt.show()"
   ]
  },
  {
   "cell_type": "code",
   "execution_count": 11,
   "metadata": {},
   "outputs": [
    {
     "data": {
      "image/png": "[encoded data removed]",
      "text/plain": [
       "<Figure size 432x288 with 1 Axes>"
      ]
     },
     "metadata": {
      "needs_background": "light"
     },
     "output_type": "display_data"
    }
   ],
   "source": [
    "# calculate and plot Pearson correlation coefficient (normalized covariance)\n",
    "pearsons = covariance_matrix / np.sqrt(np.outer(np.diag(covariance_matrix), np.diag(covariance_matrix)))\n",
    "plt.hist(pearsons.flatten(), bins=50)\n",
    "plt.title('Pearson correlation coefficient (histogram)')\n",
    "plt.show()"
   ]
  },
  {
   "cell_type": "code",
   "execution_count": 12,
   "metadata": {},
   "outputs": [],
   "source": [
    "# alpha is the mean\n",
    "# sigma is the variance along the diagonal\n",
    "# k is the covariance matrix\n",
    "\n",
    "alpha = mean_vector * INVESTMENT_WINDOW_DAYS\n",
    "sigma = np.diag(covariance_matrix) * INVESTMENT_WINDOW_DAYS\n",
    "k = covariance_matrix * INVESTMENT_WINDOW_DAYS"
   ]
  },
  {
   "cell_type": "code",
   "execution_count": 13,
   "metadata": {},
   "outputs": [],
   "source": [
    "# element-wise math\n",
    "\n",
    "# square every term in alpha and sigma\n",
    "alpha_element_squared = alpha * alpha\n",
    "sigma_element_squared = sigma * sigma"
   ]
  },
  {
   "cell_type": "code",
   "execution_count": 14,
   "metadata": {},
   "outputs": [],
   "source": [
    "# invert covariance matrix k\n",
    "k_inv = np.linalg.inv(k)\n",
    "\n",
    "# calculate r_opt using formula 3.10 from \n",
    "# https://maslov.bioengineering.illinois.edu/optimal_investment_ijtaf.pdf\n",
    "r_opt = np.dot(k_inv, alpha)\n"
   ]
  },
  {
   "cell_type": "code",
   "execution_count": 15,
   "metadata": {},
   "outputs": [
    {
     "data": {
      "image/png": "[encoded data removed]",
      "text/plain": [
       "<Figure size 432x288 with 1 Axes>"
      ]
     },
     "metadata": {
      "needs_background": "light"
     },
     "output_type": "display_data"
    }
   ],
   "source": [
    "# square root of variance (diagonal of covariance matrix) is standard deviation\n",
    "\n",
    "plt.hist(np.sqrt(np.diag(covariance_matrix)), bins=50)\n",
    "plt.title('Standard deviation (histogram)')\n",
    "plt.show()"
   ]
  },
  {
   "cell_type": "code",
   "execution_count": 16,
   "metadata": {},
   "outputs": [
    {
     "name": "stdout",
     "output_type": "stream",
     "text": [
      "Lower bound lambda: -0.06008076866789784\n",
      "Upper bound lambda: 0.1955717055382371\n",
      "Performing a check that 0 is between the evaluation of lower bound lambda (66322.42172254875)\n",
      "and the evaluation of upper bound lambda (-1.0)\n",
      "\n",
      "\n",
      "Iteration: 1\n",
      "Lambda: 0.13165858698670335\n",
      "Evaluation of expression: 1.5743419948290396\n",
      "\n",
      "\n",
      "Iteration: 2\n",
      "Lambda: 0.16361514626247023\n",
      "Evaluation of expression: -0.29668371898521817\n",
      "\n",
      "\n",
      "Iteration: 3\n",
      "Lambda: 0.1476368666245868\n",
      "Evaluation of expression: 0.5499576638891663\n",
      "\n",
      "\n",
      "Iteration: 4\n",
      "Lambda: 0.15562600644352853\n",
      "Evaluation of expression: 0.11242916969556194\n",
      "\n",
      "\n",
      "Iteration: 5\n",
      "Lambda: 0.15962057635299937\n",
      "Evaluation of expression: -0.10633507740123882\n",
      "\n",
      "\n",
      "Iteration: 6\n",
      "Lambda: 0.15762329139826395\n",
      "Evaluation of expression: 0.0030470461471614474\n",
      "\n",
      "\n",
      "Iteration: 7\n",
      "Lambda: 0.15862193387563167\n",
      "Evaluation of expression: -0.05164401562703935\n",
      "\n",
      "\n",
      "Iteration: 8\n",
      "Lambda: 0.15812261263694782\n",
      "Evaluation of expression: -0.024298484739939674\n",
      "\n",
      "\n",
      "Iteration: 9\n",
      "Lambda: 0.15787295201760587\n",
      "Evaluation of expression: -0.010625719296388336\n",
      "\n",
      "\n",
      "Iteration: 10\n",
      "Lambda: 0.1577481217079349\n",
      "Evaluation of expression: -0.0037893365746125562\n",
      "\n",
      "\n",
      "Iteration: 11\n",
      "Lambda: 0.15768570655309944\n",
      "Evaluation of expression: -0.00037114521372627607\n",
      "\n",
      "\n",
      "Iteration: 12\n",
      "Lambda: 0.15765449897568168\n",
      "Evaluation of expression: 0.0013379504667183628\n",
      "\n",
      "\n",
      "Iteration: 13\n",
      "Lambda: 0.15767010276439056\n",
      "Evaluation of expression: 0.0004834026264961544\n",
      "\n",
      "\n",
      "Iteration: 14\n",
      "Lambda: 0.15767790465874498\n",
      "Evaluation of expression: 5.61287063856053e-05\n",
      "\n",
      "\n",
      "Iteration: 15\n",
      "Lambda: 0.1576818056059222\n",
      "Evaluation of expression: -0.00015750825367033539\n",
      "\n",
      "\n",
      "Iteration: 16\n",
      "Lambda: 0.1576798551323336\n",
      "Evaluation of expression: -5.068977364230953e-05\n",
      "\n",
      "\n",
      "Iteration: 17\n",
      "Lambda: 0.1576788798955393\n",
      "Evaluation of expression: 2.719466370981749e-06\n",
      "\n",
      "\n",
      "Iteration: 18\n",
      "Lambda: 0.15767936751393646\n",
      "Evaluation of expression: -2.3985153636441048e-05\n",
      "\n",
      "\n",
      "Iteration: 19\n",
      "Lambda: 0.15767912370473788\n",
      "Evaluation of expression: -1.0632843632674138e-05\n",
      "\n",
      "\n",
      "Iteration: 20\n",
      "Lambda: 0.1576790018001386\n",
      "Evaluation of expression: -3.956688631623351e-06\n",
      "\n",
      "\n",
      "Iteration: 21\n",
      "Lambda: 0.15767894084783896\n",
      "Evaluation of expression: -6.186111304318231e-07\n",
      "\n",
      "\n",
      "Iteration: 22\n",
      "Lambda: 0.15767891037168913\n",
      "Evaluation of expression: 1.0504276202194518e-06\n",
      "\n",
      "\n",
      "Iteration: 23\n",
      "Lambda: 0.15767892560976404\n",
      "Evaluation of expression: 2.1590824483830318e-07\n",
      "\n",
      "\n",
      "Iteration: 24\n",
      "Lambda: 0.1576789332288015\n",
      "Evaluation of expression: -2.0135144274124883e-07\n",
      "\n",
      "\n",
      "Iteration: 25\n",
      "Lambda: 0.15767892941928277\n",
      "Evaluation of expression: 7.278401215060626e-09\n",
      "\n",
      "\n",
      "Iteration: 26\n",
      "Lambda: 0.15767893132404215\n",
      "Evaluation of expression: -9.703652148473907e-08\n",
      "\n",
      "\n",
      "Iteration: 27\n",
      "Lambda: 0.15767893037166247\n",
      "Evaluation of expression: -4.487906102301764e-08\n",
      "\n",
      "\n",
      "Iteration: 28\n",
      "Lambda: 0.1576789298954726\n",
      "Evaluation of expression: -1.8800329182333542e-08\n",
      "\n",
      "\n",
      "Iteration: 29\n",
      "Lambda: 0.15767892965737768\n",
      "Evaluation of expression: -5.760963261991492e-09\n",
      "\n",
      "\n",
      "Iteration: 30\n",
      "Lambda: 0.15767892953833024\n",
      "Evaluation of expression: 7.587181993784498e-10\n",
      "\n"
     ]
    }
   ],
   "source": [
    "# using line search to find lambda\n",
    "\n",
    "# upper bound, we know that if lambda causes all of the terms to be zero, we went too far.\n",
    "# i.e., alpha_i - upper_bound_lambda <= 0 \\forall i\n",
    "upper_bound_lambda = np.max(alpha)\n",
    "\n",
    "# lower bound, we know that each term in the sum is >= 0 and <= the total sum term.\n",
    "# so just find the lower bound of each term and take the maximum out of all of these terms\n",
    "# for each term, lambda = alpha_i - alpha_i^2 - sigma_i^2\n",
    "lower_bound_lambda = np.min(alpha - (alpha_element_squared + sigma_element_squared))\n",
    "\n",
    "print(f\"Lower bound lambda: {lower_bound_lambda}\")\n",
    "print(f\"Upper bound lambda: {upper_bound_lambda}\")\n",
    "\n",
    "# now line search/binary search to find lambda\n",
    "\n",
    "# first we need to evaluate the value of the summation expression in formula 3.12\n",
    "# https://maslov.bioengineering.illinois.edu/optimal_investment_ijtaf.pdf\n",
    "\n",
    "# evaluation of expression, f(lambda)\n",
    "def eval_expression(lambda_value):\n",
    "    # subtract one so I can get something like \\sum - 1 = 0 to solve.\n",
    "    fractional_terms = (alpha - lambda_value) / (alpha_element_squared + sigma_element_squared)\n",
    "    \n",
    "    # heavyside function\n",
    "    fractional_terms = np.maximum(fractional_terms, 0)\n",
    "    \n",
    "    return np.sum(fractional_terms) - 1\n",
    "\n",
    "# sanity check, the correct value (0) is between the upper bound and lower bound\n",
    "print(f\"Performing a check that 0 is between the evaluation of lower bound lambda ({eval_expression(lower_bound_lambda)})\")\n",
    "print(f\"and the evaluation of upper bound lambda ({eval_expression(upper_bound_lambda)})\\n\")\n",
    "\n",
    "# tolerance term\n",
    "tolerance = 1e-9\n",
    "\n",
    "# initialize our loop with our initial guess for our line search\n",
    "lower_lambda = lower_bound_lambda\n",
    "upper_lambda = upper_bound_lambda\n",
    "middle_lambda = (lower_bound_lambda + upper_bound_lambda) / 2\n",
    "\n",
    "iterations = 0\n",
    "\n",
    "while np.abs(eval_expression(middle_lambda)) > tolerance:\n",
    "    # evaluate the expression with updated lambda\n",
    "    middle_value = eval_expression(middle_lambda)\n",
    "    \n",
    "    # if eval of expression (middle_value) is > 0, then lambda guess is too small.\n",
    "    # Middle lambda becomes new lower lambda.\n",
    "    if middle_value > 0:\n",
    "        lower_lambda = middle_lambda\n",
    "    # else, lambda guess is too large. Middle lambda becomes new upper lambda.\n",
    "    else:\n",
    "        upper_lambda = middle_lambda\n",
    "        \n",
    "    # new middle lambda is halfway between lower and upper lambda\n",
    "    middle_lambda = (lower_lambda + upper_lambda) / 2\n",
    "\n",
    "    iterations += 1\n",
    "    print_message = f'''\n",
    "Iteration: {iterations}\n",
    "Lambda: {middle_lambda}\n",
    "Evaluation of expression: {eval_expression(middle_lambda)}\n",
    "'''\n",
    "    print(print_message)\n"
   ]
  },
  {
   "cell_type": "code",
   "execution_count": 17,
   "metadata": {},
   "outputs": [
    {
     "data": {
      "image/png": "[encoded data removed]",
      "text/plain": [
       "<Figure size 432x288 with 1 Axes>"
      ]
     },
     "metadata": {
      "needs_background": "light"
     },
     "output_type": "display_data"
    }
   ],
   "source": [
    "# plot to confirm correct lambda value\n",
    "# intersection of 0 and f(lambda) indicates correct lambda value\n",
    "\n",
    "# 101 evenly spaced points between lower bound lambda and upper bound lambda\n",
    "x = np.linspace(lower_bound_lambda, upper_bound_lambda, 101)\n",
    "\n",
    "# evaluate each of these 101 points and plot them, f(lambda)\n",
    "plt.plot(x, [eval_expression(el) for el in x], label='f(lambda)')\n",
    "\n",
    "# plot 0\n",
    "plt.plot([0, 1], [0, 0], label='0')\n",
    "\n",
    "plt.legend()\n",
    "plt.xlabel('Lambda')\n",
    "plt.ylim([-1,1])\n",
    "\n",
    "plt.show()"
   ]
  },
  {
   "cell_type": "markdown",
   "metadata": {},
   "source": [
    "# Final Output"
   ]
  },
  {
   "cell_type": "code",
   "execution_count": 18,
   "metadata": {},
   "outputs": [
    {
     "name": "stdout",
     "output_type": "stream",
     "text": [
      "\u001b[1m\u001b[4mSuggested investment proportions\n"
     ]
    },
    {
     "data": {
      "text/plain": [
       "[[0.8339635704639179, 'MRNA'],\n",
       " [0.16603642953608205, 'TSLA'],\n",
       " [0.0, 'NWL'],\n",
       " [0.0, 'NVR'],\n",
       " [0.0, 'NVDA'],\n",
       " [0.0, 'NUE'],\n",
       " [0.0, 'NTRS'],\n",
       " [0.0, 'NTAP'],\n",
       " [0.0, 'NSC'],\n",
       " [0.0, 'NRG']]"
      ]
     },
     "execution_count": 18,
     "metadata": {},
     "output_type": "execute_result"
    }
   ],
   "source": [
    "# get the optimal investment portfolio. Formula 3.11\n",
    "r_opt = np.maximum(0, (alpha - middle_lambda) / (alpha_element_squared + sigma_element_squared))\n",
    "\n",
    "# flatten r_opt array. Collapse into one dimension.\n",
    "r_opt = r_opt.flatten()\n",
    "\n",
    "# store indices of best stocks (stocks with largest recommended investment portions)\n",
    "best_stock_indices = np.argsort(-r_opt)[:MAX_NUM_STOCKS]\n",
    "\n",
    "# use the best stock indices to pull the recommend investment portions of these best stocks\n",
    "best_stock_prices = r_opt[best_stock_indices]\n",
    "\n",
    "# normalize best stock proportions so they add up to 1\n",
    "best_stock_prices /= np.sum(best_stock_prices)\n",
    "\n",
    "# create an array with each best stock ticker listed with the corresponding investment portion\n",
    "r_opt_top_stocks_with_names = []\n",
    "for best_stock_price, best_stock_index in zip(best_stock_prices, best_stock_indices):\n",
    "    r_opt_top_stocks_with_names.append([best_stock_price, index_to_ticker[best_stock_index]])\n",
    "\n",
    "print ('\\033[1m' + '\\033[4m' + 'Suggested investment proportions')\n",
    "r_opt_top_stocks_with_names\n"
   ]
  },
  {
   "cell_type": "code",
   "execution_count": 19,
   "metadata": {},
   "outputs": [
    {
     "name": "stdout",
     "output_type": "stream",
     "text": [
      "Mean/expected total return: 0.190121721156131 (20.94%)\n",
      "Variance:  0.0020762250098369946\n",
      "Standard dev:  0.04556561214158101 \n",
      "\n",
      "99.0% confidence interval: 0.190121721156131 ± 0.11736923898842792\n",
      "Expected investment return: 7.55% - 36.0%\n",
      "\n",
      "95.0% confidence interval: 0.190121721156131 ± 0.08930695873101978\n",
      "Expected investment return: 10.61% - 32.24%\n",
      "\n",
      "85.0% confidence interval: 0.190121721156131 ± 0.06559313267038126\n",
      "Expected investment return: 13.26% - 29.14%\n",
      "\n"
     ]
    }
   ],
   "source": [
    "# calculate mean, variance, and standard deviation of expected return\n",
    "expected_val = np.dot(r_opt, alpha)\n",
    "variance = multi_dot([r_opt.T, covariance_matrix, r_opt])\n",
    "standard_dev = np.sqrt(variance)\n",
    "\n",
    "expected_return_percent = np.round(100 * (np.exp(expected_val) - 1), 2)\n",
    "\n",
    "print(f\"Mean/expected total return: {expected_val} ({expected_return_percent}%)\")\n",
    "print(\"Variance: \", variance)\n",
    "print(\"Standard dev: \", standard_dev, \"\\n\")\n",
    "\n",
    "# Calculating confidence intervals:\n",
    "# https://docs.scipy.org/doc/scipy/reference/generated/scipy.stats.zscore.html\n",
    "\n",
    "for confidence_level in [0.99, 0.95, 0.85]:\n",
    "    error = abs(st.norm.ppf((1-confidence_level)/2)) * standard_dev\n",
    "    print(f\"{confidence_level * 100}% confidence interval: {expected_val}\", u\"\\u00B1\", error)\n",
    "    \n",
    "    lower_bound_percent = np.round(100 * (np.exp(expected_val - error) - 1), 2)\n",
    "    upper_bound_percent = np.round(100 * (np.exp(expected_val + error) - 1), 2)\n",
    "    print(f\"Expected investment return: {lower_bound_percent}% - {upper_bound_percent}%\\n\")\n"
   ]
  },
  {
   "cell_type": "code",
   "execution_count": null,
   "metadata": {},
   "outputs": [],
   "source": []
  }
 ],
 "metadata": {
  "kernelspec": {
   "display_name": "Python 3",
   "language": "python",
   "name": "python3"
  },
  "language_info": {
   "codemirror_mode": {
    "name": "ipython",
    "version": 3
   },
   "file_extension": ".py",
   "mimetype": "text/x-python",
   "name": "python",
   "nbconvert_exporter": "python",
   "pygments_lexer": "ipython3",
   "version": "3.8.3"
  }
 },
 "nbformat": 4,
 "nbformat_minor": 5
}
