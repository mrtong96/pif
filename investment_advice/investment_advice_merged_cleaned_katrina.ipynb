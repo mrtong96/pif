{
 "cells": [
  {
   "cell_type": "markdown",
   "metadata": {},
   "source": [
    "# User Input Variables"
   ]
  },
  {
   "cell_type": "code",
   "execution_count": 1,
   "metadata": {},
   "outputs": [],
   "source": [
    "import datetime\n",
    "\n",
    "# desired max number of stocks to be recommended to invest in\n",
    "max_num_stocks = 10\n",
    "\n",
    "# length of time user plans to hold these stocks before selling\n",
    "investment_window_days = 30\n",
    "\n",
    "# end date is today. This should not be changed by the user.\n",
    "end_date = datetime.datetime.now().date()\n",
    "\n",
    "# start date indicating how far back to look at historical data of stocks\n",
    "start_date = end_date - datetime.timedelta(days=365 * 2)\n",
    "\n",
    "# end user input variables"
   ]
  },
  {
   "cell_type": "code",
   "execution_count": 2,
   "metadata": {},
   "outputs": [
    {
     "name": "stdout",
     "output_type": "stream",
     "text": [
      "Requirement already up-to-date: yahoo_fin in c:\\users\\katri\\anaconda3\\lib\\site-packages (0.8.9.1)\n",
      "Requirement already satisfied, skipping upgrade: requests in c:\\users\\katri\\anaconda3\\lib\\site-packages (from yahoo_fin) (2.24.0)\n",
      "Requirement already satisfied, skipping upgrade: pandas in c:\\users\\katri\\anaconda3\\lib\\site-packages (from yahoo_fin) (1.0.5)\n",
      "Requirement already satisfied, skipping upgrade: feedparser in c:\\users\\katri\\anaconda3\\lib\\site-packages (from yahoo_fin) (6.0.2)\n",
      "Requirement already satisfied, skipping upgrade: requests-html in c:\\users\\katri\\anaconda3\\lib\\site-packages (from yahoo_fin) (0.10.0)\n",
      "Requirement already satisfied, skipping upgrade: certifi>=2017.4.17 in c:\\users\\katri\\anaconda3\\lib\\site-packages (from requests->yahoo_fin) (2020.6.20)\n",
      "Requirement already satisfied, skipping upgrade: idna<3,>=2.5 in c:\\users\\katri\\anaconda3\\lib\\site-packages (from requests->yahoo_fin) (2.10)\n",
      "Requirement already satisfied, skipping upgrade: urllib3!=1.25.0,!=1.25.1,<1.26,>=1.21.1 in c:\\users\\katri\\anaconda3\\lib\\site-packages (from requests->yahoo_fin) (1.25.9)\n",
      "Requirement already satisfied, skipping upgrade: chardet<4,>=3.0.2 in c:\\users\\katri\\anaconda3\\lib\\site-packages (from requests->yahoo_fin) (3.0.4)\n",
      "Requirement already satisfied, skipping upgrade: numpy>=1.13.3 in c:\\users\\katri\\anaconda3\\lib\\site-packages (from pandas->yahoo_fin) (1.19.5)\n",
      "Requirement already satisfied, skipping upgrade: pytz>=2017.2 in c:\\users\\katri\\anaconda3\\lib\\site-packages (from pandas->yahoo_fin) (2020.1)\n",
      "Requirement already satisfied, skipping upgrade: python-dateutil>=2.6.1 in c:\\users\\katri\\anaconda3\\lib\\site-packages (from pandas->yahoo_fin) (2.8.1)\n",
      "Requirement already satisfied, skipping upgrade: sgmllib3k in c:\\users\\katri\\anaconda3\\lib\\site-packages (from feedparser->yahoo_fin) (1.0.0)\n",
      "Requirement already satisfied, skipping upgrade: parse in c:\\users\\katri\\anaconda3\\lib\\site-packages (from requests-html->yahoo_fin) (1.19.0)\n",
      "Requirement already satisfied, skipping upgrade: w3lib in c:\\users\\katri\\anaconda3\\lib\\site-packages (from requests-html->yahoo_fin) (1.22.0)\n",
      "Requirement already satisfied, skipping upgrade: pyquery in c:\\users\\katri\\anaconda3\\lib\\site-packages (from requests-html->yahoo_fin) (1.4.3)\n",
      "Requirement already satisfied, skipping upgrade: bs4 in c:\\users\\katri\\anaconda3\\lib\\site-packages (from requests-html->yahoo_fin) (0.0.1)\n",
      "Requirement already satisfied, skipping upgrade: fake-useragent in c:\\users\\katri\\anaconda3\\lib\\site-packages (from requests-html->yahoo_fin) (0.1.11)\n",
      "Requirement already satisfied, skipping upgrade: pyppeteer>=0.0.14 in c:\\users\\katri\\anaconda3\\lib\\site-packages (from requests-html->yahoo_fin) (0.2.5)\n",
      "Requirement already satisfied, skipping upgrade: six>=1.5 in c:\\users\\katri\\anaconda3\\lib\\site-packages (from python-dateutil>=2.6.1->pandas->yahoo_fin) (1.15.0)\n",
      "Requirement already satisfied, skipping upgrade: lxml>=2.1 in c:\\users\\katri\\anaconda3\\lib\\site-packages (from pyquery->requests-html->yahoo_fin) (4.5.2)\n",
      "Requirement already satisfied, skipping upgrade: cssselect>0.7.9 in c:\\users\\katri\\anaconda3\\lib\\site-packages (from pyquery->requests-html->yahoo_fin) (1.1.0)\n",
      "Requirement already satisfied, skipping upgrade: beautifulsoup4 in c:\\users\\katri\\anaconda3\\lib\\site-packages (from bs4->requests-html->yahoo_fin) (4.9.1)\n",
      "Requirement already satisfied, skipping upgrade: websockets<9.0,>=8.1 in c:\\users\\katri\\anaconda3\\lib\\site-packages (from pyppeteer>=0.0.14->requests-html->yahoo_fin) (8.1)\n",
      "Requirement already satisfied, skipping upgrade: appdirs<2.0.0,>=1.4.3 in c:\\users\\katri\\anaconda3\\lib\\site-packages (from pyppeteer>=0.0.14->requests-html->yahoo_fin) (1.4.4)\n",
      "Requirement already satisfied, skipping upgrade: pyee<9.0.0,>=8.1.0 in c:\\users\\katri\\anaconda3\\lib\\site-packages (from pyppeteer>=0.0.14->requests-html->yahoo_fin) (8.1.0)\n",
      "Requirement already satisfied, skipping upgrade: tqdm<5.0.0,>=4.42.1 in c:\\users\\katri\\anaconda3\\lib\\site-packages (from pyppeteer>=0.0.14->requests-html->yahoo_fin) (4.47.0)\n",
      "Requirement already satisfied, skipping upgrade: soupsieve>1.2 in c:\\users\\katri\\anaconda3\\lib\\site-packages (from beautifulsoup4->bs4->requests-html->yahoo_fin) (2.0.1)\n",
      "Requirement already satisfied: multiprocess in c:\\users\\katri\\anaconda3\\lib\\site-packages (0.70.11.1)\n",
      "Requirement already satisfied: dill>=0.3.3 in c:\\users\\katri\\anaconda3\\lib\\site-packages (from multiprocess) (0.3.3)\n",
      "Requirement already satisfied: pyarrow in c:\\users\\katri\\anaconda3\\lib\\site-packages (4.0.0)\n",
      "Requirement already satisfied: numpy>=1.16.6 in c:\\users\\katri\\anaconda3\\lib\\site-packages (from pyarrow) (1.19.5)\n",
      "Requirement already satisfied: keras==2.4.3 in c:\\users\\katri\\anaconda3\\lib\\site-packages (2.4.3)\n",
      "Requirement already satisfied: h5py in c:\\users\\katri\\anaconda3\\lib\\site-packages (from keras==2.4.3) (3.1.0)\n",
      "Requirement already satisfied: scipy>=0.14 in c:\\users\\katri\\anaconda3\\lib\\site-packages (from keras==2.4.3) (1.5.0)\n",
      "Requirement already satisfied: pyyaml in c:\\users\\katri\\anaconda3\\lib\\site-packages (from keras==2.4.3) (5.3.1)\n",
      "Requirement already satisfied: numpy>=1.9.1 in c:\\users\\katri\\anaconda3\\lib\\site-packages (from keras==2.4.3) (1.19.5)\n",
      "Requirement already satisfied: tensorflow in c:\\users\\katri\\anaconda3\\lib\\site-packages (2.5.0)\n",
      "Requirement already satisfied: numpy~=1.19.2 in c:\\users\\katri\\anaconda3\\lib\\site-packages (from tensorflow) (1.19.5)\n",
      "Requirement already satisfied: wrapt~=1.12.1 in c:\\users\\katri\\anaconda3\\lib\\site-packages (from tensorflow) (1.12.1)\n",
      "Requirement already satisfied: tensorboard~=2.5 in c:\\users\\katri\\anaconda3\\lib\\site-packages (from tensorflow) (2.5.0)\n",
      "Requirement already satisfied: tensorflow-estimator<2.6.0,>=2.5.0rc0 in c:\\users\\katri\\anaconda3\\lib\\site-packages (from tensorflow) (2.5.0)\n",
      "Requirement already satisfied: h5py~=3.1.0 in c:\\users\\katri\\anaconda3\\lib\\site-packages (from tensorflow) (3.1.0)\n",
      "Requirement already satisfied: wheel~=0.35 in c:\\users\\katri\\anaconda3\\lib\\site-packages (from tensorflow) (0.36.2)\n",
      "Requirement already satisfied: keras-preprocessing~=1.1.2 in c:\\users\\katri\\anaconda3\\lib\\site-packages (from tensorflow) (1.1.2)\n",
      "Requirement already satisfied: absl-py~=0.10 in c:\\users\\katri\\anaconda3\\lib\\site-packages (from tensorflow) (0.12.0)\n",
      "Requirement already satisfied: keras-nightly~=2.5.0.dev in c:\\users\\katri\\anaconda3\\lib\\site-packages (from tensorflow) (2.5.0.dev2021032900)\n",
      "Requirement already satisfied: astunparse~=1.6.3 in c:\\users\\katri\\anaconda3\\lib\\site-packages (from tensorflow) (1.6.3)\n",
      "Requirement already satisfied: google-pasta~=0.2 in c:\\users\\katri\\anaconda3\\lib\\site-packages (from tensorflow) (0.2.0)\n",
      "Requirement already satisfied: typing-extensions~=3.7.4 in c:\\users\\katri\\anaconda3\\lib\\site-packages (from tensorflow) (3.7.4.2)\n",
      "Requirement already satisfied: grpcio~=1.34.0 in c:\\users\\katri\\anaconda3\\lib\\site-packages (from tensorflow) (1.34.1)\n",
      "Requirement already satisfied: opt-einsum~=3.3.0 in c:\\users\\katri\\anaconda3\\lib\\site-packages (from tensorflow) (3.3.0)\n",
      "Requirement already satisfied: six~=1.15.0 in c:\\users\\katri\\anaconda3\\lib\\site-packages (from tensorflow) (1.15.0)\n",
      "Requirement already satisfied: flatbuffers~=1.12.0 in c:\\users\\katri\\anaconda3\\lib\\site-packages (from tensorflow) (1.12)\n",
      "Requirement already satisfied: gast==0.4.0 in c:\\users\\katri\\anaconda3\\lib\\site-packages (from tensorflow) (0.4.0)\n",
      "Requirement already satisfied: protobuf>=3.9.2 in c:\\users\\katri\\anaconda3\\lib\\site-packages (from tensorflow) (3.17.3)\n",
      "Requirement already satisfied: termcolor~=1.1.0 in c:\\users\\katri\\anaconda3\\lib\\site-packages (from tensorflow) (1.1.0)\n",
      "Requirement already satisfied: tensorboard-data-server<0.7.0,>=0.6.0 in c:\\users\\katri\\anaconda3\\lib\\site-packages (from tensorboard~=2.5->tensorflow) (0.6.1)\n",
      "Requirement already satisfied: google-auth<2,>=1.6.3 in c:\\users\\katri\\anaconda3\\lib\\site-packages (from tensorboard~=2.5->tensorflow) (1.30.2)\n",
      "Requirement already satisfied: setuptools>=41.0.0 in c:\\users\\katri\\anaconda3\\lib\\site-packages (from tensorboard~=2.5->tensorflow) (49.2.0.post20200714)\n",
      "Requirement already satisfied: google-auth-oauthlib<0.5,>=0.4.1 in c:\\users\\katri\\anaconda3\\lib\\site-packages (from tensorboard~=2.5->tensorflow) (0.4.4)\n",
      "Requirement already satisfied: werkzeug>=0.11.15 in c:\\users\\katri\\anaconda3\\lib\\site-packages (from tensorboard~=2.5->tensorflow) (1.0.1)\n",
      "Requirement already satisfied: markdown>=2.6.8 in c:\\users\\katri\\anaconda3\\lib\\site-packages (from tensorboard~=2.5->tensorflow) (3.3.4)\n",
      "Requirement already satisfied: tensorboard-plugin-wit>=1.6.0 in c:\\users\\katri\\anaconda3\\lib\\site-packages (from tensorboard~=2.5->tensorflow) (1.8.0)\n",
      "Requirement already satisfied: requests<3,>=2.21.0 in c:\\users\\katri\\anaconda3\\lib\\site-packages (from tensorboard~=2.5->tensorflow) (2.24.0)\n",
      "Requirement already satisfied: cachetools<5.0,>=2.0.0 in c:\\users\\katri\\anaconda3\\lib\\site-packages (from google-auth<2,>=1.6.3->tensorboard~=2.5->tensorflow) (4.2.2)\n",
      "Requirement already satisfied: pyasn1-modules>=0.2.1 in c:\\users\\katri\\anaconda3\\lib\\site-packages (from google-auth<2,>=1.6.3->tensorboard~=2.5->tensorflow) (0.2.8)\n",
      "Requirement already satisfied: rsa<5,>=3.1.4; python_version >= \"3.6\" in c:\\users\\katri\\anaconda3\\lib\\site-packages (from google-auth<2,>=1.6.3->tensorboard~=2.5->tensorflow) (4.7.2)\n",
      "Requirement already satisfied: requests-oauthlib>=0.7.0 in c:\\users\\katri\\anaconda3\\lib\\site-packages (from google-auth-oauthlib<0.5,>=0.4.1->tensorboard~=2.5->tensorflow) (1.3.0)\n",
      "Requirement already satisfied: chardet<4,>=3.0.2 in c:\\users\\katri\\anaconda3\\lib\\site-packages (from requests<3,>=2.21.0->tensorboard~=2.5->tensorflow) (3.0.4)\n",
      "Requirement already satisfied: idna<3,>=2.5 in c:\\users\\katri\\anaconda3\\lib\\site-packages (from requests<3,>=2.21.0->tensorboard~=2.5->tensorflow) (2.10)\n",
      "Requirement already satisfied: urllib3!=1.25.0,!=1.25.1,<1.26,>=1.21.1 in c:\\users\\katri\\anaconda3\\lib\\site-packages (from requests<3,>=2.21.0->tensorboard~=2.5->tensorflow) (1.25.9)\n",
      "Requirement already satisfied: certifi>=2017.4.17 in c:\\users\\katri\\anaconda3\\lib\\site-packages (from requests<3,>=2.21.0->tensorboard~=2.5->tensorflow) (2020.6.20)\n",
      "Requirement already satisfied: pyasn1<0.5.0,>=0.4.6 in c:\\users\\katri\\anaconda3\\lib\\site-packages (from pyasn1-modules>=0.2.1->google-auth<2,>=1.6.3->tensorboard~=2.5->tensorflow) (0.4.8)\n",
      "Requirement already satisfied: oauthlib>=3.0.0 in c:\\users\\katri\\anaconda3\\lib\\site-packages (from requests-oauthlib>=0.7.0->google-auth-oauthlib<0.5,>=0.4.1->tensorboard~=2.5->tensorflow) (3.1.1)\n"
     ]
    }
   ],
   "source": [
    "# install packages\n",
    "\n",
    "! pip3 install yahoo_fin -U\n",
    "! pip3 install multiprocess\n",
    "! pip3 install pyarrow\n",
    "\n",
    "# ML packages\n",
    "! pip3 install keras==2.4.3\n",
    "! pip3 install tensorflow"
   ]
  },
  {
   "cell_type": "code",
   "execution_count": 3,
   "metadata": {},
   "outputs": [],
   "source": [
    "# import libraries and functions\n",
    "\n",
    "import json\n",
    "import pandas as pd\n",
    "import numpy as np\n",
    "from yahoo_fin import stock_info\n",
    "import yahoo_fin\n",
    "\n",
    "from multiprocessing import Pool\n",
    "import multiprocess as mp\n",
    "from collections import Counter\n",
    "\n",
    "import itertools\n",
    "import keras\n",
    "from sklearn.model_selection import train_test_split\n",
    "import matplotlib.pyplot as plt\n",
    "\n",
    "import math\n",
    "from numpy.linalg import multi_dot\n",
    "import scipy.stats as st"
   ]
  },
  {
   "cell_type": "code",
   "execution_count": 4,
   "metadata": {},
   "outputs": [],
   "source": [
    "# import get_historical_data function from get_historical_data.py\n",
    "from get_historical_data import get_historical_data\n",
    "\n",
    "# get historical stock price data\n",
    "def get_historical_data_batch(tickers, start_date, end_date):\n",
    "    historical_data = []\n",
    "    with Pool(32) as p:\n",
    "        historical_data = p.map(get_historical_data, tickers)\n",
    "    return historical_data"
   ]
  },
  {
   "cell_type": "code",
   "execution_count": 5,
   "metadata": {},
   "outputs": [
    {
     "name": "stdout",
     "output_type": "stream",
     "text": [
      "Wall time: 36.8 s\n"
     ]
    }
   ],
   "source": [
    "%%time\n",
    "\n",
    "# pull S&P 500 ticker names from stock_info function and save in list called \"tickers\"\n",
    "tickers = stock_info.tickers_sp500()\n",
    "\n",
    "# if '--' is the null ticker, remove it\n",
    "if '--' in tickers:\n",
    "    tickers.remove('--')\n",
    "\n",
    "# store historical stock price data\n",
    "historical_data = get_historical_data_batch(tickers, start_date, end_date)\n"
   ]
  },
  {
   "cell_type": "code",
   "execution_count": 6,
   "metadata": {},
   "outputs": [
    {
     "name": "stdout",
     "output_type": "stream",
     "text": [
      "Wall time: 2.35 s\n"
     ]
    }
   ],
   "source": [
    "%%time\n",
    "\n",
    "# get a filter for some of the historical data\n",
    "ticker_to_historical_data = {ticker_table['ticker'].iloc[0]: ticker_table.sort_values('date')\n",
    "                             for ticker_table in historical_data if not isinstance(ticker_table, tuple)}\n",
    "\n",
    "# build indexes and unique dates\n",
    "unique_dates = sorted(set(itertools.chain.from_iterable([table['date'] for table in ticker_to_historical_data.values()])))\n",
    "unique_dates = np.array(unique_dates, dtype='datetime64[D]')\n",
    "date_to_index = {date: index for index, date in enumerate(unique_dates)}\n",
    "\n",
    "ticker_to_index = {ticker: index for index, ticker in enumerate(sorted(list(ticker_to_historical_data.keys())))}\n",
    "\n",
    "# initialize the data matrix to a bunch of zeros\n",
    "ticker_data_matrix = np.zeros((len(tickers), len(unique_dates)), dtype=np.float)\n",
    "\n",
    "# fill the matrix with data\n",
    "for ticker, ticker_data_table in ticker_to_historical_data.items():\n",
    "    ticker_index = ticker_to_index[ticker]\n",
    "    ticker_dates = np.array(ticker_data_table['date'], dtype='datetime64[D]')\n",
    "    \n",
    "    date_indexes = np.array([date_to_index[cur_date] for cur_date in ticker_dates])\n",
    "    price_data = ticker_data_table['close'].values\n",
    "    ticker_data_matrix[ticker_index, date_indexes] = price_data\n",
    "    \n",
    "# there's some nan values in the data, write them as zero\n",
    "ticker_data_matrix = np.nan_to_num(ticker_data_matrix)\n"
   ]
  },
  {
   "cell_type": "code",
   "execution_count": 7,
   "metadata": {},
   "outputs": [
    {
     "name": "stdout",
     "output_type": "stream",
     "text": [
      "Wall time: 46.7 ms\n"
     ]
    }
   ],
   "source": [
    "%%time\n",
    "\n",
    "# number of unique dates is different from the SNP 500 data.\n",
    "log_price_matrix = np.copy(ticker_data_matrix)\n",
    "log_price_matrix[np.where(log_price_matrix != 0)] = np.log(log_price_matrix[np.where(log_price_matrix != 0)])\n",
    "\n",
    "# fit the log stuff with interpolation\n",
    "x_values = np.array(list(range(log_price_matrix.shape[-1])))\n",
    "for i, time_series in enumerate(log_price_matrix):\n",
    "    mask = time_series != 0\n",
    "    # if there are no non-zero values, give up\n",
    "    if not np.any(mask):\n",
    "        continue\n",
    "    interp_x_values = x_values[mask]\n",
    "    interp_y_values = time_series[mask]\n",
    "    log_price_matrix[i] = np.interp(x_values, interp_x_values, interp_y_values)\n"
   ]
  },
  {
   "cell_type": "code",
   "execution_count": 8,
   "metadata": {},
   "outputs": [
    {
     "name": "stdout",
     "output_type": "stream",
     "text": [
      "Start date:  2020-09-22 \n",
      "End date:  2021-09-22\n",
      "First date index:  253 \n",
      "Last date index:  504\n"
     ]
    }
   ],
   "source": [
    "start_date = (datetime.datetime.now() - datetime.timedelta(days=365)).date()\n",
    "end_date = datetime.datetime.now().date()\n",
    "\n",
    "print(\"Start date: \", start_date, \"\\nEnd date: \", end_date)\n",
    "\n",
    "# calculate mean and covariance\n",
    "def compute_mean_variance(start_date, end_date):\n",
    "    sorted_dates = sorted(date_to_index.keys())\n",
    "    first_date_index = np.searchsorted(sorted_dates, start_date) + 1\n",
    "    last_date_index = np.searchsorted(sorted_dates, end_date)\n",
    "    print(\"First date index: \", first_date_index, \"\\nLast date index: \", last_date_index)\n",
    "    \n",
    "    date_matrix = log_price_matrix[:, first_date_index: last_date_index]\n",
    "    date_diffs = date_matrix[:, 1:] - date_matrix[:, :-1]\n",
    "    \n",
    "    means = np.mean(date_diffs, axis=1)\n",
    "    covariance = (np.dot(date_diffs, date_diffs.T) / (date_diffs.shape[1] ** 1)) - np.outer(means, means)\n",
    "    \n",
    "    return means, covariance\n",
    "\n",
    "means, covariance = compute_mean_variance(start_date, end_date)"
   ]
  },
  {
   "cell_type": "code",
   "execution_count": 9,
   "metadata": {},
   "outputs": [
    {
     "data": {
      "image/png": "[encoded data removed]",
      "text/plain": [
       "<Figure size 432x288 with 1 Axes>"
      ]
     },
     "metadata": {
      "needs_background": "light"
     },
     "output_type": "display_data"
    }
   ],
   "source": [
    "# plot flattened covariance array\n",
    "\n",
    "plt.hist(covariance.flatten(), bins=50)\n",
    "plt.title('Covariance (histogram)')\n",
    "plt.show()"
   ]
  },
  {
   "cell_type": "code",
   "execution_count": 10,
   "metadata": {},
   "outputs": [
    {
     "data": {
      "image/png": "[encoded data removed]",
      "text/plain": [
       "<Figure size 432x288 with 1 Axes>"
      ]
     },
     "metadata": {
      "needs_background": "light"
     },
     "output_type": "display_data"
    }
   ],
   "source": [
    "# variance is the diagonal of covariance matrix\n",
    "\n",
    "plt.hist(np.diag(covariance), bins=50)\n",
    "plt.title('Variance (histogram)')\n",
    "plt.show()"
   ]
  },
  {
   "cell_type": "code",
   "execution_count": 11,
   "metadata": {},
   "outputs": [
    {
     "data": {
      "image/png": "[encoded data removed]",
      "text/plain": [
       "<Figure size 432x288 with 1 Axes>"
      ]
     },
     "metadata": {
      "needs_background": "light"
     },
     "output_type": "display_data"
    }
   ],
   "source": [
    "# calculate and plot Pearson correlation coefficient (normalized covariance)\n",
    "pearsons = [covariance[i, j] / np.sqrt(covariance[i, i] * covariance[j, j])\n",
    "            for i in range(covariance.shape[0]) for j in range(covariance.shape[1])]\n",
    "plt.hist(pearsons, bins=50)\n",
    "plt.title('Pearson correlation coefficient (histogram)')\n",
    "plt.show()"
   ]
  },
  {
   "cell_type": "code",
   "execution_count": 12,
   "metadata": {},
   "outputs": [],
   "source": [
    "output_data = {\n",
    "    'ticker_to_index': ticker_to_index,\n",
    "    'mean_vector': means.tolist(),\n",
    "    'covariance_matrix': covariance.tolist()\n",
    "}\n",
    "\n",
    "# save output data to a text file\n",
    "output_data = json.dumps(output_data, indent=4, sort_keys=True)\n",
    "\n",
    "with open('tmp.txt', 'w') as file:\n",
    "    file.write(output_data)\n",
    "    file.flush()"
   ]
  },
  {
   "cell_type": "code",
   "execution_count": 13,
   "metadata": {},
   "outputs": [],
   "source": [
    "# load the data from the text file\n",
    "json_data = json.loads(open('tmp.txt', 'r').read())\n",
    "\n",
    "# load the covariance matrix, mean vector, and ticker to index data to the corresponding arrays\n",
    "covariance_matrix = np.array(json_data['covariance_matrix'])\n",
    "mean_vector = np.array(json_data['mean_vector'])\n",
    "ticker_to_index = json_data['ticker_to_index']\n",
    "\n",
    "# create dictionary that corresponds index to stock ticker\n",
    "index_to_ticker = {v: k for k, v in ticker_to_index.items()}"
   ]
  },
  {
   "cell_type": "code",
   "execution_count": 14,
   "metadata": {},
   "outputs": [],
   "source": [
    "# alpha is the mean\n",
    "# sigma is the variance along the diagonal\n",
    "# k is the covariance matrix\n",
    "\n",
    "alpha = mean_vector * investment_window_days\n",
    "sigma = np.diag(covariance_matrix) * investment_window_days\n",
    "k = covariance_matrix * investment_window_days"
   ]
  },
  {
   "cell_type": "code",
   "execution_count": 15,
   "metadata": {},
   "outputs": [],
   "source": [
    "# element-wise math\n",
    "\n",
    "# square every term in alpha and sigma\n",
    "alpha_element_squared = alpha * alpha\n",
    "sigma_element_squared = sigma * sigma"
   ]
  },
  {
   "cell_type": "code",
   "execution_count": 16,
   "metadata": {},
   "outputs": [],
   "source": [
    "# invert covariance matrix k\n",
    "k_inv = np.linalg.inv(k)\n",
    "\n",
    "# calculate r_opt using formula 3.10 from \n",
    "# https://maslov.bioengineering.illinois.edu/optimal_investment_ijtaf.pdf\n",
    "r_opt = np.dot(k_inv, alpha)\n"
   ]
  },
  {
   "cell_type": "code",
   "execution_count": 17,
   "metadata": {},
   "outputs": [
    {
     "data": {
      "image/png": "[encoded data removed]",
      "text/plain": [
       "<Figure size 432x288 with 1 Axes>"
      ]
     },
     "metadata": {
      "needs_background": "light"
     },
     "output_type": "display_data"
    }
   ],
   "source": [
    "# square root of variance (diagonal of covariance matrix) is standard deviation\n",
    "\n",
    "plt.hist(np.sqrt(np.diag(covariance_matrix)), bins=50)\n",
    "plt.title('Standard deviation (histogram)')\n",
    "plt.show()"
   ]
  },
  {
   "cell_type": "code",
   "execution_count": 18,
   "metadata": {},
   "outputs": [
    {
     "name": "stdout",
     "output_type": "stream",
     "text": [
      "Lower bound lambda: -0.04032743093029928\n",
      "Upper bound lambda: 0.3409979716520351\n",
      "Performing a check that 0 is between the evaluation of lower bound lambda (57243.667109380665)\n",
      "and the evaluation of upper bound lambda (-1.0)\n",
      "\n",
      "Iteration: 1\n",
      "Lambda: 0.2456666210064515\n",
      "Evaluation of expression: -0.75\n",
      "\n",
      "Iteration: 2\n",
      "Lambda: 0.19800094568365972\n",
      "Evaluation of expression: -0.22609572904326314\n",
      "\n",
      "Iteration: 3\n",
      "Lambda: 0.17416810802226382\n",
      "Evaluation of expression: 0.2883942928963983\n",
      "\n",
      "Iteration: 4\n",
      "Lambda: 0.18608452685296178\n",
      "Evaluation of expression: 0.031149281926567296\n",
      "\n",
      "Iteration: 5\n",
      "Lambda: 0.19204273626831075\n",
      "Evaluation of expression: -0.09747322355834798\n",
      "\n",
      "Iteration: 6\n",
      "Lambda: 0.18906363156063627\n",
      "Evaluation of expression: -0.03316197081589034\n",
      "\n",
      "Iteration: 7\n",
      "Lambda: 0.18757407920679903\n",
      "Evaluation of expression: -0.0010063444446615222\n",
      "\n",
      "Iteration: 8\n",
      "Lambda: 0.1868293030298804\n",
      "Evaluation of expression: 0.015071468740952776\n",
      "\n",
      "Iteration: 9\n",
      "Lambda: 0.18720169111833973\n",
      "Evaluation of expression: 0.007032562148145516\n",
      "\n",
      "Iteration: 10\n",
      "Lambda: 0.18738788516256938\n",
      "Evaluation of expression: 0.003013108851741997\n",
      "\n",
      "Iteration: 11\n",
      "Lambda: 0.1874809821846842\n",
      "Evaluation of expression: 0.0010033822035402373\n",
      "\n",
      "Iteration: 12\n",
      "Lambda: 0.18752753069574163\n",
      "Evaluation of expression: -1.4811205609754907e-06\n",
      "\n",
      "Iteration: 13\n",
      "Lambda: 0.1875042564402129\n",
      "Evaluation of expression: 0.0005009505414899085\n",
      "\n",
      "Iteration: 14\n",
      "Lambda: 0.18751589356797727\n",
      "Evaluation of expression: 0.000249734710464411\n",
      "\n",
      "Iteration: 15\n",
      "Lambda: 0.18752171213185945\n",
      "Evaluation of expression: 0.00012412679495188428\n",
      "\n",
      "Iteration: 16\n",
      "Lambda: 0.18752462141380055\n",
      "Evaluation of expression: 6.132283719506582e-05\n",
      "\n",
      "Iteration: 17\n",
      "Lambda: 0.1875260760547711\n",
      "Evaluation of expression: 2.9920858317211696e-05\n",
      "\n",
      "Iteration: 18\n",
      "Lambda: 0.18752680337525635\n",
      "Evaluation of expression: 1.4219868878395658e-05\n",
      "\n",
      "Iteration: 19\n",
      "Lambda: 0.187527167035499\n",
      "Evaluation of expression: 6.369374158765595e-06\n",
      "\n",
      "Iteration: 20\n",
      "Lambda: 0.1875273488656203\n",
      "Evaluation of expression: 2.4441267987285187e-06\n",
      "\n",
      "Iteration: 21\n",
      "Lambda: 0.18752743978068098\n",
      "Evaluation of expression: 4.815031187099805e-07\n",
      "\n",
      "Iteration: 22\n",
      "Lambda: 0.1875274852382113\n",
      "Evaluation of expression: -4.998087211882662e-07\n",
      "\n",
      "Iteration: 23\n",
      "Lambda: 0.18752746250944613\n",
      "Evaluation of expression: -9.152800961587104e-09\n",
      "\n",
      "Iteration: 24\n",
      "Lambda: 0.18752745114506356\n",
      "Evaluation of expression: 2.3617515898521901e-07\n",
      "\n",
      "Iteration: 25\n",
      "Lambda: 0.18752745682725486\n",
      "Evaluation of expression: 1.1351117867874905e-07\n",
      "\n",
      "Iteration: 26\n",
      "Lambda: 0.1875274596683505\n",
      "Evaluation of expression: 5.2179188969603274e-08\n",
      "\n",
      "Iteration: 27\n",
      "Lambda: 0.1875274610888983\n",
      "Evaluation of expression: 2.1513193892985782e-08\n",
      "\n",
      "Iteration: 28\n",
      "Lambda: 0.18752746179917223\n",
      "Evaluation of expression: 6.180196354677037e-09\n",
      "\n",
      "Iteration: 29\n",
      "Lambda: 0.18752746215430918\n",
      "Evaluation of expression: -1.4863024144773362e-09\n",
      "\n",
      "Iteration: 30\n",
      "Lambda: 0.1875274619767407\n",
      "Evaluation of expression: 2.3469470811221527e-09\n",
      "\n",
      "Iteration: 31\n",
      "Lambda: 0.18752746206552495\n",
      "Evaluation of expression: 4.303220002555008e-10\n",
      "\n"
     ]
    }
   ],
   "source": [
    "# using line search to find lambda\n",
    "\n",
    "# upper bound, we know that if lambda causes all of the terms to be zero, we went too far.\n",
    "# i.e., alpha_i - upper_bound_lambda <= 0 \\forall i\n",
    "upper_bound_lambda = np.max(alpha)\n",
    "\n",
    "# lower bound, we know that each term in the sum is >= 0 and <= the total sum term.\n",
    "# so just find the lower bound of each term and take the maximum out of all of these terms\n",
    "# for each term, lambda = alpha_i - alpha_i^2 - sigma_i^2\n",
    "\n",
    "lower_bound_lambda = np.min(alpha - (alpha_element_squared + sigma_element_squared))\n",
    "\n",
    "print(f\"Lower bound lambda: {lower_bound_lambda}\")\n",
    "print(f\"Upper bound lambda: {upper_bound_lambda}\")\n",
    "\n",
    "# now line search/binary search to find lambda\n",
    "\n",
    "# first we need to evaluate the value of the summation expression in formula 3.12\n",
    "# https://maslov.bioengineering.illinois.edu/optimal_investment_ijtaf.pdf\n",
    "\n",
    "# evaluation of expression, f(lambda)\n",
    "def eval_expression(lambda_value):\n",
    "    # subtract one so I can get something like \\sum - 1 = 0 to solve.\n",
    "    fractional_terms = (alpha - lambda_value) / (alpha_element_squared + sigma_element_squared)\n",
    "    \n",
    "    # heavyside function\n",
    "    fractional_terms = np.maximum(fractional_terms, 0)\n",
    "    \n",
    "    return np.sum(fractional_terms) - 1\n",
    "\n",
    "# sanity check, the correct value (0) is between the upper bound and lower bound\n",
    "print(f\"Performing a check that 0 is between the evaluation of lower bound lambda ({eval_expression(lower_bound_lambda)})\")\n",
    "print(f\"and the evaluation of upper bound lambda ({eval_expression(upper_bound_lambda)})\\n\")\n",
    "\n",
    "# tolerance term\n",
    "tolerance = 1e-9\n",
    "\n",
    "# initialize our loop with our initial guess for our line search\n",
    "lower_lambda = lower_bound_lambda\n",
    "upper_lambda = upper_bound_lambda\n",
    "middle_lambda = (lower_bound_lambda + upper_bound_lambda) / 2\n",
    "\n",
    "iterations = 0\n",
    "\n",
    "# while loop continues while the evaluation of the expression is greater than the tolerance\n",
    "while np.abs(eval_expression(middle_lambda)) > tolerance:\n",
    "    # evaluate the expression with updated lambda\n",
    "    middle_value = eval_expression(middle_lambda)\n",
    "    \n",
    "    # if eval of expression (middle_value) is > 0, then lambda guess is too small. Middle lambda becomes new lower lambda.\n",
    "    if middle_value > 0:\n",
    "        lower_lambda = middle_lambda\n",
    "    \n",
    "    # else, lambda guess is too large. Middle lambda becomes new upper lambda.\n",
    "    else:\n",
    "        upper_lambda = middle_lambda\n",
    "        \n",
    "    # new middle lambda is halfway between lower and upper lambda\n",
    "    middle_lambda = (lower_lambda + upper_lambda) / 2\n",
    "\n",
    "    iterations += 1\n",
    "    print(f'Iteration: {iterations}\\nLambda: {middle_lambda}\\nEvaluation of expression: {eval_expression(middle_lambda)}\\n')\n"
   ]
  },
  {
   "cell_type": "code",
   "execution_count": 19,
   "metadata": {},
   "outputs": [
    {
     "data": {
      "image/png": "[encoded data removed]",
      "text/plain": [
       "<Figure size 432x288 with 1 Axes>"
      ]
     },
     "metadata": {
      "needs_background": "light"
     },
     "output_type": "display_data"
    }
   ],
   "source": [
    "# plot to confirm correct lambda value\n",
    "# intersection of 0 and f(lambda) indicates correct lambda value\n",
    "\n",
    "# 101 evenly spaced points between lower bound lambda and upper bound lambda\n",
    "x = np.linspace(lower_bound_lambda, upper_bound_lambda, 101)\n",
    "\n",
    "# evaluate each of these 101 points and plot them, f(lambda)\n",
    "plt.plot(x, [eval_expression(el) for el in x], label='f(lambda)')\n",
    "\n",
    "# plot 0\n",
    "plt.plot([0, 1], [0, 0], label='0')\n",
    "\n",
    "plt.legend()\n",
    "plt.xlabel('Lambda')\n",
    "plt.ylim([0,1])\n",
    "\n",
    "plt.show()"
   ]
  },
  {
   "cell_type": "markdown",
   "metadata": {},
   "source": [
    "# Final Output"
   ]
  },
  {
   "cell_type": "code",
   "execution_count": 20,
   "metadata": {},
   "outputs": [
    {
     "name": "stdout",
     "output_type": "stream",
     "text": [
      "\u001b[1m\u001b[4mSuggested investment proportions\n"
     ]
    },
    {
     "data": {
      "text/plain": [
       "[[0.5975339998826027, 'MRNA'],\n",
       " [0.40246600011739747, 'GE'],\n",
       " [0.0, 'NWL'],\n",
       " [0.0, 'NVR'],\n",
       " [0.0, 'NVDA'],\n",
       " [0.0, 'NUE'],\n",
       " [0.0, 'NTRS'],\n",
       " [0.0, 'NTAP'],\n",
       " [0.0, 'NSC'],\n",
       " [0.0, 'NRG']]"
      ]
     },
     "execution_count": 20,
     "metadata": {},
     "output_type": "execute_result"
    }
   ],
   "source": [
    "# get the optimal investment portfolio. Formula 3.11\n",
    "r_opt = np.maximum(0, (alpha - middle_lambda) / (alpha_element_squared + sigma_element_squared))\n",
    "\n",
    "# flatten r_opt array. Collapse into one dimension.\n",
    "r_opt = r_opt.flatten()\n",
    "\n",
    "# store indices of best stocks (stocks with largest recommended investment portions)\n",
    "best_stock_indices = np.argsort(-r_opt)[:max_num_stocks]\n",
    "\n",
    "# use the best stock indices to pull the recommend investment ratios/portions of these best stocks\n",
    "best_stock_prices = r_opt[best_stock_indices]\n",
    "\n",
    "# normalize best stock proportions so they add up to 1\n",
    "best_stock_prices /= np.sum(best_stock_prices)\n",
    "\n",
    "# create an array with each best stock ticker listed with the corresponding investment portion\n",
    "r_opt_top_stocks_with_names = []\n",
    "for best_stock_price, best_stock_index in zip(best_stock_prices, best_stock_indices):\n",
    "    r_opt_top_stocks_with_names.append([best_stock_price, index_to_ticker[best_stock_index]])\n",
    "\n",
    "print ('\\033[1m' + '\\033[4m' + 'Suggested investment proportions')\n",
    "r_opt_top_stocks_with_names\n"
   ]
  },
  {
   "cell_type": "code",
   "execution_count": 21,
   "metadata": {},
   "outputs": [
    {
     "name": "stdout",
     "output_type": "stream",
     "text": [
      "Mean/expected total return:  0.2681207353930809\n",
      "Variance:  0.003454334847975773\n",
      "Standard dev:  0.05877358971490318 \n",
      "\n",
      "99.0% confidence interval: 0.2681207353930809 ± 0.15139073466240788\n",
      "95.0% confidence interval: 0.2681207353930809 ± 0.11519411908334397\n",
      "85.0% confidence interval: 0.2681207353930809 ± 0.08460643205462787\n"
     ]
    }
   ],
   "source": [
    "# calculate mean, variance, and standard deviation of expected return\n",
    "expected_val = np.dot(r_opt, alpha)\n",
    "variance = multi_dot([r_opt.T, covariance_matrix, r_opt])\n",
    "standard_dev = np.sqrt(variance)\n",
    "\n",
    "print(\"Mean/expected total return: \", expected_val)\n",
    "print(\"Variance: \", variance)\n",
    "print(\"Standard dev: \", standard_dev, \"\\n\")\n",
    "\n",
    "# Calculating confidence intervals:\n",
    "# https://docs.scipy.org/doc/scipy/reference/generated/scipy.stats.zscore.html\n",
    "\n",
    "for confidence_level in [0.99, 0.95, 0.85]:\n",
    "    error = abs(st.norm.ppf((1-confidence_level)/2)) * standard_dev\n",
    "    print(f\"{confidence_level * 100}% confidence interval: {expected_val}\", u\"\\u00B1\", error)\n"
   ]
  }
 ],
 "metadata": {
  "kernelspec": {
   "display_name": "Python 3",
   "language": "python",
   "name": "python3"
  },
  "language_info": {
   "codemirror_mode": {
    "name": "ipython",
    "version": 3
   },
   "file_extension": ".py",
   "mimetype": "text/x-python",
   "name": "python",
   "nbconvert_exporter": "python",
   "pygments_lexer": "ipython3",
   "version": "3.8.3"
  }
 },
 "nbformat": 4,
 "nbformat_minor": 5
}
