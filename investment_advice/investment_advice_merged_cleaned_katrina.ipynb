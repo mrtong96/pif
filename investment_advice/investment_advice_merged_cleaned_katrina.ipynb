{
 "cells": [
  {
   "cell_type": "markdown",
   "id": "3f018c40",
   "metadata": {},
   "source": [
    "# User Input Variables"
   ]
  },
  {
   "cell_type": "code",
   "execution_count": 1,
   "id": "caa40a93",
   "metadata": {},
   "outputs": [
    {
     "name": "stdout",
     "output_type": "stream",
     "text": [
      "Defaulting to user installation because normal site-packages is not writeable\n",
      "Requirement already satisfied: yahoo_fin in /home/michael/.local/lib/python3.6/site-packages (0.8.9.1)\n",
      "Requirement already satisfied: requests-html in /home/michael/.local/lib/python3.6/site-packages (from yahoo_fin) (0.10.0)\n",
      "Requirement already satisfied: pandas in /home/michael/.local/lib/python3.6/site-packages (from yahoo_fin) (1.1.5)\n",
      "Requirement already satisfied: feedparser in /home/michael/.local/lib/python3.6/site-packages (from yahoo_fin) (6.0.8)\n",
      "Requirement already satisfied: requests in /home/michael/.local/lib/python3.6/site-packages (from yahoo_fin) (2.26.0)\n",
      "Requirement already satisfied: sgmllib3k in /home/michael/.local/lib/python3.6/site-packages (from feedparser->yahoo_fin) (1.0.0)\n",
      "Requirement already satisfied: python-dateutil>=2.7.3 in /home/michael/.local/lib/python3.6/site-packages (from pandas->yahoo_fin) (2.8.2)\n",
      "Requirement already satisfied: numpy>=1.15.4 in /home/michael/.local/lib/python3.6/site-packages (from pandas->yahoo_fin) (1.19.5)\n",
      "Requirement already satisfied: pytz>=2017.2 in /usr/lib/python3/dist-packages (from pandas->yahoo_fin) (2018.3)\n",
      "Requirement already satisfied: six>=1.5 in /home/michael/.local/lib/python3.6/site-packages (from python-dateutil>=2.7.3->pandas->yahoo_fin) (1.15.0)\n",
      "Requirement already satisfied: charset-normalizer~=2.0.0 in /home/michael/.local/lib/python3.6/site-packages (from requests->yahoo_fin) (2.0.4)\n",
      "Requirement already satisfied: certifi>=2017.4.17 in /usr/lib/python3/dist-packages (from requests->yahoo_fin) (2018.1.18)\n",
      "Requirement already satisfied: idna<4,>=2.5 in /usr/lib/python3/dist-packages (from requests->yahoo_fin) (2.6)\n",
      "Requirement already satisfied: urllib3<1.27,>=1.21.1 in /home/michael/.local/lib/python3.6/site-packages (from requests->yahoo_fin) (1.26.6)\n",
      "Requirement already satisfied: pyquery in /home/michael/.local/lib/python3.6/site-packages (from requests-html->yahoo_fin) (1.4.3)\n",
      "Requirement already satisfied: pyppeteer>=0.0.14 in /home/michael/.local/lib/python3.6/site-packages (from requests-html->yahoo_fin) (0.2.5)\n",
      "Requirement already satisfied: w3lib in /home/michael/.local/lib/python3.6/site-packages (from requests-html->yahoo_fin) (1.22.0)\n",
      "Requirement already satisfied: bs4 in /home/michael/.local/lib/python3.6/site-packages (from requests-html->yahoo_fin) (0.0.1)\n",
      "Requirement already satisfied: fake-useragent in /home/michael/.local/lib/python3.6/site-packages (from requests-html->yahoo_fin) (0.1.11)\n",
      "Requirement already satisfied: parse in /home/michael/.local/lib/python3.6/site-packages (from requests-html->yahoo_fin) (1.19.0)\n",
      "Requirement already satisfied: appdirs<2.0.0,>=1.4.3 in /home/michael/.local/lib/python3.6/site-packages (from pyppeteer>=0.0.14->requests-html->yahoo_fin) (1.4.4)\n",
      "Requirement already satisfied: importlib-metadata<3.0.0,>=2.1.1 in /home/michael/.local/lib/python3.6/site-packages (from pyppeteer>=0.0.14->requests-html->yahoo_fin) (2.1.1)\n",
      "Requirement already satisfied: pyee<9.0.0,>=8.1.0 in /home/michael/.local/lib/python3.6/site-packages (from pyppeteer>=0.0.14->requests-html->yahoo_fin) (8.1.0)\n",
      "Requirement already satisfied: tqdm<5.0.0,>=4.42.1 in /home/michael/.local/lib/python3.6/site-packages (from pyppeteer>=0.0.14->requests-html->yahoo_fin) (4.62.0)\n",
      "Requirement already satisfied: websockets<9.0,>=8.1 in /home/michael/.local/lib/python3.6/site-packages (from pyppeteer>=0.0.14->requests-html->yahoo_fin) (8.1)\n",
      "Requirement already satisfied: zipp>=0.5 in /usr/local/lib/python3.6/dist-packages (from importlib-metadata<3.0.0,>=2.1.1->pyppeteer>=0.0.14->requests-html->yahoo_fin) (3.5.0)\n",
      "Requirement already satisfied: beautifulsoup4 in /usr/lib/python3/dist-packages (from bs4->requests-html->yahoo_fin) (4.6.0)\n",
      "Requirement already satisfied: lxml>=2.1 in /usr/lib/python3/dist-packages (from pyquery->requests-html->yahoo_fin) (4.2.1)\n",
      "Requirement already satisfied: cssselect>0.7.9 in /home/michael/.local/lib/python3.6/site-packages (from pyquery->requests-html->yahoo_fin) (1.1.0)\n",
      "\u001b[33mWARNING: You are using pip version 21.2.2; however, version 21.2.4 is available.\n",
      "You should consider upgrading via the '/usr/bin/python3 -m pip install --upgrade pip' command.\u001b[0m\n",
      "Defaulting to user installation because normal site-packages is not writeable\n",
      "Requirement already satisfied: multiprocess in /home/michael/.local/lib/python3.6/site-packages (0.70.12.2)\n",
      "Requirement already satisfied: dill>=0.3.4 in /home/michael/.local/lib/python3.6/site-packages (from multiprocess) (0.3.4)\n",
      "\u001b[33mWARNING: You are using pip version 21.2.2; however, version 21.2.4 is available.\n",
      "You should consider upgrading via the '/usr/bin/python3 -m pip install --upgrade pip' command.\u001b[0m\n",
      "Defaulting to user installation because normal site-packages is not writeable\n",
      "Requirement already satisfied: pyarrow in /home/michael/.local/lib/python3.6/site-packages (5.0.0)\n",
      "Requirement already satisfied: numpy>=1.16.6 in /home/michael/.local/lib/python3.6/site-packages (from pyarrow) (1.19.5)\n",
      "\u001b[33mWARNING: You are using pip version 21.2.2; however, version 21.2.4 is available.\n",
      "You should consider upgrading via the '/usr/bin/python3 -m pip install --upgrade pip' command.\u001b[0m\n"
     ]
    }
   ],
   "source": [
    "# install packages\n",
    "\n",
    "! pip3 install yahoo_fin -U\n",
    "! pip3 install multiprocess\n",
    "! pip3 install pyarrow\n"
   ]
  },
  {
   "cell_type": "code",
   "execution_count": 2,
   "id": "3994dce2",
   "metadata": {},
   "outputs": [],
   "source": [
    "from get_historical_data import get_historical_data\n",
    "from multiprocessing import Pool\n",
    "from numpy.linalg import multi_dot\n",
    "from sklearn.model_selection import train_test_split\n",
    "from yahoo_fin import stock_info\n",
    "\n",
    "import datetime\n",
    "import itertools\n",
    "import matplotlib.pyplot as plt\n",
    "import numpy as np\n",
    "import scipy.stats as st\n"
   ]
  },
  {
   "cell_type": "code",
   "execution_count": 3,
   "id": "2f542d19",
   "metadata": {},
   "outputs": [],
   "source": [
    "# desired max number of stocks to be recommended to invest in\n",
    "MAX_NUM_STOCKS = 10\n",
    "\n",
    "# length of time user plans to hold these stocks before selling\n",
    "INVESTMENT_WINDOW_DAYS = 30\n",
    "\n",
    "# end date is today. This should not be changed by the user.\n",
    "END_DATE = datetime.datetime.now().date()\n",
    "\n",
    "# start date indicating how far back to look at historical data of stocks\n",
    "START_DATE = END_DATE - datetime.timedelta(days=365 * 2)\n"
   ]
  },
  {
   "cell_type": "code",
   "execution_count": 4,
   "id": "4ef84b13",
   "metadata": {},
   "outputs": [],
   "source": [
    "# get historical stock price data\n",
    "def get_historical_data_batch(tickers, start_date, end_date):\n",
    "    historical_data = []\n",
    "    with Pool(32) as p:\n",
    "        historical_data = p.map(get_historical_data, tickers)\n",
    "    return historical_data"
   ]
  },
  {
   "cell_type": "code",
   "execution_count": 5,
   "id": "9d2a32cc",
   "metadata": {},
   "outputs": [
    {
     "name": "stdout",
     "output_type": "stream",
     "text": [
      "CPU times: user 814 ms, sys: 161 ms, total: 975 ms\n",
      "Wall time: 19.8 s\n"
     ]
    }
   ],
   "source": [
    "%%time\n",
    "\n",
    "# pull S&P 500 ticker names from stock_info function and save in list called \"tickers\"\n",
    "tickers = stock_info.tickers_sp500()\n",
    "\n",
    "# if '--' is the null ticker, remove it\n",
    "if '--' in tickers:\n",
    "    tickers.remove('--')\n",
    "\n",
    "# store historical stock price data\n",
    "historical_data = get_historical_data_batch(tickers, START_DATE, END_DATE)\n"
   ]
  },
  {
   "cell_type": "code",
   "execution_count": 6,
   "id": "45723491",
   "metadata": {},
   "outputs": [
    {
     "name": "stdout",
     "output_type": "stream",
     "text": [
      "CPU times: user 881 ms, sys: 0 ns, total: 881 ms\n",
      "Wall time: 881 ms\n"
     ]
    }
   ],
   "source": [
    "%%time\n",
    "\n",
    "# get a filter for some of the historical data\n",
    "ticker_to_historical_data = {ticker_table['ticker'].iloc[0]: ticker_table.sort_values('date')\n",
    "                             for ticker_table in historical_data if not isinstance(ticker_table, tuple)}\n",
    "\n",
    "# build indexes and unique dates\n",
    "unique_dates = sorted(set(itertools.chain.from_iterable([table['date'] for table in ticker_to_historical_data.values()])))\n",
    "unique_dates = np.array(unique_dates, dtype='datetime64[D]')\n",
    "date_to_index = {date: index for index, date in enumerate(unique_dates)}\n",
    "\n",
    "ticker_to_index = {ticker: index for index, ticker in enumerate(sorted(list(ticker_to_historical_data.keys())))}\n",
    "index_to_ticker = {v: k for k, v in ticker_to_index.items()}\n",
    "\n",
    "# initialize the data matrix to a bunch of zeros\n",
    "ticker_data_matrix = np.zeros((len(tickers), len(unique_dates)), dtype=np.float)\n",
    "\n",
    "# fill the matrix with data\n",
    "for ticker, ticker_data_table in ticker_to_historical_data.items():\n",
    "    ticker_index = ticker_to_index[ticker]\n",
    "    ticker_dates = np.array(ticker_data_table['date'], dtype='datetime64[D]')\n",
    "\n",
    "    date_indexes = np.array([date_to_index[cur_date] for cur_date in ticker_dates])\n",
    "    price_data = ticker_data_table['close'].values\n",
    "    ticker_data_matrix[ticker_index, date_indexes] = price_data\n",
    "\n",
    "# there's some nan values in the data, write them as zero\n",
    "ticker_data_matrix = np.nan_to_num(ticker_data_matrix)\n"
   ]
  },
  {
   "cell_type": "code",
   "execution_count": 7,
   "id": "62532617",
   "metadata": {},
   "outputs": [
    {
     "name": "stdout",
     "output_type": "stream",
     "text": [
      "CPU times: user 15.5 ms, sys: 7.15 ms, total: 22.7 ms\n",
      "Wall time: 21.7 ms\n"
     ]
    }
   ],
   "source": [
    "%%time\n",
    "\n",
    "# number of unique dates is different from the SNP 500 data.\n",
    "log_price_matrix = np.copy(ticker_data_matrix)\n",
    "log_price_matrix[np.where(log_price_matrix != 0)] = np.log(log_price_matrix[np.where(log_price_matrix != 0)])\n",
    "\n",
    "# fit the log stuff with interpolation\n",
    "x_values = np.array(list(range(log_price_matrix.shape[-1])))\n",
    "for i, time_series in enumerate(log_price_matrix):\n",
    "    mask = time_series != 0\n",
    "    # if there are no non-zero values, give up\n",
    "    if not np.any(mask):\n",
    "        continue\n",
    "    interp_x_values = x_values[mask]\n",
    "    interp_y_values = time_series[mask]\n",
    "    log_price_matrix[i] = np.interp(x_values, interp_x_values, interp_y_values)\n"
   ]
  },
  {
   "cell_type": "code",
   "execution_count": 8,
   "id": "913bf865",
   "metadata": {},
   "outputs": [],
   "source": [
    "# calculate mean and covariance\n",
    "def compute_mean_variance(start_date, end_date):\n",
    "    date_diffs = log_price_matrix[:, 1:] - log_price_matrix[:, :-1]\n",
    "\n",
    "    mean_vector = np.mean(date_diffs, axis=1)\n",
    "    # Cov[XY] = E[XY] - E[X]E[Y]\n",
    "    covariance_matrix = np.dot(date_diffs, date_diffs.T) / date_diffs.shape[1]\n",
    "    covariance_matrix -= np.outer(mean_vector, mean_vector)\n",
    "\n",
    "    return mean_vector, covariance_matrix\n",
    "\n",
    "mean_vector, covariance_matrix = compute_mean_variance(START_DATE, END_DATE)"
   ]
  },
  {
   "cell_type": "code",
   "execution_count": 9,
   "id": "193dc094",
   "metadata": {},
   "outputs": [
    {
     "data": {
      "image/png": "[encoded data removed]",
      "text/plain": [
       "<Figure size 432x288 with 1 Axes>"
      ]
     },
     "metadata": {
      "needs_background": "light"
     },
     "output_type": "display_data"
    }
   ],
   "source": [
    "# plot flattened covariance array\n",
    "\n",
    "plt.hist(covariance_matrix.flatten(), bins=50)\n",
    "plt.title('Covariance (histogram)')\n",
    "plt.show()"
   ]
  },
  {
   "cell_type": "code",
   "execution_count": 10,
   "id": "6b916148",
   "metadata": {},
   "outputs": [
    {
     "data": {
      "image/png": "[encoded data removed]",
      "text/plain": [
       "<Figure size 432x288 with 1 Axes>"
      ]
     },
     "metadata": {
      "needs_background": "light"
     },
     "output_type": "display_data"
    }
   ],
   "source": [
    "# variance is the diagonal of covariance matrix\n",
    "\n",
    "plt.hist(np.diag(covariance_matrix), bins=50)\n",
    "plt.title('Variance (histogram)')\n",
    "plt.show()"
   ]
  },
  {
   "cell_type": "code",
   "execution_count": 11,
   "id": "ee509fa4",
   "metadata": {},
   "outputs": [
    {
     "data": {
      "image/png": "[encoded data removed]",
      "text/plain": [
       "<Figure size 432x288 with 1 Axes>"
      ]
     },
     "metadata": {
      "needs_background": "light"
     },
     "output_type": "display_data"
    }
   ],
   "source": [
    "# calculate and plot Pearson correlation coefficient (normalized covariance)\n",
    "pearsons = covariance_matrix / np.sqrt(np.outer(np.diag(covariance_matrix), np.diag(covariance_matrix)))\n",
    "plt.hist(pearsons.flatten(), bins=50)\n",
    "plt.title('Pearson correlation coefficient (histogram)')\n",
    "plt.show()"
   ]
  },
  {
   "cell_type": "code",
   "execution_count": 12,
   "id": "162dc7c0",
   "metadata": {},
   "outputs": [],
   "source": [
    "# alpha is the mean\n",
    "# sigma is the variance along the diagonal\n",
    "# k is the covariance matrix\n",
    "\n",
    "alpha = mean_vector * INVESTMENT_WINDOW_DAYS\n",
    "sigma = np.diag(covariance_matrix) * INVESTMENT_WINDOW_DAYS\n",
    "k = covariance_matrix * INVESTMENT_WINDOW_DAYS"
   ]
  },
  {
   "cell_type": "code",
   "execution_count": 13,
   "id": "a1f4e70b",
   "metadata": {},
   "outputs": [],
   "source": [
    "# element-wise math\n",
    "\n",
    "# square every term in alpha and sigma\n",
    "alpha_element_squared = alpha * alpha\n",
    "sigma_element_squared = sigma * sigma"
   ]
  },
  {
   "cell_type": "code",
   "execution_count": 14,
   "id": "7b348c4f",
   "metadata": {},
   "outputs": [],
   "source": [
    "# invert covariance matrix k\n",
    "k_inv = np.linalg.inv(k)\n",
    "\n",
    "# calculate r_opt using formula 3.10 from \n",
    "# https://maslov.bioengineering.illinois.edu/optimal_investment_ijtaf.pdf\n",
    "r_opt = np.dot(k_inv, alpha)\n"
   ]
  },
  {
   "cell_type": "code",
   "execution_count": 15,
   "id": "9cb97a4a",
   "metadata": {},
   "outputs": [
    {
     "data": {
      "image/png": "[encoded data removed]",
      "text/plain": [
       "<Figure size 432x288 with 1 Axes>"
      ]
     },
     "metadata": {
      "needs_background": "light"
     },
     "output_type": "display_data"
    }
   ],
   "source": [
    "# square root of variance (diagonal of covariance matrix) is standard deviation\n",
    "\n",
    "plt.hist(np.sqrt(np.diag(covariance_matrix)), bins=50)\n",
    "plt.title('Standard deviation (histogram)')\n",
    "plt.show()"
   ]
  },
  {
   "cell_type": "code",
   "execution_count": 16,
   "id": "9b068b56",
   "metadata": {},
   "outputs": [
    {
     "name": "stdout",
     "output_type": "stream",
     "text": [
      "Lower bound lambda: -0.06289498232552507\n",
      "Upper bound lambda: 0.18796128072327165\n",
      "Performing a check that 0 is between the evaluation of lower bound lambda (69707.31423392524)\n",
      "and the evaluation of upper bound lambda (-1.0)\n",
      "\n",
      "\n",
      "Iteration: 1\n",
      "Lambda: 0.12524721496107247\n",
      "Evaluation of expression: 1.88329542664771\n",
      "\n",
      "\n",
      "Iteration: 2\n",
      "Lambda: 0.15660424784217206\n",
      "Evaluation of expression: -0.07469409161200269\n",
      "\n",
      "\n",
      "Iteration: 3\n",
      "Lambda: 0.14092573140162226\n",
      "Evaluation of expression: 0.8418001457072808\n",
      "\n",
      "\n",
      "Iteration: 4\n",
      "Lambda: 0.14876498962189716\n",
      "Evaluation of expression: 0.3672382250163888\n",
      "\n",
      "\n",
      "Iteration: 5\n",
      "Lambda: 0.1526846187320346\n",
      "Evaluation of expression: 0.14627206670219395\n",
      "\n",
      "\n",
      "Iteration: 6\n",
      "Lambda: 0.1546444332871033\n",
      "Evaluation of expression: 0.035788987545096296\n",
      "\n",
      "\n",
      "Iteration: 7\n",
      "Lambda: 0.1556243405646377\n",
      "Evaluation of expression: -0.019452552033453863\n",
      "\n",
      "\n",
      "Iteration: 8\n",
      "Lambda: 0.1551343869258705\n",
      "Evaluation of expression: 0.008168217755821328\n",
      "\n",
      "\n",
      "Iteration: 9\n",
      "Lambda: 0.1553793637452541\n",
      "Evaluation of expression: -0.0056421671388162675\n",
      "\n",
      "\n",
      "Iteration: 10\n",
      "Lambda: 0.15525687533556232\n",
      "Evaluation of expression: 0.0012630253085017529\n",
      "\n",
      "\n",
      "Iteration: 11\n",
      "Lambda: 0.1553181195404082\n",
      "Evaluation of expression: -0.00218957091515648\n",
      "\n",
      "\n",
      "Iteration: 12\n",
      "Lambda: 0.15528749743798526\n",
      "Evaluation of expression: -0.00046327280332736365\n",
      "\n",
      "\n",
      "Iteration: 13\n",
      "Lambda: 0.1552721863867738\n",
      "Evaluation of expression: 0.0003998762525871946\n",
      "\n",
      "\n",
      "Iteration: 14\n",
      "Lambda: 0.15527984191237953\n",
      "Evaluation of expression: -3.169827537086167e-05\n",
      "\n",
      "\n",
      "Iteration: 15\n",
      "Lambda: 0.15527601414957665\n",
      "Evaluation of expression: 0.00018408898860888812\n",
      "\n",
      "\n",
      "Iteration: 16\n",
      "Lambda: 0.1552779280309781\n",
      "Evaluation of expression: 7.619535661884669e-05\n",
      "\n",
      "\n",
      "Iteration: 17\n",
      "Lambda: 0.1552788849716788\n",
      "Evaluation of expression: 2.2248540624936197e-05\n",
      "\n",
      "\n",
      "Iteration: 18\n",
      "Lambda: 0.15527936344202917\n",
      "Evaluation of expression: -4.724867373129271e-06\n",
      "\n",
      "\n",
      "Iteration: 19\n",
      "Lambda: 0.15527912420685397\n",
      "Evaluation of expression: 8.761836626680619e-06\n",
      "\n",
      "\n",
      "Iteration: 20\n",
      "Lambda: 0.15527924382444158\n",
      "Evaluation of expression: 2.01848462610954e-06\n",
      "\n",
      "\n",
      "Iteration: 21\n",
      "Lambda: 0.1552793036332354\n",
      "Evaluation of expression: -1.3531913742870216e-06\n",
      "\n",
      "\n",
      "Iteration: 22\n",
      "Lambda: 0.15527927372883849\n",
      "Evaluation of expression: 3.3264662580023696e-07\n",
      "\n",
      "\n",
      "Iteration: 23\n",
      "Lambda: 0.15527928868103694\n",
      "Evaluation of expression: -5.102723742433923e-07\n",
      "\n",
      "\n",
      "Iteration: 24\n",
      "Lambda: 0.15527928120493772\n",
      "Evaluation of expression: -8.881287494322265e-08\n",
      "\n",
      "\n",
      "Iteration: 25\n",
      "Lambda: 0.1552792774668881\n",
      "Evaluation of expression: 1.219168754840183e-07\n",
      "\n",
      "\n",
      "Iteration: 26\n",
      "Lambda: 0.1552792793359129\n",
      "Evaluation of expression: 1.6552001103065095e-08\n",
      "\n",
      "\n",
      "Iteration: 27\n",
      "Lambda: 0.1552792802704253\n",
      "Evaluation of expression: -3.613043697558993e-08\n",
      "\n",
      "\n",
      "Iteration: 28\n",
      "Lambda: 0.1552792798031691\n",
      "Evaluation of expression: -9.789217991773569e-09\n",
      "\n",
      "\n",
      "Iteration: 29\n",
      "Lambda: 0.15527927956954102\n",
      "Evaluation of expression: 3.3813907229784945e-09\n",
      "\n",
      "\n",
      "Iteration: 30\n",
      "Lambda: 0.15527927968635508\n",
      "Evaluation of expression: -3.2039144670648056e-09\n",
      "\n",
      "\n",
      "Iteration: 31\n",
      "Lambda: 0.15527927962794805\n",
      "Evaluation of expression: 8.873812795684444e-11\n",
      "\n"
     ]
    }
   ],
   "source": [
    "# using line search to find lambda\n",
    "\n",
    "# upper bound, we know that if lambda causes all of the terms to be zero, we went too far.\n",
    "# i.e., alpha_i - upper_bound_lambda <= 0 \\forall i\n",
    "upper_bound_lambda = np.max(alpha)\n",
    "\n",
    "# lower bound, we know that each term in the sum is >= 0 and <= the total sum term.\n",
    "# so just find the lower bound of each term and take the maximum out of all of these terms\n",
    "# for each term, lambda = alpha_i - alpha_i^2 - sigma_i^2\n",
    "lower_bound_lambda = np.min(alpha - (alpha_element_squared + sigma_element_squared))\n",
    "\n",
    "print(f\"Lower bound lambda: {lower_bound_lambda}\")\n",
    "print(f\"Upper bound lambda: {upper_bound_lambda}\")\n",
    "\n",
    "# now line search/binary search to find lambda\n",
    "\n",
    "# first we need to evaluate the value of the summation expression in formula 3.12\n",
    "# https://maslov.bioengineering.illinois.edu/optimal_investment_ijtaf.pdf\n",
    "\n",
    "# evaluation of expression, f(lambda)\n",
    "def eval_expression(lambda_value):\n",
    "    # subtract one so I can get something like \\sum - 1 = 0 to solve.\n",
    "    fractional_terms = (alpha - lambda_value) / (alpha_element_squared + sigma_element_squared)\n",
    "    \n",
    "    # heavyside function\n",
    "    fractional_terms = np.maximum(fractional_terms, 0)\n",
    "    \n",
    "    return np.sum(fractional_terms) - 1\n",
    "\n",
    "# sanity check, the correct value (0) is between the upper bound and lower bound\n",
    "print(f\"Performing a check that 0 is between the evaluation of lower bound lambda ({eval_expression(lower_bound_lambda)})\")\n",
    "print(f\"and the evaluation of upper bound lambda ({eval_expression(upper_bound_lambda)})\\n\")\n",
    "\n",
    "# tolerance term\n",
    "tolerance = 1e-9\n",
    "\n",
    "# initialize our loop with our initial guess for our line search\n",
    "lower_lambda = lower_bound_lambda\n",
    "upper_lambda = upper_bound_lambda\n",
    "middle_lambda = (lower_bound_lambda + upper_bound_lambda) / 2\n",
    "\n",
    "iterations = 0\n",
    "\n",
    "# while loop continues while the evaluation of the expression is greater than the tolerance\n",
    "while np.abs(eval_expression(middle_lambda)) > tolerance:\n",
    "    # evaluate the expression with updated lambda\n",
    "    middle_value = eval_expression(middle_lambda)\n",
    "    \n",
    "    # if eval of expression (middle_value) is > 0, then lambda guess is too small.\n",
    "    # Middle lambda becomes new lower lambda.\n",
    "    if middle_value > 0:\n",
    "        lower_lambda = middle_lambda\n",
    "    # else, lambda guess is too large. Middle lambda becomes new upper lambda.\n",
    "    else:\n",
    "        upper_lambda = middle_lambda\n",
    "        \n",
    "    # new middle lambda is halfway between lower and upper lambda\n",
    "    middle_lambda = (lower_lambda + upper_lambda) / 2\n",
    "\n",
    "    iterations += 1\n",
    "    print_message = f'''\n",
    "Iteration: {iterations}\n",
    "Lambda: {middle_lambda}\n",
    "Evaluation of expression: {eval_expression(middle_lambda)}\n",
    "'''\n",
    "    print(print_message)\n"
   ]
  },
  {
   "cell_type": "code",
   "execution_count": 17,
   "id": "4d9fcef0",
   "metadata": {},
   "outputs": [
    {
     "data": {
      "image/png": "[encoded data removed]",
      "text/plain": [
       "<Figure size 432x288 with 1 Axes>"
      ]
     },
     "metadata": {
      "needs_background": "light"
     },
     "output_type": "display_data"
    }
   ],
   "source": [
    "# plot to confirm correct lambda value\n",
    "# intersection of 0 and f(lambda) indicates correct lambda value\n",
    "\n",
    "# 101 evenly spaced points between lower bound lambda and upper bound lambda\n",
    "x = np.linspace(lower_bound_lambda, upper_bound_lambda, 101)\n",
    "\n",
    "# evaluate each of these 101 points and plot them, f(lambda)\n",
    "plt.plot(x, [eval_expression(el) for el in x], label='f(lambda)')\n",
    "\n",
    "# plot 0\n",
    "plt.plot([0, 1], [0, 0], label='0')\n",
    "\n",
    "plt.legend()\n",
    "plt.xlabel('Lambda')\n",
    "plt.ylim([-1,1])\n",
    "\n",
    "plt.show()"
   ]
  },
  {
   "cell_type": "markdown",
   "id": "0e9f315f",
   "metadata": {},
   "source": [
    "# Final Output"
   ]
  },
  {
   "cell_type": "code",
   "execution_count": 18,
   "id": "491811ce",
   "metadata": {},
   "outputs": [
    {
     "name": "stdout",
     "output_type": "stream",
     "text": [
      "\u001b[1m\u001b[4mSuggested investment proportions\n"
     ]
    },
    {
     "data": {
      "text/plain": [
       "[[0.7685709418262906, 'MRNA'],\n",
       " [0.23142905817370946, 'TSLA'],\n",
       " [0.0, 'NWL'],\n",
       " [0.0, 'NVR'],\n",
       " [0.0, 'NVDA'],\n",
       " [0.0, 'NUE'],\n",
       " [0.0, 'NTRS'],\n",
       " [0.0, 'NTAP'],\n",
       " [0.0, 'NSC'],\n",
       " [0.0, 'NRG']]"
      ]
     },
     "execution_count": 18,
     "metadata": {},
     "output_type": "execute_result"
    }
   ],
   "source": [
    "# get the optimal investment portfolio. Formula 3.11\n",
    "r_opt = np.maximum(0, (alpha - middle_lambda) / (alpha_element_squared + sigma_element_squared))\n",
    "\n",
    "# flatten r_opt array. Collapse into one dimension.\n",
    "r_opt = r_opt.flatten()\n",
    "\n",
    "# store indices of best stocks (stocks with largest recommended investment portions)\n",
    "best_stock_indices = np.argsort(-r_opt)[:MAX_NUM_STOCKS]\n",
    "\n",
    "# use the best stock indices to pull the recommend investment ratios/portions of these best stocks\n",
    "best_stock_prices = r_opt[best_stock_indices]\n",
    "\n",
    "# normalize best stock proportions so they add up to 1\n",
    "best_stock_prices /= np.sum(best_stock_prices)\n",
    "\n",
    "# create an array with each best stock ticker listed with the corresponding investment portion\n",
    "r_opt_top_stocks_with_names = []\n",
    "for best_stock_price, best_stock_index in zip(best_stock_prices, best_stock_indices):\n",
    "    r_opt_top_stocks_with_names.append([best_stock_price, index_to_ticker[best_stock_index]])\n",
    "\n",
    "print ('\\033[1m' + '\\033[4m' + 'Suggested investment proportions')\n",
    "r_opt_top_stocks_with_names\n"
   ]
  },
  {
   "cell_type": "code",
   "execution_count": 19,
   "id": "fc25876c",
   "metadata": {},
   "outputs": [
    {
     "name": "stdout",
     "output_type": "stream",
     "text": [
      "Mean/expected total return:  0.18202776184548092\n",
      "Variance:  0.001848739604536397\n",
      "Standard dev:  0.04299697203916105 \n",
      "\n",
      "99.0% confidence interval: 0.18202776184548092 ± 0.11075286054234375\n",
      "expected investment return: 7.39%-34.01%\n",
      "95.0% confidence interval: 0.18202776184548092 ± 0.08427251664103139\n",
      "expected investment return: 10.27%-30.51%\n",
      "85.0% confidence interval: 0.18202776184548092 ± 0.061895494405433155\n",
      "expected investment return: 12.76%-27.62%\n"
     ]
    }
   ],
   "source": [
    "# calculate mean, variance, and standard deviation of expected return\n",
    "expected_val = np.dot(r_opt, alpha)\n",
    "variance = multi_dot([r_opt.T, covariance_matrix, r_opt])\n",
    "standard_dev = np.sqrt(variance)\n",
    "\n",
    "print(\"Mean/expected total return: \", expected_val)\n",
    "print(\"Variance: \", variance)\n",
    "print(\"Standard dev: \", standard_dev, \"\\n\")\n",
    "\n",
    "# Calculating confidence intervals:\n",
    "# https://docs.scipy.org/doc/scipy/reference/generated/scipy.stats.zscore.html\n",
    "\n",
    "for confidence_level in [0.99, 0.95, 0.85]:\n",
    "    error = abs(st.norm.ppf((1-confidence_level)/2)) * standard_dev\n",
    "    print(f\"{confidence_level * 100}% confidence interval: {expected_val}\", u\"\\u00B1\", error)\n",
    "    lower_bound_percent = np.round(100 * (np.exp(expected_val - error) - 1), 2)\n",
    "    upper_bound_percent = np.round(100 * (np.exp(expected_val + error) - 1), 2)\n",
    "    print(f\"expected investment return: {lower_bound_percent}%-{upper_bound_percent}%\")\n"
   ]
  },
  {
   "cell_type": "code",
   "execution_count": null,
   "id": "52398e1a",
   "metadata": {},
   "outputs": [],
   "source": []
  }
 ],
 "metadata": {
  "kernelspec": {
   "display_name": "Python 3",
   "language": "python",
   "name": "python3"
  },
  "language_info": {
   "codemirror_mode": {
    "name": "ipython",
    "version": 3
   },
   "file_extension": ".py",
   "mimetype": "text/x-python",
   "name": "python",
   "nbconvert_exporter": "python",
   "pygments_lexer": "ipython3",
   "version": "3.6.9"
  }
 },
 "nbformat": 4,
 "nbformat_minor": 5
}
