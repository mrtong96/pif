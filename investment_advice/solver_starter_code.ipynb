{
 "cells": [
  {
   "cell_type": "code",
   "execution_count": 1,
   "id": "56dd8737",
   "metadata": {},
   "outputs": [],
   "source": [
    "import numpy as np"
   ]
  },
  {
   "cell_type": "code",
   "execution_count": 11,
   "id": "1b91031c",
   "metadata": {},
   "outputs": [],
   "source": [
    "# first, define our problem size\n",
    "n = 10\n",
    "alpha = np.random.random((n, 1))\n",
    "sigma = np.random.random((n, 1))\n",
    "k = np.random.random((n, n))\n",
    "\n",
    "# goal, generate some vector r such that:\n",
    "# sum(r) = 1.0\n",
    "# r represents our optimal investment portfolio\n"
   ]
  },
  {
   "cell_type": "code",
   "execution_count": 12,
   "id": "ec8a7157",
   "metadata": {},
   "outputs": [
    {
     "data": {
      "text/plain": [
       "array([[1.0125045 ],\n",
       "       [0.91344153],\n",
       "       [0.62399147],\n",
       "       [0.98555817],\n",
       "       [0.48416987],\n",
       "       [0.77845226],\n",
       "       [1.04135925],\n",
       "       [1.25660972],\n",
       "       [0.625922  ],\n",
       "       [2.25253198]])"
      ]
     },
     "execution_count": 12,
     "metadata": {},
     "output_type": "execute_result"
    }
   ],
   "source": [
    "# element-wise math\n",
    "\n",
    "# square every term in alpha\n",
    "alpha_element_squared = alpha * alpha\n",
    "sigma_element_squared = sigma * sigma\n",
    "\n",
    "# the 3.9 formula from\n",
    "# https://maslov.bioengineering.illinois.edu/optimal_investment_ijtaf.pdf\n",
    "alpha / (alpha_element_squared + sigma_element_squared)\n"
   ]
  },
  {
   "cell_type": "code",
   "execution_count": 16,
   "id": "66c4c6c8",
   "metadata": {},
   "outputs": [],
   "source": [
    "# invert matrices\n",
    "k_inv = np.linalg.inv(k)\n",
    "\n",
    "# formula 3.10 from \n",
    "# https://maslov.bioengineering.illinois.edu/optimal_investment_ijtaf.pdf\n",
    "r_opt = np.dot(k_inv, alpha)\n"
   ]
  },
  {
   "cell_type": "code",
   "execution_count": 17,
   "id": "13090b3c",
   "metadata": {},
   "outputs": [
    {
     "data": {
      "text/plain": [
       "array([[-1.51610396],\n",
       "       [-0.2963087 ],\n",
       "       [-0.88903972],\n",
       "       [-1.42098409],\n",
       "       [ 2.41201645],\n",
       "       [-2.23738907],\n",
       "       [-0.36933364],\n",
       "       [ 3.61882801],\n",
       "       [ 1.68998735],\n",
       "       [ 0.76383406]])"
      ]
     },
     "execution_count": 17,
     "metadata": {},
     "output_type": "execute_result"
    }
   ],
   "source": [
    "# hints that I'm not sure how they all go together\n",
    "\n",
    "# from formula 3.11\n",
    "# you know that if \\lambda >= \\alpha_i, then we can ignore that term\n",
    "\n",
    "# Maybe if you sort all fo the \\alpha_i terms, you can see if a solution for lambda exists where all of the smaller\n",
    "# values are ignored, and all of the larger values are effected by \\lambda\n",
    "\n",
    "# if you look at each term in the sum of 3.12, they are piecewise linear wrt. \\lambda\n"
   ]
  },
  {
   "cell_type": "code",
   "execution_count": null,
   "id": "77c6b42d",
   "metadata": {},
   "outputs": [],
   "source": []
  }
 ],
 "metadata": {
  "kernelspec": {
   "display_name": "Python 3",
   "language": "python",
   "name": "python3"
  },
  "language_info": {
   "codemirror_mode": {
    "name": "ipython",
    "version": 3
   },
   "file_extension": ".py",
   "mimetype": "text/x-python",
   "name": "python",
   "nbconvert_exporter": "python",
   "pygments_lexer": "ipython3",
   "version": "3.8.10"
  }
 },
 "nbformat": 4,
 "nbformat_minor": 5
}
