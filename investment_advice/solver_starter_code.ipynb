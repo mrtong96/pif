{
 "cells": [
  {
   "cell_type": "code",
   "execution_count": 2,
   "id": "25addfe2",
   "metadata": {},
   "outputs": [],
   "source": [
    "import numpy as np"
   ]
  },
  {
   "cell_type": "code",
   "execution_count": 37,
   "id": "6cec4b65",
   "metadata": {},
   "outputs": [],
   "source": [
    "# first, define our problem size\n",
    "n = 10\n",
    "alpha = np.random.random((n, 1))\n",
    "sigma = np.random.random((n, 1))\n",
    "k = np.random.random((n, n))\n",
    "\n",
    "# TODO: figure out how to stitch together the r_opt values with the actual stock names\n",
    "stock_names = [f'stock_{i}' for i in range(n)]\n",
    "\n",
    "# TODO? figure out how to generate the confidence intervals of how much money you expect to make from this\n",
    "\n",
    "# Katrina's draft:\n",
    "\n",
    "max_num_stocks = 5\n",
    "\n",
    "# DRAFT END\n",
    "\n",
    "# goal, generate some vector r such that:\n",
    "# sum(r) = 1.0\n",
    "# r represents our optimal investment portfolio\n"
   ]
  },
  {
   "cell_type": "code",
   "execution_count": null,
   "id": "40a9e345",
   "metadata": {},
   "outputs": [],
   "source": []
  },
  {
   "cell_type": "code",
   "execution_count": 4,
   "id": "1dafa70e",
   "metadata": {},
   "outputs": [
    {
     "data": {
      "text/plain": [
       "array([[0.61312732],\n",
       "       [1.61452763],\n",
       "       [0.52433935],\n",
       "       [0.67798864],\n",
       "       [1.14822909],\n",
       "       [0.73616259],\n",
       "       [3.22084696],\n",
       "       [0.62454444],\n",
       "       [1.30245263],\n",
       "       [0.83611897]])"
      ]
     },
     "execution_count": 4,
     "metadata": {},
     "output_type": "execute_result"
    }
   ],
   "source": [
    "# element-wise math\n",
    "\n",
    "# square every term in alpha\n",
    "alpha_element_squared = alpha * alpha\n",
    "sigma_element_squared = sigma * sigma\n",
    "\n",
    "# the 3.9 formula from\n",
    "# https://maslov.bioengineering.illinois.edu/optimal_investment_ijtaf.pdf\n",
    "alpha / (alpha_element_squared + sigma_element_squared)\n"
   ]
  },
  {
   "cell_type": "code",
   "execution_count": 5,
   "id": "0748dadb",
   "metadata": {},
   "outputs": [],
   "source": [
    "# invert matrices\n",
    "k_inv = np.linalg.inv(k)\n",
    "\n",
    "# formula 3.10 from \n",
    "# https://maslov.bioengineering.illinois.edu/optimal_investment_ijtaf.pdf\n",
    "r_opt = np.dot(k_inv, alpha)\n"
   ]
  },
  {
   "cell_type": "code",
   "execution_count": 6,
   "id": "a1f2492d",
   "metadata": {},
   "outputs": [],
   "source": [
    "# hints that I'm not sure how they all go together\n",
    "\n",
    "# from formula 3.11\n",
    "# you know that if \\lambda >= \\alpha_i, then we can ignore that term\n",
    "\n",
    "# Maybe if you sort all fo the \\alpha_i terms, you can see if a solution for lambda exists where all of the smaller\n",
    "# values are ignored, and all of the larger values are effected by \\lambda\n",
    "\n",
    "# if you look at each term in the sum of 3.12, they are piecewise linear wrt. \\lambda\n"
   ]
  },
  {
   "cell_type": "code",
   "execution_count": 13,
   "id": "37602eee",
   "metadata": {},
   "outputs": [
    {
     "name": "stdout",
     "output_type": "stream",
     "text": [
      "0.13330002768904808 0.9721977629513062\n",
      "iteration: 1, 0.34302446150461263, 1.8226015331024055\n",
      "iteration: 2, 0.4478866784123949, 0.7097468549807711\n",
      "iteration: 3, 0.500317786866286, 0.15331951591995385\n",
      "iteration: 4, 0.5265333410932316, -0.0913102309169701\n",
      "iteration: 5, 0.5134255639797588, 0.015603253794847172\n",
      "iteration: 6, 0.5199794525364951, -0.043259336016430616\n",
      "iteration: 7, 0.5167025082581269, -0.01382804111079139\n",
      "iteration: 8, 0.5150640361189429, 0.0008876063420273361\n",
      "iteration: 9, 0.5158832721885349, -0.0064702173843820265\n",
      "iteration: 10, 0.5154736541537389, -0.002791305521177234\n",
      "iteration: 11, 0.515268845136341, -0.0009518495895753931\n",
      "iteration: 12, 0.5151664406276419, -3.2121623773972985e-05\n",
      "iteration: 13, 0.5151152383732924, 0.0004277423591267926\n",
      "iteration: 14, 0.5151408395004672, 0.00019781036767629878\n",
      "iteration: 15, 0.5151536400640546, 8.284437195049676e-05\n",
      "iteration: 16, 0.5151600403458483, 2.5361374088372912e-05\n",
      "iteration: 17, 0.5151632404867451, -3.3801248429110586e-06\n",
      "iteration: 18, 0.5151616404162966, 1.0990624623286038e-05\n",
      "iteration: 19, 0.5151624404515209, 3.8052498896323783e-06\n",
      "iteration: 20, 0.5151628404691331, 2.1256252291657063e-07\n",
      "iteration: 21, 0.515163040477939, -1.5837811595531548e-06\n",
      "iteration: 22, 0.5151629404735361, -6.856093182072698e-07\n",
      "iteration: 23, 0.5151628904713346, -2.3652339753432727e-07\n",
      "iteration: 24, 0.5151628654702338, -1.1980437308878322e-08\n",
      "iteration: 25, 0.5151628529696834, 1.0029104280384615e-07\n",
      "iteration: 26, 0.5151628592199586, 4.4155302747483915e-08\n",
      "iteration: 27, 0.5151628623450962, 1.6087432719302797e-08\n",
      "iteration: 28, 0.5151628639076651, 2.053497150100725e-09\n",
      "iteration: 29, 0.5151628646889495, -4.963470079388799e-09\n",
      "iteration: 30, 0.5151628642983073, -1.454986464644037e-09\n",
      "iteration: 31, 0.5151628641029862, 2.9925528721719274e-10\n"
     ]
    }
   ],
   "source": [
    "# idea one to solve this: use line search\n",
    "# main idea: function 3.12 is monotically decreasing\n",
    "# so if we pick upper/lower bounds of lambda, we can just do a line search and call it a day\n",
    "# monotonically decreasing means the derivative of the function wrt lambda is <= 0 across all values of lambda\n",
    "\n",
    "# upper bound, we know that if lambda causes all of the terms to be zero, we went too far.\n",
    "# i.e., alpha_i - upper_bound_lambda <= 0 \\forall i\n",
    "upper_bound_lambda = np.max(alpha)\n",
    "\n",
    "# lower bound, we know that each term in the sum is >= 0 and <= the total sum term.\n",
    "# so just find the lower bound of each term and take the maximum out of all of these terms\n",
    "# for each term, lambda = alpha_i - alpha_i^2 - sigma_i^2\n",
    "# I know this because I can do high-school algebra in my head... work it out on paper if you can't\n",
    "lower_bound_lambda = np.max(alpha - alpha_element_squared - sigma_element_squared)\n",
    "\n",
    "print(lower_bound_lambda, upper_bound_lambda)\n",
    "\n",
    "# now line search/binary search... first we need to evaluate the value of the 3.12 summation expression\n",
    "def eval_expression(lambda_value):\n",
    "    # subtract one so I can get something like \\sum - 1 = 0 to solve.\n",
    "    fractional_terms = (alpha - lambda_value) / (alpha_element_squared + sigma_element_squared)\n",
    "    # heavyside function\n",
    "    fractional_terms = np.maximum(fractional_terms, 0)\n",
    "    return np.sum(fractional_terms) - 1\n",
    "\n",
    "# sanity check, the correct value (0) is between the upper bound and lower bound\n",
    "eval_expression(lower_bound_lambda), eval_expression(upper_bound_lambda)\n",
    "\n",
    "# there's a tolerance term usually, more on that later\n",
    "tolerance = 1e-9\n",
    "\n",
    "# initialize our loop with our initial guess\n",
    "lower_lambda = lower_bound_lambda\n",
    "upper_lambda = upper_bound_lambda\n",
    "middle_lambda = (lower_bound_lambda + upper_bound_lambda) / 2\n",
    "\n",
    "iterations = 0\n",
    "while np.abs(eval_expression(middle_lambda)) > tolerance:\n",
    "    middle_value = eval_expression(middle_lambda)\n",
    "    if middle_value > 0:\n",
    "        lower_lambda = middle_lambda\n",
    "    else:\n",
    "        upper_lambda = middle_lambda\n",
    "    middle_lambda = (lower_lambda + upper_lambda) / 2\n",
    "\n",
    "    iterations += 1\n",
    "    print(f'iteration: {iterations}, {middle_lambda}, {eval_expression(middle_lambda)}')\n"
   ]
  },
  {
   "cell_type": "code",
   "execution_count": 8,
   "id": "ac97a558",
   "metadata": {},
   "outputs": [
    {
     "data": {
      "image/png": "[encoded data removed]",
      "text/plain": [
       "<Figure size 432x288 with 1 Axes>"
      ]
     },
     "metadata": {
      "needs_background": "light"
     },
     "output_type": "display_data"
    }
   ],
   "source": [
    "import matplotlib.pyplot as plt\n",
    "\n",
    "x = np.linspace(0, 1, 101)\n",
    "plt.plot(x, [eval_expression(el) for el in x], label='f(lambda)')\n",
    "plt.plot([0, 1], [0, 0], label='0')\n",
    "plt.legend()\n",
    "\n",
    "plt.show()\n"
   ]
  },
  {
   "cell_type": "code",
   "execution_count": 31,
   "id": "b8dc4df2",
   "metadata": {},
   "outputs": [],
   "source": [
    "# get the optimal investment portfolio\n",
    "r_opt = np.maximum(0, (alpha - middle_lambda) / (alpha_element_squared + sigma_element_squared))\n",
    "r_opt = r_opt.flatten()\n",
    "\n",
    "# TODO, think about cases where there are zero values in r_opt\n",
    "r_opt_top_stocks = r_opt[np.argsort(-r_opt)[:max_num_stocks]]\n",
    "r_opt_top_stocks /= np.sum(r_opt_top_stocks)"
   ]
  },
  {
   "cell_type": "code",
   "execution_count": 34,
   "id": "889e3797",
   "metadata": {},
   "outputs": [
    {
     "data": {
      "text/plain": [
       "array([0.32617414, 0.22693462, 0.17060951, 0.14838623, 0.1278955 ])"
      ]
     },
     "execution_count": 34,
     "metadata": {},
     "output_type": "execute_result"
    }
   ],
   "source": [
    "r_opt_top_stocks"
   ]
  },
  {
   "cell_type": "code",
   "execution_count": 26,
   "id": "c71e5667",
   "metadata": {},
   "outputs": [
    {
     "data": {
      "text/plain": [
       "array([7, 3, 0, 8, 5, 2, 4, 1, 6, 9])"
      ]
     },
     "execution_count": 26,
     "metadata": {},
     "output_type": "execute_result"
    }
   ],
   "source": [
    "# sorts things by index\n",
    "np.argsort(-r_opt.flatten())"
   ]
  },
  {
   "cell_type": "code",
   "execution_count": 24,
   "id": "fa24e5ae",
   "metadata": {},
   "outputs": [
    {
     "data": {
      "text/plain": [
       "array([[0.15357192],\n",
       "       [0.        ],\n",
       "       [0.08564533],\n",
       "       [0.20427223],\n",
       "       [0.01421777],\n",
       "       [0.11512346],\n",
       "       [0.        ],\n",
       "       [0.29360138],\n",
       "       [0.13356792],\n",
       "       [0.        ]])"
      ]
     },
     "execution_count": 24,
     "metadata": {},
     "output_type": "execute_result"
    }
   ],
   "source": [
    "r_opt"
   ]
  },
  {
   "cell_type": "code",
   "execution_count": 28,
   "id": "57f9b93f",
   "metadata": {},
   "outputs": [
    {
     "data": {
      "text/plain": [
       "(array([0.29360138]), 0.29360138030151584)"
      ]
     },
     "execution_count": 28,
     "metadata": {},
     "output_type": "execute_result"
    }
   ],
   "source": [
    "r_opt[7], np.max(r_opt)"
   ]
  },
  {
   "cell_type": "code",
   "execution_count": null,
   "id": "37debba2",
   "metadata": {},
   "outputs": [],
   "source": []
  }
 ],
 "metadata": {
  "kernelspec": {
   "display_name": "Python 3",
   "language": "python",
   "name": "python3"
  },
  "language_info": {
   "codemirror_mode": {
    "name": "ipython",
    "version": 3
   },
   "file_extension": ".py",
   "mimetype": "text/x-python",
   "name": "python",
   "nbconvert_exporter": "python",
   "pygments_lexer": "ipython3",
   "version": "3.6.9"
  }
 },
 "nbformat": 4,
 "nbformat_minor": 5
}
