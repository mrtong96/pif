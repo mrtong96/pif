{
 "cells": [
  {
   "cell_type": "code",
   "execution_count": 26,
   "id": "7cbfab0f",
   "metadata": {},
   "outputs": [],
   "source": [
    "import numpy as np\n",
    "import math\n",
    "from numpy.linalg import multi_dot\n",
    "import scipy.stats as st\n",
    "import json"
   ]
  },
  {
   "cell_type": "code",
   "execution_count": 27,
   "id": "00440b51",
   "metadata": {},
   "outputs": [],
   "source": [
    "# # first, define our problem size\n",
    "# n = 10\n",
    "# alpha = np.random.random((n, 1))\n",
    "# k = np.random.random((n, n))\n",
    "# sigma = np.array([[k[i][i]] for i in range(n)])\n",
    "\n",
    "# # TODO: figure out how to stitch together the r_opt values with the actual stock names\n",
    "# stock_names = [f'stock_{i}' for i in range(n)]\n",
    "\n",
    "# # TODO? figure out how to generate the confidence intervals of how much money you expect to make from this\n",
    "\n",
    "# # TODO, pick one stock to be the baseline (stock_0). Figure out some way of comparing\n",
    "# # stock_0's expected performance compared to our optimal solver\n",
    "\n",
    "# # Katrina's draft:\n",
    "\n",
    "# max_num_stocks = 5\n",
    "\n",
    "# # DRAFT END\n",
    "\n",
    "# # goal, generate some vector r such that:\n",
    "# # sum(r) = 1.0\n",
    "# # r represents our optimal investment portfolio"
   ]
  },
  {
   "cell_type": "code",
   "execution_count": 57,
   "id": "d50b1713",
   "metadata": {},
   "outputs": [],
   "source": [
    "\n",
    "max_num_stocks = 5\n",
    "investment_window_days = 60"
   ]
  },
  {
   "cell_type": "code",
   "execution_count": 58,
   "id": "75813b73",
   "metadata": {},
   "outputs": [],
   "source": [
    "# load the data\n",
    "json_data = json.loads(open('tmp.txt', 'r').read())\n",
    "covariance_matrix = np.array(json_data['covariance_matrix'])\n",
    "mean_vector = np.array(json_data['mean_vector'])\n",
    "ticker_to_index = json_data['ticker_to_index']\n",
    "\n",
    "index_to_ticker = {v: k for k, v in ticker_to_index.items()}"
   ]
  },
  {
   "cell_type": "code",
   "execution_count": 59,
   "id": "f05168a9",
   "metadata": {},
   "outputs": [],
   "source": [
    "# alpha is the mean\n",
    "# sigma is the variance along the diagonal\n",
    "# k is the covariance matrix\n",
    "\n",
    "alpha = mean_vector * investment_window_days\n",
    "sigma = np.diag(covariance_matrix) * investment_window_days\n",
    "k = covariance_matrix * investment_window_days"
   ]
  },
  {
   "cell_type": "code",
   "execution_count": 60,
   "id": "7bf2de88",
   "metadata": {},
   "outputs": [
    {
     "data": {
      "text/plain": [
       "array([  4.04147913,  -3.74913545,  24.69965631,   5.22650904,\n",
       "        19.95391186,  13.01341499,   3.84537421,   5.86376615,\n",
       "         5.56765045,   3.71343986, -52.82293554,  -9.07149088,\n",
       "        24.60704621,  22.00296566,  31.67555167,  20.10088876,\n",
       "       -31.86221027, -37.40320664,  19.12520848,  17.28677279,\n",
       "       -86.60237258, -65.05785157,   3.10683667,   4.81562946,\n",
       "        -6.22947157, -32.39306832,  15.80204172, -24.95209667,\n",
       "        16.28103874,   3.68867717, -83.90651125, -27.26108674,\n",
       "        26.37702706,   7.92639821,  14.47388851,  13.09220121,\n",
       "        11.99942312, -26.52960418,   7.66455584,  34.98664803,\n",
       "        -5.51463342,  -8.40289668,   8.5591954 , -24.74657064,\n",
       "         8.09526135, -35.39258287,  -6.74954321,  12.13115986,\n",
       "        21.74931052,  36.00965797,   6.27038577, -29.391159  ,\n",
       "        12.11437141,  -6.78689462, -21.81231857,  48.74442694,\n",
       "         5.95198509, -20.20862591,  14.14739286, -11.58974298,\n",
       "        -8.32181596,   3.74479985,   3.19922769,  26.71491063,\n",
       "       -18.95192896,  -8.05285315,  19.30745595,   6.28648219,\n",
       "        65.27022837,  14.73064154, -37.60859992,  14.1113009 ,\n",
       "        -5.10624041, -16.35208277,  -9.39218585,  -7.3531064 ,\n",
       "       -15.8995196 ,   4.97140516,  -7.44359475,  15.61989319,\n",
       "         9.66737475,  11.83065891,  53.90987176,  -3.39022433,\n",
       "         3.84761158,   5.33453391, -15.87950706, -34.49504258,\n",
       "        -5.88679265,  -7.23262841, -91.08934826, -18.14883341,\n",
       "         6.34875835,  -6.60919395, -33.75809813, -17.60169391,\n",
       "       -20.0304563 , -12.04983471,  12.89406856, -10.71080872,\n",
       "         3.19651018, -12.70411039,  26.8060984 ,  -9.0194419 ,\n",
       "        31.2112483 , -16.83465378,  13.80950853,   6.45105386,\n",
       "       -17.62091094,   5.63748395,  -7.65345082,   6.98451031,\n",
       "         3.54006528,   8.44644586,   9.53342521, -26.89570609,\n",
       "         9.24049396,   3.31134807,  15.17002185, -35.71630382,\n",
       "        -9.23259828,  52.55164369, -10.43414476, -12.69712885,\n",
       "        40.35841435,  -6.25683847,  -6.81193743,  12.22723598,\n",
       "        18.01813121,  11.50537599,   5.48469651,  27.75153286,\n",
       "         3.4628381 ,  41.2306125 ,  -8.36648413, -10.16708216,\n",
       "        -2.86958633,  13.66122922, -16.61202924,   7.52523682,\n",
       "       -10.3291446 ,   5.73755217,   9.89810459,  12.41084683,\n",
       "        33.76441119,  22.44801163,  10.78555177,  -9.91477844,\n",
       "        -8.2833931 ,   2.88116806,  29.11253923,   5.76958316,\n",
       "        23.50388719, -95.64859373,   5.96730104,  23.24238837,\n",
       "         9.2536927 ,  -8.53009587,  13.86903021,   4.67618988,\n",
       "        -4.73451359,   7.14595313,  16.152791  ,   8.39753571,\n",
       "        12.8294749 ,   8.36454977,  14.87796004,   4.52849088,\n",
       "        10.64784119,   4.230588  ,  11.2662277 ,  78.04543324,\n",
       "        -5.24067354,   4.79175029,  -7.27714583,  -6.64404049,\n",
       "        17.08867419,   8.12895864, -24.89355927,  -5.69425143,\n",
       "        -7.69913542,  28.40735993,   9.50002879,  -6.25265833,\n",
       "        40.00370899, -11.40219401, -17.06378776,  -5.16107087,\n",
       "       -24.00573367,  14.05763043,  21.37655746,  27.77500396,\n",
       "         2.80172241,  36.65973024,  19.5574803 , -13.79242662,\n",
       "        12.74066445, -11.59023245,  -9.15088887, -13.1167295 ,\n",
       "        -5.34714916,   3.15247661,   6.14474399,   5.6972712 ,\n",
       "       -15.8020872 ,  -5.02780703,  -4.12876828,   5.08515413,\n",
       "        15.02805901, -15.09155104,  -5.474673  ,  21.31889253,\n",
       "       -20.04624483, -21.84438975,   5.88737487,  20.29312358,\n",
       "        -4.58852143,  25.88181008, -14.46779625, -30.93435597,\n",
       "         4.06324462, -60.55091121, -24.68941806,  13.16420241,\n",
       "        -7.88671145,  26.05259135, -11.24393012,  42.40490424,\n",
       "       -30.98957213,  -8.7252953 , -24.83344861,  13.62568555,\n",
       "         4.79960029, -55.97757871,  22.03081016,   8.60323658,\n",
       "       -13.84275581,   7.43049387, -15.03020508,   4.6857743 ,\n",
       "       -19.83199077,  10.80771017,  -5.65374183,   9.64996794,\n",
       "        16.48044055,  12.53393533,   4.13379597,   3.75481133,\n",
       "       -46.95417671,  -7.84829019, -30.17002274,  16.5263517 ,\n",
       "         8.96742368,   8.97326336,  21.13643253,  11.9290278 ,\n",
       "       -25.34947021, -23.50032871,  -7.85430163,   4.76587143,\n",
       "        -5.29532422,  -8.6515508 ,  12.29500056,  14.86450104,\n",
       "        -7.84412329,  10.33484186,  48.87012148,   5.30141385,\n",
       "       -23.95780838, -16.96426214, -22.05820963,  -7.86913287,\n",
       "        11.41095053,   7.24668382,  18.79867842,  24.33531557,\n",
       "        39.85478036,   4.11460023, -13.93107528, -13.41923064,\n",
       "        16.76222577,  13.50425925, -15.9130427 ,  -5.92260153,\n",
       "        -4.93406666,  -3.4827001 ,  -3.87525559,  -5.67943194,\n",
       "       -15.75715535, -14.17630758,   6.52304698, -14.63710108,\n",
       "        34.41204605,  49.09672519,  23.82655892,  14.49068541,\n",
       "         7.84141646, -35.47182509,  13.02361695, -13.57991059,\n",
       "       -14.15630981, -19.21068183, -56.98654096,  28.30973619,\n",
       "        21.38091281,   8.12502946, -24.21824248,  35.83808287,\n",
       "        35.78728647,  -6.95322119, -12.63646309,   2.89514979,\n",
       "        16.79506158,   1.35753585,  -5.60091218,   9.26558926,\n",
       "         3.35409219,   5.58101546,   6.65764115,  -6.90431915,\n",
       "         5.19075099,  -7.84364061,  -3.52668943,   6.31882366,\n",
       "         6.68827113,  -5.53727034,   6.53045091, -49.67492481,\n",
       "         5.5023181 , -22.46778544,  -4.11912461, -78.53589767,\n",
       "        -3.55296374,   2.94080465,   3.4292334 ,  -9.96209724,\n",
       "         6.43582556, -28.42258215,  10.60438735,   3.53566939,\n",
       "        17.04102696,  -9.69215363, -10.49152129,  -7.87896436,\n",
       "        26.16525348,  44.72723463,   8.17813627,   2.60312797,\n",
       "       -20.97623821,  -9.48588923,   9.48029134,  11.95880608,\n",
       "         6.8846357 ,  -6.58938642,   2.58691411,  10.08751893,\n",
       "        -6.82110282, -12.2329835 ,  17.54409684,  27.31922902,\n",
       "         5.60123643,  18.85763893,   5.80365921,  25.92141827,\n",
       "        14.37313044, -24.69000361, -15.58414488, -14.17024754,\n",
       "        26.14967651,   3.49982255,   8.27700952,  11.95732075,\n",
       "       -36.18881517,  11.16429064, -10.46919946,   9.0956828 ,\n",
       "        -7.44418469,  27.65626157,  -8.48144634, -28.53341497,\n",
       "         7.93691433,  -4.27564372,  22.9050948 ,   8.95185526,\n",
       "         5.0232646 ,  -9.64172403,  10.96109528,  13.83398164,\n",
       "         1.51473946,  -5.21117102,  -9.6131211 ,  30.96303109,\n",
       "         3.70825891,  -6.48750065,   7.85031831,  19.88207746,\n",
       "       -14.0468368 ,   2.9413624 ,   6.25151935,   6.96124074,\n",
       "        13.87434941, -20.28148722,   7.78932573, -18.46107605,\n",
       "         6.51737946,  29.0081022 , -21.90215403,  17.14248896,\n",
       "        12.9272368 , -17.5842116 ,  -9.16127456,  -4.61479727,\n",
       "        -9.52543533,   3.84773487,  29.57763023,   8.18366895,\n",
       "         6.30763086, -51.74475195,   8.41178953,  14.75193166,\n",
       "       -12.46670756,  -9.00253397, -10.05907007,  16.37125444,\n",
       "       -18.52392197,  11.11036101, -22.89906817, -15.28983683,\n",
       "        -4.4553079 , -11.8839638 ,  18.36678775,   4.89543658,\n",
       "        12.44138357, -13.90470517, -13.77925972,  22.25001075,\n",
       "        16.14975613,  14.32386235,   4.67956509, -29.97961132,\n",
       "       -16.18291257,   5.77157848,   8.72535646, -50.26412587,\n",
       "        11.60341621,   5.58119666, -34.59707802,  13.95930102,\n",
       "       -10.90578128,   8.70088095, -36.28246414,  17.49634792,\n",
       "         5.58951674,  14.90332668,  11.25267028,  -4.07681693,\n",
       "         9.7048336 , -32.1516593 ,   8.56493375,  26.09635058,\n",
       "        -5.90741344, -24.72882635, -15.03003465,  17.92117104,\n",
       "       -13.50511813, -48.10415255, -23.35676595, -17.22625473,\n",
       "        -4.05457425,  -6.96764682,  -6.48072319,   6.38904568,\n",
       "        61.79331345, -15.90707146, -29.03226737, -23.31603299,\n",
       "       -50.18372155,  14.73361688,   3.80790995, -19.78169585,\n",
       "        -4.86146578,  33.95683609,   9.99064513, -14.54190341,\n",
       "       -21.28556747,  -8.51362644,  11.39959276, -12.24730758,\n",
       "        20.09930325, -30.84657166,  -9.66420599,   3.32939459,\n",
       "        -7.78938279, -30.2725589 ,  -3.681126  , -94.88311492,\n",
       "         5.65664275, -10.13797003, -18.93982858,   7.59211194,\n",
       "        11.62948694, -11.62171713,   6.9750651 , -14.87612905,\n",
       "         5.70597966])"
      ]
     },
     "execution_count": 60,
     "metadata": {},
     "output_type": "execute_result"
    }
   ],
   "source": [
    "# element-wise math\n",
    "\n",
    "# square every term in alpha\n",
    "alpha_element_squared = alpha * alpha\n",
    "sigma_element_squared = sigma * sigma\n",
    "\n",
    "# the 3.9 formula from\n",
    "# https://maslov.bioengineering.illinois.edu/optimal_investment_ijtaf.pdf\n",
    "alpha / (alpha_element_squared + sigma_element_squared)\n"
   ]
  },
  {
   "cell_type": "code",
   "execution_count": 61,
   "id": "fd3528ff",
   "metadata": {},
   "outputs": [],
   "source": [
    "# invert matrices\n",
    "k_inv = np.linalg.inv(k)\n",
    "\n",
    "# formula 3.10 from \n",
    "# https://maslov.bioengineering.illinois.edu/optimal_investment_ijtaf.pdf\n",
    "r_opt = np.dot(k_inv, alpha)\n"
   ]
  },
  {
   "cell_type": "code",
   "execution_count": 62,
   "id": "c8cd083d",
   "metadata": {},
   "outputs": [],
   "source": [
    "# hints that I'm not sure how they all go together\n",
    "\n",
    "# from formula 3.11\n",
    "# you know that if \\lambda >= \\alpha_i, then we can ignore that term\n",
    "\n",
    "# Maybe if you sort all fo the \\alpha_i terms, you can see if a solution for lambda exists where all of the smaller\n",
    "# values are ignored, and all of the larger values are effected by \\lambda\n",
    "\n",
    "# if you look at each term in the sum of 3.12, they are piecewise linear wrt. \\lambda\n"
   ]
  },
  {
   "cell_type": "code",
   "execution_count": 63,
   "id": "0b100eb2",
   "metadata": {},
   "outputs": [
    {
     "name": "stdout",
     "output_type": "stream",
     "text": [
      "-0.365161484814877 0.706324245755154\n",
      "iteration: 1, 0.4384528131126462, -0.4851584449146573\n",
      "iteration: 2, 0.3045170967913924, 2.4144009186886874\n",
      "iteration: 3, 0.3714849549520193, -0.2635192267667682\n",
      "iteration: 4, 0.33800102587170583, 0.31824602459833384\n",
      "iteration: 5, 0.3547429904118625, -0.10673790449142584\n",
      "iteration: 6, 0.34637200814178415, 0.031375066080680414\n",
      "iteration: 7, 0.35055749927682334, -0.03768141920537271\n",
      "iteration: 8, 0.34846475370930374, -0.0031531765623462604\n",
      "iteration: 9, 0.34741838092554395, 0.014110944759166966\n",
      "iteration: 10, 0.34794156731742387, 0.0054788840984099085\n",
      "iteration: 11, 0.3482031605133638, 0.001162853768031935\n",
      "iteration: 12, 0.34833395711133375, -0.0009951613971566076\n",
      "iteration: 13, 0.34826855881234875, 8.384618543799682e-05\n",
      "iteration: 14, 0.34830125796184125, -0.00045565760585919435\n",
      "iteration: 15, 0.348284908387095, -0.00018590571021104285\n",
      "iteration: 16, 0.3482767335997219, -5.1029762386578525e-05\n",
      "iteration: 17, 0.3482726462060353, 1.640821152570915e-05\n",
      "iteration: 18, 0.3482746899028786, -1.73107754299906e-05\n",
      "iteration: 19, 0.3482736680544569, -4.51281951696636e-07\n",
      "iteration: 20, 0.3482731571302461, 7.978464787505857e-06\n",
      "iteration: 21, 0.3482734125923515, 3.763591418071144e-06\n",
      "iteration: 22, 0.3482735403234042, 1.6561547337978766e-06\n",
      "iteration: 23, 0.34827360418893055, 6.024363909951092e-07\n",
      "iteration: 24, 0.3482736361216937, 7.557722003781464e-08\n",
      "iteration: 25, 0.3482736520880753, -1.8785236566287722e-07\n",
      "iteration: 26, 0.3482736441048845, -5.6137572257419777e-08\n",
      "iteration: 27, 0.3482736401132891, 9.719823834686281e-09\n",
      "iteration: 28, 0.3482736421090868, -2.32088742668779e-08\n",
      "iteration: 29, 0.34827364111118797, -6.744525604673868e-09\n",
      "iteration: 30, 0.34827364061223853, 1.4876491150062066e-09\n",
      "iteration: 31, 0.34827364086171325, -2.6284382448338306e-09\n",
      "iteration: 32, 0.34827364073697586, -5.703940653134509e-10\n"
     ]
    }
   ],
   "source": [
    "# idea one to solve this: use line search\n",
    "# main idea: function 3.12 is monotically decreasing\n",
    "# so if we pick upper/lower bounds of lambda, we can just do a line search and call it a day\n",
    "# monotonically decreasing means the derivative of the function wrt lambda is <= 0 across all values of lambda\n",
    "\n",
    "# upper bound, we know that if lambda causes all of the terms to be zero, we went too far.\n",
    "# i.e., alpha_i - upper_bound_lambda <= 0 \\forall i\n",
    "upper_bound_lambda = np.max(alpha)\n",
    "\n",
    "# lower bound, we know that each term in the sum is >= 0 and <= the total sum term.\n",
    "# so just find the lower bound of each term and take the maximum out of all of these terms\n",
    "# for each term, lambda = alpha_i - alpha_i^2 - sigma_i^2\n",
    "# I know this because I can do high-school algebra in my head... work it out on paper if you can't\n",
    "lower_bound_lambda = np.min(alpha - (alpha_element_squared + sigma_element_squared))\n",
    "# # # TODO, think about cases where there are zero values in r_opt\n",
    "# # r_opt_top_stocks = r_opt[np.argsort(-r_opt)[:max_num_stocks]]\n",
    "# # r_opt_top_stocks /= np.sum(r_opt_top_stocks)\n",
    "\n",
    "# r_opt_top_stocks = [r_opt_with_names[best_stock_index][0] for best_stock_index in best_stock_indices]\n",
    "# r_opt_top_stocks = np.array(r_opt_top_stocks_with_names) / np.sum(r_opt_top_stocks_with_names)\n",
    "# r_opt_top_stocks\n",
    "\n",
    "# r_opt_top_stocks_with_names = [r_opt_with_names[best_stock_index] for best_stock_index in best_stock_indices]\n",
    "# r_opt_top_stocks_with_namespha - alpha_element_squared - sigma_element_squared)\n",
    "\n",
    "print(lower_bound_lambda, upper_bound_lambda)\n",
    "\n",
    "# now line search/binary search... first we need to evaluate the value of the 3.12 summation expression\n",
    "def eval_expression(lambda_value):\n",
    "    # subtract one so I can get something like \\sum - 1 = 0 to solve.\n",
    "    fractional_terms = (alpha - lambda_value) / (alpha_element_squared + sigma_element_squared)\n",
    "    # heavyside function\n",
    "    fractional_terms = np.maximum(fractional_terms, 0)\n",
    "    return np.sum(fractional_terms) - 1\n",
    "\n",
    "# sanity check, the correct value (0) is between the upper bound and lower bound\n",
    "eval_expression(lower_bound_lambda), eval_expression(upper_bound_lambda)\n",
    "\n",
    "# there's a tolerance term usually, more on that later\n",
    "tolerance = 1e-9\n",
    "\n",
    "# initialize our loop with our initial guess\n",
    "lower_lambda = lower_bound_lambda\n",
    "upper_lambda = upper_bound_lambda\n",
    "middle_lambda = (lower_bound_lambda + upper_bound_lambda) / 2\n",
    "\n",
    "iterations = 0\n",
    "while np.abs(eval_expression(middle_lambda)) > tolerance:\n",
    "    middle_value = eval_expression(middle_lambda)\n",
    "    if middle_value > 0:\n",
    "        lower_lambda = middle_lambda\n",
    "    else:\n",
    "        upper_lambda = middle_lambda\n",
    "    middle_lambda = (lower_lambda + upper_lambda) / 2\n",
    "\n",
    "    iterations += 1\n",
    "    print(f'iteration: {iterations}, {middle_lambda}, {eval_expression(middle_lambda)}')\n"
   ]
  },
  {
   "cell_type": "code",
   "execution_count": 64,
   "id": "ff639db2",
   "metadata": {},
   "outputs": [
    {
     "data": {
      "image/png": "[encoded data removed]",
      "text/plain": [
       "<Figure size 432x288 with 1 Axes>"
      ]
     },
     "metadata": {
      "needs_background": "light"
     },
     "output_type": "display_data"
    }
   ],
   "source": [
    "import matplotlib.pyplot as plt\n",
    "\n",
    "x = np.linspace(lower_bound_lambda, upper_bound_lambda, 101)\n",
    "plt.plot(x, [eval_expression(el) for el in x], label='f(lambda)')\n",
    "plt.plot([0, 1], [0, 0], label='0')\n",
    "plt.legend()\n",
    "\n",
    "plt.show()\n"
   ]
  },
  {
   "cell_type": "code",
   "execution_count": 65,
   "id": "ecb87079",
   "metadata": {},
   "outputs": [
    {
     "data": {
      "text/plain": [
       "[[0.6881634542865412, 'MRNA'],\n",
       " [0.24875930216093575, 'PAYC'],\n",
       " [0.063077243552523, 'FTNT'],\n",
       " [0.0, 'A'],\n",
       " [0.0, 'NWS']]"
      ]
     },
     "execution_count": 65,
     "metadata": {},
     "output_type": "execute_result"
    }
   ],
   "source": [
    "# get the optimal investment portfolio\n",
    "r_opt = np.maximum(0, (alpha - middle_lambda) / (alpha_element_squared + sigma_element_squared))\n",
    "r_opt = r_opt.flatten()\n",
    "\n",
    "# r_opt_with_names = list(zip(r_opt, stock_names))\n",
    "best_stock_indices = np.argsort(-r_opt)[:max_num_stocks]\n",
    "best_stock_prices = r_opt[best_stock_indices]\n",
    "best_stock_prices /= np.sum(best_stock_prices)\n",
    "\n",
    "r_opt_top_stocks_with_names = []\n",
    "for best_stock_price, best_stock_index in zip(best_stock_prices, best_stock_indices):\n",
    "    r_opt_top_stocks_with_names.append([best_stock_price, index_to_ticker[best_stock_index]])\n",
    "r_opt_top_stocks_with_names\n"
   ]
  },
  {
   "cell_type": "code",
   "execution_count": 66,
   "id": "41b1c8b4",
   "metadata": {},
   "outputs": [],
   "source": [
    "expected_val = np.dot(r_opt, alpha)\n"
   ]
  },
  {
   "cell_type": "code",
   "execution_count": 67,
   "id": "9426249b",
   "metadata": {},
   "outputs": [
    {
     "name": "stdout",
     "output_type": "stream",
     "text": [
      "Mean/expected total return:  0.6043943063161932\n",
      "Variance:  0.0012187938200147572\n",
      "Standard dev:  0.03491122770706807 \n",
      "\n",
      "99.0% confidence interval: 0.6043943063161932 ± 0.08992536335073421\n",
      "95.0% confidence interval: 0.6043943063161932 ± 0.06842474896193027\n",
      "85.0% confidence interval: 0.6043943063161932 ± 0.05025581097342306\n"
     ]
    }
   ],
   "source": [
    "# brief lecture on probabilities (mean/variance)\n",
    "# E[X]=mean(X), Var[X]=Variance(X)\n",
    "# let a be a constant\n",
    "# Var[X] = E[X^2] - E[X]^2\n",
    "# aE[X] = E[aX]\n",
    "# a^2Var[X] = Var[(aX)]\n",
    "# Let v be some vector, K be the covariance matrix\n",
    "# Var(Kv) = v^t K v\n",
    "\n",
    "# we now have r_opt, find the mean and variance of investing in r_opt\n",
    "# alpha, sigma\n",
    "\n",
    "# Amber and Katrina's draft:\n",
    "\n",
    "expected_val = np.dot(r_opt, alpha)\n",
    "\n",
    "print(\"Mean/expected total return: \", expected_val)\n",
    "\n",
    "# TODO: find the variance with weighted variables formula that includes r_opt values (Attempted/done 9/3/21)\n",
    "\n",
    "# http://www.math.kent.edu/~reichel/courses/monte.carlo/alt4.7d.pdf\n",
    "\n",
    "# (r_opt^T * covariance_matrix * r_opt)\n",
    "\n",
    "# T is transpose. Matrix product operation (dot product)\n",
    "\n",
    "# variance = sum((expected_return_array[i] - expected_val)**2 for i in range(len(expected_return_array) - 1)) / len(expected_return_array)\n",
    "\n",
    "variance = multi_dot([r_opt.T, covariance_matrix, r_opt])\n",
    "\n",
    "standard_dev = np.sqrt(variance)\n",
    "\n",
    "print(\"Variance: \", variance)\n",
    "print(\"Standard dev: \", standard_dev, \"\\n\")\n",
    "\n",
    "# Calculating confidence intervals:\n",
    "# https://docs.scipy.org/doc/scipy/reference/generated/scipy.stats.zscore.html\n",
    "for confidence_level in [0.99, 0.95, 0.85]:\n",
    "    error = abs(st.norm.ppf((1-confidence_level)/2)) * standard_dev\n",
    "    print(f\"{confidence_level * 100}% confidence interval: {expected_val}\", u\"\\u00B1\", error)\n"
   ]
  },
  {
   "cell_type": "code",
   "execution_count": 68,
   "id": "2df12d3d",
   "metadata": {},
   "outputs": [
    {
     "data": {
      "text/plain": [
       "1.1238607257395243"
      ]
     },
     "execution_count": 68,
     "metadata": {},
     "output_type": "execute_result"
    }
   ],
   "source": [
    "np.exp(0.11676983430967593)"
   ]
  },
  {
   "cell_type": "code",
   "execution_count": 69,
   "id": "0fcfaaad",
   "metadata": {},
   "outputs": [
    {
     "data": {
      "text/plain": [
       "array([313, 354, 192, 149, 311])"
      ]
     },
     "execution_count": 69,
     "metadata": {},
     "output_type": "execute_result"
    }
   ],
   "source": [
    "np.argsort(-alpha)[:max_num_stocks]"
   ]
  },
  {
   "cell_type": "code",
   "execution_count": 70,
   "id": "41c13d31",
   "metadata": {},
   "outputs": [
    {
     "data": {
      "text/plain": [
       "['MRNA',\n",
       " 'PAYC',\n",
       " 'FTNT',\n",
       " 'DXCM',\n",
       " 'MPWR',\n",
       " 'NOW',\n",
       " 'RMD',\n",
       " 'ALB',\n",
       " 'GNRC',\n",
       " 'BIO',\n",
       " 'CMG',\n",
       " 'CTLT',\n",
       " 'WST',\n",
       " 'MSCI',\n",
       " 'NRG',\n",
       " 'DHR',\n",
       " 'PKI',\n",
       " 'CRL',\n",
       " 'NVDA',\n",
       " 'REGN']"
      ]
     },
     "execution_count": 70,
     "metadata": {},
     "output_type": "execute_result"
    }
   ],
   "source": [
    "[index_to_ticker[el] for el in np.argsort(-alpha)[:20]]"
   ]
  },
  {
   "cell_type": "code",
   "execution_count": 71,
   "id": "db5c8977",
   "metadata": {},
   "outputs": [
    {
     "data": {
      "text/plain": [
       "[0.706324245755154,\n",
       " 0.38532692194164625,\n",
       " 0.3562951768967905,\n",
       " 0.34534904507768005,\n",
       " 0.34481231699922626,\n",
       " 0.3397503414601219,\n",
       " 0.3397479266197805,\n",
       " 0.31858654567543077,\n",
       " 0.315519503220881,\n",
       " 0.3123973110852709,\n",
       " 0.3118998894023043,\n",
       " 0.30163176767259114,\n",
       " 0.3002282663564738,\n",
       " 0.2980000088786028,\n",
       " 0.2900538492123639,\n",
       " 0.2885911496955217,\n",
       " 0.28541454571996155,\n",
       " 0.2823727622631504,\n",
       " 0.2805102550517632,\n",
       " 0.2692629439845023]"
      ]
     },
     "execution_count": 71,
     "metadata": {},
     "output_type": "execute_result"
    }
   ],
   "source": [
    "[alpha[el] for el in np.argsort(-alpha)[:20]]"
   ]
  },
  {
   "cell_type": "code",
   "execution_count": 72,
   "id": "e14d03b9",
   "metadata": {},
   "outputs": [
    {
     "data": {
      "text/plain": [
       "368.91312674213805"
      ]
     },
     "execution_count": 72,
     "metadata": {},
     "output_type": "execute_result"
    }
   ],
   "source": [
    "np.exp(0.010663833857211109) * 365"
   ]
  },
  {
   "cell_type": "code",
   "execution_count": 73,
   "id": "8e82c0a7",
   "metadata": {},
   "outputs": [],
   "source": [
    "indices = np.array([ticker_to_index[ticker] for ticker in ['ETSY']])\n",
    "np.array([[covariance_matrix[i, j] for i in indices] for j in indices])\n",
    "r_opt[indices]\n",
    "index_variance = np.array([[covariance_matrix[i, j] for i in indices] for j in indices])\n",
    "index_mean = r_opt[indices]\n"
   ]
  },
  {
   "cell_type": "code",
   "execution_count": 20,
   "id": "e94a8383",
   "metadata": {},
   "outputs": [
    {
     "data": {
      "text/plain": [
       "0.0"
      ]
     },
     "execution_count": 20,
     "metadata": {},
     "output_type": "execute_result"
    }
   ],
   "source": [
    "variance = multi_dot([index_mean.T, index_variance, index_mean])\n",
    "variance"
   ]
  },
  {
   "cell_type": "code",
   "execution_count": 21,
   "id": "efd2af77",
   "metadata": {},
   "outputs": [
    {
     "data": {
      "text/plain": [
       "0.0"
      ]
     },
     "execution_count": 21,
     "metadata": {},
     "output_type": "execute_result"
    }
   ],
   "source": [
    "np.sqrt(variance)"
   ]
  },
  {
   "cell_type": "code",
   "execution_count": 22,
   "id": "1f74e404",
   "metadata": {},
   "outputs": [
    {
     "data": {
      "text/plain": [
       "array([[0.00083249]])"
      ]
     },
     "execution_count": 22,
     "metadata": {},
     "output_type": "execute_result"
    }
   ],
   "source": [
    "index_variance"
   ]
  },
  {
   "cell_type": "code",
   "execution_count": 23,
   "id": "775af421",
   "metadata": {},
   "outputs": [
    {
     "data": {
      "text/plain": [
       "array([0.])"
      ]
     },
     "execution_count": 23,
     "metadata": {},
     "output_type": "execute_result"
    }
   ],
   "source": [
    "index_mean"
   ]
  },
  {
   "cell_type": "code",
   "execution_count": 24,
   "id": "fc8a429e",
   "metadata": {},
   "outputs": [
    {
     "data": {
      "image/png": "[encoded data removed]",
      "text/plain": [
       "<Figure size 432x288 with 1 Axes>"
      ]
     },
     "metadata": {
      "needs_background": "light"
     },
     "output_type": "display_data"
    }
   ],
   "source": [
    "plt.hist(np.sqrt(np.diag(covariance_matrix)), bins=50)\n",
    "plt.show()"
   ]
  },
  {
   "cell_type": "code",
   "execution_count": 25,
   "id": "c4276703",
   "metadata": {},
   "outputs": [
    {
     "data": {
      "text/plain": [
       "array([[0.0288529]])"
      ]
     },
     "execution_count": 25,
     "metadata": {},
     "output_type": "execute_result"
    }
   ],
   "source": [
    "np.sqrt(index_variance)"
   ]
  },
  {
   "cell_type": "code",
   "execution_count": null,
   "id": "8207190c",
   "metadata": {},
   "outputs": [],
   "source": []
  }
 ],
 "metadata": {
  "kernelspec": {
   "display_name": "Python 3",
   "language": "python",
   "name": "python3"
  },
  "language_info": {
   "codemirror_mode": {
    "name": "ipython",
    "version": 3
   },
   "file_extension": ".py",
   "mimetype": "text/x-python",
   "name": "python",
   "nbconvert_exporter": "python",
   "pygments_lexer": "ipython3",
   "version": "3.6.9"
  }
 },
 "nbformat": 4,
 "nbformat_minor": 5
}
