{
 "cells": [
  {
   "cell_type": "code",
   "execution_count": 9,
   "metadata": {},
   "outputs": [],
   "source": [
    "import numpy as np"
   ]
  },
  {
   "cell_type": "code",
   "execution_count": 10,
   "metadata": {},
   "outputs": [],
   "source": [
    "# first, define our problem size\n",
    "n = 10\n",
    "alpha = np.random.random((n, 1))\n",
    "sigma = np.random.random((n, 1))\n",
    "k = np.random.random((n, n))\n",
    "\n",
    "# Katrina's draft:\n",
    "\n",
    "max_num_stocks = 5\n",
    "\n",
    "if len(alpha) > max_num_stocks:\n",
    "    alpha[max_num_stocks:] = 0\n",
    "\n",
    "if len(sigma) > max_num_stocks:\n",
    "    sigma[max_num_stocks:] = 1\n",
    "    \n",
    "# DRAFT END\n",
    "\n",
    "# goal, generate some vector r such that:\n",
    "# sum(r) = 1.0\n",
    "# r represents our optimal investment portfolio\n"
   ]
  },
  {
   "cell_type": "code",
   "execution_count": 11,
   "metadata": {},
   "outputs": [
    {
     "data": {
      "text/plain": [
       "array([[0.8137482 ],\n",
       "       [0.56248381],\n",
       "       [0.78418055],\n",
       "       [0.88155323],\n",
       "       [0.64747443],\n",
       "       [0.        ],\n",
       "       [0.        ],\n",
       "       [0.        ],\n",
       "       [0.        ],\n",
       "       [0.        ]])"
      ]
     },
     "execution_count": 11,
     "metadata": {},
     "output_type": "execute_result"
    }
   ],
   "source": [
    "# element-wise math\n",
    "\n",
    "# square every term in alpha\n",
    "alpha_element_squared = alpha * alpha\n",
    "sigma_element_squared = sigma * sigma\n",
    "\n",
    "# the 3.9 formula from\n",
    "# https://maslov.bioengineering.illinois.edu/optimal_investment_ijtaf.pdf\n",
    "alpha / (alpha_element_squared + sigma_element_squared)\n"
   ]
  },
  {
   "cell_type": "code",
   "execution_count": 12,
   "metadata": {},
   "outputs": [],
   "source": [
    "# invert matrices\n",
    "k_inv = np.linalg.inv(k)\n",
    "\n",
    "# formula 3.10 from \n",
    "# https://maslov.bioengineering.illinois.edu/optimal_investment_ijtaf.pdf\n",
    "r_opt = np.dot(k_inv, alpha)\n"
   ]
  },
  {
   "cell_type": "code",
   "execution_count": 13,
   "metadata": {},
   "outputs": [],
   "source": [
    "# hints that I'm not sure how they all go together\n",
    "\n",
    "# from formula 3.11\n",
    "# you know that if \\lambda >= \\alpha_i, then we can ignore that term\n",
    "\n",
    "# Maybe if you sort all fo the \\alpha_i terms, you can see if a solution for lambda exists where all of the smaller\n",
    "# values are ignored, and all of the larger values are effected by \\lambda\n",
    "\n",
    "# if you look at each term in the sum of 3.12, they are piecewise linear wrt. \\lambda\n"
   ]
  },
  {
   "cell_type": "code",
   "execution_count": 14,
   "metadata": {},
   "outputs": [
    {
     "name": "stdout",
     "output_type": "stream",
     "text": [
      "-0.048569977970172956 0.8952497507921521\n",
      "iteration: 1, 0.6592948186015708, -0.5052264156893582\n",
      "iteration: 2, 0.5413173525062802, -0.21949826429997454\n",
      "iteration: 3, 0.4823286194586349, -0.0121574902727688\n",
      "iteration: 4, 0.4528342529348123, 0.10509245552535984\n",
      "iteration: 5, 0.4675814361967236, 0.04646748262629563\n",
      "iteration: 6, 0.4749550278276793, 0.017154996176763193\n",
      "iteration: 7, 0.4786418236431571, 0.0024987529519970852\n",
      "iteration: 8, 0.480485221550896, -0.004829368660385858\n",
      "iteration: 9, 0.47956352259702656, -0.0011653078541944417\n",
      "iteration: 10, 0.4791026731200918, 0.0006667225489014328\n",
      "iteration: 11, 0.47933309785855915, -0.0002492926526462824\n",
      "iteration: 12, 0.4792178854893255, 0.00020871494812757518\n",
      "iteration: 13, 0.47927549167394234, -2.028885225946464e-05\n",
      "iteration: 14, 0.4792466885816339, 9.42130479342218e-05\n",
      "iteration: 15, 0.4792610901277881, 3.696209783732307e-05\n",
      "iteration: 16, 0.4792682909008652, 8.336622789206771e-06\n",
      "iteration: 17, 0.4792718912874038, -5.976114735184446e-06\n",
      "iteration: 18, 0.4792700910941345, 1.1802540269556516e-06\n",
      "iteration: 19, 0.4792709911907691, -2.3979303539478636e-06\n",
      "iteration: 20, 0.4792705411424518, -6.088381636626394e-07\n",
      "iteration: 21, 0.4792703161182932, 2.857079315354838e-07\n",
      "iteration: 22, 0.4792704286303725, -1.6156511617460012e-07\n",
      "iteration: 23, 0.47927037237433284, 6.207140779146414e-08\n",
      "iteration: 24, 0.4792704005023527, -4.974685430259029e-08\n",
      "iteration: 25, 0.47927038643834274, 6.162276688925772e-09\n",
      "iteration: 26, 0.4792703934703477, -2.1792288640298807e-08\n",
      "iteration: 27, 0.47927038995434523, -7.815005864664215e-09\n",
      "iteration: 28, 0.479270388196344, -8.263645323580704e-10\n"
     ]
    }
   ],
   "source": [
    "# idea one to solve this: use line search\n",
    "# main idea: function 3.12 is monotically decreasing\n",
    "# so if we pick upper/lower bounds of lambda, we can just do a line search and call it a day\n",
    "# monotonically decreasing means the derivative of the function wrt lambda is <= 0 across all values of lambda\n",
    "\n",
    "# upper bound, we know that if lambda causes all of the terms to be zero, we went too far.\n",
    "# i.e., alpha_i - upper_bound_lambda <= 0 \\forall i\n",
    "upper_bound_lambda = np.max(alpha)\n",
    "\n",
    "# lower bound, we know that each term in the sum is >= 0 and <= the total sum term.\n",
    "# so just find the lower bound of each term and take the maximum out of all of these terms\n",
    "# for each term, lambda = alpha_i - alpha_i^2 - sigma_i^2\n",
    "# I know this because I can do high-school algebra in my head... work it out on paper if you can't\n",
    "lower_bound_lambda = np.max(alpha - alpha_element_squared - sigma_element_squared)\n",
    "\n",
    "print(lower_bound_lambda, upper_bound_lambda)\n",
    "\n",
    "# now line search/binary search... first we need to evaluate the value of the 3.12 summation expression\n",
    "def eval_expression(lambda_value):\n",
    "    # subtract one so I can get something like \\sum - 1 = 0 to solve.\n",
    "    fractional_terms = (alpha - lambda_value) / (alpha_element_squared + sigma_element_squared)\n",
    "    # heavyside function\n",
    "    fractional_terms = np.maximum(fractional_terms, 0)\n",
    "    return np.sum(fractional_terms) - 1\n",
    "\n",
    "# sanity check, the correct value (0) is between the upper bound and lower bound\n",
    "eval_expression(lower_bound_lambda), eval_expression(upper_bound_lambda)\n",
    "\n",
    "# there's a tolerance term usually, more on that later\n",
    "tolerance = 1e-9\n",
    "\n",
    "# initialize our loop with our initial guess\n",
    "lower_lambda = lower_bound_lambda\n",
    "upper_lambda = upper_bound_lambda\n",
    "middle_lambda = (lower_bound_lambda + upper_bound_lambda) / 2\n",
    "\n",
    "iterations = 0\n",
    "while np.abs(eval_expression(middle_lambda)) > tolerance:\n",
    "    middle_value = eval_expression(middle_lambda)\n",
    "    if middle_value > 0:\n",
    "        lower_lambda = middle_lambda\n",
    "    else:\n",
    "        upper_lambda = middle_lambda\n",
    "    middle_lambda = (lower_lambda + upper_lambda) / 2\n",
    "\n",
    "    iterations += 1\n",
    "    print(f'iteration: {iterations}, {middle_lambda}, {eval_expression(middle_lambda)}')\n"
   ]
  },
  {
   "cell_type": "code",
   "execution_count": 15,
   "metadata": {},
   "outputs": [
    {
     "data": {
      "image/png": "[encoded data removed]",
      "text/plain": [
       "<Figure size 432x288 with 1 Axes>"
      ]
     },
     "metadata": {
      "needs_background": "light"
     },
     "output_type": "display_data"
    }
   ],
   "source": [
    "import matplotlib.pyplot as plt\n",
    "\n",
    "x = np.linspace(0, 1, 101)\n",
    "plt.plot(x, [eval_expression(el) for el in x], label='f(lambda)')\n",
    "plt.plot([0, 1], [0, 0], label='0')\n",
    "plt.legend()\n",
    "\n",
    "plt.show()\n"
   ]
  },
  {
   "cell_type": "code",
   "execution_count": 16,
   "metadata": {},
   "outputs": [
    {
     "data": {
      "text/plain": [
       "array([[0.88919904],\n",
       "       [0.59634073],\n",
       "       [1.        ],\n",
       "       [0.92938013],\n",
       "       [0.68342163],\n",
       "       [0.04856998],\n",
       "       [0.04856998],\n",
       "       [0.04856998],\n",
       "       [0.04856998],\n",
       "       [0.04856998]])"
      ]
     },
     "execution_count": 16,
     "metadata": {},
     "output_type": "execute_result"
    }
   ],
   "source": [
    "(alpha - lower_bound_lambda) / (alpha_element_squared + sigma_element_squared)"
   ]
  },
  {
   "cell_type": "code",
   "execution_count": null,
   "metadata": {},
   "outputs": [],
   "source": []
  }
 ],
 "metadata": {
  "kernelspec": {
   "display_name": "Python 3",
   "language": "python",
   "name": "python3"
  },
  "language_info": {
   "codemirror_mode": {
    "name": "ipython",
    "version": 3
   },
   "file_extension": ".py",
   "mimetype": "text/x-python",
   "name": "python",
   "nbconvert_exporter": "python",
   "pygments_lexer": "ipython3",
   "version": "3.8.3"
  }
 },
 "nbformat": 4,
 "nbformat_minor": 5
}
