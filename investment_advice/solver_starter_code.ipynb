{
 "cells": [
  {
   "cell_type": "code",
   "execution_count": 48,
   "id": "7cbfab0f",
   "metadata": {},
   "outputs": [],
   "source": [
    "import numpy as np\n",
    "import math\n",
    "from numpy.linalg import multi_dot\n",
    "import scipy.stats as st\n",
    "import json"
   ]
  },
  {
   "cell_type": "code",
   "execution_count": 49,
   "id": "00440b51",
   "metadata": {},
   "outputs": [],
   "source": [
    "# # first, define our problem size\n",
    "# n = 10\n",
    "# alpha = np.random.random((n, 1))\n",
    "# k = np.random.random((n, n))\n",
    "# sigma = np.array([[k[i][i]] for i in range(n)])\n",
    "\n",
    "# # TODO: figure out how to stitch together the r_opt values with the actual stock names\n",
    "# stock_names = [f'stock_{i}' for i in range(n)]\n",
    "\n",
    "# # TODO? figure out how to generate the confidence intervals of how much money you expect to make from this\n",
    "\n",
    "# # TODO, pick one stock to be the baseline (stock_0). Figure out some way of comparing\n",
    "# # stock_0's expected performance compared to our optimal solver\n",
    "\n",
    "# # Katrina's draft:\n",
    "\n",
    "# max_num_stocks = 5\n",
    "\n",
    "# # DRAFT END\n",
    "\n",
    "# # goal, generate some vector r such that:\n",
    "# # sum(r) = 1.0\n",
    "# # r represents our optimal investment portfolio"
   ]
  },
  {
   "cell_type": "code",
   "execution_count": 61,
   "id": "d50b1713",
   "metadata": {},
   "outputs": [],
   "source": [
    "\n",
    "max_num_stocks = 10\n",
    "investment_window_days = 30"
   ]
  },
  {
   "cell_type": "code",
   "execution_count": 62,
   "id": "75813b73",
   "metadata": {},
   "outputs": [],
   "source": [
    "# load the data\n",
    "json_data = json.loads(open('tmp.txt', 'r').read())\n",
    "covariance_matrix = np.array(json_data['covariance_matrix'])\n",
    "mean_vector = np.array(json_data['mean_vector'])\n",
    "ticker_to_index = json_data['ticker_to_index']\n",
    "\n",
    "index_to_ticker = {v: k for k, v in ticker_to_index.items()}"
   ]
  },
  {
   "cell_type": "code",
   "execution_count": 63,
   "id": "f05168a9",
   "metadata": {},
   "outputs": [],
   "source": [
    "# alpha is the mean\n",
    "# sigma is the variance along the diagonal\n",
    "# k is the covariance matrix\n",
    "\n",
    "alpha = mean_vector * investment_window_days\n",
    "sigma = np.diag(covariance_matrix) * investment_window_days\n",
    "k = covariance_matrix * investment_window_days"
   ]
  },
  {
   "cell_type": "code",
   "execution_count": 64,
   "id": "7bf2de88",
   "metadata": {},
   "outputs": [
    {
     "data": {
      "text/plain": [
       "array([  15.19226916,   15.38665619,   29.93916157,   27.54297103,\n",
       "         44.57373755,   32.62353478,   27.16140236,   42.23063759,\n",
       "         23.25608044,   26.0930985 ,   19.8289102 ,   33.59554554,\n",
       "         22.09074338,   34.6302797 ,   75.62027947,   84.56824396,\n",
       "         26.97197923,   21.4613569 ,   13.36432573,   23.87075154,\n",
       "         24.16057394,   51.02199119,    9.0407981 ,   10.07359549,\n",
       "         21.28933749,   25.61563762,   26.85625592,    8.85008989,\n",
       "         66.9452151 ,   21.20214134,   32.44864563,  -53.21662807,\n",
       "         15.50212191,   61.71099861,   50.93422475,   14.72737346,\n",
       "         37.54442325,   23.88203182,   22.35565543,   28.17802676,\n",
       "         10.07122168,  -55.01015937,   24.91962671,   14.07893223,\n",
       "         41.74972347,  -74.13332174,  -33.15884494,   21.25345023,\n",
       "         25.09520726,   15.03196256,   31.33502901,   18.98711824,\n",
       "         33.22086613,   23.47150081,   18.08731914,    7.17645021,\n",
       "          8.22349555,   19.12587102,   56.79012466,   18.57263889,\n",
       "        -73.62341699,    2.96205737,   17.91457361,   21.75385493,\n",
       "         25.48874272,   15.28790211,   17.37125321,   68.21109102,\n",
       "        100.80311563,   35.56995448,   35.19719163,   56.3990889 ,\n",
       "         32.64575119,   29.42535083,   19.64754747,  -93.62940878,\n",
       "         44.61952156,   13.68969954,   26.72869407,   19.08498625,\n",
       "         24.90174155,   12.33992643,   57.91301948,    8.85796626,\n",
       "         16.74664954,   15.5149925 ,   28.03433828,  126.57932234,\n",
       "         21.59114083,   16.67923967,  -78.96501584,  -48.87871372,\n",
       "         39.23481326,   33.76116023,   18.6817731 ,   75.9642283 ,\n",
       "        -39.80686285,   13.5248408 ,   43.03477468,   61.27064275,\n",
       "         20.68403984,   63.02219455,   97.43481172,   10.74346803,\n",
       "         29.93109532,   11.47072433,  -13.71018718,   31.56346118,\n",
       "         14.92937783,   28.63821093,  -84.67776608,   25.39585056,\n",
       "         12.2156951 ,   18.6194174 ,   22.96328079,   51.40915879,\n",
       "         38.65458736,   16.25538593,   76.21742024,   21.69022783,\n",
       "        -33.08907667,   21.47851114,   32.9467441 ,   11.5344962 ,\n",
       "        -97.37137791,   23.88729875,   44.41332178,   16.18015824,\n",
       "         11.31538927,   87.21518433,   27.0455393 ,   29.37583772,\n",
       "         18.31730046,   23.93255238,    6.32613552,   10.13591375,\n",
       "         25.62945645,   55.77086224,   -9.62654983,   22.20944599,\n",
       "         34.86882438,   28.71474602,   28.50624729,   16.40415422,\n",
       "         52.3751932 ,   44.50849801,   27.27899565,    7.1294328 ,\n",
       "         12.23127927,   21.21197509,   51.47764533,   21.33987337,\n",
       "         75.18122412, -103.86950063,   14.98755365,   62.49287977,\n",
       "         19.37614861,   31.26272006,   22.91036656,    7.94252475,\n",
       "         12.56390152,   60.12388513,   21.66011538,   91.23603874,\n",
       "         20.47482391,   20.28196668,   46.18672279,    9.3248831 ,\n",
       "         36.19156961,   22.10291138,   24.94670678,   24.35717804,\n",
       "         16.88180968,   16.76731035,   12.92252336,    8.0393644 ,\n",
       "         43.00390638,   21.78501798,   47.20166118,   10.21016797,\n",
       "         26.92958829,   34.27653393,   16.51796253,  -38.93286102,\n",
       "         71.59254645,   13.89572444,   43.48921442,  -48.85371695,\n",
       "         31.58168189,   27.89192832,   13.44686855,   18.30889998,\n",
       "          8.71992727,   48.04845727,   27.94632996,   12.8635403 ,\n",
       "         92.30832761,    2.0223698 ,   60.34174568,   43.57914411,\n",
       "         16.25158331,    9.43465498,   13.0156371 ,   13.00926649,\n",
       "         42.75077314,  -43.73710357,   14.41447736,   15.24540519,\n",
       "         11.80379096,   52.82512295,   15.46524398,   34.46438941,\n",
       "         17.49904969,   18.06327811,   13.2983765 ,   46.99364463,\n",
       "         14.59502892,   13.19083498,   27.37907188,   22.5737077 ,\n",
       "         29.25832812,   30.97498908,   20.8030571 ,   22.48866859,\n",
       "        -50.22700109,   34.62839361,   18.57945154,   41.4867679 ,\n",
       "         15.78358467,   14.70023807,   63.11112433,   48.22962973,\n",
       "         13.56708005,   50.82197224,   42.56625419,   21.39554525,\n",
       "        -31.54666951,   18.7703345 ,   37.22955857,   13.78366477,\n",
       "         24.79574974,   11.75017955,    7.73721186,   17.73769393,\n",
       "         21.30712998,   18.17183659,   19.73077592,    9.69440631,\n",
       "         83.4839947 ,    9.73891745,   23.55082531,   31.14888659,\n",
       "         15.01507389,   76.54852056,   75.24942456,   39.53024264,\n",
       "         17.91772933,  -25.40421086,   16.2889029 ,   13.46013945,\n",
       "         50.83268255,   14.25435069,   12.33492035, -120.81159985,\n",
       "         38.2231051 ,   26.37721196,   82.04413905,   21.32409718,\n",
       "         19.54589218,   21.99815014,   56.6693918 ,   42.04406369,\n",
       "         24.49753693,   17.48821522,   33.39985114,   34.68214306,\n",
       "         16.84036034,   17.93329756,  -71.5692018 ,   11.21572485,\n",
       "         67.25725928,   35.7450909 ,   11.37692503,   11.34003894,\n",
       "         34.37503709,  -24.73759375,  -32.60110931,   27.73087307,\n",
       "         18.37636035,   14.82425832,   16.34902077,   29.26621443,\n",
       "         -4.3961348 ,  105.44438076,   18.15385138,   26.67165661,\n",
       "         28.97650175,  146.04405467,   35.50654644,   16.56047121,\n",
       "         12.83845542,   12.74975588,  -64.22023248,   17.28234423,\n",
       "         16.94024248,   29.18292505,   56.58021612,   44.62481907,\n",
       "         50.90616108,   12.81418343,   13.03944166,   11.24043488,\n",
       "        -63.09043394,    4.19776904,    7.61290976,   11.55916047,\n",
       "         12.86128572,   21.34660752,   18.58547474,   20.66164109,\n",
       "         17.99368859,   18.74854297,   10.08372944,   18.60152072,\n",
       "         41.31142724,  -47.214105  ,   30.47972968,   60.47111999,\n",
       "         26.80500587,   29.27142221,   24.63477143,   93.97740782,\n",
       "          7.77489783,   19.33760288,   19.05818899,   56.01368377,\n",
       "         11.37910597,   22.90928482,    9.25380899,   12.97725319,\n",
       "         41.35894758,   21.98633428,   20.33256112,   19.78523808,\n",
       "         15.58103808,   69.42093671,   17.78686783,   52.25896451,\n",
       "         12.34242175,   24.16781885,   20.6042965 ,   36.83402272,\n",
       "         19.96564107,    8.01158772,   13.70533783,   23.28920707,\n",
       "         17.50282811,  -46.85087849,   32.77505505,   41.95013184,\n",
       "          5.57393109,   53.71706226,   27.37998853,   17.09096945,\n",
       "        131.32562038,   35.84219569,   25.74816791,   30.92353655,\n",
       "         27.75984091,   17.47567448,   26.40645184,   29.75222834,\n",
       "         15.96663646,   15.55940446,   77.61727615,   15.89561732,\n",
       "         40.39400405,   84.47608019,  -36.12486121,   18.9742673 ,\n",
       "         21.31363758,   20.06117408,   18.10057523,   13.49037439,\n",
       "         10.34821747,   15.8549858 ,   16.30862458,   28.61880236,\n",
       "         19.82532045,    9.66657842,   34.44262178,   14.65862064,\n",
       "         40.90518022,   15.6019384 ,   12.46080806,   13.23038706,\n",
       "         18.96373871,   15.47204626,   22.40923293,   53.257594  ,\n",
       "         40.65610854,   31.89971815,   31.23607831,   26.84935166,\n",
       "         56.97404661,   28.67925133,   11.63589594,   18.00187356,\n",
       "         32.03026121,    9.78656191,   76.95373076,   16.052271  ,\n",
       "         19.26475486,   16.50800047,   37.50554625,   12.47896544,\n",
       "         34.25863251,   70.00789655,   32.50878098,   20.0097271 ,\n",
       "         12.92781587,   64.61607545,   51.1817583 ,   24.04446511,\n",
       "         14.55979182,   32.15786643,   36.35767954, -101.28463409,\n",
       "         24.20374419,   40.72979907,   23.82077118,   10.99753493,\n",
       "         21.20939863,   15.76105448,   22.37531469,   51.20112623,\n",
       "         16.46388445,   33.66778119,   29.15384688,   42.70950167,\n",
       "          9.96673027,   13.30590569,   15.42712869,   23.76808632,\n",
       "         21.94463545,   12.07120011,   41.39127743,   16.65107548,\n",
       "         19.91409315,   13.38754987,   25.72163014,   13.29088936,\n",
       "         20.66574038,   12.39176487,   12.32275491,   16.8259313 ,\n",
       "         17.58663723,   29.08731773,   16.74673278,   25.37183012,\n",
       "         18.85986466,   80.09297855,   35.98858323,   11.91061682,\n",
       "         20.37231459,   69.3985438 ,   -2.08890809,   10.43620532,\n",
       "         15.94722341,   25.62908353,   17.3665127 ,   66.01726301,\n",
       "         80.32934458,  -23.88113345,   30.7173707 ,  -29.22588964,\n",
       "        -93.17522563,   25.87147184,   11.55072804,   21.97269164,\n",
       "         15.1090089 , -108.22933922,   20.36819855,   14.52139772,\n",
       "         30.87966191,   56.31796625,   28.95826405,   42.95658324,\n",
       "         84.04292892,   47.71538684,   20.30696857,   16.42696821,\n",
       "        -52.49709462,   31.59338766,   19.17506044,  -85.50513359,\n",
       "         16.92370816,   20.07095946,   26.25823504,   17.31053441,\n",
       "         25.44227097,   10.56131706,    9.79524688,   12.69852975,\n",
       "         30.89620365])"
      ]
     },
     "execution_count": 64,
     "metadata": {},
     "output_type": "execute_result"
    }
   ],
   "source": [
    "# element-wise math\n",
    "\n",
    "# square every term in alpha\n",
    "alpha_element_squared = alpha * alpha\n",
    "sigma_element_squared = sigma * sigma\n",
    "\n",
    "# the 3.9 formula from\n",
    "# https://maslov.bioengineering.illinois.edu/optimal_investment_ijtaf.pdf\n",
    "alpha / (alpha_element_squared + sigma_element_squared)\n"
   ]
  },
  {
   "cell_type": "code",
   "execution_count": 65,
   "id": "fd3528ff",
   "metadata": {},
   "outputs": [],
   "source": [
    "# invert matrices\n",
    "k_inv = np.linalg.inv(k)\n",
    "\n",
    "# formula 3.10 from \n",
    "# https://maslov.bioengineering.illinois.edu/optimal_investment_ijtaf.pdf\n",
    "r_opt = np.dot(k_inv, alpha)\n"
   ]
  },
  {
   "cell_type": "code",
   "execution_count": 66,
   "id": "c8cd083d",
   "metadata": {},
   "outputs": [],
   "source": [
    "# hints that I'm not sure how they all go together\n",
    "\n",
    "# from formula 3.11\n",
    "# you know that if \\lambda >= \\alpha_i, then we can ignore that term\n",
    "\n",
    "# Maybe if you sort all fo the \\alpha_i terms, you can see if a solution for lambda exists where all of the smaller\n",
    "# values are ignored, and all of the larger values are effected by \\lambda\n",
    "\n",
    "# if you look at each term in the sum of 3.12, they are piecewise linear wrt. \\lambda\n"
   ]
  },
  {
   "cell_type": "code",
   "execution_count": 67,
   "id": "0b100eb2",
   "metadata": {},
   "outputs": [
    {
     "name": "stdout",
     "output_type": "stream",
     "text": [
      "-0.03760584567752629 0.2160697979492408\n",
      "iteration: 1, 0.15265088704254903, 0.23209232860929596\n",
      "iteration: 2, 0.18436034249589492, -0.383953835695352\n",
      "iteration: 3, 0.168505614769222, -0.07593075354302836\n",
      "iteration: 4, 0.1605782509058855, 0.07808078753313374\n",
      "iteration: 5, 0.16454193283755375, 0.0010750169950526356\n",
      "iteration: 6, 0.16652377380338787, -0.03742786827398781\n",
      "iteration: 7, 0.1655328533204708, -0.01817642563946731\n",
      "iteration: 8, 0.16503739307901227, -0.008550704322207281\n",
      "iteration: 9, 0.164789662958283, -0.0037378436635773227\n",
      "iteration: 10, 0.16466579789791838, -0.0013314133342623435\n",
      "iteration: 11, 0.16460386536773608, -0.00012819816960507602\n",
      "iteration: 12, 0.16457289910264492, 0.0004734094127238908\n",
      "iteration: 13, 0.1645883822351905, 0.00017260562155918535\n",
      "iteration: 14, 0.1645961238014633, 2.2203725976943645e-05\n",
      "iteration: 15, 0.16459999458459967, -5.299722181373312e-05\n",
      "iteration: 16, 0.1645980591930315, -1.5396747918616782e-05\n",
      "iteration: 17, 0.16459709149724738, 3.403489029496498e-06\n",
      "iteration: 18, 0.16459757534513944, -5.996629444560142e-06\n",
      "iteration: 19, 0.16459733342119343, -1.2965702078648889e-06\n",
      "iteration: 20, 0.1645972124592204, 1.0534594108158046e-06\n",
      "iteration: 21, 0.16459727294020693, -1.2155539874658672e-07\n",
      "iteration: 22, 0.16459724269971365, 4.659520063121647e-07\n",
      "iteration: 23, 0.1645972578199603, 1.7219830383830015e-07\n",
      "iteration: 24, 0.16459726538008362, 2.532145226830096e-08\n",
      "iteration: 25, 0.16459726916014528, -4.811697329465403e-08\n",
      "iteration: 26, 0.16459726727011445, -1.1397760513176536e-08\n",
      "iteration: 27, 0.16459726632509902, 6.961845988584514e-09\n",
      "iteration: 28, 0.16459726679760672, -2.2179569292291035e-09\n",
      "iteration: 29, 0.16459726656135287, 2.3719446407000078e-09\n",
      "iteration: 30, 0.1645972666794798, 7.699374471314968e-11\n"
     ]
    }
   ],
   "source": [
    "# idea one to solve this: use line search\n",
    "# main idea: function 3.12 is monotically decreasing\n",
    "# so if we pick upper/lower bounds of lambda, we can just do a line search and call it a day\n",
    "# monotonically decreasing means the derivative of the function wrt lambda is <= 0 across all values of lambda\n",
    "\n",
    "# upper bound, we know that if lambda causes all of the terms to be zero, we went too far.\n",
    "# i.e., alpha_i - upper_bound_lambda <= 0 \\forall i\n",
    "upper_bound_lambda = np.max(alpha)\n",
    "\n",
    "# lower bound, we know that each term in the sum is >= 0 and <= the total sum term.\n",
    "# so just find the lower bound of each term and take the maximum out of all of these terms\n",
    "# for each term, lambda = alpha_i - alpha_i^2 - sigma_i^2\n",
    "# I know this because I can do high-school algebra in my head... work it out on paper if you can't\n",
    "lower_bound_lambda = np.min(alpha - (alpha_element_squared + sigma_element_squared))\n",
    "# # # TODO, think about cases where there are zero values in r_opt\n",
    "# # r_opt_top_stocks = r_opt[np.argsort(-r_opt)[:max_num_stocks]]\n",
    "# # r_opt_top_stocks /= np.sum(r_opt_top_stocks)\n",
    "\n",
    "# r_opt_top_stocks = [r_opt_with_names[best_stock_index][0] for best_stock_index in best_stock_indices]\n",
    "# r_opt_top_stocks = np.array(r_opt_top_stocks_with_names) / np.sum(r_opt_top_stocks_with_names)\n",
    "# r_opt_top_stocks\n",
    "\n",
    "# r_opt_top_stocks_with_names = [r_opt_with_names[best_stock_index] for best_stock_index in best_stock_indices]\n",
    "# r_opt_top_stocks_with_namespha - alpha_element_squared - sigma_element_squared)\n",
    "\n",
    "print(lower_bound_lambda, upper_bound_lambda)\n",
    "\n",
    "# now line search/binary search... first we need to evaluate the value of the 3.12 summation expression\n",
    "def eval_expression(lambda_value):\n",
    "    # subtract one so I can get something like \\sum - 1 = 0 to solve.\n",
    "    fractional_terms = (alpha - lambda_value) / (alpha_element_squared + sigma_element_squared)\n",
    "    # heavyside function\n",
    "    fractional_terms = np.maximum(fractional_terms, 0)\n",
    "    return np.sum(fractional_terms) - 1\n",
    "\n",
    "# sanity check, the correct value (0) is between the upper bound and lower bound\n",
    "eval_expression(lower_bound_lambda), eval_expression(upper_bound_lambda)\n",
    "\n",
    "# there's a tolerance term usually, more on that later\n",
    "tolerance = 1e-9\n",
    "\n",
    "# initialize our loop with our initial guess\n",
    "lower_lambda = lower_bound_lambda\n",
    "upper_lambda = upper_bound_lambda\n",
    "middle_lambda = (lower_bound_lambda + upper_bound_lambda) / 2\n",
    "\n",
    "iterations = 0\n",
    "while np.abs(eval_expression(middle_lambda)) > tolerance:\n",
    "    middle_value = eval_expression(middle_lambda)\n",
    "    if middle_value > 0:\n",
    "        lower_lambda = middle_lambda\n",
    "    else:\n",
    "        upper_lambda = middle_lambda\n",
    "    middle_lambda = (lower_lambda + upper_lambda) / 2\n",
    "\n",
    "    iterations += 1\n",
    "    print(f'iteration: {iterations}, {middle_lambda}, {eval_expression(middle_lambda)}')\n"
   ]
  },
  {
   "cell_type": "code",
   "execution_count": 68,
   "id": "ff639db2",
   "metadata": {},
   "outputs": [
    {
     "data": {
      "image/png": "[encoded data removed]",
      "text/plain": [
       "<Figure size 432x288 with 1 Axes>"
      ]
     },
     "metadata": {
      "needs_background": "light"
     },
     "output_type": "display_data"
    }
   ],
   "source": [
    "import matplotlib.pyplot as plt\n",
    "\n",
    "x = np.linspace(lower_bound_lambda, upper_bound_lambda, 101)\n",
    "plt.plot(x, [eval_expression(el) for el in x], label='f(lambda)')\n",
    "plt.plot([0, 1], [0, 0], label='0')\n",
    "plt.legend()\n",
    "\n",
    "plt.show()\n"
   ]
  },
  {
   "cell_type": "code",
   "execution_count": 69,
   "id": "ecb87079",
   "metadata": {},
   "outputs": [
    {
     "data": {
      "text/plain": [
       "[[1.0, 'MRNA'],\n",
       " [0.0, 'NXPI'],\n",
       " [0.0, 'NWSA'],\n",
       " [0.0, 'NWS'],\n",
       " [0.0, 'NWL'],\n",
       " [0.0, 'NVR'],\n",
       " [0.0, 'NVDA'],\n",
       " [0.0, 'NUE'],\n",
       " [0.0, 'NTRS'],\n",
       " [0.0, 'NTAP']]"
      ]
     },
     "execution_count": 69,
     "metadata": {},
     "output_type": "execute_result"
    }
   ],
   "source": [
    "# get the optimal investment portfolio\n",
    "r_opt = np.maximum(0, (alpha - middle_lambda) / (alpha_element_squared + sigma_element_squared))\n",
    "r_opt = r_opt.flatten()\n",
    "\n",
    "# r_opt_with_names = list(zip(r_opt, stock_names))\n",
    "best_stock_indices = np.argsort(-r_opt)[:max_num_stocks]\n",
    "best_stock_prices = r_opt[best_stock_indices]\n",
    "best_stock_prices /= np.sum(best_stock_prices)\n",
    "\n",
    "r_opt_top_stocks_with_names = []\n",
    "for best_stock_price, best_stock_index in zip(best_stock_prices, best_stock_indices):\n",
    "    r_opt_top_stocks_with_names.append([best_stock_price, index_to_ticker[best_stock_index]])\n",
    "r_opt_top_stocks_with_names\n"
   ]
  },
  {
   "cell_type": "code",
   "execution_count": 70,
   "id": "41b1c8b4",
   "metadata": {},
   "outputs": [],
   "source": [
    "expected_val = np.dot(r_opt, alpha)\n"
   ]
  },
  {
   "cell_type": "code",
   "execution_count": 71,
   "id": "9426249b",
   "metadata": {},
   "outputs": [
    {
     "name": "stdout",
     "output_type": "stream",
     "text": [
      "Mean/expected total return:  0.21606979796587683\n",
      "Variance:  0.002306120764267291\n",
      "Standard dev:  0.048022086213192476 \n",
      "\n",
      "99.0% confidence interval: 0.21606979796587683 ± 0.12369669688549283\n",
      "95.0% confidence interval: 0.21606979796587683 ± 0.09412155944033472\n",
      "85.0% confidence interval: 0.21606979796587683 ± 0.0691293044040103\n"
     ]
    }
   ],
   "source": [
    "# brief lecture on probabilities (mean/variance)\n",
    "# E[X]=mean(X), Var[X]=Variance(X)\n",
    "# let a be a constant\n",
    "# Var[X] = E[X^2] - E[X]^2\n",
    "# aE[X] = E[aX]\n",
    "# a^2Var[X] = Var[(aX)]\n",
    "# Let v be some vector, K be the covariance matrix\n",
    "# Var(Kv) = v^t K v\n",
    "\n",
    "# we now have r_opt, find the mean and variance of investing in r_opt\n",
    "# alpha, sigma\n",
    "\n",
    "# Amber and Katrina's draft:\n",
    "\n",
    "expected_val = np.dot(r_opt, alpha)\n",
    "\n",
    "print(\"Mean/expected total return: \", expected_val)\n",
    "\n",
    "# TODO: find the variance with weighted variables formula that includes r_opt values (Attempted/done 9/3/21)\n",
    "\n",
    "# http://www.math.kent.edu/~reichel/courses/monte.carlo/alt4.7d.pdf\n",
    "\n",
    "# (r_opt^T * covariance_matrix * r_opt)\n",
    "\n",
    "# T is transpose. Matrix product operation (dot product)\n",
    "\n",
    "# variance = sum((expected_return_array[i] - expected_val)**2 for i in range(len(expected_return_array) - 1)) / len(expected_return_array)\n",
    "\n",
    "variance = multi_dot([r_opt.T, covariance_matrix, r_opt])\n",
    "\n",
    "standard_dev = np.sqrt(variance)\n",
    "\n",
    "print(\"Variance: \", variance)\n",
    "print(\"Standard dev: \", standard_dev, \"\\n\")\n",
    "\n",
    "# Calculating confidence intervals:\n",
    "# https://docs.scipy.org/doc/scipy/reference/generated/scipy.stats.zscore.html\n",
    "for confidence_level in [0.99, 0.95, 0.85]:\n",
    "    error = abs(st.norm.ppf((1-confidence_level)/2)) * standard_dev\n",
    "    print(f\"{confidence_level * 100}% confidence interval: {expected_val}\", u\"\\u00B1\", error)\n"
   ]
  },
  {
   "cell_type": "code",
   "execution_count": 72,
   "id": "2df12d3d",
   "metadata": {},
   "outputs": [
    {
     "data": {
      "text/plain": [
       "1.1238607257395243"
      ]
     },
     "execution_count": 72,
     "metadata": {},
     "output_type": "execute_result"
    }
   ],
   "source": [
    "np.exp(0.11676983430967593)"
   ]
  },
  {
   "cell_type": "code",
   "execution_count": 73,
   "id": "0fcfaaad",
   "metadata": {},
   "outputs": [
    {
     "data": {
      "text/plain": [
       "array([313, 147,  56, 192, 314,  27, 338,  22, 247, 201])"
      ]
     },
     "execution_count": 73,
     "metadata": {},
     "output_type": "execute_result"
    }
   ],
   "source": [
    "np.argsort(-alpha)[:max_num_stocks]"
   ]
  },
  {
   "cell_type": "code",
   "execution_count": 74,
   "id": "41c13d31",
   "metadata": {},
   "outputs": [
    {
     "data": {
      "text/plain": [
       "['MRNA',\n",
       " 'DVN',\n",
       " 'BBWI',\n",
       " 'FTNT',\n",
       " 'MRO',\n",
       " 'AMAT',\n",
       " 'NUE',\n",
       " 'ALB',\n",
       " 'IT',\n",
       " 'GNRC',\n",
       " 'ZBRA',\n",
       " 'FANG',\n",
       " 'IVZ',\n",
       " 'SIVB',\n",
       " 'TPR',\n",
       " 'OXY',\n",
       " 'PWR',\n",
       " 'ENPH',\n",
       " 'ALGN',\n",
       " 'TECH']"
      ]
     },
     "execution_count": 74,
     "metadata": {},
     "output_type": "execute_result"
    }
   ],
   "source": [
    "[index_to_ticker[el] for el in np.argsort(-alpha)[:20]]"
   ]
  },
  {
   "cell_type": "code",
   "execution_count": 75,
   "id": "db5c8977",
   "metadata": {},
   "outputs": [
    {
     "data": {
      "text/plain": [
       "[0.2160697979492408,\n",
       " 0.127621051682646,\n",
       " 0.11597531123255246,\n",
       " 0.11329661148852861,\n",
       " 0.11235184384713272,\n",
       " 0.10907188479426015,\n",
       " 0.10495738497491627,\n",
       " 0.10286353190089702,\n",
       " 0.10180588587796904,\n",
       " 0.10121347068361523,\n",
       " 0.10118571697135063,\n",
       " 0.09992848445488131,\n",
       " 0.09948346611659643,\n",
       " 0.09937703513052373,\n",
       " 0.09685402924184369,\n",
       " 0.09606808831549678,\n",
       " 0.09506469352544446,\n",
       " 0.09289806294668931,\n",
       " 0.09139010014551054,\n",
       " 0.08889924870170969]"
      ]
     },
     "execution_count": 75,
     "metadata": {},
     "output_type": "execute_result"
    }
   ],
   "source": [
    "[alpha[el] for el in np.argsort(-alpha)[:20]]"
   ]
  },
  {
   "cell_type": "code",
   "execution_count": 76,
   "id": "e14d03b9",
   "metadata": {},
   "outputs": [
    {
     "data": {
      "text/plain": [
       "368.91312674213805"
      ]
     },
     "execution_count": 76,
     "metadata": {},
     "output_type": "execute_result"
    }
   ],
   "source": [
    "np.exp(0.010663833857211109) * 365"
   ]
  },
  {
   "cell_type": "code",
   "execution_count": 77,
   "id": "8e82c0a7",
   "metadata": {},
   "outputs": [],
   "source": [
    "indices = np.array([ticker_to_index[ticker] for ticker in ['ETSY']])\n",
    "np.array([[covariance_matrix[i, j] for i in indices] for j in indices])\n",
    "r_opt[indices]\n",
    "index_variance = np.array([[covariance_matrix[i, j] for i in indices] for j in indices])\n",
    "index_mean = r_opt[indices]\n"
   ]
  },
  {
   "cell_type": "code",
   "execution_count": 78,
   "id": "e94a8383",
   "metadata": {},
   "outputs": [
    {
     "data": {
      "text/plain": [
       "0.0"
      ]
     },
     "execution_count": 78,
     "metadata": {},
     "output_type": "execute_result"
    }
   ],
   "source": [
    "variance = multi_dot([index_mean.T, index_variance, index_mean])\n",
    "variance"
   ]
  },
  {
   "cell_type": "code",
   "execution_count": 79,
   "id": "efd2af77",
   "metadata": {},
   "outputs": [
    {
     "data": {
      "text/plain": [
       "0.0"
      ]
     },
     "execution_count": 79,
     "metadata": {},
     "output_type": "execute_result"
    }
   ],
   "source": [
    "np.sqrt(variance)"
   ]
  },
  {
   "cell_type": "code",
   "execution_count": 80,
   "id": "1f74e404",
   "metadata": {},
   "outputs": [
    {
     "data": {
      "text/plain": [
       "array([[0.00152977]])"
      ]
     },
     "execution_count": 80,
     "metadata": {},
     "output_type": "execute_result"
    }
   ],
   "source": [
    "index_variance"
   ]
  },
  {
   "cell_type": "code",
   "execution_count": 81,
   "id": "775af421",
   "metadata": {},
   "outputs": [
    {
     "data": {
      "text/plain": [
       "array([0.])"
      ]
     },
     "execution_count": 81,
     "metadata": {},
     "output_type": "execute_result"
    }
   ],
   "source": [
    "index_mean"
   ]
  },
  {
   "cell_type": "code",
   "execution_count": 82,
   "id": "fc8a429e",
   "metadata": {},
   "outputs": [
    {
     "data": {
      "image/png": "[encoded data removed]",
      "text/plain": [
       "<Figure size 432x288 with 1 Axes>"
      ]
     },
     "metadata": {
      "needs_background": "light"
     },
     "output_type": "display_data"
    }
   ],
   "source": [
    "plt.hist(np.sqrt(np.diag(covariance_matrix)), bins=50)\n",
    "plt.show()"
   ]
  },
  {
   "cell_type": "code",
   "execution_count": 25,
   "id": "c4276703",
   "metadata": {},
   "outputs": [
    {
     "data": {
      "text/plain": [
       "array([[0.0288529]])"
      ]
     },
     "execution_count": 25,
     "metadata": {},
     "output_type": "execute_result"
    }
   ],
   "source": [
    "np.sqrt(index_variance)"
   ]
  },
  {
   "cell_type": "markdown",
   "id": "bbd0e3e7",
   "metadata": {},
   "source": [
    "### what do I want to do to clean up this code:\n",
    "* combine everything into one notebook (should be a fairly easy script to run)\n",
    "* put all of the important parameters that you might ever want to change (like investment length of time, or amount of time to look at historical data) at the top\n",
    "* delete graphs that are unnecessary\n",
    "* Write comments describing what the code does\n",
    "* Small writeup on what we tried, why stuff worked/didn't work"
   ]
  },
  {
   "cell_type": "code",
   "execution_count": null,
   "id": "02c0bc28",
   "metadata": {},
   "outputs": [],
   "source": []
  }
 ],
 "metadata": {
  "kernelspec": {
   "display_name": "Python 3",
   "language": "python",
   "name": "python3"
  },
  "language_info": {
   "codemirror_mode": {
    "name": "ipython",
    "version": 3
   },
   "file_extension": ".py",
   "mimetype": "text/x-python",
   "name": "python",
   "nbconvert_exporter": "python",
   "pygments_lexer": "ipython3",
   "version": "3.6.9"
  }
 },
 "nbformat": 4,
 "nbformat_minor": 5
}
