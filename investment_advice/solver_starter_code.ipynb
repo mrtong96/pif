{
 "cells": [
  {
   "cell_type": "code",
   "execution_count": 2,
   "id": "56dd8737",
   "metadata": {},
   "outputs": [],
   "source": [
    "import numpy as np"
   ]
  },
  {
   "cell_type": "code",
   "execution_count": 3,
   "id": "1b91031c",
   "metadata": {},
   "outputs": [],
   "source": [
    "# first, define our problem size\n",
    "n = 10\n",
    "alpha = np.random.random((n, 1))\n",
    "sigma = np.random.random((n, 1))\n",
    "k = np.random.random((n, n))\n",
    "\n",
    "# goal, generate some vector r such that:\n",
    "# sum(r) = 1.0\n",
    "# r represents our optimal investment portfolio\n"
   ]
  },
  {
   "cell_type": "code",
   "execution_count": 4,
   "id": "ec8a7157",
   "metadata": {},
   "outputs": [
    {
     "data": {
      "text/plain": [
       "array([[0.93329179],\n",
       "       [1.22760879],\n",
       "       [0.81148042],\n",
       "       [1.79679455],\n",
       "       [1.12553856],\n",
       "       [0.05770808],\n",
       "       [0.45968542],\n",
       "       [1.16683004],\n",
       "       [0.81377253],\n",
       "       [1.31633645]])"
      ]
     },
     "execution_count": 4,
     "metadata": {},
     "output_type": "execute_result"
    }
   ],
   "source": [
    "# element-wise math\n",
    "\n",
    "# square every term in alpha\n",
    "alpha_element_squared = alpha * alpha\n",
    "sigma_element_squared = sigma * sigma\n",
    "\n",
    "# the 3.9 formula from\n",
    "# https://maslov.bioengineering.illinois.edu/optimal_investment_ijtaf.pdf\n",
    "alpha / (alpha_element_squared + sigma_element_squared)\n"
   ]
  },
  {
   "cell_type": "code",
   "execution_count": 5,
   "id": "66c4c6c8",
   "metadata": {},
   "outputs": [],
   "source": [
    "# invert matrices\n",
    "k_inv = np.linalg.inv(k)\n",
    "\n",
    "# formula 3.10 from \n",
    "# https://maslov.bioengineering.illinois.edu/optimal_investment_ijtaf.pdf\n",
    "r_opt = np.dot(k_inv, alpha)\n"
   ]
  },
  {
   "cell_type": "code",
   "execution_count": 6,
   "id": "13090b3c",
   "metadata": {},
   "outputs": [],
   "source": [
    "# hints that I'm not sure how they all go together\n",
    "\n",
    "# from formula 3.11\n",
    "# you know that if \\lambda >= \\alpha_i, then we can ignore that term\n",
    "\n",
    "# Maybe if you sort all fo the \\alpha_i terms, you can see if a solution for lambda exists where all of the smaller\n",
    "# values are ignored, and all of the larger values are effected by \\lambda\n",
    "\n",
    "# if you look at each term in the sum of 3.12, they are piecewise linear wrt. \\lambda\n"
   ]
  },
  {
   "cell_type": "code",
   "execution_count": 43,
   "id": "77c6b42d",
   "metadata": {},
   "outputs": [
    {
     "name": "stdout",
     "output_type": "stream",
     "text": [
      "0.23626872326862727 0.9866177707928309\n",
      "iteration: 1, 0.79903050891178, -0.7848512929583762\n",
      "iteration: 2, 0.7052368779712546, -0.4609264738146964\n",
      "iteration: 3, 0.6583400625009919, -0.20477531028256668\n",
      "iteration: 4, 0.6348916547658605, -0.04550049992872829\n",
      "iteration: 5, 0.6231674508982947, 0.05670575349348583\n",
      "iteration: 6, 0.6290295528320776, 0.004716650231985531\n",
      "iteration: 7, 0.6319606037989691, -0.021277901398765064\n",
      "iteration: 8, 0.6304950783155234, -0.008280625583390266\n",
      "iteration: 9, 0.6297623155738006, -0.001781987675702923\n",
      "iteration: 10, 0.6293959342029392, 0.0014673312781410264\n",
      "iteration: 11, 0.6295791248883699, -0.0001573281987810038\n",
      "iteration: 12, 0.6294875295456546, 0.0006550015396793452\n",
      "iteration: 13, 0.6295333272170123, 0.0002488366704487266\n",
      "iteration: 14, 0.629556226052691, 4.575423583430549e-05\n",
      "iteration: 15, 0.6295676754705304, -5.578698147279404e-05\n",
      "iteration: 16, 0.6295619507616107, -5.016372819355297e-06\n",
      "iteration: 17, 0.6295590884071509, 2.0368931507031007e-05\n",
      "iteration: 18, 0.6295605195843808, 7.676279344392967e-06\n",
      "iteration: 19, 0.6295612351729958, 1.329953262185768e-06\n",
      "iteration: 20, 0.6295615929673033, -1.843209779139876e-06\n",
      "iteration: 21, 0.6295614140701495, -2.566282585325652e-07\n",
      "iteration: 22, 0.6295613246215727, 5.366625017710902e-07\n",
      "iteration: 23, 0.629561369345861, 1.4001712211886286e-07\n",
      "iteration: 24, 0.6295613917080053, -5.8305568040317723e-08\n",
      "iteration: 25, 0.6295613805269331, 4.0855777427850626e-08\n",
      "iteration: 26, 0.6295613861174691, -8.724894806633188e-09\n",
      "iteration: 27, 0.6295613833222011, 1.6065441199586417e-08\n",
      "iteration: 28, 0.6295613847198351, 3.6702731964766144e-09\n",
      "iteration: 29, 0.6295613854186521, -2.5273108050782866e-09\n",
      "iteration: 30, 0.6295613850692436, 5.714810846768614e-10\n"
     ]
    }
   ],
   "source": [
    "# idea one to solve this: use line search\n",
    "# main idea: function 3.12 is monotically decreasing\n",
    "# so if we pick upper/lower bounds of lambda, we can just do a line search and call it a day\n",
    "# monotonically decreasing means the derivative of the function wrt lambda is <= 0 across all values of lambda\n",
    "\n",
    "# upper bound, we know that if lambda causes all of the terms to be zero, we went too far.\n",
    "# i.e., alpha_i - upper_bound_lambda <= 0 \\forall i\n",
    "upper_bound_lambda = np.max(alpha)\n",
    "\n",
    "# lower bound, we know that each term in the sum is >= 0 and <= the total sum term.\n",
    "# so just find the lower bound of each term and take the maximum out of all of these terms\n",
    "# for each term, lambda = alpha_i - alpha_i^2 - sigma_i^2\n",
    "# I know this because I can do high-school algebra in my head... work it out on paper if you can't\n",
    "lower_bound_lambda = np.max(alpha - alpha_element_squared - sigma_element_squared)\n",
    "\n",
    "print(lower_bound_lambda, upper_bound_lambda)\n",
    "\n",
    "# now line search/binary search... first we need to evaluate the value of the 3.12 summation expression\n",
    "def eval_expression(lambda_value):\n",
    "    # subtract one so I can get something like \\sum - 1 = 0 to solve.\n",
    "    fractional_terms = (alpha - lambda_value) / (alpha_element_squared + sigma_element_squared)\n",
    "    # heavyside function\n",
    "    fractional_terms = np.maximum(fractional_terms, 0)\n",
    "    return np.sum(fractional_terms) - 1\n",
    "\n",
    "# sanity check, the correct value (0) is between the upper bound and lower bound\n",
    "eval_expression(lower_bound_lambda), eval_expression(upper_bound_lambda)\n",
    "\n",
    "# there's a tolerance term usually, more on that later\n",
    "tolerance = 1e-9\n",
    "\n",
    "# initialize our loop with our initial guess\n",
    "lower_lambda = lower_bound_lambda\n",
    "upper_lambda = upper_bound_lambda\n",
    "middle_lambda = (lower_bound_lambda + upper_bound_lambda) / 2\n",
    "\n",
    "iterations = 0\n",
    "while np.abs(eval_expression(middle_lambda)) > tolerance:\n",
    "    middle_value = eval_expression(middle_lambda)\n",
    "    if middle_value > 0:\n",
    "        lower_lambda = middle_lambda\n",
    "    else:\n",
    "        upper_lambda = middle_lambda\n",
    "    middle_lambda = (lower_lambda + upper_lambda) / 2\n",
    "\n",
    "    iterations += 1\n",
    "    print(f'iteration: {iterations}, {middle_lambda}, {eval_expression(middle_lambda)}')\n"
   ]
  },
  {
   "cell_type": "code",
   "execution_count": 39,
   "id": "2b95f0e4",
   "metadata": {},
   "outputs": [
    {
     "data": {
      "image/png": "[encoded data removed]",
      "text/plain": [
       "<Figure size 432x288 with 1 Axes>"
      ]
     },
     "metadata": {
      "needs_background": "light"
     },
     "output_type": "display_data"
    }
   ],
   "source": [
    "import matplotlib.pyplot as plt\n",
    "\n",
    "x = np.linspace(0, 1, 101)\n",
    "plt.plot(x, [eval_expression(el) for el in x], label='f(lambda)')\n",
    "plt.plot([0, 1], [0, 0], label='0')\n",
    "plt.legend()\n",
    "\n",
    "plt.show()\n"
   ]
  },
  {
   "cell_type": "code",
   "execution_count": 23,
   "id": "1b357038",
   "metadata": {},
   "outputs": [
    {
     "data": {
      "text/plain": [
       "array([[ 0.70979322],\n",
       "       [ 0.87092041],\n",
       "       [ 0.08806014],\n",
       "       [ 1.        ],\n",
       "       [ 0.74532619],\n",
       "       [-3.83076566],\n",
       "       [-0.0421737 ],\n",
       "       [ 0.75814746],\n",
       "       [ 0.57798399],\n",
       "       [ 0.82581529]])"
      ]
     },
     "execution_count": 23,
     "metadata": {},
     "output_type": "execute_result"
    }
   ],
   "source": [
    "(alpha - lower_bound_lambda) / (alpha_element_squared + sigma_element_squared)"
   ]
  },
  {
   "cell_type": "code",
   "execution_count": null,
   "id": "79da8798",
   "metadata": {},
   "outputs": [],
   "source": []
  }
 ],
 "metadata": {
  "kernelspec": {
   "display_name": "Python 3",
   "language": "python",
   "name": "python3"
  },
  "language_info": {
   "codemirror_mode": {
    "name": "ipython",
    "version": 3
   },
   "file_extension": ".py",
   "mimetype": "text/x-python",
   "name": "python",
   "nbconvert_exporter": "python",
   "pygments_lexer": "ipython3",
   "version": "3.8.10"
  }
 },
 "nbformat": 4,
 "nbformat_minor": 5
}
