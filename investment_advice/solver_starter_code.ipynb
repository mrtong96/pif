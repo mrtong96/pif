{
 "cells": [
  {
   "cell_type": "code",
   "execution_count": 55,
   "id": "25addfe2",
   "metadata": {},
   "outputs": [],
   "source": [
    "import numpy as np"
   ]
  },
  {
   "cell_type": "code",
   "execution_count": 65,
   "id": "6cec4b65",
   "metadata": {},
   "outputs": [],
   "source": [
    "# first, define our problem size\n",
    "n = 10\n",
    "alpha = np.random.random((n, 1))\n",
    "k = np.random.random((n, n))\n",
    "sigma = np.array([[k[i][i]] for i in range(n)])\n",
    "\n",
    "# TODO: figure out how to stitch together the r_opt values with the actual stock names\n",
    "stock_names = [f'stock_{i}' for i in range(n)]\n",
    "\n",
    "# TODO? figure out how to generate the confidence intervals of how much money you expect to make from this\n",
    "\n",
    "# TODO, pick one stock to be the baseline (stock_0). Figure out some way of comparing\n",
    "# stock_0's expected performance compared to our optimal solver\n",
    "\n",
    "# Katrina's draft:\n",
    "\n",
    "max_num_stocks = 5\n",
    "\n",
    "# DRAFT END\n",
    "\n",
    "# goal, generate some vector r such that:\n",
    "# sum(r) = 1.0\n",
    "# r represents our optimal investment portfolio\n"
   ]
  },
  {
   "cell_type": "code",
   "execution_count": 66,
   "id": "40a9e345",
   "metadata": {},
   "outputs": [
    {
     "name": "stdout",
     "output_type": "stream",
     "text": [
      "[(1, 'a'), (2, 'b'), (3, 'c'), (4, 'd')]\n",
      "[(0, 1), (1, 2), (2, 3), (3, 4)]\n",
      "[(1, 'a'), (2, 'b'), (3, 'c'), (4, 'd')]\n"
     ]
    }
   ],
   "source": [
    "numbers = [1,2,3,4]\n",
    "letters = ['a', 'b', 'c', 'd']\n",
    "\n",
    "# zipping lists\n",
    "print(list(zip(numbers, letters)))\n",
    "\n",
    "# enumerating lists\n",
    "print(list(enumerate(numbers)))\n",
    "\n",
    "# for each syntax\n",
    "print([(num, letter) for num, letter in zip(numbers, letters)])"
   ]
  },
  {
   "cell_type": "code",
   "execution_count": 67,
   "id": "1dafa70e",
   "metadata": {},
   "outputs": [
    {
     "data": {
      "text/plain": [
       "array([[1.01829317],\n",
       "       [0.45976692],\n",
       "       [0.84333024],\n",
       "       [0.93741219],\n",
       "       [0.7775781 ],\n",
       "       [0.35667891],\n",
       "       [3.24228532],\n",
       "       [2.58641672],\n",
       "       [0.32295928],\n",
       "       [1.64056184]])"
      ]
     },
     "execution_count": 67,
     "metadata": {},
     "output_type": "execute_result"
    }
   ],
   "source": [
    "# element-wise math\n",
    "\n",
    "# square every term in alpha\n",
    "alpha_element_squared = alpha * alpha\n",
    "sigma_element_squared = sigma * sigma\n",
    "\n",
    "# the 3.9 formula from\n",
    "# https://maslov.bioengineering.illinois.edu/optimal_investment_ijtaf.pdf\n",
    "alpha / (alpha_element_squared + sigma_element_squared)\n"
   ]
  },
  {
   "cell_type": "code",
   "execution_count": 68,
   "id": "0748dadb",
   "metadata": {},
   "outputs": [],
   "source": [
    "# invert matrices\n",
    "k_inv = np.linalg.inv(k)\n",
    "\n",
    "# formula 3.10 from \n",
    "# https://maslov.bioengineering.illinois.edu/optimal_investment_ijtaf.pdf\n",
    "r_opt = np.dot(k_inv, alpha)\n"
   ]
  },
  {
   "cell_type": "code",
   "execution_count": 69,
   "id": "a1f2492d",
   "metadata": {},
   "outputs": [],
   "source": [
    "# hints that I'm not sure how they all go together\n",
    "\n",
    "# from formula 3.11\n",
    "# you know that if \\lambda >= \\alpha_i, then we can ignore that term\n",
    "\n",
    "# Maybe if you sort all fo the \\alpha_i terms, you can see if a solution for lambda exists where all of the smaller\n",
    "# values are ignored, and all of the larger values are effected by \\lambda\n",
    "\n",
    "# if you look at each term in the sum of 3.12, they are piecewise linear wrt. \\lambda\n"
   ]
  },
  {
   "cell_type": "code",
   "execution_count": 70,
   "id": "37602eee",
   "metadata": {},
   "outputs": [
    {
     "ename": "SyntaxError",
     "evalue": "invalid syntax (<ipython-input-70-bebed1a3b150>, line 26)",
     "output_type": "error",
     "traceback": [
      "\u001b[0;36m  File \u001b[0;32m\"<ipython-input-70-bebed1a3b150>\"\u001b[0;36m, line \u001b[0;32m26\u001b[0m\n\u001b[0;31m    print(lower_bound_lambda, upper_bound_lambda)\u001b[0m\n\u001b[0m        ^\u001b[0m\n\u001b[0;31mSyntaxError\u001b[0m\u001b[0;31m:\u001b[0m invalid syntax\n"
     ]
    }
   ],
   "source": [
    "# idea one to solve this: use line search\n",
    "# main idea: function 3.12 is monotically decreasing\n",
    "# so if we pick upper/lower bounds of lambda, we can just do a line search and call it a day\n",
    "# monotonically decreasing means the derivative of the function wrt lambda is <= 0 across all values of lambda\n",
    "\n",
    "# upper bound, we know that if lambda causes all of the terms to be zero, we went too far.\n",
    "# i.e., alpha_i - upper_bound_lambda <= 0 \\forall i\n",
    "upper_bound_lambda = np.max(alpha)\n",
    "\n",
    "# lower bound, we know that each term in the sum is >= 0 and <= the total sum term.\n",
    "# so just find the lower bound of each term and take the maximum out of all of these terms\n",
    "# for each term, lambda = alpha_i - alpha_i^2 - sigma_i^2\n",
    "# I know this because I can do high-school algebra in my head... work it out on paper if you can't\n",
    "lower_bound_lambda = np.max(al\n",
    "# # # TODO, think about cases where there are zero values in r_opt\n",
    "# # r_opt_top_stocks = r_opt[np.argsort(-r_opt)[:max_num_stocks]]\n",
    "# # r_opt_top_stocks /= np.sum(r_opt_top_stocks)\n",
    "\n",
    "# r_opt_top_stocks = [r_opt_with_names[best_stock_index][0] for best_stock_index in best_stock_indices]\n",
    "# r_opt_top_stocks = np.array(r_opt_top_stocks_with_names) / np.sum(r_opt_top_stocks_with_names)\n",
    "# r_opt_top_stocks\n",
    "\n",
    "# r_opt_top_stocks_with_names = [r_opt_with_names[best_stock_index] for best_stock_index in best_stock_indices]\n",
    "# r_opt_top_stocks_with_namespha - alpha_element_squared - sigma_element_squared)\n",
    "\n",
    "print(lower_bound_lambda, upper_bound_lambda)\n",
    "\n",
    "# now line search/binary search... first we need to evaluate the value of the 3.12 summation expression\n",
    "def eval_expression(lambda_value):\n",
    "    # subtract one so I can get something like \\sum - 1 = 0 to solve.\n",
    "    fractional_terms = (alpha - lambda_value) / (alpha_element_squared + sigma_element_squared)\n",
    "    # heavyside function\n",
    "    fractional_terms = np.maximum(fractional_terms, 0)\n",
    "    return np.sum(fractional_terms) - 1\n",
    "\n",
    "# sanity check, the correct value (0) is between the upper bound and lower bound\n",
    "eval_expression(lower_bound_lambda), eval_expression(upper_bound_lambda)\n",
    "\n",
    "# there's a tolerance term usually, more on that later\n",
    "tolerance = 1e-9\n",
    "\n",
    "# initialize our loop with our initial guess\n",
    "lower_lambda = lower_bound_lambda\n",
    "upper_lambda = upper_bound_lambda\n",
    "middle_lambda = (lower_bound_lambda + upper_bound_lambda) / 2\n",
    "\n",
    "iterations = 0\n",
    "while np.abs(eval_expression(middle_lambda)) > tolerance:\n",
    "    middle_value = eval_expression(middle_lambda)\n",
    "    if middle_value > 0:\n",
    "        lower_lambda = middle_lambda\n",
    "    else:\n",
    "        upper_lambda = middle_lambda\n",
    "    middle_lambda = (lower_lambda + upper_lambda) / 2\n",
    "\n",
    "    iterations += 1\n",
    "    print(f'iteration: {iterations}, {middle_lambda}, {eval_expression(middle_lambda)}')\n"
   ]
  },
  {
   "cell_type": "code",
   "execution_count": 71,
   "id": "ac97a558",
   "metadata": {},
   "outputs": [
    {
     "data": {
      "image/png": "[encoded data removed]",
      "text/plain": [
       "<Figure size 432x288 with 1 Axes>"
      ]
     },
     "metadata": {
      "needs_background": "light"
     },
     "output_type": "display_data"
    }
   ],
   "source": [
    "import matplotlib.pyplot as plt\n",
    "\n",
    "x = np.linspace(0, 1, 101)\n",
    "plt.plot(x, [eval_expression(el) for el in x], label='f(lambda)')\n",
    "plt.plot([0, 1], [0, 0], label='0')\n",
    "plt.legend()\n",
    "\n",
    "plt.show()\n"
   ]
  },
  {
   "cell_type": "code",
   "execution_count": 72,
   "id": "b8dc4df2",
   "metadata": {},
   "outputs": [
    {
     "data": {
      "text/plain": [
       "[[0.33864434950542427, 'stock_0'],\n",
       " [0.25825517403279313, 'stock_2'],\n",
       " [0.2537399209638218, 'stock_4'],\n",
       " [0.1493605554979608, 'stock_3'],\n",
       " [0.0, 'stock_1']]"
      ]
     },
     "execution_count": 72,
     "metadata": {},
     "output_type": "execute_result"
    }
   ],
   "source": [
    "# get the optimal investment portfolio\n",
    "r_opt = np.maximum(0, (alpha - middle_lambda) / (alpha_element_squared + sigma_element_squared))\n",
    "r_opt = r_opt.flatten()\n",
    "\n",
    "# r_opt_with_names = list(zip(r_opt, stock_names))\n",
    "best_stock_indices = np.argsort(-r_opt)[:max_num_stocks]\n",
    "best_stock_prices = r_opt[best_stock_indices]\n",
    "best_stock_prices /= np.sum(best_stock_prices)\n",
    "\n",
    "r_opt_top_stocks_with_names = []\n",
    "for best_stock_price, best_stock_index in zip(best_stock_prices, best_stock_indices):\n",
    "    r_opt_top_stocks_with_names.append([best_stock_price, stock_names[best_stock_index]])\n",
    "r_opt_top_stocks_with_names"
   ]
  },
  {
   "cell_type": "code",
   "execution_count": 73,
   "id": "1361bbd2",
   "metadata": {},
   "outputs": [
    {
     "data": {
      "text/plain": [
       "(array([[0.97974902],\n",
       "        [0.3365742 ],\n",
       "        [0.93847923],\n",
       "        [0.7598858 ],\n",
       "        [0.96964304],\n",
       "        [0.06495819],\n",
       "        [0.18906465],\n",
       "        [0.34945972],\n",
       "        [0.09914317],\n",
       "        [0.60817662]]),\n",
       " array([[0.04733004],\n",
       "        [0.78662049],\n",
       "        [0.48174894],\n",
       "        [0.48290201],\n",
       "        [0.55389207],\n",
       "        [0.42178188],\n",
       "        [0.15022222],\n",
       "        [0.11397969],\n",
       "        [0.54511846],\n",
       "        [0.02887218]]))"
      ]
     },
     "execution_count": 73,
     "metadata": {},
     "output_type": "execute_result"
    }
   ],
   "source": [
    "# brief lecture on probabilities (mean/variance)\n",
    "# E[X]=mean(X), Var[X]=Variance(X)\n",
    "# let a be a constant\n",
    "# Var[X] = E[X^2] - E[X]^2\n",
    "# aE[X] = E[aX]\n",
    "# a^2Var[X] = Var[(aX)]\n",
    "# Let v be some vector, K be the covariance matrix\n",
    "# Var(Kv) = v^t K v\n",
    "\n",
    "# we now have r_opt, find the mean and variance of investing in r_opt\n",
    "alpha, sigma\n",
    "\n"
   ]
  },
  {
   "cell_type": "code",
   "execution_count": 74,
   "id": "8ae2e86d",
   "metadata": {},
   "outputs": [
    {
     "data": {
      "text/plain": [
       "array([0.37023093, 0.29365479, 0.14020839, 0.11830588, 0.07760001])"
      ]
     },
     "execution_count": 74,
     "metadata": {},
     "output_type": "execute_result"
    }
   ],
   "source": [
    "r_opt_top_stocks"
   ]
  },
  {
   "cell_type": "code",
   "execution_count": 31,
   "id": "fa3626b6",
   "metadata": {},
   "outputs": [
    {
     "data": {
      "text/plain": [
       "1.0"
      ]
     },
     "execution_count": 31,
     "metadata": {},
     "output_type": "execute_result"
    }
   ],
   "source": [
    "np.sum(r_opt_top_stocks)"
   ]
  },
  {
   "cell_type": "code",
   "execution_count": 28,
   "id": "1debd9cc",
   "metadata": {},
   "outputs": [
    {
     "data": {
      "text/plain": [
       "0.9371989780382527"
      ]
     },
     "execution_count": 28,
     "metadata": {},
     "output_type": "execute_result"
    }
   ],
   "source": [
    "sum([el[0] for el in r_opt_top_stocks_with_names])"
   ]
  },
  {
   "cell_type": "code",
   "execution_count": 29,
   "id": "0e2cb5b6",
   "metadata": {},
   "outputs": [
    {
     "data": {
      "text/plain": [
       "[(0.34698005377482793, 'stock_3'),\n",
       " (0.27521296570724463, 'stock_8'),\n",
       " (0.13140315653853846, 'stock_7'),\n",
       " (0.11087614849820097, 'stock_5'),\n",
       " (0.07272665351944062, 'stock_1')]"
      ]
     },
     "execution_count": 29,
     "metadata": {},
     "output_type": "execute_result"
    }
   ],
   "source": [
    "r_opt_top_stocks_with_names"
   ]
  },
  {
   "cell_type": "code",
   "execution_count": 30,
   "id": "78606f42",
   "metadata": {},
   "outputs": [
    {
     "name": "stdout",
     "output_type": "stream",
     "text": [
      "1.0\n"
     ]
    }
   ],
   "source": [
    "x = 2\n",
    "x /= 2\n",
    "print(x)"
   ]
  },
  {
   "cell_type": "code",
   "execution_count": 21,
   "id": "8aaab1da",
   "metadata": {},
   "outputs": [
    {
     "name": "stdout",
     "output_type": "stream",
     "text": [
      "[(1, 'a'), (2, 'b'), (3, 'c'), (4, 'd')]\n",
      "[(0, 1), (1, 2), (2, 3), (3, 4)]\n",
      "[(1, 'a'), (2, 'b'), (3, 'c'), (4, 'd')]\n"
     ]
    }
   ],
   "source": [
    "numbers = [1,2,3,4]\n",
    "letters = ['a', 'b', 'c', 'd']\n",
    "\n",
    "# zipping lists\n",
    "print(list(zip(numbers, letters)))\n",
    "\n",
    "# enumerating lists\n",
    "print(list(enumerate(numbers)))\n",
    "\n",
    "# for each syntax\n",
    "print([(num, letter) for num, letter in zip(numbers, letters)])"
   ]
  },
  {
   "cell_type": "code",
   "execution_count": 24,
   "id": "6c675ae1",
   "metadata": {},
   "outputs": [
    {
     "data": {
      "text/plain": [
       "array([3, 8, 7, 5, 1])"
      ]
     },
     "execution_count": 24,
     "metadata": {},
     "output_type": "execute_result"
    }
   ],
   "source": [
    "np.argsort(-r_opt)[:max_num_stocks]"
   ]
  },
  {
   "cell_type": "code",
   "execution_count": 23,
   "id": "b1e2ecf1",
   "metadata": {},
   "outputs": [
    {
     "data": {
      "text/plain": [
       "[(0.0, 'stock_0'),\n",
       " (0.07272665351944062, 'stock_1'),\n",
       " (0.06280102276540575, 'stock_2'),\n",
       " (0.34698005377482793, 'stock_3'),\n",
       " (0.0, 'stock_4'),\n",
       " (0.11087614849820097, 'stock_5'),\n",
       " (0.0, 'stock_6'),\n",
       " (0.13140315653853846, 'stock_7'),\n",
       " (0.27521296570724463, 'stock_8'),\n",
       " (0.0, 'stock_9')]"
      ]
     },
     "execution_count": 23,
     "metadata": {},
     "output_type": "execute_result"
    }
   ],
   "source": [
    "# how would we print the amount we should invest in each stock by name?\n",
    "\n",
    "# what variables should you look at to compute this?\n",
    "# r_opt, stock_names\n",
    "\n",
    "# what should the output look like?\n",
    "# [[stock_0, investment_percent_0], [stock_1, investment_percent_1], etc...]\n",
    "\n",
    "# how do we get there?\n",
    "list(zip(r_opt, stock_names))\n"
   ]
  },
  {
   "cell_type": "code",
   "execution_count": 19,
   "id": "5f88aa2e",
   "metadata": {},
   "outputs": [
    {
     "data": {
      "text/plain": [
       "(True, 10)"
      ]
     },
     "execution_count": 19,
     "metadata": {},
     "output_type": "execute_result"
    }
   ],
   "source": [
    "r_opt.shape[0] == n, len(stock_names)"
   ]
  },
  {
   "cell_type": "code",
   "execution_count": 34,
   "id": "889e3797",
   "metadata": {},
   "outputs": [
    {
     "data": {
      "text/plain": [
       "array([0.32617414, 0.22693462, 0.17060951, 0.14838623, 0.1278955 ])"
      ]
     },
     "execution_count": 34,
     "metadata": {},
     "output_type": "execute_result"
    }
   ],
   "source": [
    "r_opt_top_stocks"
   ]
  },
  {
   "cell_type": "code",
   "execution_count": 26,
   "id": "c71e5667",
   "metadata": {},
   "outputs": [
    {
     "data": {
      "text/plain": [
       "array([7, 3, 0, 8, 5, 2, 4, 1, 6, 9])"
      ]
     },
     "execution_count": 26,
     "metadata": {},
     "output_type": "execute_result"
    }
   ],
   "source": [
    "# sorts things by index\n",
    "np.argsort(-r_opt.flatten())"
   ]
  },
  {
   "cell_type": "code",
   "execution_count": 24,
   "id": "fa24e5ae",
   "metadata": {},
   "outputs": [
    {
     "data": {
      "text/plain": [
       "array([[0.15357192],\n",
       "       [0.        ],\n",
       "       [0.08564533],\n",
       "       [0.20427223],\n",
       "       [0.01421777],\n",
       "       [0.11512346],\n",
       "       [0.        ],\n",
       "       [0.29360138],\n",
       "       [0.13356792],\n",
       "       [0.        ]])"
      ]
     },
     "execution_count": 24,
     "metadata": {},
     "output_type": "execute_result"
    }
   ],
   "source": [
    "r_opt"
   ]
  },
  {
   "cell_type": "code",
   "execution_count": 28,
   "id": "57f9b93f",
   "metadata": {},
   "outputs": [
    {
     "data": {
      "text/plain": [
       "(array([0.29360138]), 0.29360138030151584)"
      ]
     },
     "execution_count": 28,
     "metadata": {},
     "output_type": "execute_result"
    }
   ],
   "source": [
    "r_opt[7], np.max(r_opt)"
   ]
  },
  {
   "cell_type": "code",
   "execution_count": null,
   "id": "37debba2",
   "metadata": {},
   "outputs": [],
   "source": []
  }
 ],
 "metadata": {
  "kernelspec": {
   "display_name": "Python 3",
   "language": "python",
   "name": "python3"
  },
  "language_info": {
   "codemirror_mode": {
    "name": "ipython",
    "version": 3
   },
   "file_extension": ".py",
   "mimetype": "text/x-python",
   "name": "python",
   "nbconvert_exporter": "python",
   "pygments_lexer": "ipython3",
   "version": "3.6.9"
  }
 },
 "nbformat": 4,
 "nbformat_minor": 5
}
